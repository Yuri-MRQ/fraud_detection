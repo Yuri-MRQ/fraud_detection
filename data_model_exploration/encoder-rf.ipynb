{
 "cells": [
  {
   "cell_type": "code",
   "execution_count": null,
   "id": "6fdf7b81",
   "metadata": {},
   "outputs": [],
   "source": [
    "\n",
    "import pandas as pd\n",
    "import numpy as np\n",
    "\n",
    "import matplotlib as mpl\n",
    "import matplotlib.pyplot as plt\n",
    "\n",
    "from sklearn.ensemble import RandomForestClassifier\n",
    "from sklearn.model_selection import train_test_split\n",
    "\n",
    "from tensorflow.keras.models import load_model\n"
   ]
  },
  {
   "cell_type": "code",
   "execution_count": null,
   "id": "f6370cfb",
   "metadata": {},
   "outputs": [],
   "source": [
    "from utils import utils"
   ]
  },
  {
   "cell_type": "code",
   "execution_count": null,
   "id": "0348d693",
   "metadata": {},
   "outputs": [],
   "source": [
    "RANDOM_STATE = 35\n",
    "\n",
    "mpl.rcParams['figure.figsize'] = (12, 10)\n",
    "colors = plt.rcParams['axes.prop_cycle'].by_key()['color']"
   ]
  },
  {
   "cell_type": "markdown",
   "id": "ab0bf775",
   "metadata": {},
   "source": [
    "# Preprocessing"
   ]
  },
  {
   "cell_type": "code",
   "execution_count": null,
   "id": "760762c1",
   "metadata": {},
   "outputs": [],
   "source": [
    "data_ts = pd.read_csv(\"dataset/processed_features.csv\")\n",
    "\n",
    "\n",
    "columns=['account_id', 'is_fraud', 'device_id', 'balance', 'processed_at',\n",
    "       'age_range', 'number_of_selfies_sent', 'time_client', 'cash_out_type_1',\n",
    "       'cash_out_type_2', 'cash_out_type_3', 'cash_out_type_6']\n",
    "\n",
    "data_ts = data_ts[columns]\n",
    "\n",
    "# the columns that pass the float16 limite, we gonna take them and turn and something\n",
    "# that we can work using min max scaler\n",
    "\n",
    "max_account = data_ts[\"account_id\"].max()\n",
    "max_device_id = data_ts[\"device_id\"].max()\n",
    "max_processed_at = data_ts[\"processed_at\"].max()\n",
    "max_time_client = data_ts[\"time_client\"].max()\n",
    "\n",
    "data_ts[\"account_id\"] = data_ts[\"account_id\"] / max_account\n",
    "data_ts[\"device_id\"] = data_ts[\"device_id\"] / max_device_id\n",
    "data_ts[\"processed_at\"] = data_ts[\"processed_at\"] / max_processed_at\n",
    "data_ts[\"time_client\"] = data_ts[\"time_client\"] / max_time_client\n",
    "\n",
    "# seconds to days\n",
    "\n",
    "data_ts.time_client = data_ts.time_client / (60*60*24)\n",
    "\n",
    "data_ts.head()"
   ]
  },
  {
   "cell_type": "code",
   "execution_count": null,
   "id": "de995e8e",
   "metadata": {},
   "outputs": [],
   "source": [
    "#droping the target and the features weakly correlated to the target\n",
    "data_to_encode = data_ts.copy().drop([\"account_id\", \"processed_at\", \"number_of_selfies_sent\", \"cash_out_type_6\"], axis=1)\n",
    "\n",
    "Y = np.array(data_to_encode.pop(\"is_fraud\"), dtype=np.float32)\n",
    "X = np.array(data_to_encode, dtype=np.float32)"
   ]
  },
  {
   "cell_type": "markdown",
   "id": "84d295b1",
   "metadata": {},
   "source": [
    "# Model"
   ]
  },
  {
   "cell_type": "code",
   "execution_count": null,
   "id": "ec5c6814",
   "metadata": {},
   "outputs": [],
   "source": [
    "encoder = load_model(\"../api_fraud_detection/model/saved_models/bottleneck\")"
   ]
  },
  {
   "cell_type": "code",
   "execution_count": null,
   "id": "b3356531",
   "metadata": {},
   "outputs": [],
   "source": [
    "train, test = train_test_split(data_ts, test_size = 0.01,  stratify=data_ts.is_fraud, random_state=RANDOM_STATE)\n",
    "train, val = train_test_split(train, test_size = 0.01, stratify=train.is_fraud, random_state=RANDOM_STATE)\n",
    "\n",
    "test.to_csv(\"test_df.csv\", index=False)\n",
    "\n",
    "train.drop([\"account_id\", \"processed_at\",\"number_of_selfies_sent\",\n",
    "            \"cash_out_type_6\"], inplace=True, axis=1)\n",
    "val.drop([\"account_id\", \"processed_at\",\"number_of_selfies_sent\",\n",
    "            \"cash_out_type_6\"], inplace=True, axis=1)\n",
    "test.drop([\"account_id\", \"processed_at\",\"number_of_selfies_sent\",\n",
    "            \"cash_out_type_6\"], inplace=True, axis=1)\n",
    "\n",
    "labels_test = np.array(test.pop(\"is_fraud\")) \n",
    "labels_train = np.array(train.pop(\"is_fraud\"))\n",
    "labels_val = np.array(val.pop(\"is_fraud\"))\n",
    "\n",
    "\n",
    "features_train = encoder.predict(np.array(train))\n",
    "features_val = encoder.predict(np.array(val))\n",
    "features_test = encoder.predict(np.array(test))\n",
    "\n",
    "clf = RandomForestClassifier(max_depth= 50, max_features= 'log2', min_samples_split= 2, \n",
    "                            n_estimators= 400, random_state=RANDOM_STATE, n_jobs= 3,\n",
    "                            class_weight= \"balanced_subsample\", min_samples_leaf= 2, \n",
    "                            verbose=1, oob_score=True)\n",
    "\n",
    "clf.fit(features_train, labels_train)"
   ]
  },
  {
   "cell_type": "code",
   "execution_count": null,
   "id": "a73568f4",
   "metadata": {},
   "outputs": [],
   "source": [
    "X_pack = features_train, features_val\n",
    "Y_pack = labels_train, labels_val\n",
    "\n",
    "history = utils.compare_models(X_pack, Y_pack, clf)"
   ]
  },
  {
   "cell_type": "code",
   "execution_count": null,
   "id": "83084f0e",
   "metadata": {},
   "outputs": [],
   "source": [
    "plt.figure()\n",
    "utils.plot_pr_curve(history)\n",
    "plt.show"
   ]
  },
  {
   "cell_type": "markdown",
   "id": "e2c79cbf",
   "metadata": {},
   "source": [
    "# Testing"
   ]
  },
  {
   "cell_type": "code",
   "execution_count": null,
   "id": "90839b26",
   "metadata": {
    "scrolled": true
   },
   "outputs": [],
   "source": [
    "X_pack_test = None, features_test\n",
    "Y_pack_test = None, labels_test\n",
    "\n",
    "history_test = utils.compare_models(X_pack_test, Y_pack_test, clf)"
   ]
  },
  {
   "cell_type": "code",
   "execution_count": null,
   "id": "a8037538",
   "metadata": {},
   "outputs": [],
   "source": [
    "utils.plot_cm(labels_test, history_test[\"clf_0\"][\"y_hat_test\"], \"Final Model\")"
   ]
  },
  {
   "cell_type": "markdown",
   "id": "90c43ea2",
   "metadata": {},
   "source": [
    "# K-fold cross-val"
   ]
  },
  {
   "cell_type": "code",
   "execution_count": null,
   "id": "7c415905",
   "metadata": {
    "scrolled": true
   },
   "outputs": [],
   "source": [
    "encoded_x = np.concatenate((features_train, features_val), axis=0)\n",
    "Y = np.concatenate((labels_train, labels_val), axis=0)\n",
    "\n",
    "indices_split, (X_test, Y_test) = utils.split_data(encoded_x, Y,test_size=0.01,kfold=10,\n",
    "                                                                    random_state=RANDOM_STATE)\n",
    "\n",
    "for key, value in indices_split.items():\n",
    "    \n",
    "    print(f\"{key} size train: {len(value[0])}, val: {len(value[1])}\")"
   ]
  },
  {
   "cell_type": "code",
   "execution_count": null,
   "id": "76e9783c",
   "metadata": {},
   "outputs": [],
   "source": [
    "clfs = utils.train_model(encoded_x, Y, indices_split=indices_split)"
   ]
  },
  {
   "cell_type": "code",
   "execution_count": null,
   "id": "0345fa3c",
   "metadata": {
    "scrolled": false
   },
   "outputs": [],
   "source": [
    "history_cross = utils.compare_models(encoded_x, Y, clfs, indices_split)"
   ]
  },
  {
   "cell_type": "code",
   "execution_count": null,
   "id": "0cc06997",
   "metadata": {},
   "outputs": [],
   "source": [
    "utils.plot_pr_curve(history_cross)"
   ]
  },
  {
   "cell_type": "code",
   "execution_count": null,
   "id": "900acc8c",
   "metadata": {},
   "outputs": [],
   "source": [
    "from joblib import dump\n",
    "\n",
    "dump(clf, 'model_rfc.joblib') "
   ]
  },
  {
   "cell_type": "code",
   "execution_count": null,
   "id": "efaa4986",
   "metadata": {},
   "outputs": [],
   "source": []
  }
 ],
 "metadata": {
  "kernelspec": {
   "display_name": "Python 3 (ipykernel)",
   "language": "python",
   "name": "python3"
  },
  "language_info": {
   "codemirror_mode": {
    "name": "ipython",
    "version": 3
   },
   "file_extension": ".py",
   "mimetype": "text/x-python",
   "name": "python",
   "nbconvert_exporter": "python",
   "pygments_lexer": "ipython3",
   "version": "3.7.11"
  }
 },
 "nbformat": 4,
 "nbformat_minor": 5
}
