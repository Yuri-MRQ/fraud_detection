{
 "cells": [
  {
   "cell_type": "code",
   "execution_count": 1,
   "id": "6fdf7b81",
   "metadata": {},
   "outputs": [],
   "source": [
    "\n",
    "import pandas as pd\n",
    "import numpy as np\n",
    "\n",
    "import matplotlib as mpl\n",
    "import matplotlib.pyplot as plt\n",
    "\n",
    "from sklearn.ensemble import RandomForestClassifier\n",
    "from sklearn.model_selection import train_test_split\n",
    "\n",
    "from tensorflow.keras.models import load_model\n"
   ]
  },
  {
   "cell_type": "code",
   "execution_count": 2,
   "id": "f6370cfb",
   "metadata": {},
   "outputs": [],
   "source": [
    "from utils import utils"
   ]
  },
  {
   "cell_type": "code",
   "execution_count": 3,
   "id": "0348d693",
   "metadata": {},
   "outputs": [],
   "source": [
    "RANDOM_STATE = 35\n",
    "\n",
    "mpl.rcParams['figure.figsize'] = (12, 10)\n",
    "colors = plt.rcParams['axes.prop_cycle'].by_key()['color']"
   ]
  },
  {
   "cell_type": "markdown",
   "id": "ab0bf775",
   "metadata": {},
   "source": [
    "# Preprocessing"
   ]
  },
  {
   "cell_type": "code",
   "execution_count": 4,
   "id": "760762c1",
   "metadata": {},
   "outputs": [
    {
     "data": {
      "text/html": [
       "<div>\n",
       "<style scoped>\n",
       "    .dataframe tbody tr th:only-of-type {\n",
       "        vertical-align: middle;\n",
       "    }\n",
       "\n",
       "    .dataframe tbody tr th {\n",
       "        vertical-align: top;\n",
       "    }\n",
       "\n",
       "    .dataframe thead th {\n",
       "        text-align: right;\n",
       "    }\n",
       "</style>\n",
       "<table border=\"1\" class=\"dataframe\">\n",
       "  <thead>\n",
       "    <tr style=\"text-align: right;\">\n",
       "      <th></th>\n",
       "      <th>account_id</th>\n",
       "      <th>is_fraud</th>\n",
       "      <th>device_id</th>\n",
       "      <th>balance</th>\n",
       "      <th>processed_at</th>\n",
       "      <th>age_range</th>\n",
       "      <th>number_of_selfies_sent</th>\n",
       "      <th>time_client</th>\n",
       "      <th>cash_out_type_1</th>\n",
       "      <th>cash_out_type_2</th>\n",
       "      <th>cash_out_type_3</th>\n",
       "      <th>cash_out_type_6</th>\n",
       "    </tr>\n",
       "  </thead>\n",
       "  <tbody>\n",
       "    <tr>\n",
       "      <th>0</th>\n",
       "      <td>0.000000</td>\n",
       "      <td>0</td>\n",
       "      <td>0.0</td>\n",
       "      <td>0.000167</td>\n",
       "      <td>0.999813</td>\n",
       "      <td>0.0</td>\n",
       "      <td>5.0</td>\n",
       "      <td>1.785904e-07</td>\n",
       "      <td>1</td>\n",
       "      <td>0</td>\n",
       "      <td>0</td>\n",
       "      <td>0</td>\n",
       "    </tr>\n",
       "    <tr>\n",
       "      <th>1</th>\n",
       "      <td>0.000016</td>\n",
       "      <td>0</td>\n",
       "      <td>0.0</td>\n",
       "      <td>0.000533</td>\n",
       "      <td>0.998152</td>\n",
       "      <td>1.0</td>\n",
       "      <td>5.0</td>\n",
       "      <td>1.970170e-06</td>\n",
       "      <td>0</td>\n",
       "      <td>0</td>\n",
       "      <td>1</td>\n",
       "      <td>0</td>\n",
       "    </tr>\n",
       "    <tr>\n",
       "      <th>2</th>\n",
       "      <td>0.000016</td>\n",
       "      <td>0</td>\n",
       "      <td>0.0</td>\n",
       "      <td>0.000347</td>\n",
       "      <td>0.999702</td>\n",
       "      <td>1.0</td>\n",
       "      <td>5.0</td>\n",
       "      <td>2.456546e-06</td>\n",
       "      <td>0</td>\n",
       "      <td>0</td>\n",
       "      <td>1</td>\n",
       "      <td>0</td>\n",
       "    </tr>\n",
       "    <tr>\n",
       "      <th>3</th>\n",
       "      <td>0.000016</td>\n",
       "      <td>0</td>\n",
       "      <td>0.0</td>\n",
       "      <td>0.000572</td>\n",
       "      <td>0.998524</td>\n",
       "      <td>1.0</td>\n",
       "      <td>5.0</td>\n",
       "      <td>2.087007e-06</td>\n",
       "      <td>0</td>\n",
       "      <td>0</td>\n",
       "      <td>1</td>\n",
       "      <td>0</td>\n",
       "    </tr>\n",
       "    <tr>\n",
       "      <th>4</th>\n",
       "      <td>0.000016</td>\n",
       "      <td>0</td>\n",
       "      <td>0.0</td>\n",
       "      <td>0.000346</td>\n",
       "      <td>0.998629</td>\n",
       "      <td>1.0</td>\n",
       "      <td>5.0</td>\n",
       "      <td>2.119767e-06</td>\n",
       "      <td>0</td>\n",
       "      <td>0</td>\n",
       "      <td>1</td>\n",
       "      <td>0</td>\n",
       "    </tr>\n",
       "  </tbody>\n",
       "</table>\n",
       "</div>"
      ],
      "text/plain": [
       "   account_id  is_fraud  device_id   balance  processed_at  age_range  \\\n",
       "0    0.000000         0        0.0  0.000167      0.999813        0.0   \n",
       "1    0.000016         0        0.0  0.000533      0.998152        1.0   \n",
       "2    0.000016         0        0.0  0.000347      0.999702        1.0   \n",
       "3    0.000016         0        0.0  0.000572      0.998524        1.0   \n",
       "4    0.000016         0        0.0  0.000346      0.998629        1.0   \n",
       "\n",
       "   number_of_selfies_sent   time_client  cash_out_type_1  cash_out_type_2  \\\n",
       "0                     5.0  1.785904e-07                1                0   \n",
       "1                     5.0  1.970170e-06                0                0   \n",
       "2                     5.0  2.456546e-06                0                0   \n",
       "3                     5.0  2.087007e-06                0                0   \n",
       "4                     5.0  2.119767e-06                0                0   \n",
       "\n",
       "   cash_out_type_3  cash_out_type_6  \n",
       "0                0                0  \n",
       "1                1                0  \n",
       "2                1                0  \n",
       "3                1                0  \n",
       "4                1                0  "
      ]
     },
     "execution_count": 4,
     "metadata": {},
     "output_type": "execute_result"
    }
   ],
   "source": [
    "data_ts = pd.read_csv(\"dataset/processed_features.csv\")\n",
    "\n",
    "\n",
    "columns=['account_id', 'is_fraud', 'device_id', 'balance', 'processed_at',\n",
    "       'age_range', 'number_of_selfies_sent', 'time_client', 'cash_out_type_1',\n",
    "       'cash_out_type_2', 'cash_out_type_3', 'cash_out_type_6']\n",
    "\n",
    "data_ts = data_ts[columns]\n",
    "\n",
    "# the columns that pass the float16 limite, we gonna take them and turn and something\n",
    "# that we can work using min max scaler\n",
    "\n",
    "max_account = data_ts[\"account_id\"].max()\n",
    "max_device_id = data_ts[\"device_id\"].max()\n",
    "max_processed_at = data_ts[\"processed_at\"].max()\n",
    "max_time_client = data_ts[\"time_client\"].max()\n",
    "\n",
    "data_ts[\"account_id\"] = data_ts[\"account_id\"] / max_account\n",
    "data_ts[\"device_id\"] = data_ts[\"device_id\"] / max_device_id\n",
    "data_ts[\"processed_at\"] = data_ts[\"processed_at\"] / max_processed_at\n",
    "data_ts[\"time_client\"] = data_ts[\"time_client\"] / max_time_client\n",
    "\n",
    "# seconds to days\n",
    "\n",
    "data_ts.time_client = data_ts.time_client / (60*60*24)\n",
    "\n",
    "data_ts.head()"
   ]
  },
  {
   "cell_type": "code",
   "execution_count": 5,
   "id": "de995e8e",
   "metadata": {},
   "outputs": [],
   "source": [
    "#droping the target and the features weakly correlated to the target\n",
    "data_to_encode = data_ts.copy().drop([\"account_id\", \"processed_at\", \"number_of_selfies_sent\", \"cash_out_type_6\"], axis=1)\n",
    "\n",
    "Y = np.array(data_to_encode.pop(\"is_fraud\"), dtype=np.float32)\n",
    "X = np.array(data_to_encode, dtype=np.float32)"
   ]
  },
  {
   "cell_type": "markdown",
   "id": "84d295b1",
   "metadata": {},
   "source": [
    "# Model"
   ]
  },
  {
   "cell_type": "code",
   "execution_count": 6,
   "id": "ec5c6814",
   "metadata": {},
   "outputs": [
    {
     "name": "stderr",
     "output_type": "stream",
     "text": [
      "2021-12-13 22:52:36.236924: I tensorflow/core/platform/cpu_feature_guard.cc:151] This TensorFlow binary is optimized with oneAPI Deep Neural Network Library (oneDNN) to use the following CPU instructions in performance-critical operations:  AVX2 FMA\n",
      "To enable them in other operations, rebuild TensorFlow with the appropriate compiler flags.\n"
     ]
    },
    {
     "name": "stdout",
     "output_type": "stream",
     "text": [
      "WARNING:tensorflow:No training configuration found in save file, so the model was *not* compiled. Compile it manually.\n"
     ]
    }
   ],
   "source": [
    "encoder = load_model(\"../api_fraud_detection/model/saved_models/bottleneck\")"
   ]
  },
  {
   "cell_type": "code",
   "execution_count": 7,
   "id": "b3356531",
   "metadata": {},
   "outputs": [
    {
     "name": "stderr",
     "output_type": "stream",
     "text": [
      "[Parallel(n_jobs=3)]: Using backend ThreadingBackend with 3 concurrent workers.\n",
      "[Parallel(n_jobs=3)]: Done  44 tasks      | elapsed:   42.7s\n",
      "[Parallel(n_jobs=3)]: Done 194 tasks      | elapsed:  3.1min\n",
      "[Parallel(n_jobs=3)]: Done 400 out of 400 | elapsed:  6.4min finished\n"
     ]
    },
    {
     "data": {
      "text/plain": [
       "RandomForestClassifier(class_weight='balanced_subsample', max_depth=50,\n",
       "                       max_features='log2', min_samples_leaf=2,\n",
       "                       n_estimators=400, n_jobs=3, oob_score=True,\n",
       "                       random_state=35, verbose=1)"
      ]
     },
     "execution_count": 7,
     "metadata": {},
     "output_type": "execute_result"
    }
   ],
   "source": [
    "train, test = train_test_split(data_ts, test_size = 0.01,  stratify=data_ts.is_fraud, random_state=RANDOM_STATE)\n",
    "train, val = train_test_split(train, test_size = 0.01, stratify=train.is_fraud, random_state=RANDOM_STATE)\n",
    "\n",
    "test.to_csv(\"test_df.csv\", index=False)\n",
    "\n",
    "train.drop([\"account_id\", \"processed_at\",\"number_of_selfies_sent\",\n",
    "            \"cash_out_type_6\"], inplace=True, axis=1)\n",
    "val.drop([\"account_id\", \"processed_at\",\"number_of_selfies_sent\",\n",
    "            \"cash_out_type_6\"], inplace=True, axis=1)\n",
    "test.drop([\"account_id\", \"processed_at\",\"number_of_selfies_sent\",\n",
    "            \"cash_out_type_6\"], inplace=True, axis=1)\n",
    "\n",
    "labels_test = np.array(test.pop(\"is_fraud\")) \n",
    "labels_train = np.array(train.pop(\"is_fraud\"))\n",
    "labels_val = np.array(val.pop(\"is_fraud\"))\n",
    "\n",
    "\n",
    "features_train = encoder.predict(np.array(train))\n",
    "features_val = encoder.predict(np.array(val))\n",
    "features_test = encoder.predict(np.array(test))\n",
    "\n",
    "clf = RandomForestClassifier(max_depth= 50, max_features= 'log2', min_samples_split= 2, \n",
    "                            n_estimators= 400, random_state=RANDOM_STATE, n_jobs= 3,\n",
    "                            class_weight= \"balanced_subsample\", min_samples_leaf= 2, \n",
    "                            verbose=1, oob_score=True)\n",
    "\n",
    "clf.fit(features_train, labels_train)"
   ]
  },
  {
   "cell_type": "code",
   "execution_count": 8,
   "id": "a73568f4",
   "metadata": {},
   "outputs": [
    {
     "name": "stderr",
     "output_type": "stream",
     "text": [
      "[Parallel(n_jobs=3)]: Using backend ThreadingBackend with 3 concurrent workers.\n",
      "[Parallel(n_jobs=3)]: Done  44 tasks      | elapsed:    1.8s\n",
      "[Parallel(n_jobs=3)]: Done 194 tasks      | elapsed:    7.2s\n",
      "[Parallel(n_jobs=3)]: Done 400 out of 400 | elapsed:   14.7s finished\n",
      "[Parallel(n_jobs=3)]: Using backend ThreadingBackend with 3 concurrent workers.\n",
      "[Parallel(n_jobs=3)]: Done  44 tasks      | elapsed:    0.0s\n",
      "[Parallel(n_jobs=3)]: Done 194 tasks      | elapsed:    0.1s\n",
      "[Parallel(n_jobs=3)]: Done 400 out of 400 | elapsed:    0.2s finished\n"
     ]
    },
    {
     "name": "stdout",
     "output_type": "stream",
     "text": [
      "F1 score - Train: 0.999544665862669 / val: 0.9993559467582653\n",
      "ROC AUC score - Train: 0.9997561648477687 / val: 0.8998387270186002\n",
      "PR AUC score - val: 0.8001610133104338\n"
     ]
    }
   ],
   "source": [
    "X_pack = features_train, features_val\n",
    "Y_pack = labels_train, labels_val\n",
    "\n",
    "history = utils.compare_models(X_pack, Y_pack, clf)"
   ]
  },
  {
   "cell_type": "code",
   "execution_count": 9,
   "id": "83084f0e",
   "metadata": {},
   "outputs": [
    {
     "data": {
      "image/png": "[encoded data removed]",
      "text/plain": [
       "<Figure size 864x720 with 1 Axes>"
      ]
     },
     "metadata": {
      "needs_background": "light"
     },
     "output_type": "display_data"
    },
    {
     "data": {
      "text/plain": [
       "<function matplotlib.pyplot.show(close=None, block=None)>"
      ]
     },
     "execution_count": 9,
     "metadata": {},
     "output_type": "execute_result"
    }
   ],
   "source": [
    "plt.figure()\n",
    "utils.plot_pr_curve(history)\n",
    "plt.show"
   ]
  },
  {
   "cell_type": "markdown",
   "id": "e2c79cbf",
   "metadata": {},
   "source": [
    "# Testing"
   ]
  },
  {
   "cell_type": "code",
   "execution_count": 10,
   "id": "90839b26",
   "metadata": {
    "scrolled": true
   },
   "outputs": [
    {
     "name": "stderr",
     "output_type": "stream",
     "text": [
      "[Parallel(n_jobs=3)]: Using backend ThreadingBackend with 3 concurrent workers.\n",
      "[Parallel(n_jobs=3)]: Done  44 tasks      | elapsed:    0.0s\n",
      "[Parallel(n_jobs=3)]: Done 194 tasks      | elapsed:    0.1s\n",
      "[Parallel(n_jobs=3)]: Done 400 out of 400 | elapsed:    0.2s finished\n",
      "[Parallel(n_jobs=3)]: Using backend ThreadingBackend with 3 concurrent workers.\n",
      "[Parallel(n_jobs=3)]: Done  44 tasks      | elapsed:    0.0s\n",
      "[Parallel(n_jobs=3)]: Done 194 tasks      | elapsed:    0.1s\n"
     ]
    },
    {
     "name": "stdout",
     "output_type": "stream",
     "text": [
      "ROC AUC score val: 0.8998935604044705\n",
      "PR AUC score val: 0.8287308334598451\n"
     ]
    },
    {
     "name": "stderr",
     "output_type": "stream",
     "text": [
      "[Parallel(n_jobs=3)]: Done 400 out of 400 | elapsed:    0.2s finished\n"
     ]
    }
   ],
   "source": [
    "X_pack_test = None, features_test\n",
    "Y_pack_test = None, labels_test\n",
    "\n",
    "history_test = utils.compare_models(X_pack_test, Y_pack_test, clf)"
   ]
  },
  {
   "cell_type": "code",
   "execution_count": 11,
   "id": "a8037538",
   "metadata": {},
   "outputs": [
    {
     "name": "stdout",
     "output_type": "stream",
     "text": [
      "Final Model\n"
     ]
    },
    {
     "data": {
      "image/png": "[encoded data removed]",
      "text/plain": [
       "<Figure size 360x360 with 2 Axes>"
      ]
     },
     "metadata": {
      "needs_background": "light"
     },
     "output_type": "display_data"
    }
   ],
   "source": [
    "utils.plot_cm(labels_test, history_test[\"clf_0\"][\"y_hat_test\"], \"Final Model\")"
   ]
  },
  {
   "cell_type": "markdown",
   "id": "90c43ea2",
   "metadata": {},
   "source": [
    "# K-fold cross-val"
   ]
  },
  {
   "cell_type": "code",
   "execution_count": 12,
   "id": "7c415905",
   "metadata": {
    "scrolled": true
   },
   "outputs": [
    {
     "name": "stdout",
     "output_type": "stream",
     "text": [
      "fold_0 size train: 829988, val: 92221\n",
      "fold_1 size train: 829988, val: 92221\n",
      "fold_2 size train: 829988, val: 92221\n",
      "fold_3 size train: 829988, val: 92221\n",
      "fold_4 size train: 829988, val: 92221\n",
      "fold_5 size train: 829988, val: 92221\n",
      "fold_6 size train: 829988, val: 92221\n",
      "fold_7 size train: 829988, val: 92221\n",
      "fold_8 size train: 829988, val: 92221\n",
      "fold_9 size train: 829989, val: 92220\n"
     ]
    }
   ],
   "source": [
    "encoded_x = np.concatenate((features_train, features_val), axis=0)\n",
    "Y = np.concatenate((labels_train, labels_val), axis=0)\n",
    "\n",
    "indices_split, (X_test, Y_test) = utils.split_data(encoded_x, Y,test_size=0.01,kfold=10,\n",
    "                                                                    random_state=RANDOM_STATE)\n",
    "\n",
    "for key, value in indices_split.items():\n",
    "    \n",
    "    print(f\"{key} size train: {len(value[0])}, val: {len(value[1])}\")"
   ]
  },
  {
   "cell_type": "code",
   "execution_count": 13,
   "id": "76e9783c",
   "metadata": {},
   "outputs": [
    {
     "name": "stdout",
     "output_type": "stream",
     "text": [
      "Training clf 0\n"
     ]
    },
    {
     "name": "stderr",
     "output_type": "stream",
     "text": [
      "[Parallel(n_jobs=3)]: Using backend ThreadingBackend with 3 concurrent workers.\n",
      "[Parallel(n_jobs=3)]: Done  44 tasks      | elapsed:   38.9s\n",
      "[Parallel(n_jobs=3)]: Done 194 tasks      | elapsed:  2.7min\n",
      "[Parallel(n_jobs=3)]: Done 400 out of 400 | elapsed:  5.5min finished\n"
     ]
    },
    {
     "name": "stdout",
     "output_type": "stream",
     "text": [
      "Training clf 1\n"
     ]
    },
    {
     "name": "stderr",
     "output_type": "stream",
     "text": [
      "[Parallel(n_jobs=3)]: Using backend ThreadingBackend with 3 concurrent workers.\n",
      "[Parallel(n_jobs=3)]: Done  44 tasks      | elapsed:   37.1s\n",
      "[Parallel(n_jobs=3)]: Done 194 tasks      | elapsed:  2.7min\n",
      "[Parallel(n_jobs=3)]: Done 400 out of 400 | elapsed:  5.5min finished\n"
     ]
    },
    {
     "name": "stdout",
     "output_type": "stream",
     "text": [
      "Training clf 2\n"
     ]
    },
    {
     "name": "stderr",
     "output_type": "stream",
     "text": [
      "[Parallel(n_jobs=3)]: Using backend ThreadingBackend with 3 concurrent workers.\n",
      "[Parallel(n_jobs=3)]: Done  44 tasks      | elapsed:   36.9s\n",
      "[Parallel(n_jobs=3)]: Done 194 tasks      | elapsed:  2.7min\n",
      "[Parallel(n_jobs=3)]: Done 400 out of 400 | elapsed:  5.5min finished\n"
     ]
    },
    {
     "name": "stdout",
     "output_type": "stream",
     "text": [
      "Training clf 3\n"
     ]
    },
    {
     "name": "stderr",
     "output_type": "stream",
     "text": [
      "[Parallel(n_jobs=3)]: Using backend ThreadingBackend with 3 concurrent workers.\n",
      "[Parallel(n_jobs=3)]: Done  44 tasks      | elapsed:   36.4s\n",
      "[Parallel(n_jobs=3)]: Done 194 tasks      | elapsed:  2.7min\n",
      "[Parallel(n_jobs=3)]: Done 400 out of 400 | elapsed:  5.5min finished\n"
     ]
    },
    {
     "name": "stdout",
     "output_type": "stream",
     "text": [
      "Training clf 4\n"
     ]
    },
    {
     "name": "stderr",
     "output_type": "stream",
     "text": [
      "[Parallel(n_jobs=3)]: Using backend ThreadingBackend with 3 concurrent workers.\n",
      "[Parallel(n_jobs=3)]: Done  44 tasks      | elapsed:   37.5s\n",
      "[Parallel(n_jobs=3)]: Done 194 tasks      | elapsed:  2.7min\n",
      "[Parallel(n_jobs=3)]: Done 400 out of 400 | elapsed:  5.5min finished\n"
     ]
    },
    {
     "name": "stdout",
     "output_type": "stream",
     "text": [
      "Training clf 5\n"
     ]
    },
    {
     "name": "stderr",
     "output_type": "stream",
     "text": [
      "[Parallel(n_jobs=3)]: Using backend ThreadingBackend with 3 concurrent workers.\n",
      "[Parallel(n_jobs=3)]: Done  44 tasks      | elapsed:   40.3s\n",
      "[Parallel(n_jobs=3)]: Done 194 tasks      | elapsed:  2.7min\n",
      "[Parallel(n_jobs=3)]: Done 400 out of 400 | elapsed:  5.5min finished\n"
     ]
    },
    {
     "name": "stdout",
     "output_type": "stream",
     "text": [
      "Training clf 6\n"
     ]
    },
    {
     "name": "stderr",
     "output_type": "stream",
     "text": [
      "[Parallel(n_jobs=3)]: Using backend ThreadingBackend with 3 concurrent workers.\n",
      "[Parallel(n_jobs=3)]: Done  44 tasks      | elapsed:   36.7s\n",
      "[Parallel(n_jobs=3)]: Done 194 tasks      | elapsed:  2.7min\n",
      "[Parallel(n_jobs=3)]: Done 400 out of 400 | elapsed:  5.5min finished\n"
     ]
    },
    {
     "name": "stdout",
     "output_type": "stream",
     "text": [
      "Training clf 7\n"
     ]
    },
    {
     "name": "stderr",
     "output_type": "stream",
     "text": [
      "[Parallel(n_jobs=3)]: Using backend ThreadingBackend with 3 concurrent workers.\n",
      "[Parallel(n_jobs=3)]: Done  44 tasks      | elapsed:   38.0s\n",
      "[Parallel(n_jobs=3)]: Done 194 tasks      | elapsed:  2.7min\n",
      "[Parallel(n_jobs=3)]: Done 400 out of 400 | elapsed:  5.5min finished\n"
     ]
    },
    {
     "name": "stdout",
     "output_type": "stream",
     "text": [
      "Training clf 8\n"
     ]
    },
    {
     "name": "stderr",
     "output_type": "stream",
     "text": [
      "[Parallel(n_jobs=3)]: Using backend ThreadingBackend with 3 concurrent workers.\n",
      "[Parallel(n_jobs=3)]: Done  44 tasks      | elapsed:   37.2s\n",
      "[Parallel(n_jobs=3)]: Done 194 tasks      | elapsed:  2.7min\n",
      "[Parallel(n_jobs=3)]: Done 400 out of 400 | elapsed:  5.5min finished\n"
     ]
    },
    {
     "name": "stdout",
     "output_type": "stream",
     "text": [
      "Training clf 9\n"
     ]
    },
    {
     "name": "stderr",
     "output_type": "stream",
     "text": [
      "[Parallel(n_jobs=3)]: Using backend ThreadingBackend with 3 concurrent workers.\n",
      "[Parallel(n_jobs=3)]: Done  44 tasks      | elapsed:   37.0s\n",
      "[Parallel(n_jobs=3)]: Done 194 tasks      | elapsed:  2.7min\n",
      "[Parallel(n_jobs=3)]: Done 400 out of 400 | elapsed:  5.6min finished\n"
     ]
    }
   ],
   "source": [
    "clfs = utils.train_model(encoded_x, Y, indices_split=indices_split)"
   ]
  },
  {
   "cell_type": "code",
   "execution_count": 14,
   "id": "0345fa3c",
   "metadata": {
    "scrolled": false
   },
   "outputs": [
    {
     "name": "stdout",
     "output_type": "stream",
     "text": [
      "\n",
      " Evaluating the model clf_0\n"
     ]
    },
    {
     "name": "stderr",
     "output_type": "stream",
     "text": [
      "[Parallel(n_jobs=3)]: Using backend ThreadingBackend with 3 concurrent workers.\n",
      "[Parallel(n_jobs=3)]: Done  44 tasks      | elapsed:    1.5s\n",
      "[Parallel(n_jobs=3)]: Done 194 tasks      | elapsed:    6.4s\n",
      "[Parallel(n_jobs=3)]: Done 400 out of 400 | elapsed:   13.2s finished\n",
      "[Parallel(n_jobs=3)]: Using backend ThreadingBackend with 3 concurrent workers.\n",
      "[Parallel(n_jobs=3)]: Done  44 tasks      | elapsed:    0.2s\n",
      "[Parallel(n_jobs=3)]: Done 194 tasks      | elapsed:    0.7s\n",
      "[Parallel(n_jobs=3)]: Done 400 out of 400 | elapsed:    1.4s finished\n",
      "[Parallel(n_jobs=3)]: Using backend ThreadingBackend with 3 concurrent workers.\n"
     ]
    },
    {
     "name": "stdout",
     "output_type": "stream",
     "text": [
      "F1 score - Train: 0.999504827224778 / val: 0.9995917263503894\n",
      "ROC AUC score - Train: 0.9868423026671373 / val: 0.9997827763356539\n",
      "PR AUC score - val: 0.8947368421052632\n",
      "\n",
      " Evaluating the model clf_1\n"
     ]
    },
    {
     "name": "stderr",
     "output_type": "stream",
     "text": [
      "[Parallel(n_jobs=3)]: Done  44 tasks      | elapsed:    1.5s\n",
      "[Parallel(n_jobs=3)]: Done 194 tasks      | elapsed:    6.4s\n",
      "[Parallel(n_jobs=3)]: Done 400 out of 400 | elapsed:   13.6s finished\n",
      "[Parallel(n_jobs=3)]: Using backend ThreadingBackend with 3 concurrent workers.\n",
      "[Parallel(n_jobs=3)]: Done  44 tasks      | elapsed:    0.2s\n",
      "[Parallel(n_jobs=3)]: Done 194 tasks      | elapsed:    0.7s\n",
      "[Parallel(n_jobs=3)]: Done 400 out of 400 | elapsed:    1.4s finished\n",
      "[Parallel(n_jobs=3)]: Using backend ThreadingBackend with 3 concurrent workers.\n"
     ]
    },
    {
     "name": "stdout",
     "output_type": "stream",
     "text": [
      "F1 score - Train: 0.9995027119636072 / val: 0.9996110666006454\n",
      "ROC AUC score - Train: 0.9868410958602638 / val: 0.9997936375188713\n",
      "PR AUC score - val: 0.898936170212766\n",
      "\n",
      " Evaluating the model clf_2\n"
     ]
    },
    {
     "name": "stderr",
     "output_type": "stream",
     "text": [
      "[Parallel(n_jobs=3)]: Done  44 tasks      | elapsed:    1.5s\n",
      "[Parallel(n_jobs=3)]: Done 194 tasks      | elapsed:    6.3s\n",
      "[Parallel(n_jobs=3)]: Done 400 out of 400 | elapsed:   13.1s finished\n",
      "[Parallel(n_jobs=3)]: Using backend ThreadingBackend with 3 concurrent workers.\n",
      "[Parallel(n_jobs=3)]: Done  44 tasks      | elapsed:    0.2s\n",
      "[Parallel(n_jobs=3)]: Done 194 tasks      | elapsed:    0.7s\n",
      "[Parallel(n_jobs=3)]: Done 400 out of 400 | elapsed:    1.4s finished\n",
      "[Parallel(n_jobs=3)]: Using backend ThreadingBackend with 3 concurrent workers.\n"
     ]
    },
    {
     "name": "stdout",
     "output_type": "stream",
     "text": [
      "F1 score - Train: 0.9995154212862317 / val: 0.9994964773586085\n",
      "ROC AUC score - Train: 0.9868483367015047 / val: 0.9997284704195676\n",
      "PR AUC score - val: 0.875\n",
      "\n",
      " Evaluating the model clf_3\n"
     ]
    },
    {
     "name": "stderr",
     "output_type": "stream",
     "text": [
      "[Parallel(n_jobs=3)]: Done  44 tasks      | elapsed:    1.5s\n",
      "[Parallel(n_jobs=3)]: Done 194 tasks      | elapsed:    6.4s\n",
      "[Parallel(n_jobs=3)]: Done 400 out of 400 | elapsed:   13.2s finished\n",
      "[Parallel(n_jobs=3)]: Using backend ThreadingBackend with 3 concurrent workers.\n",
      "[Parallel(n_jobs=3)]: Done  44 tasks      | elapsed:    0.2s\n",
      "[Parallel(n_jobs=3)]: Done 194 tasks      | elapsed:    0.7s\n",
      "[Parallel(n_jobs=3)]: Done 400 out of 400 | elapsed:    1.5s finished\n",
      "[Parallel(n_jobs=3)]: Using backend ThreadingBackend with 3 concurrent workers.\n"
     ]
    },
    {
     "name": "stdout",
     "output_type": "stream",
     "text": [
      "F1 score - Train: 0.999504827224778 / val: 0.9995917263503894\n",
      "ROC AUC score - Train: 0.9868423026671373 / val: 0.9997827763356539\n",
      "PR AUC score - val: 0.8947368421052632\n",
      "\n",
      " Evaluating the model clf_4\n"
     ]
    },
    {
     "name": "stderr",
     "output_type": "stream",
     "text": [
      "[Parallel(n_jobs=3)]: Done  44 tasks      | elapsed:    1.5s\n",
      "[Parallel(n_jobs=3)]: Done 194 tasks      | elapsed:    6.4s\n",
      "[Parallel(n_jobs=3)]: Done 400 out of 400 | elapsed:   13.1s finished\n",
      "[Parallel(n_jobs=3)]: Using backend ThreadingBackend with 3 concurrent workers.\n",
      "[Parallel(n_jobs=3)]: Done  44 tasks      | elapsed:    0.2s\n",
      "[Parallel(n_jobs=3)]: Done 194 tasks      | elapsed:    0.7s\n",
      "[Parallel(n_jobs=3)]: Done 400 out of 400 | elapsed:    1.4s finished\n",
      "[Parallel(n_jobs=3)]: Using backend ThreadingBackend with 3 concurrent workers.\n"
     ]
    },
    {
     "name": "stdout",
     "output_type": "stream",
     "text": [
      "F1 score - Train: 0.9995037899582239 / val: 0.9996012413050599\n",
      "ROC AUC score - Train: 0.9868321610570495 / val: 0.9997882046269143\n",
      "PR AUC score - val: 0.8973684210526316\n",
      "\n",
      " Evaluating the model clf_5\n"
     ]
    },
    {
     "name": "stderr",
     "output_type": "stream",
     "text": [
      "[Parallel(n_jobs=3)]: Done  44 tasks      | elapsed:    1.5s\n",
      "[Parallel(n_jobs=3)]: Done 194 tasks      | elapsed:    6.3s\n",
      "[Parallel(n_jobs=3)]: Done 400 out of 400 | elapsed:   13.1s finished\n",
      "[Parallel(n_jobs=3)]: Using backend ThreadingBackend with 3 concurrent workers.\n",
      "[Parallel(n_jobs=3)]: Done  44 tasks      | elapsed:    0.2s\n",
      "[Parallel(n_jobs=3)]: Done 194 tasks      | elapsed:    0.7s\n",
      "[Parallel(n_jobs=3)]: Done 400 out of 400 | elapsed:    1.4s finished\n",
      "[Parallel(n_jobs=3)]: Using backend ThreadingBackend with 3 concurrent workers.\n"
     ]
    },
    {
     "name": "stdout",
     "output_type": "stream",
     "text": [
      "F1 score - Train: 0.9995059056312138 / val: 0.9995819376480349\n",
      "ROC AUC score - Train: 0.9868333678624667 / val: 0.9997773433257304\n",
      "PR AUC score - val: 0.8932291666666667\n",
      "\n",
      " Evaluating the model clf_6\n"
     ]
    },
    {
     "name": "stderr",
     "output_type": "stream",
     "text": [
      "[Parallel(n_jobs=3)]: Done  44 tasks      | elapsed:    1.5s\n",
      "[Parallel(n_jobs=3)]: Done 194 tasks      | elapsed:    6.3s\n",
      "[Parallel(n_jobs=3)]: Done 400 out of 400 | elapsed:   13.0s finished\n",
      "[Parallel(n_jobs=3)]: Using backend ThreadingBackend with 3 concurrent workers.\n",
      "[Parallel(n_jobs=3)]: Done  44 tasks      | elapsed:    0.2s\n",
      "[Parallel(n_jobs=3)]: Done 194 tasks      | elapsed:    0.7s\n",
      "[Parallel(n_jobs=3)]: Done 400 out of 400 | elapsed:    1.4s finished\n",
      "[Parallel(n_jobs=3)]: Using backend ThreadingBackend with 3 concurrent workers.\n"
     ]
    },
    {
     "name": "stdout",
     "output_type": "stream",
     "text": [
      "F1 score - Train: 0.9995133198126133 / val: 0.999515133980663\n",
      "ROC AUC score - Train: 0.9868375916814265 / val: 0.9997393287715868\n",
      "PR AUC score - val: 0.879396984924623\n",
      "\n",
      " Evaluating the model clf_7\n"
     ]
    },
    {
     "name": "stderr",
     "output_type": "stream",
     "text": [
      "[Parallel(n_jobs=3)]: Done  44 tasks      | elapsed:    1.5s\n",
      "[Parallel(n_jobs=3)]: Done 194 tasks      | elapsed:    6.4s\n",
      "[Parallel(n_jobs=3)]: Done 400 out of 400 | elapsed:   13.0s finished\n",
      "[Parallel(n_jobs=3)]: Using backend ThreadingBackend with 3 concurrent workers.\n",
      "[Parallel(n_jobs=3)]: Done  44 tasks      | elapsed:    0.2s\n",
      "[Parallel(n_jobs=3)]: Done 194 tasks      | elapsed:    0.7s\n",
      "[Parallel(n_jobs=3)]: Done 400 out of 400 | elapsed:    1.4s finished\n",
      "[Parallel(n_jobs=3)]: Using backend ThreadingBackend with 3 concurrent workers.\n"
     ]
    },
    {
     "name": "stdout",
     "output_type": "stream",
     "text": [
      "F1 score - Train: 0.9995059056312138 / val: 0.9995819376480349\n",
      "ROC AUC score - Train: 0.9868333678624667 / val: 0.9997773433257304\n",
      "PR AUC score - val: 0.8932291666666667\n",
      "\n",
      " Evaluating the model clf_8\n"
     ]
    },
    {
     "name": "stderr",
     "output_type": "stream",
     "text": [
      "[Parallel(n_jobs=3)]: Done  44 tasks      | elapsed:    1.5s\n",
      "[Parallel(n_jobs=3)]: Done 194 tasks      | elapsed:    6.4s\n",
      "[Parallel(n_jobs=3)]: Done 400 out of 400 | elapsed:   13.3s finished\n",
      "[Parallel(n_jobs=3)]: Using backend ThreadingBackend with 3 concurrent workers.\n",
      "[Parallel(n_jobs=3)]: Done  44 tasks      | elapsed:    0.2s\n",
      "[Parallel(n_jobs=3)]: Done 194 tasks      | elapsed:    0.7s\n",
      "[Parallel(n_jobs=3)]: Done 400 out of 400 | elapsed:    1.4s finished\n",
      "[Parallel(n_jobs=3)]: Using backend ThreadingBackend with 3 concurrent workers.\n"
     ]
    },
    {
     "name": "stdout",
     "output_type": "stream",
     "text": [
      "F1 score - Train: 0.9995090813582603 / val: 0.9995531650029285\n",
      "ROC AUC score - Train: 0.9868351780705923 / val: 0.9997610513739547\n",
      "PR AUC score - val: 0.8871794871794871\n",
      "\n",
      " Evaluating the model clf_9\n"
     ]
    },
    {
     "name": "stderr",
     "output_type": "stream",
     "text": [
      "[Parallel(n_jobs=3)]: Done  44 tasks      | elapsed:    1.5s\n",
      "[Parallel(n_jobs=3)]: Done 194 tasks      | elapsed:    6.4s\n",
      "[Parallel(n_jobs=3)]: Done 400 out of 400 | elapsed:   13.1s finished\n",
      "[Parallel(n_jobs=3)]: Using backend ThreadingBackend with 3 concurrent workers.\n",
      "[Parallel(n_jobs=3)]: Done  44 tasks      | elapsed:    0.2s\n",
      "[Parallel(n_jobs=3)]: Done 194 tasks      | elapsed:    0.7s\n"
     ]
    },
    {
     "name": "stdout",
     "output_type": "stream",
     "text": [
      "F1 score - Train: 0.9995691960140498 / val: 0.9990004493867909\n",
      "ROC AUC score - Train: 0.999770103568041 / val: 0.8830020636472249\n",
      "PR AUC score - val: 0.7102276423966404\n"
     ]
    },
    {
     "name": "stderr",
     "output_type": "stream",
     "text": [
      "[Parallel(n_jobs=3)]: Done 400 out of 400 | elapsed:    1.4s finished\n"
     ]
    }
   ],
   "source": [
    "history_cross = utils.compare_models(encoded_x, Y, clfs, indices_split)"
   ]
  },
  {
   "cell_type": "code",
   "execution_count": 15,
   "id": "0cc06997",
   "metadata": {},
   "outputs": [
    {
     "data": {
      "image/png": "[encoded data removed]",
      "text/plain": [
       "<Figure size 864x720 with 1 Axes>"
      ]
     },
     "metadata": {
      "needs_background": "light"
     },
     "output_type": "display_data"
    }
   ],
   "source": [
    "utils.plot_pr_curve(history_cross)"
   ]
  },
  {
   "cell_type": "code",
   "execution_count": 16,
   "id": "900acc8c",
   "metadata": {},
   "outputs": [
    {
     "data": {
      "text/plain": [
       "['model_rfc.joblib']"
      ]
     },
     "execution_count": 16,
     "metadata": {},
     "output_type": "execute_result"
    }
   ],
   "source": [
    "from joblib import dump\n",
    "\n",
    "dump(clf, 'model_rfc.joblib') "
   ]
  },
  {
   "cell_type": "code",
   "execution_count": null,
   "id": "efaa4986",
   "metadata": {},
   "outputs": [],
   "source": []
  }
 ],
 "metadata": {
  "kernelspec": {
   "display_name": "Python 3 (ipykernel)",
   "language": "python",
   "name": "python3"
  },
  "language_info": {
   "codemirror_mode": {
    "name": "ipython",
    "version": 3
   },
   "file_extension": ".py",
   "mimetype": "text/x-python",
   "name": "python",
   "nbconvert_exporter": "python",
   "pygments_lexer": "ipython3",
   "version": "3.7.11"
  }
 },
 "nbformat": 4,
 "nbformat_minor": 5
}
