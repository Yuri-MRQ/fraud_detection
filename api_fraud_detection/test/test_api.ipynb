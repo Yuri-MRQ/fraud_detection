{
 "cells": [
  {
   "cell_type": "markdown",
   "id": "2656e9a3",
   "metadata": {},
   "source": [
    "# testing API"
   ]
  },
  {
   "cell_type": "code",
   "execution_count": 84,
   "id": "78175bd6",
   "metadata": {},
   "outputs": [],
   "source": [
    "import requests\n",
    "from requests import Response\n",
    "import pandas as pd\n",
    "import numpy as np\n",
    "\n",
    "from sklearn.metrics import auc, confusion_matrix, precision_recall_curve\n",
    "\n",
    "from utils import utils\n"
   ]
  },
  {
   "cell_type": "code",
   "execution_count": 99,
   "id": "6ae27b84",
   "metadata": {},
   "outputs": [],
   "source": [
    "url = \"http://127.0.0.1:8000/predict\"\n",
    "\n",
    "data = pd.read_csv(\"dataset/test_df.csv\")\n"
   ]
  },
  {
   "cell_type": "code",
   "execution_count": 100,
   "id": "f9cd6613",
   "metadata": {
    "scrolled": false
   },
   "outputs": [
    {
     "data": {
      "text/html": [
       "<div>\n",
       "<style scoped>\n",
       "    .dataframe tbody tr th:only-of-type {\n",
       "        vertical-align: middle;\n",
       "    }\n",
       "\n",
       "    .dataframe tbody tr th {\n",
       "        vertical-align: top;\n",
       "    }\n",
       "\n",
       "    .dataframe thead th {\n",
       "        text-align: right;\n",
       "    }\n",
       "</style>\n",
       "<table border=\"1\" class=\"dataframe\">\n",
       "  <thead>\n",
       "    <tr style=\"text-align: right;\">\n",
       "      <th></th>\n",
       "      <th>device_id</th>\n",
       "      <th>balance</th>\n",
       "      <th>processed_at</th>\n",
       "      <th>age_range</th>\n",
       "      <th>number_of_selfies_sent</th>\n",
       "      <th>time_client</th>\n",
       "      <th>cash_out_type_1</th>\n",
       "      <th>cash_out_type_2</th>\n",
       "      <th>cash_out_type_3</th>\n",
       "      <th>cash_out_type_6</th>\n",
       "    </tr>\n",
       "  </thead>\n",
       "  <tbody>\n",
       "    <tr>\n",
       "      <th>0</th>\n",
       "      <td>0.079516</td>\n",
       "      <td>1.171346e-04</td>\n",
       "      <td>0.997930</td>\n",
       "      <td>2.0</td>\n",
       "      <td>5.0</td>\n",
       "      <td>2.086332e-06</td>\n",
       "      <td>0</td>\n",
       "      <td>0</td>\n",
       "      <td>1</td>\n",
       "      <td>0</td>\n",
       "    </tr>\n",
       "    <tr>\n",
       "      <th>1</th>\n",
       "      <td>0.322674</td>\n",
       "      <td>3.349513e-05</td>\n",
       "      <td>0.999712</td>\n",
       "      <td>2.0</td>\n",
       "      <td>5.0</td>\n",
       "      <td>3.173570e-07</td>\n",
       "      <td>0</td>\n",
       "      <td>0</td>\n",
       "      <td>1</td>\n",
       "      <td>0</td>\n",
       "    </tr>\n",
       "    <tr>\n",
       "      <th>2</th>\n",
       "      <td>0.021523</td>\n",
       "      <td>3.219548e-05</td>\n",
       "      <td>0.999705</td>\n",
       "      <td>0.0</td>\n",
       "      <td>6.0</td>\n",
       "      <td>5.864763e-06</td>\n",
       "      <td>0</td>\n",
       "      <td>1</td>\n",
       "      <td>0</td>\n",
       "      <td>0</td>\n",
       "    </tr>\n",
       "    <tr>\n",
       "      <th>3</th>\n",
       "      <td>0.710520</td>\n",
       "      <td>5.908321e-07</td>\n",
       "      <td>0.999699</td>\n",
       "      <td>0.0</td>\n",
       "      <td>5.0</td>\n",
       "      <td>3.511746e-06</td>\n",
       "      <td>0</td>\n",
       "      <td>1</td>\n",
       "      <td>0</td>\n",
       "      <td>0</td>\n",
       "    </tr>\n",
       "    <tr>\n",
       "      <th>4</th>\n",
       "      <td>0.170769</td>\n",
       "      <td>4.676034e-06</td>\n",
       "      <td>0.999079</td>\n",
       "      <td>0.0</td>\n",
       "      <td>5.0</td>\n",
       "      <td>9.264011e-07</td>\n",
       "      <td>0</td>\n",
       "      <td>1</td>\n",
       "      <td>0</td>\n",
       "      <td>0</td>\n",
       "    </tr>\n",
       "  </tbody>\n",
       "</table>\n",
       "</div>"
      ],
      "text/plain": [
       "   device_id       balance  processed_at  age_range  number_of_selfies_sent  \\\n",
       "0   0.079516  1.171346e-04      0.997930        2.0                     5.0   \n",
       "1   0.322674  3.349513e-05      0.999712        2.0                     5.0   \n",
       "2   0.021523  3.219548e-05      0.999705        0.0                     6.0   \n",
       "3   0.710520  5.908321e-07      0.999699        0.0                     5.0   \n",
       "4   0.170769  4.676034e-06      0.999079        0.0                     5.0   \n",
       "\n",
       "    time_client  cash_out_type_1  cash_out_type_2  cash_out_type_3  \\\n",
       "0  2.086332e-06                0                0                1   \n",
       "1  3.173570e-07                0                0                1   \n",
       "2  5.864763e-06                0                1                0   \n",
       "3  3.511746e-06                0                1                0   \n",
       "4  9.264011e-07                0                1                0   \n",
       "\n",
       "   cash_out_type_6  \n",
       "0                0  \n",
       "1                0  \n",
       "2                0  \n",
       "3                0  \n",
       "4                0  "
      ]
     },
     "metadata": {},
     "output_type": "display_data"
    },
    {
     "name": "stdout",
     "output_type": "stream",
     "text": [
      "Data shape (9410, 10)\n",
      "Y shape (9410,)\n"
     ]
    }
   ],
   "source": [
    "# the columns that pass the float16 limite, we gonna take them and turn and something\n",
    "# that we can work using min max scaler\n",
    "\n",
    "max_account = data[\"account_id\"].max()\n",
    "max_device_id = data[\"device_id\"].max()\n",
    "max_processed_at = data[\"processed_at\"].max()\n",
    "max_time_client = data[\"time_client\"].max()\n",
    "\n",
    "data[\"account_id\"] = data[\"account_id\"] / max_account\n",
    "data[\"device_id\"] = data[\"device_id\"] / max_device_id\n",
    "data[\"processed_at\"] = data[\"processed_at\"] / max_processed_at\n",
    "data[\"time_client\"] = data[\"time_client\"] / max_time_client\n",
    "\n",
    "# seconds to days\n",
    "\n",
    "data.time_client = data.time_client / (60*60*24)\n",
    "\n",
    "data.drop(\"account_id\", axis=1, inplace=True)\n",
    "\n",
    "Y = data.pop(\"is_fraud\")\n",
    "\n",
    "display(data.head())\n",
    "print(\"Data shape\", data.shape)\n",
    "print(\"Y shape\", Y.shape)"
   ]
  },
  {
   "cell_type": "code",
   "execution_count": 101,
   "id": "2e5f5dda",
   "metadata": {},
   "outputs": [],
   "source": [
    "obj = {\"samples\": data.to_dict(\"records\")}\n"
   ]
  },
  {
   "cell_type": "code",
   "execution_count": 102,
   "id": "76d7b809",
   "metadata": {},
   "outputs": [],
   "source": [
    "response = requests.post(url,json=obj)"
   ]
  },
  {
   "cell_type": "code",
   "execution_count": 104,
   "id": "6a3f1f8b",
   "metadata": {},
   "outputs": [],
   "source": [
    "predict = np.array(list(response.json().values()))"
   ]
  },
  {
   "cell_type": "code",
   "execution_count": 105,
   "id": "7d132354",
   "metadata": {},
   "outputs": [
    {
     "name": "stdout",
     "output_type": "stream",
     "text": [
      "AUC PRC: 0.6712584130357775\n",
      "\n",
      "\n",
      "Final model\n"
     ]
    },
    {
     "data": {
      "image/png": "[encoded data removed]",
      "text/plain": [
       "<Figure size 360x360 with 2 Axes>"
      ]
     },
     "metadata": {
      "needs_background": "light"
     },
     "output_type": "display_data"
    }
   ],
   "source": [
    "precision, recall, _ = precision_recall_curve(Y, predict)\n",
    "pr_auc = auc(recall, precision)\n",
    "\n",
    "print(\"AUC PRC:\", pr_auc)\n",
    "print(\"\\n\")\n",
    "utils.plot_cm(Y, predict, \"Final model\")"
   ]
  },
  {
   "cell_type": "code",
   "execution_count": null,
   "id": "eda9fa1b",
   "metadata": {},
   "outputs": [],
   "source": []
  }
 ],
 "metadata": {
  "kernelspec": {
   "display_name": "Python 3 (ipykernel)",
   "language": "python",
   "name": "python3"
  },
  "language_info": {
   "codemirror_mode": {
    "name": "ipython",
    "version": 3
   },
   "file_extension": ".py",
   "mimetype": "text/x-python",
   "name": "python",
   "nbconvert_exporter": "python",
   "pygments_lexer": "ipython3",
   "version": "3.7.11"
  }
 },
 "nbformat": 4,
 "nbformat_minor": 5
}
