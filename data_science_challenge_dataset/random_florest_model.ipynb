{
 "cells": [
  {
   "cell_type": "code",
   "execution_count": 1,
   "id": "be4e3610",
   "metadata": {},
   "outputs": [],
   "source": [
    "import time\n",
    "import pandas as pd\n",
    "import numpy as np\n",
    "\n",
    "import matplotlib as mpl\n",
    "import matplotlib.pyplot as plt\n",
    "\n",
    "import seaborn as sns\n",
    "\n",
    "from sklearn.model_selection import train_test_split, GridSearchCV, StratifiedKFold\n",
    "\n",
    "from sklearn.ensemble import RandomForestClassifier\n",
    "from sklearn.svm import LinearSVC\n",
    "from sklearn.preprocessing import MinMaxScaler, StandardScaler\n",
    "from sklearn.metrics import (roc_auc_score, f1_score, roc_curve, auc, \n",
    "                             confusion_matrix, precision_recall_curve, make_scorer)\n",
    "\n",
    "\n",
    "from tqdm import tqdm"
   ]
  },
  {
   "cell_type": "code",
   "execution_count": 11,
   "id": "86fcd321",
   "metadata": {},
   "outputs": [],
   "source": [
    "from utils import utils"
   ]
  },
  {
   "cell_type": "markdown",
   "id": "e4ae3803",
   "metadata": {},
   "source": [
    "# Functions and configurations"
   ]
  },
  {
   "cell_type": "code",
   "execution_count": 3,
   "id": "ed04de54",
   "metadata": {},
   "outputs": [],
   "source": [
    "RANDOM_STATE = 10\n",
    "\n",
    "mpl.rcParams['figure.figsize'] = (12, 10)\n",
    "colors = plt.rcParams['axes.prop_cycle'].by_key()['color']"
   ]
  },
  {
   "cell_type": "markdown",
   "id": "8a4e1c72",
   "metadata": {},
   "source": [
    "# Processing data"
   ]
  },
  {
   "cell_type": "code",
   "execution_count": 4,
   "id": "7a22d1c4",
   "metadata": {},
   "outputs": [],
   "source": [
    "data_raw = pd.read_csv(\"dataset/processed_features.csv\")\n"
   ]
  },
  {
   "cell_type": "code",
   "execution_count": 5,
   "id": "28c6ad25",
   "metadata": {
    "scrolled": true
   },
   "outputs": [
    {
     "data": {
      "text/html": [
       "<div>\n",
       "<style scoped>\n",
       "    .dataframe tbody tr th:only-of-type {\n",
       "        vertical-align: middle;\n",
       "    }\n",
       "\n",
       "    .dataframe tbody tr th {\n",
       "        vertical-align: top;\n",
       "    }\n",
       "\n",
       "    .dataframe thead th {\n",
       "        text-align: right;\n",
       "    }\n",
       "</style>\n",
       "<table border=\"1\" class=\"dataframe\">\n",
       "  <thead>\n",
       "    <tr style=\"text-align: right;\">\n",
       "      <th></th>\n",
       "      <th>account_id</th>\n",
       "      <th>device_id</th>\n",
       "      <th>balance</th>\n",
       "      <th>processed_at</th>\n",
       "      <th>is_fraud</th>\n",
       "      <th>age_range</th>\n",
       "      <th>number_of_selfies_sent</th>\n",
       "      <th>time_client</th>\n",
       "      <th>cash_out_type_1</th>\n",
       "      <th>cash_out_type_2</th>\n",
       "      <th>cash_out_type_3</th>\n",
       "      <th>cash_out_type_6</th>\n",
       "    </tr>\n",
       "  </thead>\n",
       "  <tbody>\n",
       "    <tr>\n",
       "      <th>account_id</th>\n",
       "      <td>1.000000</td>\n",
       "      <td>0.936605</td>\n",
       "      <td>-0.115446</td>\n",
       "      <td>0.030805</td>\n",
       "      <td>-0.031733</td>\n",
       "      <td>0.014728</td>\n",
       "      <td>-0.011119</td>\n",
       "      <td>-0.124930</td>\n",
       "      <td>-0.024468</td>\n",
       "      <td>0.314274</td>\n",
       "      <td>-0.312839</td>\n",
       "      <td>0.001893</td>\n",
       "    </tr>\n",
       "    <tr>\n",
       "      <th>device_id</th>\n",
       "      <td>0.936605</td>\n",
       "      <td>1.000000</td>\n",
       "      <td>-0.120909</td>\n",
       "      <td>0.030237</td>\n",
       "      <td>-0.032270</td>\n",
       "      <td>0.010916</td>\n",
       "      <td>-0.010421</td>\n",
       "      <td>-0.128533</td>\n",
       "      <td>-0.021081</td>\n",
       "      <td>0.339309</td>\n",
       "      <td>-0.339272</td>\n",
       "      <td>0.001675</td>\n",
       "    </tr>\n",
       "    <tr>\n",
       "      <th>balance</th>\n",
       "      <td>-0.115446</td>\n",
       "      <td>-0.120909</td>\n",
       "      <td>1.000000</td>\n",
       "      <td>0.013672</td>\n",
       "      <td>-0.002463</td>\n",
       "      <td>0.041070</td>\n",
       "      <td>-0.015854</td>\n",
       "      <td>0.278847</td>\n",
       "      <td>0.019471</td>\n",
       "      <td>0.036898</td>\n",
       "      <td>-0.043073</td>\n",
       "      <td>-0.000271</td>\n",
       "    </tr>\n",
       "    <tr>\n",
       "      <th>processed_at</th>\n",
       "      <td>0.030805</td>\n",
       "      <td>0.030237</td>\n",
       "      <td>0.013672</td>\n",
       "      <td>1.000000</td>\n",
       "      <td>-0.006212</td>\n",
       "      <td>0.005170</td>\n",
       "      <td>-0.010542</td>\n",
       "      <td>0.034895</td>\n",
       "      <td>-0.000934</td>\n",
       "      <td>0.011392</td>\n",
       "      <td>-0.011319</td>\n",
       "      <td>-0.001043</td>\n",
       "    </tr>\n",
       "    <tr>\n",
       "      <th>is_fraud</th>\n",
       "      <td>-0.031733</td>\n",
       "      <td>-0.032270</td>\n",
       "      <td>-0.002463</td>\n",
       "      <td>-0.006212</td>\n",
       "      <td>1.000000</td>\n",
       "      <td>0.001232</td>\n",
       "      <td>0.000773</td>\n",
       "      <td>-0.001799</td>\n",
       "      <td>0.005346</td>\n",
       "      <td>0.017931</td>\n",
       "      <td>-0.019762</td>\n",
       "      <td>-0.000132</td>\n",
       "    </tr>\n",
       "    <tr>\n",
       "      <th>age_range</th>\n",
       "      <td>0.014728</td>\n",
       "      <td>0.010916</td>\n",
       "      <td>0.041070</td>\n",
       "      <td>0.005170</td>\n",
       "      <td>0.001232</td>\n",
       "      <td>1.000000</td>\n",
       "      <td>-0.008867</td>\n",
       "      <td>-0.025235</td>\n",
       "      <td>0.002038</td>\n",
       "      <td>0.043571</td>\n",
       "      <td>-0.044924</td>\n",
       "      <td>0.001572</td>\n",
       "    </tr>\n",
       "    <tr>\n",
       "      <th>number_of_selfies_sent</th>\n",
       "      <td>-0.011119</td>\n",
       "      <td>-0.010421</td>\n",
       "      <td>-0.015854</td>\n",
       "      <td>-0.010542</td>\n",
       "      <td>0.000773</td>\n",
       "      <td>-0.008867</td>\n",
       "      <td>1.000000</td>\n",
       "      <td>0.134589</td>\n",
       "      <td>0.006826</td>\n",
       "      <td>-0.008444</td>\n",
       "      <td>0.006654</td>\n",
       "      <td>-0.000253</td>\n",
       "    </tr>\n",
       "    <tr>\n",
       "      <th>time_client</th>\n",
       "      <td>-0.124930</td>\n",
       "      <td>-0.128533</td>\n",
       "      <td>0.278847</td>\n",
       "      <td>0.034895</td>\n",
       "      <td>-0.001799</td>\n",
       "      <td>-0.025235</td>\n",
       "      <td>0.134589</td>\n",
       "      <td>1.000000</td>\n",
       "      <td>0.014227</td>\n",
       "      <td>-0.022264</td>\n",
       "      <td>0.018509</td>\n",
       "      <td>0.014154</td>\n",
       "    </tr>\n",
       "    <tr>\n",
       "      <th>cash_out_type_1</th>\n",
       "      <td>-0.024468</td>\n",
       "      <td>-0.021081</td>\n",
       "      <td>0.019471</td>\n",
       "      <td>-0.000934</td>\n",
       "      <td>0.005346</td>\n",
       "      <td>0.002038</td>\n",
       "      <td>0.006826</td>\n",
       "      <td>0.014227</td>\n",
       "      <td>1.000000</td>\n",
       "      <td>-0.200642</td>\n",
       "      <td>-0.079909</td>\n",
       "      <td>-0.000421</td>\n",
       "    </tr>\n",
       "    <tr>\n",
       "      <th>cash_out_type_2</th>\n",
       "      <td>0.314274</td>\n",
       "      <td>0.339309</td>\n",
       "      <td>0.036898</td>\n",
       "      <td>0.011392</td>\n",
       "      <td>0.017931</td>\n",
       "      <td>0.043571</td>\n",
       "      <td>-0.008444</td>\n",
       "      <td>-0.022264</td>\n",
       "      <td>-0.200642</td>\n",
       "      <td>1.000000</td>\n",
       "      <td>-0.960473</td>\n",
       "      <td>-0.005063</td>\n",
       "    </tr>\n",
       "    <tr>\n",
       "      <th>cash_out_type_3</th>\n",
       "      <td>-0.312839</td>\n",
       "      <td>-0.339272</td>\n",
       "      <td>-0.043073</td>\n",
       "      <td>-0.011319</td>\n",
       "      <td>-0.019762</td>\n",
       "      <td>-0.044924</td>\n",
       "      <td>0.006654</td>\n",
       "      <td>0.018509</td>\n",
       "      <td>-0.079909</td>\n",
       "      <td>-0.960473</td>\n",
       "      <td>1.000000</td>\n",
       "      <td>-0.002016</td>\n",
       "    </tr>\n",
       "    <tr>\n",
       "      <th>cash_out_type_6</th>\n",
       "      <td>0.001893</td>\n",
       "      <td>0.001675</td>\n",
       "      <td>-0.000271</td>\n",
       "      <td>-0.001043</td>\n",
       "      <td>-0.000132</td>\n",
       "      <td>0.001572</td>\n",
       "      <td>-0.000253</td>\n",
       "      <td>0.014154</td>\n",
       "      <td>-0.000421</td>\n",
       "      <td>-0.005063</td>\n",
       "      <td>-0.002016</td>\n",
       "      <td>1.000000</td>\n",
       "    </tr>\n",
       "  </tbody>\n",
       "</table>\n",
       "</div>"
      ],
      "text/plain": [
       "                        account_id  device_id   balance  processed_at  \\\n",
       "account_id                1.000000   0.936605 -0.115446      0.030805   \n",
       "device_id                 0.936605   1.000000 -0.120909      0.030237   \n",
       "balance                  -0.115446  -0.120909  1.000000      0.013672   \n",
       "processed_at              0.030805   0.030237  0.013672      1.000000   \n",
       "is_fraud                 -0.031733  -0.032270 -0.002463     -0.006212   \n",
       "age_range                 0.014728   0.010916  0.041070      0.005170   \n",
       "number_of_selfies_sent   -0.011119  -0.010421 -0.015854     -0.010542   \n",
       "time_client              -0.124930  -0.128533  0.278847      0.034895   \n",
       "cash_out_type_1          -0.024468  -0.021081  0.019471     -0.000934   \n",
       "cash_out_type_2           0.314274   0.339309  0.036898      0.011392   \n",
       "cash_out_type_3          -0.312839  -0.339272 -0.043073     -0.011319   \n",
       "cash_out_type_6           0.001893   0.001675 -0.000271     -0.001043   \n",
       "\n",
       "                        is_fraud  age_range  number_of_selfies_sent  \\\n",
       "account_id             -0.031733   0.014728               -0.011119   \n",
       "device_id              -0.032270   0.010916               -0.010421   \n",
       "balance                -0.002463   0.041070               -0.015854   \n",
       "processed_at           -0.006212   0.005170               -0.010542   \n",
       "is_fraud                1.000000   0.001232                0.000773   \n",
       "age_range               0.001232   1.000000               -0.008867   \n",
       "number_of_selfies_sent  0.000773  -0.008867                1.000000   \n",
       "time_client            -0.001799  -0.025235                0.134589   \n",
       "cash_out_type_1         0.005346   0.002038                0.006826   \n",
       "cash_out_type_2         0.017931   0.043571               -0.008444   \n",
       "cash_out_type_3        -0.019762  -0.044924                0.006654   \n",
       "cash_out_type_6        -0.000132   0.001572               -0.000253   \n",
       "\n",
       "                        time_client  cash_out_type_1  cash_out_type_2  \\\n",
       "account_id                -0.124930        -0.024468         0.314274   \n",
       "device_id                 -0.128533        -0.021081         0.339309   \n",
       "balance                    0.278847         0.019471         0.036898   \n",
       "processed_at               0.034895        -0.000934         0.011392   \n",
       "is_fraud                  -0.001799         0.005346         0.017931   \n",
       "age_range                 -0.025235         0.002038         0.043571   \n",
       "number_of_selfies_sent     0.134589         0.006826        -0.008444   \n",
       "time_client                1.000000         0.014227        -0.022264   \n",
       "cash_out_type_1            0.014227         1.000000        -0.200642   \n",
       "cash_out_type_2           -0.022264        -0.200642         1.000000   \n",
       "cash_out_type_3            0.018509        -0.079909        -0.960473   \n",
       "cash_out_type_6            0.014154        -0.000421        -0.005063   \n",
       "\n",
       "                        cash_out_type_3  cash_out_type_6  \n",
       "account_id                    -0.312839         0.001893  \n",
       "device_id                     -0.339272         0.001675  \n",
       "balance                       -0.043073        -0.000271  \n",
       "processed_at                  -0.011319        -0.001043  \n",
       "is_fraud                      -0.019762        -0.000132  \n",
       "age_range                     -0.044924         0.001572  \n",
       "number_of_selfies_sent         0.006654        -0.000253  \n",
       "time_client                    0.018509         0.014154  \n",
       "cash_out_type_1               -0.079909        -0.000421  \n",
       "cash_out_type_2               -0.960473        -0.005063  \n",
       "cash_out_type_3                1.000000        -0.002016  \n",
       "cash_out_type_6               -0.002016         1.000000  "
      ]
     },
     "execution_count": 5,
     "metadata": {},
     "output_type": "execute_result"
    }
   ],
   "source": [
    "data_raw.corr()"
   ]
  },
  {
   "cell_type": "code",
   "execution_count": 6,
   "id": "68e3b7b4",
   "metadata": {},
   "outputs": [
    {
     "data": {
      "text/html": [
       "<div>\n",
       "<style scoped>\n",
       "    .dataframe tbody tr th:only-of-type {\n",
       "        vertical-align: middle;\n",
       "    }\n",
       "\n",
       "    .dataframe tbody tr th {\n",
       "        vertical-align: top;\n",
       "    }\n",
       "\n",
       "    .dataframe thead th {\n",
       "        text-align: right;\n",
       "    }\n",
       "</style>\n",
       "<table border=\"1\" class=\"dataframe\">\n",
       "  <thead>\n",
       "    <tr style=\"text-align: right;\">\n",
       "      <th></th>\n",
       "      <th>account_id</th>\n",
       "      <th>device_id</th>\n",
       "      <th>balance</th>\n",
       "      <th>processed_at</th>\n",
       "      <th>is_fraud</th>\n",
       "      <th>age_range</th>\n",
       "      <th>number_of_selfies_sent</th>\n",
       "      <th>time_client</th>\n",
       "      <th>cash_out_type_1</th>\n",
       "      <th>cash_out_type_2</th>\n",
       "      <th>cash_out_type_3</th>\n",
       "      <th>cash_out_type_6</th>\n",
       "    </tr>\n",
       "  </thead>\n",
       "  <tbody>\n",
       "    <tr>\n",
       "      <th>0</th>\n",
       "      <td>0.000000</td>\n",
       "      <td>0.0</td>\n",
       "      <td>0.000167</td>\n",
       "      <td>0.999813</td>\n",
       "      <td>0</td>\n",
       "      <td>0.0</td>\n",
       "      <td>5.0</td>\n",
       "      <td>1.785904e-07</td>\n",
       "      <td>1</td>\n",
       "      <td>0</td>\n",
       "      <td>0</td>\n",
       "      <td>0</td>\n",
       "    </tr>\n",
       "    <tr>\n",
       "      <th>1</th>\n",
       "      <td>0.000016</td>\n",
       "      <td>0.0</td>\n",
       "      <td>0.000533</td>\n",
       "      <td>0.998152</td>\n",
       "      <td>0</td>\n",
       "      <td>1.0</td>\n",
       "      <td>5.0</td>\n",
       "      <td>1.970170e-06</td>\n",
       "      <td>0</td>\n",
       "      <td>0</td>\n",
       "      <td>1</td>\n",
       "      <td>0</td>\n",
       "    </tr>\n",
       "    <tr>\n",
       "      <th>2</th>\n",
       "      <td>0.000016</td>\n",
       "      <td>0.0</td>\n",
       "      <td>0.000347</td>\n",
       "      <td>0.999702</td>\n",
       "      <td>0</td>\n",
       "      <td>1.0</td>\n",
       "      <td>5.0</td>\n",
       "      <td>2.456546e-06</td>\n",
       "      <td>0</td>\n",
       "      <td>0</td>\n",
       "      <td>1</td>\n",
       "      <td>0</td>\n",
       "    </tr>\n",
       "    <tr>\n",
       "      <th>3</th>\n",
       "      <td>0.000016</td>\n",
       "      <td>0.0</td>\n",
       "      <td>0.000572</td>\n",
       "      <td>0.998524</td>\n",
       "      <td>0</td>\n",
       "      <td>1.0</td>\n",
       "      <td>5.0</td>\n",
       "      <td>2.087007e-06</td>\n",
       "      <td>0</td>\n",
       "      <td>0</td>\n",
       "      <td>1</td>\n",
       "      <td>0</td>\n",
       "    </tr>\n",
       "    <tr>\n",
       "      <th>4</th>\n",
       "      <td>0.000016</td>\n",
       "      <td>0.0</td>\n",
       "      <td>0.000346</td>\n",
       "      <td>0.998629</td>\n",
       "      <td>0</td>\n",
       "      <td>1.0</td>\n",
       "      <td>5.0</td>\n",
       "      <td>2.119767e-06</td>\n",
       "      <td>0</td>\n",
       "      <td>0</td>\n",
       "      <td>1</td>\n",
       "      <td>0</td>\n",
       "    </tr>\n",
       "  </tbody>\n",
       "</table>\n",
       "</div>"
      ],
      "text/plain": [
       "   account_id  device_id   balance  processed_at  is_fraud  age_range  \\\n",
       "0    0.000000        0.0  0.000167      0.999813         0        0.0   \n",
       "1    0.000016        0.0  0.000533      0.998152         0        1.0   \n",
       "2    0.000016        0.0  0.000347      0.999702         0        1.0   \n",
       "3    0.000016        0.0  0.000572      0.998524         0        1.0   \n",
       "4    0.000016        0.0  0.000346      0.998629         0        1.0   \n",
       "\n",
       "   number_of_selfies_sent   time_client  cash_out_type_1  cash_out_type_2  \\\n",
       "0                     5.0  1.785904e-07                1                0   \n",
       "1                     5.0  1.970170e-06                0                0   \n",
       "2                     5.0  2.456546e-06                0                0   \n",
       "3                     5.0  2.087007e-06                0                0   \n",
       "4                     5.0  2.119767e-06                0                0   \n",
       "\n",
       "   cash_out_type_3  cash_out_type_6  \n",
       "0                0                0  \n",
       "1                1                0  \n",
       "2                1                0  \n",
       "3                1                0  \n",
       "4                1                0  "
      ]
     },
     "execution_count": 6,
     "metadata": {},
     "output_type": "execute_result"
    }
   ],
   "source": [
    "# the columns that pass the float16 limite, we gonna take them and turn and something\n",
    "# that we can work using min max scaler\n",
    "\n",
    "max_account = data_raw[\"account_id\"].max()\n",
    "max_device_id = data_raw[\"device_id\"].max()\n",
    "max_processed_at = data_raw[\"processed_at\"].max()\n",
    "max_time_client = data_raw[\"time_client\"].max()\n",
    "\n",
    "data_raw[\"account_id\"] = data_raw[\"account_id\"] / max_account\n",
    "data_raw[\"device_id\"] = data_raw[\"device_id\"] / max_device_id\n",
    "data_raw[\"processed_at\"] = data_raw[\"processed_at\"] / max_processed_at\n",
    "data_raw[\"time_client\"] = data_raw[\"time_client\"] / max_time_client\n",
    "\n",
    "# seconds to days\n",
    "\n",
    "data_raw.time_client = data_raw.time_client / (60*60*24)\n",
    "\n",
    "data_raw.head()"
   ]
  },
  {
   "cell_type": "code",
   "execution_count": 7,
   "id": "0da5eed0",
   "metadata": {},
   "outputs": [],
   "source": [
    "data = data_raw.copy()\n",
    "\n",
    "data.drop(\"account_id\", axis=1, inplace=True)"
   ]
  },
  {
   "cell_type": "code",
   "execution_count": 8,
   "id": "d1598b67",
   "metadata": {},
   "outputs": [
    {
     "data": {
      "text/plain": [
       "device_id                 0\n",
       "balance                   0\n",
       "processed_at              0\n",
       "is_fraud                  0\n",
       "age_range                 0\n",
       "number_of_selfies_sent    0\n",
       "time_client               0\n",
       "cash_out_type_1           0\n",
       "cash_out_type_2           0\n",
       "cash_out_type_3           0\n",
       "cash_out_type_6           0\n",
       "dtype: int64"
      ]
     },
     "execution_count": 8,
     "metadata": {},
     "output_type": "execute_result"
    }
   ],
   "source": [
    "data.isna().sum()"
   ]
  },
  {
   "cell_type": "code",
   "execution_count": 9,
   "id": "a42ad4c0",
   "metadata": {},
   "outputs": [
    {
     "name": "stdout",
     "output_type": "stream",
     "text": [
      "X shape: (940935, 10)\n",
      "Y shape: (940935,)\n",
      "Proportion Positives 0.0016313560447852402  / negatives 0.9983686439552147\n"
     ]
    }
   ],
   "source": [
    "Y = data.is_fraud.to_numpy()\n",
    "X = data.copy().drop(\"is_fraud\", axis = 1).to_numpy()\n",
    "\n",
    "print(\"X shape:\", X.shape)\n",
    "print(\"Y shape:\", Y.shape)\n",
    "\n",
    "size_negatives, size_positives = list(np.bincount(Y))\n",
    "\n",
    "all_pos_rate = size_positives / (size_positives + size_negatives)\n",
    "all_neg_rate = size_negatives / (size_positives + size_negatives)\n",
    "\n",
    "print(f\"Proportion Positives {all_pos_rate}  / negatives {all_neg_rate}\")"
   ]
  },
  {
   "cell_type": "code",
   "execution_count": 10,
   "id": "560c1a01",
   "metadata": {},
   "outputs": [
    {
     "ename": "NameError",
     "evalue": "name 'utils' is not defined",
     "output_type": "error",
     "traceback": [
      "\u001b[0;31m---------------------------------------------------------------------------\u001b[0m",
      "\u001b[0;31mNameError\u001b[0m                                 Traceback (most recent call last)",
      "\u001b[0;32m/var/folders/jn/ck8kvq0d4h7bjzszjkxcp7tw0000gn/T/ipykernel_14553/1836021247.py\u001b[0m in \u001b[0;36m<module>\u001b[0;34m\u001b[0m\n\u001b[1;32m      1\u001b[0m \u001b[0;31m#slice the dataset case testing models\u001b[0m\u001b[0;34m\u001b[0m\u001b[0;34m\u001b[0m\u001b[0;34m\u001b[0m\u001b[0m\n\u001b[1;32m      2\u001b[0m \u001b[0;34m\u001b[0m\u001b[0m\n\u001b[0;32m----> 3\u001b[0;31m \u001b[0mpositive_indicies\u001b[0m\u001b[0;34m,\u001b[0m \u001b[0mnegative_indices\u001b[0m \u001b[0;34m=\u001b[0m \u001b[0mutils\u001b[0m\u001b[0;34m.\u001b[0m\u001b[0msplit_indices_stritify\u001b[0m\u001b[0;34m(\u001b[0m\u001b[0mY\u001b[0m\u001b[0;34m,\u001b[0m \u001b[0;36m0.1\u001b[0m\u001b[0;34m,\u001b[0m \u001b[0mall_pos_rate\u001b[0m\u001b[0;34m)\u001b[0m\u001b[0;34m\u001b[0m\u001b[0;34m\u001b[0m\u001b[0m\n\u001b[0m\u001b[1;32m      4\u001b[0m \u001b[0;34m\u001b[0m\u001b[0m\n\u001b[1;32m      5\u001b[0m \u001b[0mX_2\u001b[0m \u001b[0;34m=\u001b[0m \u001b[0mnp\u001b[0m\u001b[0;34m.\u001b[0m\u001b[0mconcatenate\u001b[0m\u001b[0;34m(\u001b[0m\u001b[0;34m(\u001b[0m\u001b[0mX\u001b[0m\u001b[0;34m[\u001b[0m\u001b[0mnegative_indices\u001b[0m\u001b[0;34m,\u001b[0m\u001b[0;34m:\u001b[0m\u001b[0;34m]\u001b[0m\u001b[0;34m,\u001b[0m \u001b[0mX\u001b[0m\u001b[0;34m[\u001b[0m\u001b[0mpositive_indicies\u001b[0m\u001b[0;34m,\u001b[0m\u001b[0;34m:\u001b[0m\u001b[0;34m]\u001b[0m\u001b[0;34m)\u001b[0m\u001b[0;34m,\u001b[0m \u001b[0maxis\u001b[0m\u001b[0;34m=\u001b[0m\u001b[0;36m0\u001b[0m\u001b[0;34m)\u001b[0m\u001b[0;34m\u001b[0m\u001b[0;34m\u001b[0m\u001b[0m\n",
      "\u001b[0;31mNameError\u001b[0m: name 'utils' is not defined"
     ]
    }
   ],
   "source": [
    "#slice the dataset case testing models\n",
    "\n",
    "positive_indicies, negative_indices = utils.split_indices_stritify(Y, 0.1, all_pos_rate)\n",
    "\n",
    "X_2 = np.concatenate((X[negative_indices,:], X[positive_indicies,:]), axis=0)\n",
    "X_2 = X_2.reshape(X_2.shape[0], -1)\n",
    "Y_2 = np.concatenate((Y[negative_indices], Y[positive_indicies]))\n",
    "Y_2 = Y_2.reshape(Y_2.shape[0])\n",
    "\n",
    "size_negatives, size_positives = list(np.bincount(Y_2))\n",
    "\n",
    "pos_rate = size_positives / (size_positives + size_negatives)\n",
    "neg_rate = size_negatives / (size_positives + size_negatives)\n",
    "\n",
    "print(f\"X shape {X_2.shape} / Y shape {Y_2.shape}\")\n",
    "print(f\"Proportion Positives {pos_rate}  / negatives {neg_rate}\")\n",
    "\n",
    "\n",
    "X_pack_sliced,  Y_pack_sliced = utils.split_data(X_2, Y_2, kfold=None)\n"
   ]
  },
  {
   "cell_type": "markdown",
   "id": "ad1751a0",
   "metadata": {},
   "source": [
    "# GridSearch"
   ]
  },
  {
   "cell_type": "code",
   "execution_count": null,
   "id": "a97d7bf5",
   "metadata": {},
   "outputs": [],
   "source": [
    "#model, this cell take some time. on CPU with no parallelism\n",
    "# pr_auc_score = make_scorer(pr_auc_score)\n",
    "\n",
    "# params = {\n",
    "#           \"n_estimators\": [400, 500],\"max_depth\":[None, 50],\n",
    "#           \"min_samples_split\":[1,2],\"min_samples_leaf\": [1,2],\n",
    "#           \"oob_score\": [True], \"max_samples\": [1,10,100]\n",
    "# }\n",
    "\n",
    "\n",
    "# rf_classifier = RandomForestClassifier(random_state=RANDOM_STATE, class_weight= \"balanced_subsample\", \n",
    "#                                        verbose=1, n_jobs=-1)\n",
    "\n",
    "# clf = GridSearchCV(rf_classifier, params, scoring=pr_auc_score, \n",
    "#                    refit=False, return_train_score=True, verbose=2, n_jobs=-1)\n"
   ]
  },
  {
   "cell_type": "code",
   "execution_count": null,
   "id": "29c18cba",
   "metadata": {},
   "outputs": [],
   "source": [
    "# classifiers = train_model(clf, train_features, Y_train)\n"
   ]
  },
  {
   "cell_type": "code",
   "execution_count": null,
   "id": "c0fdb24b",
   "metadata": {},
   "outputs": [],
   "source": [
    "# classifiers.best_params_"
   ]
  },
  {
   "cell_type": "code",
   "execution_count": null,
   "id": "4373db65",
   "metadata": {},
   "outputs": [],
   "source": [
    "# X = (train_features, val_features)\n",
    "# Y = (Y_train, Y_val)\n",
    "# history = compare_models(X, Y, classifiers)"
   ]
  },
  {
   "cell_type": "code",
   "execution_count": null,
   "id": "517f2cb4",
   "metadata": {},
   "outputs": [],
   "source": [
    "# plot_cm(Y_val, history[\"clf_0\"][\"y_hat_val\"], \"RFC_tuned\")"
   ]
  },
  {
   "cell_type": "markdown",
   "id": "755f0d58",
   "metadata": {},
   "source": [
    "# Training model on all dataset"
   ]
  },
  {
   "cell_type": "code",
   "execution_count": null,
   "id": "f54bae02",
   "metadata": {},
   "outputs": [],
   "source": [
    "X_pack, Y_pack = utils.split_data(X, Y,test_size=0.01,kfold=None)\n",
    "\n",
    "X_train, X_val, X_test = X_pack\n",
    "Y_train, Y_val, Y_test = Y_pack\n",
    "\n",
    "print(\"X_train shape\", X_train.shape)\n",
    "print(\"X_val shape\", X_val.shape)\n",
    "print(\"X_test shape\", X_test.shape)\n",
    "X_train[0:1]"
   ]
  },
  {
   "cell_type": "code",
   "execution_count": null,
   "id": "b38a4e05",
   "metadata": {
    "scrolled": true
   },
   "outputs": [],
   "source": [
    "baseline = RandomForestClassifier(max_depth= 50, max_features= 'log2', min_samples_split= 2, \n",
    "                                    n_estimators= 400, random_state=RANDOM_STATE, n_jobs= 3,\n",
    "                                    class_weight= \"balanced_subsample\", min_samples_leaf= 2, \n",
    "                                    verbose=1, oob_score=True)\n",
    "\n",
    "baseline = utils.train_model(classifier, X_train, Y_train)"
   ]
  },
  {
   "cell_type": "code",
   "execution_count": null,
   "id": "e7f8f959",
   "metadata": {
    "scrolled": true
   },
   "outputs": [],
   "source": [
    "X_train_val = (X_train, X_val)\n",
    "Y_train_val = (Y_train, Y_val)\n",
    "history = utils.compare_models(X_train_val, Y_train_val, baseline)"
   ]
  },
  {
   "cell_type": "code",
   "execution_count": null,
   "id": "00d6af07",
   "metadata": {},
   "outputs": [],
   "source": [
    "utils.plot_cm(Y_val, history[\"clf_0\"][\"y_hat_val\"], \"RFC\")"
   ]
  },
  {
   "cell_type": "code",
   "execution_count": null,
   "id": "8c4a974c",
   "metadata": {},
   "outputs": [],
   "source": [
    "utils.plot_roc_auc_curve(history)"
   ]
  },
  {
   "cell_type": "code",
   "execution_count": null,
   "id": "496e9425",
   "metadata": {},
   "outputs": [],
   "source": [
    "utils.plot_pr_curve(history)"
   ]
  },
  {
   "cell_type": "markdown",
   "id": "f035067b",
   "metadata": {},
   "source": [
    "# Testing"
   ]
  },
  {
   "cell_type": "code",
   "execution_count": null,
   "id": "7ae83cf7",
   "metadata": {},
   "outputs": [],
   "source": [
    "X_test_pack = (None, X_test)\n",
    "Y_test_pack = (None, Y_test)\n",
    "\n",
    "history_test = utils.compare_models(X_test_pack, Y_test_pack, baseline)"
   ]
  },
  {
   "cell_type": "code",
   "execution_count": null,
   "id": "d80700c4",
   "metadata": {},
   "outputs": [],
   "source": [
    "utils.plot_cm(Y_test, history_test[\"clf_0\"][\"y_hat_test\"], \"Test\")"
   ]
  },
  {
   "cell_type": "markdown",
   "id": "495c1378",
   "metadata": {},
   "source": [
    "# K-fold cross-validation"
   ]
  },
  {
   "cell_type": "code",
   "execution_count": null,
   "id": "b1dc0fb6",
   "metadata": {
    "scrolled": true
   },
   "outputs": [],
   "source": [
    "indices_split, (X_test, Y_test) = utils.split_data(X, Y,test_size=0.05,kfold=10)\n",
    "\n",
    "for key, value in indices_split.itens():\n",
    "    \n",
    "    print(f\"{key} size train: {len(value[0])}, val: {len(value[1])}\")"
   ]
  },
  {
   "cell_type": "code",
   "execution_count": null,
   "id": "39c4f690",
   "metadata": {},
   "outputs": [],
   "source": [
    "clf = RandomForestClassifier(max_depth= 50, max_features= 'log2', min_samples_split= 2, \n",
    "                                    n_estimators= 400, random_state=RANDOM_STATE, n_jobs= 3,\n",
    "                                    class_weight= \"balanced_subsample\", min_samples_leaf= 2, \n",
    "                                    verbose=1, oob_score=True)\n",
    "\n",
    "clfs = utils.train_model(clf, X, Y, indices_split)"
   ]
  },
  {
   "cell_type": "code",
   "execution_count": null,
   "id": "95ad55b1",
   "metadata": {
    "scrolled": false
   },
   "outputs": [],
   "source": [
    "history = utils.compare_models(X, Y, clfs, indices_split)"
   ]
  },
  {
   "cell_type": "code",
   "execution_count": null,
   "id": "0d2bdd0a",
   "metadata": {},
   "outputs": [],
   "source": [
    "utils.plot_pr_curve(history)"
   ]
  },
  {
   "cell_type": "code",
   "execution_count": null,
   "id": "da9b4d3e",
   "metadata": {},
   "outputs": [],
   "source": [
    "from joblib import dump\n",
    "\n",
    "dump(baseline, 'baseline_rfc.joblib') "
   ]
  },
  {
   "cell_type": "code",
   "execution_count": null,
   "id": "1511e388",
   "metadata": {},
   "outputs": [],
   "source": []
  }
 ],
 "metadata": {
  "kernelspec": {
   "display_name": "Python 3 (ipykernel)",
   "language": "python",
   "name": "python3"
  },
  "language_info": {
   "codemirror_mode": {
    "name": "ipython",
    "version": 3
   },
   "file_extension": ".py",
   "mimetype": "text/x-python",
   "name": "python",
   "nbconvert_exporter": "python",
   "pygments_lexer": "ipython3",
   "version": "3.7.11"
  }
 },
 "nbformat": 4,
 "nbformat_minor": 5
}
