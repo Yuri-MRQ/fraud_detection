{
 "cells": [
  {
   "cell_type": "code",
   "execution_count": 1,
   "id": "be4e3610",
   "metadata": {},
   "outputs": [],
   "source": [
    "import time\n",
    "import pandas as pd\n",
    "import numpy as np\n",
    "\n",
    "import matplotlib as mpl\n",
    "import matplotlib.pyplot as plt\n",
    "\n",
    "import seaborn as sns\n",
    "\n",
    "from sklearn.model_selection import train_test_split, GridSearchCV, StratifiedKFold\n",
    "\n",
    "from sklearn.ensemble import RandomForestClassifier\n",
    "from sklearn.svm import LinearSVC\n",
    "from sklearn.preprocessing import MinMaxScaler, StandardScaler\n",
    "from sklearn.metrics import (roc_auc_score, f1_score, roc_curve, auc, \n",
    "                             confusion_matrix, precision_recall_curve, make_scorer)\n",
    "\n",
    "\n",
    "from tqdm import tqdm"
   ]
  },
  {
   "cell_type": "markdown",
   "id": "54abf21b",
   "metadata": {},
   "source": [
    "# Functions and configurations"
   ]
  },
  {
   "cell_type": "code",
   "execution_count": 2,
   "id": "ed04de54",
   "metadata": {},
   "outputs": [],
   "source": [
    "RANDOM_STATE = 35\n",
    "\n",
    "mpl.rcParams['figure.figsize'] = (12, 10)\n",
    "colors = plt.rcParams['axes.prop_cycle'].by_key()['color']"
   ]
  },
  {
   "cell_type": "code",
   "execution_count": 3,
   "id": "7ffa361e",
   "metadata": {},
   "outputs": [],
   "source": [
    "def split_data(X, Y, kfold=None):\n",
    "    \n",
    "    X_train, X_test, Y_train, Y_test = train_test_split(X,  Y, test_size = 0.2,  stratify=Y)\n",
    "    \n",
    "    if kfold:\n",
    "        \n",
    "        skf = StratifiedKFold(n_splits=kfold, shuffle=True)\n",
    "\n",
    "        kfold_5 = skf.split(X_train, Y_train)\n",
    "        \n",
    "        i=0\n",
    "        indices_split = {}\n",
    "\n",
    "        for train, val in kfold_5:\n",
    "\n",
    "            indices_split[f\"fold_{i}\"] = (train, val)\n",
    "\n",
    "            i += 1\n",
    "        \n",
    "        return indices_split, (X_test, Y_test)\n",
    "    \n",
    "    X_train, X_val, Y_train, Y_val = train_test_split(X_train,  Y_train, test_size = 0.2,  stratify=Y_train)\n",
    "    \n",
    "    return (X_train, X_val, X_test), (Y_train, Y_val, Y_test)"
   ]
  },
  {
   "cell_type": "code",
   "execution_count": 4,
   "id": "20ca3734",
   "metadata": {},
   "outputs": [],
   "source": [
    "def compare_models(X, Y, classifiers=None, indices_split=None, scaling=None):\n",
    "    \"\"\"\n",
    "    Args:\n",
    "    \n",
    "    X, Y - if calssifiers == None and indices_split == None, X and Y are tuples\n",
    "    that contains (X_train, X_val) e (Y_train, Y_test), otherwise X, Y\n",
    "    are np.array of all dataset to be separeted using the indices_split\n",
    "    into n fold.\n",
    "    classifiers - dictionary of classifiers or a single classifier.\n",
    "    \n",
    "    \n",
    "    \"\"\"\n",
    "    history = {}\n",
    "    \n",
    "    if indices_split and classifiers:\n",
    "\n",
    "        for clf_name, clf, (train, val) in zip(classifiers.keys(), classifiers.values(), indices_split.values()):\n",
    "\n",
    "            print(f\"\\n Evaluating the model {clf_name}\")\n",
    "            \n",
    "            if scaler:\n",
    "                scaler = MinMaxScaler()\n",
    "                X_train = scaler.fit_transform(X[train])\n",
    "                X_val = scaler.fit(X[val])\n",
    "\n",
    "            #Training \n",
    "\n",
    "            y_hat_train = clf.predict(X_train)\n",
    "\n",
    "            rf_train_roc_auc_score = roc_auc_score(Y[train], y_hat_train)\n",
    "            rf_train_f1_score = f1_score(Y[train], y_hat_train, average=\"weighted\")\n",
    "\n",
    "            #val\n",
    "\n",
    "            y_hat_val = clf.predict(X_val)\n",
    "\n",
    "            rf_val_roc_auc_score = roc_auc_score(Y[val], y_hat_val)\n",
    "            rf_val_f1_score = f1_score(Y[val], y_hat_val, average=\"weighted\")\n",
    "            precision, recall, thresholds_pr = precision_recall_curve(Y[val], y_hat_val)\n",
    "            AUC_PRcurve= auc(recall, precision)\n",
    "            fpr, tpr, thresholds = roc_curve(Y[val], y_hat_val)\n",
    "\n",
    "            print(f\"F1 score - Train: {rf_train_f1_score} / val: {rf_val_f1_score}\")\n",
    "            print(f\"ROC AUC score - Train: {rf_train_roc_auc_score} / val: {rf_val_roc_auc_score}\")\n",
    "            print(f\"PR AUC score - val: {AUC_PRcurve}\")\n",
    "\n",
    "            history[clf_name] = {\"y_hat_train\": y_hat_train, \"y_hat_val\": y_hat_val,\n",
    "                                 \"pr\": (precision, recall, AUC_PRcurve), \"roc\": (fpr, tpr, thresholds)}\n",
    "    else:\n",
    "        clf = classifiers\n",
    "        #Train\n",
    "        X_train, X_val = X\n",
    "        y_train, y_val = Y\n",
    "        \n",
    "        if scaler:\n",
    "            scaler = MinMaxScaler()\n",
    "            X_train = scaler.fit_transform(X_train)\n",
    "            X_val = scaler.fit(X_val)\n",
    "\n",
    "        y_hat_train = clf.predict(X_train)\n",
    "\n",
    "        rf_train_roc_auc_score = roc_auc_score(y_train, y_hat_train)\n",
    "        rf_train_f1_score = f1_score(y_train, y_hat_train, average=\"weighted\")\n",
    "\n",
    "        #val\n",
    "\n",
    "        y_hat_val = clf.predict(X_val)\n",
    "\n",
    "        rf_val_roc_auc_score = roc_auc_score(y_val, y_hat_val)\n",
    "        rf_val_f1_score = f1_score(y_val, y_hat_val, average=\"weighted\")\n",
    "        precision, recall, thresholds_pr = precision_recall_curve(y_val, y_hat_val)\n",
    "        AUC_PRcurve= auc(recall, precision)\n",
    "        fpr, tpr, thresholds = roc_curve(y_val, y_hat_val)\n",
    "\n",
    "        print(f\"F1 score - Train: {rf_train_f1_score} / val: {rf_val_f1_score}\")\n",
    "        print(f\"ROC AUC score - Train: {rf_train_roc_auc_score} / val: {rf_val_roc_auc_score}\")\n",
    "        print(f\"PR AUC score - val: {AUC_PRcurve}\")\n",
    "\n",
    "        history[\"clf_0\"] = {\"y_hat_train\": y_hat_train, \"y_hat_val\": y_hat_val,\n",
    "                            \"pr\": (precision, recall, AUC_PRcurve), \"roc\": (fpr, tpr, thresholds)}\n",
    "        \n",
    "    return history"
   ]
  },
  {
   "cell_type": "code",
   "execution_count": 5,
   "id": "af10b53f",
   "metadata": {},
   "outputs": [],
   "source": [
    "def plot_pr_curve(history):\n",
    "    \n",
    "    plt.figure(1)\n",
    "    \n",
    "    for model_name, model_eval in zip(history.keys(), history.values()):\n",
    "    \n",
    "        precision, recall, AUC_PRcurve = model_eval[\"pr\"]\n",
    "    \n",
    "        # plot no skill\n",
    "        plt.plot([0, 1], [0.5, 0.5], linestyle='--')\n",
    "        #plot PR curve\n",
    "        plt.plot(precision, recall, label = \"{} AUC = {:0.2f}\".format(model_name, AUC_PRcurve), lw = 3, alpha = 0.7)\n",
    "    plt.xlabel('Precision', fontsize = 14)\n",
    "    plt.ylabel('Recall', fontsize = 14)\n",
    "    plt.title('Precision-Recall Curve', fontsize = 18)\n",
    "    plt.legend(loc='best')\n",
    "    plt.show()"
   ]
  },
  {
   "cell_type": "code",
   "execution_count": 6,
   "id": "3e7ff139",
   "metadata": {},
   "outputs": [],
   "source": [
    "def plot_roc_auc_curve(history):\n",
    "    \n",
    "    plt.figure()\n",
    "    \n",
    "    for model_name, model_eval in zip(history.keys(), history.values()):\n",
    "\n",
    "        fpr, tpr, thresholds = model_eval[\"roc\"]\n",
    "        \n",
    "        roc_auc = auc(fpr, tpr)\n",
    "\n",
    "        lw = 2\n",
    "        plt.plot(\n",
    "            fpr,\n",
    "            tpr,\n",
    "            label=f\"{model_name} ROC curve (area = %0.2f)\" % roc_auc,\n",
    "        )\n",
    "        plt.plot([0, 1], [0, 1], color=\"navy\", linestyle=\"--\")\n",
    "        \n",
    "    plt.xlim([0.0, 1.0])\n",
    "    plt.ylim([0.0, 1.05])\n",
    "    plt.xlabel(\"False Positive Rate\")\n",
    "    plt.ylabel(\"True Positive Rate\")\n",
    "    plt.title(\"Receiver operating characteristic example\")\n",
    "    plt.legend(loc=\"lower right\")\n",
    "    \n",
    "    plt.show()\n"
   ]
  },
  {
   "cell_type": "code",
   "execution_count": 7,
   "id": "224ce692",
   "metadata": {},
   "outputs": [],
   "source": [
    "def split_indices_stritify(y, proportion, rate_positive):\n",
    " \n",
    "    \"\"\"\n",
    "    Args:\n",
    "    \n",
    "    proportion - is the proportion of the original data we want to slice\n",
    "    rate_positive - rate of the positive label of the imbaleced data\n",
    "    \n",
    "    \"\"\"\n",
    "    array_size = len(y)\n",
    "    \n",
    "    new_size = proportion*array_size\n",
    "    \n",
    "    positive_size = int(rate_positive * new_size)\n",
    "    negative_size = int((1 - rate_positive) * new_size)\n",
    "    \n",
    "    positive_indicies = np.argwhere(Y==1)[0:positive_size]\n",
    "    negative_indices = np.argwhere(Y==0)[0:negative_size]\n",
    "    \n",
    "    return positive_indicies, negative_indices"
   ]
  },
  {
   "cell_type": "code",
   "execution_count": 8,
   "id": "2b0cb00c",
   "metadata": {},
   "outputs": [],
   "source": [
    "def plot_cm(labels, predictions, model_name):\n",
    "    print(model_name)\n",
    "    cm = confusion_matrix(labels, predictions)\n",
    "    plt.figure(figsize=(5,5))\n",
    "    sns.heatmap(cm, annot=True, fmt=\"d\")\n",
    "    plt.title('Confusion matrix')\n",
    "    plt.ylabel('Actual label')\n",
    "    plt.xlabel('Predicted label')\n",
    "    plt.show()"
   ]
  },
  {
   "cell_type": "code",
   "execution_count": 24,
   "id": "cf4d765d",
   "metadata": {},
   "outputs": [],
   "source": [
    "def train_model(model, X, Y, indices_split=None, scaling=False):\n",
    "    \n",
    "        \n",
    "    if indices_split:\n",
    "        i = 0\n",
    "        classifiers = {}\n",
    "        for train, val in indices_split.values():\n",
    "            \n",
    "            if scaling:\n",
    "                scaler = MinMaxScaler()\n",
    "                X_train = scaler.fit_transform(X[train])\n",
    "            else:\n",
    "                X_train = X[train]\n",
    "                \n",
    "            print(f\"Training clf {i}\")\n",
    "\n",
    "            model.fit(X_train, Y[train])\n",
    "\n",
    "            classifiers[f\"clf_{i}\"] = classifier\n",
    "\n",
    "            i += 1\n",
    "        return classifiers\n",
    "    \n",
    "    if scaling:\n",
    "        scaler = MinMaxScaler()\n",
    "        X = scaler.fit_transform(X)\n",
    "        \n",
    "    model.fit(X, Y)\n",
    "    \n",
    "    return model\n",
    "    "
   ]
  },
  {
   "cell_type": "code",
   "execution_count": 10,
   "id": "695bebca",
   "metadata": {},
   "outputs": [],
   "source": [
    "def pr_auc_score(y_true, y_score):\n",
    "    \"\"\"\n",
    "    Generates the Area Under the Curve for precision and recall.\n",
    "    \"\"\"\n",
    "    precision, recall, thresholds = precision_recall_curve(y_true, y_score)\n",
    "    return auc(recall, precision)"
   ]
  },
  {
   "cell_type": "markdown",
   "id": "f274df0e",
   "metadata": {},
   "source": [
    "# Processing data"
   ]
  },
  {
   "cell_type": "code",
   "execution_count": 11,
   "id": "7a22d1c4",
   "metadata": {},
   "outputs": [],
   "source": [
    "data_raw = pd.read_csv(\"dataset/processed_features.csv\")\n"
   ]
  },
  {
   "cell_type": "code",
   "execution_count": 12,
   "id": "28c6ad25",
   "metadata": {},
   "outputs": [
    {
     "data": {
      "text/html": [
       "<div>\n",
       "<style scoped>\n",
       "    .dataframe tbody tr th:only-of-type {\n",
       "        vertical-align: middle;\n",
       "    }\n",
       "\n",
       "    .dataframe tbody tr th {\n",
       "        vertical-align: top;\n",
       "    }\n",
       "\n",
       "    .dataframe thead th {\n",
       "        text-align: right;\n",
       "    }\n",
       "</style>\n",
       "<table border=\"1\" class=\"dataframe\">\n",
       "  <thead>\n",
       "    <tr style=\"text-align: right;\">\n",
       "      <th></th>\n",
       "      <th>account_id</th>\n",
       "      <th>device_id</th>\n",
       "      <th>balance</th>\n",
       "      <th>processed_at</th>\n",
       "      <th>is_fraud</th>\n",
       "      <th>age_range</th>\n",
       "      <th>number_of_selfies_sent</th>\n",
       "      <th>time_client</th>\n",
       "      <th>cash_out_type_1</th>\n",
       "      <th>cash_out_type_2</th>\n",
       "      <th>cash_out_type_3</th>\n",
       "      <th>cash_out_type_6</th>\n",
       "    </tr>\n",
       "  </thead>\n",
       "  <tbody>\n",
       "    <tr>\n",
       "      <th>account_id</th>\n",
       "      <td>1.000000</td>\n",
       "      <td>0.936605</td>\n",
       "      <td>-0.115446</td>\n",
       "      <td>0.030805</td>\n",
       "      <td>-0.031733</td>\n",
       "      <td>0.014728</td>\n",
       "      <td>-0.011119</td>\n",
       "      <td>-0.124930</td>\n",
       "      <td>-0.024468</td>\n",
       "      <td>0.314274</td>\n",
       "      <td>-0.312839</td>\n",
       "      <td>0.001893</td>\n",
       "    </tr>\n",
       "    <tr>\n",
       "      <th>device_id</th>\n",
       "      <td>0.936605</td>\n",
       "      <td>1.000000</td>\n",
       "      <td>-0.120909</td>\n",
       "      <td>0.030237</td>\n",
       "      <td>-0.032270</td>\n",
       "      <td>0.010916</td>\n",
       "      <td>-0.010421</td>\n",
       "      <td>-0.128533</td>\n",
       "      <td>-0.021081</td>\n",
       "      <td>0.339309</td>\n",
       "      <td>-0.339272</td>\n",
       "      <td>0.001675</td>\n",
       "    </tr>\n",
       "    <tr>\n",
       "      <th>balance</th>\n",
       "      <td>-0.115446</td>\n",
       "      <td>-0.120909</td>\n",
       "      <td>1.000000</td>\n",
       "      <td>0.013672</td>\n",
       "      <td>-0.002463</td>\n",
       "      <td>0.041070</td>\n",
       "      <td>-0.015854</td>\n",
       "      <td>0.278847</td>\n",
       "      <td>0.019471</td>\n",
       "      <td>0.036898</td>\n",
       "      <td>-0.043073</td>\n",
       "      <td>-0.000271</td>\n",
       "    </tr>\n",
       "    <tr>\n",
       "      <th>processed_at</th>\n",
       "      <td>0.030805</td>\n",
       "      <td>0.030237</td>\n",
       "      <td>0.013672</td>\n",
       "      <td>1.000000</td>\n",
       "      <td>-0.006212</td>\n",
       "      <td>0.005170</td>\n",
       "      <td>-0.010542</td>\n",
       "      <td>0.034895</td>\n",
       "      <td>-0.000934</td>\n",
       "      <td>0.011392</td>\n",
       "      <td>-0.011319</td>\n",
       "      <td>-0.001043</td>\n",
       "    </tr>\n",
       "    <tr>\n",
       "      <th>is_fraud</th>\n",
       "      <td>-0.031733</td>\n",
       "      <td>-0.032270</td>\n",
       "      <td>-0.002463</td>\n",
       "      <td>-0.006212</td>\n",
       "      <td>1.000000</td>\n",
       "      <td>0.001232</td>\n",
       "      <td>0.000773</td>\n",
       "      <td>-0.001799</td>\n",
       "      <td>0.005346</td>\n",
       "      <td>0.017931</td>\n",
       "      <td>-0.019762</td>\n",
       "      <td>-0.000132</td>\n",
       "    </tr>\n",
       "    <tr>\n",
       "      <th>age_range</th>\n",
       "      <td>0.014728</td>\n",
       "      <td>0.010916</td>\n",
       "      <td>0.041070</td>\n",
       "      <td>0.005170</td>\n",
       "      <td>0.001232</td>\n",
       "      <td>1.000000</td>\n",
       "      <td>-0.008867</td>\n",
       "      <td>-0.025235</td>\n",
       "      <td>0.002038</td>\n",
       "      <td>0.043571</td>\n",
       "      <td>-0.044924</td>\n",
       "      <td>0.001572</td>\n",
       "    </tr>\n",
       "    <tr>\n",
       "      <th>number_of_selfies_sent</th>\n",
       "      <td>-0.011119</td>\n",
       "      <td>-0.010421</td>\n",
       "      <td>-0.015854</td>\n",
       "      <td>-0.010542</td>\n",
       "      <td>0.000773</td>\n",
       "      <td>-0.008867</td>\n",
       "      <td>1.000000</td>\n",
       "      <td>0.134589</td>\n",
       "      <td>0.006826</td>\n",
       "      <td>-0.008444</td>\n",
       "      <td>0.006654</td>\n",
       "      <td>-0.000253</td>\n",
       "    </tr>\n",
       "    <tr>\n",
       "      <th>time_client</th>\n",
       "      <td>-0.124930</td>\n",
       "      <td>-0.128533</td>\n",
       "      <td>0.278847</td>\n",
       "      <td>0.034895</td>\n",
       "      <td>-0.001799</td>\n",
       "      <td>-0.025235</td>\n",
       "      <td>0.134589</td>\n",
       "      <td>1.000000</td>\n",
       "      <td>0.014227</td>\n",
       "      <td>-0.022264</td>\n",
       "      <td>0.018509</td>\n",
       "      <td>0.014154</td>\n",
       "    </tr>\n",
       "    <tr>\n",
       "      <th>cash_out_type_1</th>\n",
       "      <td>-0.024468</td>\n",
       "      <td>-0.021081</td>\n",
       "      <td>0.019471</td>\n",
       "      <td>-0.000934</td>\n",
       "      <td>0.005346</td>\n",
       "      <td>0.002038</td>\n",
       "      <td>0.006826</td>\n",
       "      <td>0.014227</td>\n",
       "      <td>1.000000</td>\n",
       "      <td>-0.200642</td>\n",
       "      <td>-0.079909</td>\n",
       "      <td>-0.000421</td>\n",
       "    </tr>\n",
       "    <tr>\n",
       "      <th>cash_out_type_2</th>\n",
       "      <td>0.314274</td>\n",
       "      <td>0.339309</td>\n",
       "      <td>0.036898</td>\n",
       "      <td>0.011392</td>\n",
       "      <td>0.017931</td>\n",
       "      <td>0.043571</td>\n",
       "      <td>-0.008444</td>\n",
       "      <td>-0.022264</td>\n",
       "      <td>-0.200642</td>\n",
       "      <td>1.000000</td>\n",
       "      <td>-0.960473</td>\n",
       "      <td>-0.005063</td>\n",
       "    </tr>\n",
       "    <tr>\n",
       "      <th>cash_out_type_3</th>\n",
       "      <td>-0.312839</td>\n",
       "      <td>-0.339272</td>\n",
       "      <td>-0.043073</td>\n",
       "      <td>-0.011319</td>\n",
       "      <td>-0.019762</td>\n",
       "      <td>-0.044924</td>\n",
       "      <td>0.006654</td>\n",
       "      <td>0.018509</td>\n",
       "      <td>-0.079909</td>\n",
       "      <td>-0.960473</td>\n",
       "      <td>1.000000</td>\n",
       "      <td>-0.002016</td>\n",
       "    </tr>\n",
       "    <tr>\n",
       "      <th>cash_out_type_6</th>\n",
       "      <td>0.001893</td>\n",
       "      <td>0.001675</td>\n",
       "      <td>-0.000271</td>\n",
       "      <td>-0.001043</td>\n",
       "      <td>-0.000132</td>\n",
       "      <td>0.001572</td>\n",
       "      <td>-0.000253</td>\n",
       "      <td>0.014154</td>\n",
       "      <td>-0.000421</td>\n",
       "      <td>-0.005063</td>\n",
       "      <td>-0.002016</td>\n",
       "      <td>1.000000</td>\n",
       "    </tr>\n",
       "  </tbody>\n",
       "</table>\n",
       "</div>"
      ],
      "text/plain": [
       "                        account_id  device_id   balance  processed_at  \\\n",
       "account_id                1.000000   0.936605 -0.115446      0.030805   \n",
       "device_id                 0.936605   1.000000 -0.120909      0.030237   \n",
       "balance                  -0.115446  -0.120909  1.000000      0.013672   \n",
       "processed_at              0.030805   0.030237  0.013672      1.000000   \n",
       "is_fraud                 -0.031733  -0.032270 -0.002463     -0.006212   \n",
       "age_range                 0.014728   0.010916  0.041070      0.005170   \n",
       "number_of_selfies_sent   -0.011119  -0.010421 -0.015854     -0.010542   \n",
       "time_client              -0.124930  -0.128533  0.278847      0.034895   \n",
       "cash_out_type_1          -0.024468  -0.021081  0.019471     -0.000934   \n",
       "cash_out_type_2           0.314274   0.339309  0.036898      0.011392   \n",
       "cash_out_type_3          -0.312839  -0.339272 -0.043073     -0.011319   \n",
       "cash_out_type_6           0.001893   0.001675 -0.000271     -0.001043   \n",
       "\n",
       "                        is_fraud  age_range  number_of_selfies_sent  \\\n",
       "account_id             -0.031733   0.014728               -0.011119   \n",
       "device_id              -0.032270   0.010916               -0.010421   \n",
       "balance                -0.002463   0.041070               -0.015854   \n",
       "processed_at           -0.006212   0.005170               -0.010542   \n",
       "is_fraud                1.000000   0.001232                0.000773   \n",
       "age_range               0.001232   1.000000               -0.008867   \n",
       "number_of_selfies_sent  0.000773  -0.008867                1.000000   \n",
       "time_client            -0.001799  -0.025235                0.134589   \n",
       "cash_out_type_1         0.005346   0.002038                0.006826   \n",
       "cash_out_type_2         0.017931   0.043571               -0.008444   \n",
       "cash_out_type_3        -0.019762  -0.044924                0.006654   \n",
       "cash_out_type_6        -0.000132   0.001572               -0.000253   \n",
       "\n",
       "                        time_client  cash_out_type_1  cash_out_type_2  \\\n",
       "account_id                -0.124930        -0.024468         0.314274   \n",
       "device_id                 -0.128533        -0.021081         0.339309   \n",
       "balance                    0.278847         0.019471         0.036898   \n",
       "processed_at               0.034895        -0.000934         0.011392   \n",
       "is_fraud                  -0.001799         0.005346         0.017931   \n",
       "age_range                 -0.025235         0.002038         0.043571   \n",
       "number_of_selfies_sent     0.134589         0.006826        -0.008444   \n",
       "time_client                1.000000         0.014227        -0.022264   \n",
       "cash_out_type_1            0.014227         1.000000        -0.200642   \n",
       "cash_out_type_2           -0.022264        -0.200642         1.000000   \n",
       "cash_out_type_3            0.018509        -0.079909        -0.960473   \n",
       "cash_out_type_6            0.014154        -0.000421        -0.005063   \n",
       "\n",
       "                        cash_out_type_3  cash_out_type_6  \n",
       "account_id                    -0.312839         0.001893  \n",
       "device_id                     -0.339272         0.001675  \n",
       "balance                       -0.043073        -0.000271  \n",
       "processed_at                  -0.011319        -0.001043  \n",
       "is_fraud                      -0.019762        -0.000132  \n",
       "age_range                     -0.044924         0.001572  \n",
       "number_of_selfies_sent         0.006654        -0.000253  \n",
       "time_client                    0.018509         0.014154  \n",
       "cash_out_type_1               -0.079909        -0.000421  \n",
       "cash_out_type_2               -0.960473        -0.005063  \n",
       "cash_out_type_3                1.000000        -0.002016  \n",
       "cash_out_type_6               -0.002016         1.000000  "
      ]
     },
     "execution_count": 12,
     "metadata": {},
     "output_type": "execute_result"
    }
   ],
   "source": [
    "data_raw.corr()"
   ]
  },
  {
   "cell_type": "code",
   "execution_count": 13,
   "id": "0da5eed0",
   "metadata": {},
   "outputs": [],
   "source": [
    "data = data_raw.copy()\n",
    "\n",
    "data.drop(\"account_id\", axis=1, inplace=True)"
   ]
  },
  {
   "cell_type": "code",
   "execution_count": 14,
   "id": "d1598b67",
   "metadata": {},
   "outputs": [
    {
     "data": {
      "text/plain": [
       "device_id                 0\n",
       "balance                   0\n",
       "processed_at              0\n",
       "is_fraud                  0\n",
       "age_range                 0\n",
       "number_of_selfies_sent    0\n",
       "time_client               0\n",
       "cash_out_type_1           0\n",
       "cash_out_type_2           0\n",
       "cash_out_type_3           0\n",
       "cash_out_type_6           0\n",
       "dtype: int64"
      ]
     },
     "execution_count": 14,
     "metadata": {},
     "output_type": "execute_result"
    }
   ],
   "source": [
    "data.isna().sum()"
   ]
  },
  {
   "cell_type": "code",
   "execution_count": 15,
   "id": "a42ad4c0",
   "metadata": {},
   "outputs": [
    {
     "name": "stdout",
     "output_type": "stream",
     "text": [
      "X shape: (940935, 10)\n",
      "Y shape: (940935,)\n",
      "Proportion Positives 0.0016313560447852402  / negatives 0.9983686439552147\n"
     ]
    }
   ],
   "source": [
    "Y = data.is_fraud.to_numpy()\n",
    "X = data.copy().drop(\"is_fraud\", axis = 1).to_numpy()\n",
    "\n",
    "print(\"X shape:\", X.shape)\n",
    "print(\"Y shape:\", Y.shape)\n",
    "\n",
    "size_negatives, size_positives = list(np.bincount(Y))\n",
    "\n",
    "all_pos_rate = size_positives / (size_positives + size_negatives)\n",
    "all_neg_rate = size_negatives / (size_positives + size_negatives)\n",
    "\n",
    "print(f\"Proportion Positives {all_pos_rate}  / negatives {all_neg_rate}\")"
   ]
  },
  {
   "cell_type": "code",
   "execution_count": 55,
   "id": "560c1a01",
   "metadata": {},
   "outputs": [
    {
     "ename": "TypeError",
     "evalue": "tuple indices must be integers or slices, not tuple",
     "output_type": "error",
     "traceback": [
      "\u001b[0;31m---------------------------------------------------------------------------\u001b[0m",
      "\u001b[0;31mTypeError\u001b[0m                                 Traceback (most recent call last)",
      "\u001b[0;32m/var/folders/jn/ck8kvq0d4h7bjzszjkxcp7tw0000gn/T/ipykernel_5067/2099818181.py\u001b[0m in \u001b[0;36m<module>\u001b[0;34m\u001b[0m\n\u001b[0;32m----> 1\u001b[0;31m \u001b[0mX_2\u001b[0m \u001b[0;34m=\u001b[0m \u001b[0mnp\u001b[0m\u001b[0;34m.\u001b[0m\u001b[0mconcatenate\u001b[0m\u001b[0;34m(\u001b[0m\u001b[0;34m(\u001b[0m\u001b[0mX\u001b[0m\u001b[0;34m[\u001b[0m\u001b[0mnegative_indices\u001b[0m\u001b[0;34m,\u001b[0m\u001b[0;34m:\u001b[0m\u001b[0;34m]\u001b[0m\u001b[0;34m,\u001b[0m \u001b[0mX\u001b[0m\u001b[0;34m[\u001b[0m\u001b[0mpositive_indicies\u001b[0m\u001b[0;34m,\u001b[0m\u001b[0;34m:\u001b[0m\u001b[0;34m]\u001b[0m\u001b[0;34m)\u001b[0m\u001b[0;34m,\u001b[0m \u001b[0maxis\u001b[0m\u001b[0;34m=\u001b[0m\u001b[0;36m0\u001b[0m\u001b[0;34m)\u001b[0m\u001b[0;34m\u001b[0m\u001b[0;34m\u001b[0m\u001b[0m\n\u001b[0m\u001b[1;32m      2\u001b[0m \u001b[0mX_2\u001b[0m \u001b[0;34m=\u001b[0m \u001b[0mX_2\u001b[0m\u001b[0;34m.\u001b[0m\u001b[0mreshape\u001b[0m\u001b[0;34m(\u001b[0m\u001b[0mX_2\u001b[0m\u001b[0;34m.\u001b[0m\u001b[0mshape\u001b[0m\u001b[0;34m[\u001b[0m\u001b[0;36m0\u001b[0m\u001b[0;34m]\u001b[0m\u001b[0;34m,\u001b[0m \u001b[0;34m-\u001b[0m\u001b[0;36m1\u001b[0m\u001b[0;34m)\u001b[0m\u001b[0;34m\u001b[0m\u001b[0;34m\u001b[0m\u001b[0m\n\u001b[1;32m      3\u001b[0m \u001b[0mY_2\u001b[0m \u001b[0;34m=\u001b[0m \u001b[0mnp\u001b[0m\u001b[0;34m.\u001b[0m\u001b[0mconcatenate\u001b[0m\u001b[0;34m(\u001b[0m\u001b[0;34m(\u001b[0m\u001b[0mY\u001b[0m\u001b[0;34m[\u001b[0m\u001b[0mnegative_indices\u001b[0m\u001b[0;34m]\u001b[0m\u001b[0;34m,\u001b[0m \u001b[0mY\u001b[0m\u001b[0;34m[\u001b[0m\u001b[0mpositive_indicies\u001b[0m\u001b[0;34m]\u001b[0m\u001b[0;34m)\u001b[0m\u001b[0;34m)\u001b[0m\u001b[0;34m\u001b[0m\u001b[0;34m\u001b[0m\u001b[0m\n\u001b[1;32m      4\u001b[0m \u001b[0mY_2\u001b[0m \u001b[0;34m=\u001b[0m \u001b[0mY_2\u001b[0m\u001b[0;34m.\u001b[0m\u001b[0mreshape\u001b[0m\u001b[0;34m(\u001b[0m\u001b[0mY_2\u001b[0m\u001b[0;34m.\u001b[0m\u001b[0mshape\u001b[0m\u001b[0;34m[\u001b[0m\u001b[0;36m0\u001b[0m\u001b[0;34m]\u001b[0m\u001b[0;34m)\u001b[0m\u001b[0;34m\u001b[0m\u001b[0;34m\u001b[0m\u001b[0m\n\u001b[1;32m      5\u001b[0m \u001b[0;34m\u001b[0m\u001b[0m\n",
      "\u001b[0;31mTypeError\u001b[0m: tuple indices must be integers or slices, not tuple"
     ]
    }
   ],
   "source": [
    "#slice the dataset case testing models\n",
    "\n",
    "positive_indicies, negative_indices = split_indices_stritify(Y, 0.1, all_pos_rate)\n",
    "\n",
    "X_2 = np.concatenate((X[negative_indices,:], X[positive_indicies,:]), axis=0)\n",
    "X_2 = X_2.reshape(X_2.shape[0], -1)\n",
    "Y_2 = np.concatenate((Y[negative_indices], Y[positive_indicies]))\n",
    "Y_2 = Y_2.reshape(Y_2.shape[0])\n",
    "\n",
    "size_negatives, size_positives = list(np.bincount(Y_2))\n",
    "\n",
    "pos_rate = size_positives / (size_positives + size_negatives)\n",
    "neg_rate = size_negatives / (size_positives + size_negatives)\n",
    "\n",
    "print(f\"X shape {X_2.shape} / Y shape {Y_2.shape}\")\n",
    "print(f\"Proportion Positives {pos_rate}  / negatives {neg_rate}\")\n",
    "\n",
    "\n",
    "X_pack,  Y_pack = split_data(X_2, Y_2, kfold=None)\n",
    "X_train, X_val, X_test = X_pack\n",
    "Y_train, Y_val, Y_test  = Y_pack"
   ]
  },
  {
   "cell_type": "code",
   "execution_count": 58,
   "id": "5e3d08d4",
   "metadata": {},
   "outputs": [
    {
     "name": "stdout",
     "output_type": "stream",
     "text": [
      "Class 0 weigth:  1226.4725050916495 \n",
      "Class 1 weigth:  2.0032667127954014\n"
     ]
    }
   ],
   "source": [
    "n_class_count = np.bincount(Y_train)\n",
    "n_class_0 = n_class_count[0]\n",
    "n_class_1 = n_class_count[1]\n",
    "\n",
    "total = n_class_0 + n_class_1\n",
    "\n",
    "class_weight_1 = (1/n_class_0) * (2*total)\n",
    "class_weight_0 = (1/n_class_1) * (2*total)\n",
    "\n",
    "class_weight = {0:class_weight_0, 1:class_weight_1}\n",
    "\n",
    "print(\"Class 0 weigth: \", class_weight_0, \"\\nClass 1 weigth: \", class_weight_1)"
   ]
  },
  {
   "cell_type": "markdown",
   "id": "76147c81",
   "metadata": {},
   "source": [
    "# Scaling"
   ]
  },
  {
   "cell_type": "code",
   "execution_count": 16,
   "id": "95ec3e28",
   "metadata": {},
   "outputs": [],
   "source": [
    "X_pack,  Y_pack = split_data(X, Y, kfold=None)\n",
    "X_train, X_val, X_test = X_pack\n",
    "Y_train, Y_val, Y_test  = Y_pack"
   ]
  },
  {
   "cell_type": "code",
   "execution_count": 17,
   "id": "7e793389",
   "metadata": {},
   "outputs": [],
   "source": [
    "scaler = MinMaxScaler()\n",
    "\n",
    "train_features = scaler.fit_transform(X_train)\n",
    "val_features = scaler.transform(X_val)\n",
    "test_features = scaler.transform(X_test)\n"
   ]
  },
  {
   "cell_type": "code",
   "execution_count": 18,
   "id": "59307a83",
   "metadata": {},
   "outputs": [
    {
     "data": {
      "text/plain": [
       "(602198, 10)"
      ]
     },
     "execution_count": 18,
     "metadata": {},
     "output_type": "execute_result"
    }
   ],
   "source": [
    "X_train.shape"
   ]
  },
  {
   "cell_type": "markdown",
   "id": "1c7b7de3",
   "metadata": {},
   "source": [
    "# GridSearch"
   ]
  },
  {
   "cell_type": "code",
   "execution_count": 86,
   "id": "a97d7bf5",
   "metadata": {},
   "outputs": [],
   "source": [
    "\n",
    "#model, this cell take some time. on CPU with no parallelism\n",
    "pr_auc_score = make_scorer(pr_auc_score)\n",
    "\n",
    "params = {\n",
    "          \"n_estimators\": [400, 500],\"max_depth\":[None, 50],\n",
    "          \"min_samples_split\":[1,2],\"min_samples_leaf\": [1,2],\n",
    "          \"oob_score\": [True], \"max_samples\": [1,10,100]\n",
    "}\n",
    "\n",
    "\n",
    "rf_classifier = RandomForestClassifier(random_state=RANDOM_STATE, class_weight= \"balanced_subsample\", \n",
    "                                       verbose=1, n_jobs=-1)\n",
    "\n",
    "clf = GridSearchCV(rf_classifier, params, scoring=pr_auc_score, \n",
    "                   refit=False, return_train_score=True, verbose=2, n_jobs=-1)\n"
   ]
  },
  {
   "cell_type": "code",
   "execution_count": 87,
   "id": "29c18cba",
   "metadata": {
    "scrolled": true
   },
   "outputs": [
    {
     "name": "stdout",
     "output_type": "stream",
     "text": [
      "Fitting 5 folds for each of 24 candidates, totalling 120 fits\n"
     ]
    },
    {
     "name": "stderr",
     "output_type": "stream",
     "text": [
      "/Users/ymquint/Documents/Economapas/economapas/lib/python3.7/site-packages/sklearn/model_selection/_validation.py:372: FitFailedWarning: \n",
      "80 fits failed out of a total of 120.\n",
      "The score on these train-test partitions for these parameters will be set to nan.\n",
      "If these failures are not expected, you can try to debug them by setting error_score='raise'.\n",
      "\n",
      "Below are more details about the failures:\n",
      "--------------------------------------------------------------------------------\n",
      "40 fits failed with the following error:\n",
      "Traceback (most recent call last):\n",
      "  File \"/Users/ymquint/Documents/Economapas/economapas/lib/python3.7/site-packages/sklearn/model_selection/_validation.py\", line 681, in _fit_and_score\n",
      "    estimator.fit(X_train, y_train, **fit_params)\n",
      "  File \"/Users/ymquint/Documents/Economapas/economapas/lib/python3.7/site-packages/sklearn/ensemble/_forest.py\", line 459, in fit\n",
      "    for i, t in enumerate(trees)\n",
      "  File \"/Users/ymquint/Documents/Economapas/economapas/lib/python3.7/site-packages/joblib/parallel.py\", line 1056, in __call__\n",
      "    self.retrieve()\n",
      "  File \"/Users/ymquint/Documents/Economapas/economapas/lib/python3.7/site-packages/joblib/parallel.py\", line 935, in retrieve\n",
      "    self._output.extend(job.get(timeout=self.timeout))\n",
      "  File \"/Users/ymquint/miniconda3/lib/python3.7/multiprocessing/pool.py\", line 657, in get\n",
      "    raise self._value\n",
      "  File \"/Users/ymquint/miniconda3/lib/python3.7/multiprocessing/pool.py\", line 121, in worker\n",
      "    result = (True, func(*args, **kwds))\n",
      "  File \"/Users/ymquint/Documents/Economapas/economapas/lib/python3.7/site-packages/joblib/_parallel_backends.py\", line 595, in __call__\n",
      "    return self.func(*args, **kwargs)\n",
      "  File \"/Users/ymquint/Documents/Economapas/economapas/lib/python3.7/site-packages/joblib/parallel.py\", line 263, in __call__\n",
      "    for func, args, kwargs in self.items]\n",
      "  File \"/Users/ymquint/Documents/Economapas/economapas/lib/python3.7/site-packages/joblib/parallel.py\", line 263, in <listcomp>\n",
      "    for func, args, kwargs in self.items]\n",
      "  File \"/Users/ymquint/Documents/Economapas/economapas/lib/python3.7/site-packages/sklearn/utils/fixes.py\", line 211, in __call__\n",
      "    return self.function(*args, **kwargs)\n",
      "  File \"/Users/ymquint/Documents/Economapas/economapas/lib/python3.7/site-packages/sklearn/ensemble/_forest.py\", line 185, in _parallel_build_trees\n",
      "    tree.fit(X, y, sample_weight=curr_sample_weight, check_input=False)\n",
      "  File \"/Users/ymquint/Documents/Economapas/economapas/lib/python3.7/site-packages/sklearn/tree/_classes.py\", line 942, in fit\n",
      "    X_idx_sorted=X_idx_sorted,\n",
      "  File \"/Users/ymquint/Documents/Economapas/economapas/lib/python3.7/site-packages/sklearn/tree/_classes.py\", line 254, in fit\n",
      "    % self.min_samples_split\n",
      "ValueError: min_samples_split must be an integer greater than 1 or a float in (0.0, 1.0]; got the integer 1\n",
      "\n",
      "--------------------------------------------------------------------------------\n",
      "24 fits failed with the following error:\n",
      "Traceback (most recent call last):\n",
      "  File \"/Users/ymquint/Documents/Economapas/economapas/lib/python3.7/site-packages/sklearn/model_selection/_validation.py\", line 681, in _fit_and_score\n",
      "    estimator.fit(X_train, y_train, **fit_params)\n",
      "  File \"/Users/ymquint/Documents/Economapas/economapas/lib/python3.7/site-packages/sklearn/ensemble/_forest.py\", line 380, in fit\n",
      "    n_samples=X.shape[0], max_samples=self.max_samples\n",
      "  File \"/Users/ymquint/Documents/Economapas/economapas/lib/python3.7/site-packages/sklearn/ensemble/_forest.py\", line 111, in _get_n_samples_bootstrap\n",
      "    raise ValueError(msg.format(n_samples, max_samples))\n",
      "ValueError: `max_samples` must be in range 1 to 481758 but got value 500000\n",
      "\n",
      "--------------------------------------------------------------------------------\n",
      "16 fits failed with the following error:\n",
      "Traceback (most recent call last):\n",
      "  File \"/Users/ymquint/Documents/Economapas/economapas/lib/python3.7/site-packages/sklearn/model_selection/_validation.py\", line 681, in _fit_and_score\n",
      "    estimator.fit(X_train, y_train, **fit_params)\n",
      "  File \"/Users/ymquint/Documents/Economapas/economapas/lib/python3.7/site-packages/sklearn/ensemble/_forest.py\", line 380, in fit\n",
      "    n_samples=X.shape[0], max_samples=self.max_samples\n",
      "  File \"/Users/ymquint/Documents/Economapas/economapas/lib/python3.7/site-packages/sklearn/ensemble/_forest.py\", line 111, in _get_n_samples_bootstrap\n",
      "    raise ValueError(msg.format(n_samples, max_samples))\n",
      "ValueError: `max_samples` must be in range 1 to 481759 but got value 500000\n",
      "\n",
      "  warnings.warn(some_fits_failed_message, FitFailedWarning)\n",
      "/Users/ymquint/Documents/Economapas/economapas/lib/python3.7/site-packages/sklearn/model_selection/_search.py:972: UserWarning: One or more of the test scores are non-finite: [       nan 0.50081535        nan 0.50081535        nan 0.50081535\n",
      "        nan 0.50081535        nan        nan        nan        nan\n",
      "        nan 0.50081535        nan 0.50081535        nan 0.50081535\n",
      "        nan 0.50081535        nan        nan        nan        nan]\n",
      "  category=UserWarning,\n",
      "/Users/ymquint/Documents/Economapas/economapas/lib/python3.7/site-packages/sklearn/model_selection/_search.py:972: UserWarning: One or more of the train scores are non-finite: [       nan 0.50081535        nan 0.50081535        nan 0.50081535\n",
      "        nan 0.50081535        nan        nan        nan        nan\n",
      "        nan 0.50081535        nan 0.50081535        nan 0.50081535\n",
      "        nan 0.50081535        nan        nan        nan        nan]\n",
      "  category=UserWarning,\n",
      "[Parallel(n_jobs=-1)]: Using backend ThreadingBackend with 4 concurrent workers.\n",
      "[Parallel(n_jobs=-1)]: Done  42 tasks      | elapsed:    1.8s\n",
      "[Parallel(n_jobs=-1)]: Done 192 tasks      | elapsed:    7.2s\n",
      "[Parallel(n_jobs=-1)]: Done 400 out of 400 | elapsed:   14.6s finished\n",
      "[Parallel(n_jobs=-1)]: Using backend ThreadingBackend with 4 concurrent workers.\n",
      "[Parallel(n_jobs=-1)]: Using backend ThreadingBackend with 4 concurrent workers.\n",
      "[Parallel(n_jobs=-1)]: Done  42 tasks      | elapsed:    5.3s\n",
      "[Parallel(n_jobs=-1)]: Done 192 tasks      | elapsed:   22.1s\n",
      "[Parallel(n_jobs=-1)]: Done 400 out of 400 | elapsed:   47.8s finished\n",
      "[Parallel(n_jobs=4)]: Using backend ThreadingBackend with 4 concurrent workers.\n",
      "[Parallel(n_jobs=4)]: Done  42 tasks      | elapsed:    0.1s\n",
      "[Parallel(n_jobs=4)]: Done 192 tasks      | elapsed:    0.8s\n",
      "[Parallel(n_jobs=4)]: Done 400 out of 400 | elapsed:    1.8s finished\n",
      "[Parallel(n_jobs=4)]: Using backend ThreadingBackend with 4 concurrent workers.\n",
      "[Parallel(n_jobs=4)]: Done  42 tasks      | elapsed:    0.8s\n",
      "[Parallel(n_jobs=4)]: Done 192 tasks      | elapsed:    4.6s\n",
      "[Parallel(n_jobs=4)]: Done 400 out of 400 | elapsed:    9.6s finished\n",
      "[Parallel(n_jobs=-1)]: Using backend ThreadingBackend with 4 concurrent workers.\n",
      "[Parallel(n_jobs=-1)]: Using backend ThreadingBackend with 4 concurrent workers.\n",
      "[Parallel(n_jobs=-1)]: Using backend ThreadingBackend with 4 concurrent workers.\n",
      "[Parallel(n_jobs=-1)]: Done  42 tasks      | elapsed:    4.4s\n",
      "[Parallel(n_jobs=-1)]: Done 192 tasks      | elapsed:   20.2s\n",
      "[Parallel(n_jobs=-1)]: Done 400 out of 400 | elapsed:   39.8s finished\n",
      "[Parallel(n_jobs=4)]: Using backend ThreadingBackend with 4 concurrent workers.\n",
      "[Parallel(n_jobs=4)]: Done  42 tasks      | elapsed:    0.1s\n",
      "[Parallel(n_jobs=4)]: Done 192 tasks      | elapsed:    0.5s\n",
      "[Parallel(n_jobs=4)]: Done 400 out of 400 | elapsed:    1.3s finished\n",
      "[Parallel(n_jobs=4)]: Using backend ThreadingBackend with 4 concurrent workers.\n",
      "[Parallel(n_jobs=4)]: Done  42 tasks      | elapsed:    0.7s\n",
      "[Parallel(n_jobs=4)]: Done 192 tasks      | elapsed:    4.2s\n",
      "[Parallel(n_jobs=4)]: Done 400 out of 400 | elapsed:    9.2s finished\n",
      "[Parallel(n_jobs=-1)]: Using backend ThreadingBackend with 4 concurrent workers.\n",
      "[Parallel(n_jobs=-1)]: Done  42 tasks      | elapsed:    3.6s\n",
      "[Parallel(n_jobs=-1)]: Done 192 tasks      | elapsed:   17.4s\n",
      "[Parallel(n_jobs=-1)]: Done 400 out of 400 | elapsed:   37.8s finished\n",
      "[Parallel(n_jobs=4)]: Using backend ThreadingBackend with 4 concurrent workers.\n",
      "[Parallel(n_jobs=4)]: Done  42 tasks      | elapsed:    0.1s\n",
      "[Parallel(n_jobs=4)]: Done 192 tasks      | elapsed:    0.6s\n",
      "[Parallel(n_jobs=4)]: Done 400 out of 400 | elapsed:    1.4s finished\n",
      "[Parallel(n_jobs=4)]: Using backend ThreadingBackend with 4 concurrent workers.\n",
      "[Parallel(n_jobs=4)]: Done  42 tasks      | elapsed:    0.6s\n",
      "[Parallel(n_jobs=4)]: Done 192 tasks      | elapsed:    2.9s\n",
      "[Parallel(n_jobs=4)]: Done 400 out of 400 | elapsed:    5.9s finished\n",
      "[Parallel(n_jobs=-1)]: Using backend ThreadingBackend with 4 concurrent workers.\n",
      "[Parallel(n_jobs=-1)]: Done  42 tasks      | elapsed:    3.3s\n",
      "[Parallel(n_jobs=-1)]: Done 192 tasks      | elapsed:   15.7s\n",
      "[Parallel(n_jobs=-1)]: Done 400 out of 400 | elapsed:   40.9s finished\n",
      "[Parallel(n_jobs=4)]: Using backend ThreadingBackend with 4 concurrent workers.\n",
      "[Parallel(n_jobs=4)]: Done  42 tasks      | elapsed:    0.1s\n",
      "[Parallel(n_jobs=4)]: Done 192 tasks      | elapsed:    1.0s\n",
      "[Parallel(n_jobs=4)]: Done 400 out of 400 | elapsed:    2.2s finished\n",
      "[Parallel(n_jobs=4)]: Using backend ThreadingBackend with 4 concurrent workers.\n",
      "[Parallel(n_jobs=4)]: Done  42 tasks      | elapsed:    0.9s\n",
      "[Parallel(n_jobs=4)]: Done 192 tasks      | elapsed:    4.7s\n",
      "[Parallel(n_jobs=4)]: Done 400 out of 400 | elapsed:    9.5s finished\n",
      "[Parallel(n_jobs=-1)]: Using backend ThreadingBackend with 4 concurrent workers.\n",
      "[Parallel(n_jobs=-1)]: Done  42 tasks      | elapsed:    3.3s\n",
      "[Parallel(n_jobs=-1)]: Done 192 tasks      | elapsed:   14.6s\n",
      "[Parallel(n_jobs=-1)]: Done 400 out of 400 | elapsed:   37.7s finished\n",
      "[Parallel(n_jobs=4)]: Using backend ThreadingBackend with 4 concurrent workers.\n",
      "[Parallel(n_jobs=4)]: Done  42 tasks      | elapsed:    0.1s\n",
      "[Parallel(n_jobs=4)]: Done 192 tasks      | elapsed:    1.0s\n",
      "[Parallel(n_jobs=4)]: Done 400 out of 400 | elapsed:    2.3s finished\n",
      "[Parallel(n_jobs=4)]: Using backend ThreadingBackend with 4 concurrent workers.\n",
      "[Parallel(n_jobs=4)]: Done  42 tasks      | elapsed:    1.0s\n",
      "[Parallel(n_jobs=4)]: Done 192 tasks      | elapsed:    4.9s\n",
      "[Parallel(n_jobs=4)]: Done 400 out of 400 | elapsed:    9.6s finished\n",
      "[Parallel(n_jobs=-1)]: Using backend ThreadingBackend with 4 concurrent workers.\n",
      "[Parallel(n_jobs=-1)]: Using backend ThreadingBackend with 4 concurrent workers.\n",
      "[Parallel(n_jobs=-1)]: Using backend ThreadingBackend with 4 concurrent workers.\n",
      "[Parallel(n_jobs=-1)]: Done  42 tasks      | elapsed:    2.9s\n",
      "[Parallel(n_jobs=-1)]: Done 192 tasks      | elapsed:   14.0s\n",
      "[Parallel(n_jobs=-1)]: Done 400 out of 400 | elapsed:   34.8s finished\n",
      "[Parallel(n_jobs=4)]: Using backend ThreadingBackend with 4 concurrent workers.\n",
      "[Parallel(n_jobs=4)]: Done  42 tasks      | elapsed:    0.1s\n",
      "[Parallel(n_jobs=4)]: Done 192 tasks      | elapsed:    0.4s\n",
      "[Parallel(n_jobs=4)]: Done 400 out of 400 | elapsed:    0.9s finished\n",
      "[Parallel(n_jobs=4)]: Using backend ThreadingBackend with 4 concurrent workers.\n",
      "[Parallel(n_jobs=4)]: Done  42 tasks      | elapsed:    0.6s\n",
      "[Parallel(n_jobs=4)]: Done 192 tasks      | elapsed:    3.0s\n",
      "[Parallel(n_jobs=4)]: Done 400 out of 400 | elapsed:    6.3s finished\n",
      "[Parallel(n_jobs=-1)]: Using backend ThreadingBackend with 4 concurrent workers.\n",
      "[Parallel(n_jobs=-1)]: Done  42 tasks      | elapsed:    2.4s\n",
      "[Parallel(n_jobs=-1)]: Done 192 tasks      | elapsed:   11.5s\n",
      "[Parallel(n_jobs=-1)]: Done 400 out of 400 | elapsed:   31.0s finished\n",
      "[Parallel(n_jobs=4)]: Using backend ThreadingBackend with 4 concurrent workers.\n",
      "[Parallel(n_jobs=4)]: Done  42 tasks      | elapsed:    0.1s\n",
      "[Parallel(n_jobs=4)]: Done 192 tasks      | elapsed:    0.4s\n",
      "[Parallel(n_jobs=4)]: Done 400 out of 400 | elapsed:    0.9s finished\n",
      "[Parallel(n_jobs=4)]: Using backend ThreadingBackend with 4 concurrent workers.\n",
      "[Parallel(n_jobs=4)]: Done  42 tasks      | elapsed:    0.4s\n",
      "[Parallel(n_jobs=4)]: Done 192 tasks      | elapsed:    2.0s\n",
      "[Parallel(n_jobs=4)]: Done 400 out of 400 | elapsed:    4.2s finished\n",
      "[Parallel(n_jobs=-1)]: Using backend ThreadingBackend with 4 concurrent workers.\n",
      "[Parallel(n_jobs=-1)]: Done  42 tasks      | elapsed:    3.0s\n",
      "[Parallel(n_jobs=-1)]: Done 192 tasks      | elapsed:   12.4s\n",
      "[Parallel(n_jobs=-1)]: Done 400 out of 400 | elapsed:   30.3s finished\n",
      "[Parallel(n_jobs=4)]: Using backend ThreadingBackend with 4 concurrent workers.\n",
      "[Parallel(n_jobs=4)]: Done  42 tasks      | elapsed:    0.1s\n",
      "[Parallel(n_jobs=4)]: Done 192 tasks      | elapsed:    0.4s\n",
      "[Parallel(n_jobs=4)]: Done 400 out of 400 | elapsed:    1.0s finished\n",
      "[Parallel(n_jobs=4)]: Using backend ThreadingBackend with 4 concurrent workers.\n",
      "[Parallel(n_jobs=4)]: Done  42 tasks      | elapsed:    0.4s\n",
      "[Parallel(n_jobs=4)]: Done 192 tasks      | elapsed:    2.1s\n",
      "[Parallel(n_jobs=4)]: Done 400 out of 400 | elapsed:    4.6s finished\n",
      "[Parallel(n_jobs=-1)]: Using backend ThreadingBackend with 4 concurrent workers.\n",
      "[Parallel(n_jobs=-1)]: Done  42 tasks      | elapsed:    3.4s\n",
      "[Parallel(n_jobs=-1)]: Done 192 tasks      | elapsed:   15.2s\n",
      "[Parallel(n_jobs=-1)]: Done 400 out of 400 | elapsed:   30.7s finished\n",
      "[Parallel(n_jobs=4)]: Using backend ThreadingBackend with 4 concurrent workers.\n",
      "[Parallel(n_jobs=4)]: Done  42 tasks      | elapsed:    0.1s\n",
      "[Parallel(n_jobs=4)]: Done 192 tasks      | elapsed:    0.8s\n",
      "[Parallel(n_jobs=4)]: Done 400 out of 400 | elapsed:    1.6s finished\n",
      "[Parallel(n_jobs=4)]: Using backend ThreadingBackend with 4 concurrent workers.\n",
      "[Parallel(n_jobs=4)]: Done  42 tasks      | elapsed:    0.7s\n",
      "[Parallel(n_jobs=4)]: Done 192 tasks      | elapsed:    3.3s\n",
      "[Parallel(n_jobs=4)]: Done 400 out of 400 | elapsed:    8.5s finished\n",
      "[Parallel(n_jobs=-1)]: Using backend ThreadingBackend with 4 concurrent workers.\n",
      "[Parallel(n_jobs=-1)]: Done  42 tasks      | elapsed:    3.4s\n",
      "[Parallel(n_jobs=-1)]: Done 192 tasks      | elapsed:   14.7s\n",
      "[Parallel(n_jobs=-1)]: Done 400 out of 400 | elapsed:   30.9s finished\n",
      "[Parallel(n_jobs=4)]: Using backend ThreadingBackend with 4 concurrent workers.\n",
      "[Parallel(n_jobs=4)]: Done  42 tasks      | elapsed:    0.1s\n",
      "[Parallel(n_jobs=4)]: Done 192 tasks      | elapsed:    0.7s\n",
      "[Parallel(n_jobs=4)]: Done 400 out of 400 | elapsed:    1.6s finished\n",
      "[Parallel(n_jobs=4)]: Using backend ThreadingBackend with 4 concurrent workers.\n",
      "[Parallel(n_jobs=4)]: Done  42 tasks      | elapsed:    0.7s\n",
      "[Parallel(n_jobs=4)]: Done 192 tasks      | elapsed:    3.3s\n",
      "[Parallel(n_jobs=4)]: Done 400 out of 400 | elapsed:    8.8s finished\n",
      "[Parallel(n_jobs=-1)]: Using backend ThreadingBackend with 4 concurrent workers.\n",
      "[Parallel(n_jobs=-1)]: Using backend ThreadingBackend with 4 concurrent workers.\n",
      "[Parallel(n_jobs=-1)]: Done  42 tasks      | elapsed:    5.1s\n",
      "[Parallel(n_jobs=-1)]: Done 192 tasks      | elapsed:   21.8s\n",
      "[Parallel(n_jobs=-1)]: Done 400 out of 400 | elapsed:   47.7s finished\n",
      "[Parallel(n_jobs=4)]: Using backend ThreadingBackend with 4 concurrent workers.\n",
      "[Parallel(n_jobs=4)]: Done  42 tasks      | elapsed:    0.1s\n",
      "[Parallel(n_jobs=4)]: Done 192 tasks      | elapsed:    0.8s\n",
      "[Parallel(n_jobs=4)]: Done 400 out of 400 | elapsed:    1.7s finished\n",
      "[Parallel(n_jobs=4)]: Using backend ThreadingBackend with 4 concurrent workers.\n",
      "[Parallel(n_jobs=4)]: Done  42 tasks      | elapsed:    0.8s\n",
      "[Parallel(n_jobs=4)]: Done 192 tasks      | elapsed:    4.7s\n",
      "[Parallel(n_jobs=4)]: Done 400 out of 400 | elapsed:    9.8s finished\n",
      "[Parallel(n_jobs=-1)]: Using backend ThreadingBackend with 4 concurrent workers.\n",
      "[Parallel(n_jobs=-1)]: Done  42 tasks      | elapsed:    3.4s\n",
      "[Parallel(n_jobs=-1)]: Done 192 tasks      | elapsed:   19.8s\n",
      "[Parallel(n_jobs=-1)]: Done 400 out of 400 | elapsed:   40.4s finished\n",
      "[Parallel(n_jobs=4)]: Using backend ThreadingBackend with 4 concurrent workers.\n",
      "[Parallel(n_jobs=4)]: Done  42 tasks      | elapsed:    0.1s\n",
      "[Parallel(n_jobs=4)]: Done 192 tasks      | elapsed:    0.5s\n",
      "[Parallel(n_jobs=4)]: Done 400 out of 400 | elapsed:    1.3s finished\n",
      "[Parallel(n_jobs=4)]: Using backend ThreadingBackend with 4 concurrent workers.\n",
      "[Parallel(n_jobs=4)]: Done  42 tasks      | elapsed:    0.5s\n",
      "[Parallel(n_jobs=4)]: Done 192 tasks      | elapsed:    4.0s\n",
      "[Parallel(n_jobs=4)]: Done 400 out of 400 | elapsed:    9.1s finished\n",
      "[Parallel(n_jobs=-1)]: Using backend ThreadingBackend with 4 concurrent workers.\n",
      "[Parallel(n_jobs=-1)]: Done  42 tasks      | elapsed:    3.7s\n",
      "[Parallel(n_jobs=-1)]: Done 192 tasks      | elapsed:   17.6s\n",
      "[Parallel(n_jobs=-1)]: Done 400 out of 400 | elapsed:   38.2s finished\n",
      "[Parallel(n_jobs=4)]: Using backend ThreadingBackend with 4 concurrent workers.\n",
      "[Parallel(n_jobs=4)]: Done  42 tasks      | elapsed:    0.1s\n",
      "[Parallel(n_jobs=4)]: Done 192 tasks      | elapsed:    0.5s\n",
      "[Parallel(n_jobs=4)]: Done 400 out of 400 | elapsed:    1.3s finished\n",
      "[Parallel(n_jobs=4)]: Using backend ThreadingBackend with 4 concurrent workers.\n",
      "[Parallel(n_jobs=4)]: Done  42 tasks      | elapsed:    0.6s\n",
      "[Parallel(n_jobs=4)]: Done 192 tasks      | elapsed:    3.0s\n",
      "[Parallel(n_jobs=4)]: Done 400 out of 400 | elapsed:    6.3s finished\n",
      "[Parallel(n_jobs=-1)]: Using backend ThreadingBackend with 4 concurrent workers.\n",
      "[Parallel(n_jobs=-1)]: Done  42 tasks      | elapsed:    3.4s\n",
      "[Parallel(n_jobs=-1)]: Done 192 tasks      | elapsed:   15.6s\n",
      "[Parallel(n_jobs=-1)]: Done 400 out of 400 | elapsed:   40.7s finished\n",
      "[Parallel(n_jobs=4)]: Using backend ThreadingBackend with 4 concurrent workers.\n",
      "[Parallel(n_jobs=4)]: Done  42 tasks      | elapsed:    0.1s\n",
      "[Parallel(n_jobs=4)]: Done 192 tasks      | elapsed:    0.9s\n",
      "[Parallel(n_jobs=4)]: Done 400 out of 400 | elapsed:    2.2s finished\n",
      "[Parallel(n_jobs=4)]: Using backend ThreadingBackend with 4 concurrent workers.\n",
      "[Parallel(n_jobs=4)]: Done  42 tasks      | elapsed:    1.0s\n",
      "[Parallel(n_jobs=4)]: Done 192 tasks      | elapsed:    4.6s\n",
      "[Parallel(n_jobs=4)]: Done 400 out of 400 | elapsed:    9.7s finished\n",
      "[Parallel(n_jobs=-1)]: Using backend ThreadingBackend with 4 concurrent workers.\n",
      "[Parallel(n_jobs=-1)]: Done  42 tasks      | elapsed:    3.2s\n",
      "[Parallel(n_jobs=-1)]: Done 192 tasks      | elapsed:   14.7s\n",
      "[Parallel(n_jobs=-1)]: Done 400 out of 400 | elapsed:   37.4s finished\n",
      "[Parallel(n_jobs=4)]: Using backend ThreadingBackend with 4 concurrent workers.\n",
      "[Parallel(n_jobs=4)]: Done  42 tasks      | elapsed:    0.2s\n",
      "[Parallel(n_jobs=4)]: Done 192 tasks      | elapsed:    0.8s\n",
      "[Parallel(n_jobs=4)]: Done 400 out of 400 | elapsed:    2.1s finished\n",
      "[Parallel(n_jobs=4)]: Using backend ThreadingBackend with 4 concurrent workers.\n",
      "[Parallel(n_jobs=4)]: Done  42 tasks      | elapsed:    1.0s\n",
      "[Parallel(n_jobs=4)]: Done 192 tasks      | elapsed:    5.0s\n",
      "[Parallel(n_jobs=4)]: Done 400 out of 400 | elapsed:   10.0s finished\n",
      "[Parallel(n_jobs=-1)]: Using backend ThreadingBackend with 4 concurrent workers.\n",
      "[Parallel(n_jobs=-1)]: Using backend ThreadingBackend with 4 concurrent workers.\n",
      "[Parallel(n_jobs=-1)]: Using backend ThreadingBackend with 4 concurrent workers.\n",
      "[Parallel(n_jobs=-1)]: Using backend ThreadingBackend with 4 concurrent workers.\n",
      "[Parallel(n_jobs=-1)]: Done  42 tasks      | elapsed:    2.7s\n",
      "[Parallel(n_jobs=-1)]: Done 192 tasks      | elapsed:   14.1s\n",
      "[Parallel(n_jobs=-1)]: Done 400 out of 400 | elapsed:   34.5s finished\n",
      "[Parallel(n_jobs=4)]: Using backend ThreadingBackend with 4 concurrent workers.\n",
      "[Parallel(n_jobs=4)]: Done  42 tasks      | elapsed:    0.1s\n",
      "[Parallel(n_jobs=4)]: Done 192 tasks      | elapsed:    0.6s\n",
      "[Parallel(n_jobs=4)]: Done 400 out of 400 | elapsed:    1.3s finished\n",
      "[Parallel(n_jobs=4)]: Using backend ThreadingBackend with 4 concurrent workers.\n",
      "[Parallel(n_jobs=4)]: Done  42 tasks      | elapsed:    0.5s\n",
      "[Parallel(n_jobs=4)]: Done 192 tasks      | elapsed:    2.8s\n",
      "[Parallel(n_jobs=4)]: Done 400 out of 400 | elapsed:    5.7s finished\n",
      "[Parallel(n_jobs=-1)]: Using backend ThreadingBackend with 4 concurrent workers.\n",
      "[Parallel(n_jobs=-1)]: Using backend ThreadingBackend with 4 concurrent workers.\n",
      "[Parallel(n_jobs=-1)]: Using backend ThreadingBackend with 4 concurrent workers.\n",
      "[Parallel(n_jobs=-1)]: Using backend ThreadingBackend with 4 concurrent workers.\n",
      "[Parallel(n_jobs=-1)]: Using backend ThreadingBackend with 4 concurrent workers.\n",
      "[Parallel(n_jobs=-1)]: Using backend ThreadingBackend with 4 concurrent workers.\n",
      "[Parallel(n_jobs=-1)]: Done  42 tasks      | elapsed:    2.8s\n",
      "[Parallel(n_jobs=-1)]: Done 192 tasks      | elapsed:   14.6s\n",
      "[Parallel(n_jobs=-1)]: Done 400 out of 400 | elapsed:   33.3s finished\n",
      "[Parallel(n_jobs=4)]: Using backend ThreadingBackend with 4 concurrent workers.\n",
      "[Parallel(n_jobs=4)]: Done  42 tasks      | elapsed:    0.1s\n",
      "[Parallel(n_jobs=4)]: Done 192 tasks      | elapsed:    0.4s\n",
      "[Parallel(n_jobs=4)]: Done 400 out of 400 | elapsed:    1.1s finished\n",
      "[Parallel(n_jobs=4)]: Using backend ThreadingBackend with 4 concurrent workers.\n",
      "[Parallel(n_jobs=4)]: Done  42 tasks      | elapsed:    0.6s\n",
      "[Parallel(n_jobs=4)]: Done 192 tasks      | elapsed:    2.8s\n",
      "[Parallel(n_jobs=4)]: Done 400 out of 400 | elapsed:    5.9s finished\n",
      "[Parallel(n_jobs=-1)]: Using backend ThreadingBackend with 4 concurrent workers.\n",
      "[Parallel(n_jobs=-1)]: Done  42 tasks      | elapsed:    2.9s\n",
      "[Parallel(n_jobs=-1)]: Done 192 tasks      | elapsed:   14.2s\n",
      "[Parallel(n_jobs=-1)]: Done 400 out of 400 | elapsed:   32.0s finished\n",
      "[Parallel(n_jobs=4)]: Using backend ThreadingBackend with 4 concurrent workers.\n",
      "[Parallel(n_jobs=4)]: Done  42 tasks      | elapsed:    0.1s\n",
      "[Parallel(n_jobs=4)]: Done 192 tasks      | elapsed:    0.5s\n",
      "[Parallel(n_jobs=4)]: Done 400 out of 400 | elapsed:    1.0s finished\n",
      "[Parallel(n_jobs=4)]: Using backend ThreadingBackend with 4 concurrent workers.\n",
      "[Parallel(n_jobs=4)]: Done  42 tasks      | elapsed:    0.7s\n",
      "[Parallel(n_jobs=4)]: Done 192 tasks      | elapsed:    2.9s\n",
      "[Parallel(n_jobs=4)]: Done 400 out of 400 | elapsed:    6.0s finished\n",
      "[Parallel(n_jobs=-1)]: Using backend ThreadingBackend with 4 concurrent workers.\n",
      "[Parallel(n_jobs=-1)]: Done  42 tasks      | elapsed:    3.4s\n",
      "[Parallel(n_jobs=-1)]: Done 192 tasks      | elapsed:   14.9s\n",
      "[Parallel(n_jobs=-1)]: Done 400 out of 400 | elapsed:   29.1s finished\n",
      "[Parallel(n_jobs=4)]: Using backend ThreadingBackend with 4 concurrent workers.\n",
      "[Parallel(n_jobs=4)]: Done  42 tasks      | elapsed:    0.1s\n",
      "[Parallel(n_jobs=4)]: Done 192 tasks      | elapsed:    1.0s\n",
      "[Parallel(n_jobs=4)]: Done 400 out of 400 | elapsed:    2.3s finished\n",
      "[Parallel(n_jobs=4)]: Using backend ThreadingBackend with 4 concurrent workers.\n",
      "[Parallel(n_jobs=4)]: Done  42 tasks      | elapsed:    1.0s\n",
      "[Parallel(n_jobs=4)]: Done 192 tasks      | elapsed:    4.5s\n",
      "[Parallel(n_jobs=4)]: Done 400 out of 400 | elapsed:    9.5s finished\n",
      "[Parallel(n_jobs=-1)]: Using backend ThreadingBackend with 4 concurrent workers.\n",
      "[Parallel(n_jobs=-1)]: Done  42 tasks      | elapsed:    3.3s\n",
      "[Parallel(n_jobs=-1)]: Done 192 tasks      | elapsed:   14.5s\n",
      "[Parallel(n_jobs=-1)]: Done 400 out of 400 | elapsed:   28.3s finished\n",
      "[Parallel(n_jobs=4)]: Using backend ThreadingBackend with 4 concurrent workers.\n",
      "[Parallel(n_jobs=4)]: Done  42 tasks      | elapsed:    0.1s\n",
      "[Parallel(n_jobs=4)]: Done 192 tasks      | elapsed:    1.0s\n",
      "[Parallel(n_jobs=4)]: Done 400 out of 400 | elapsed:    2.3s finished\n",
      "[Parallel(n_jobs=4)]: Using backend ThreadingBackend with 4 concurrent workers.\n",
      "[Parallel(n_jobs=4)]: Done  42 tasks      | elapsed:    1.0s\n",
      "[Parallel(n_jobs=4)]: Done 192 tasks      | elapsed:    4.3s\n",
      "[Parallel(n_jobs=4)]: Done 400 out of 400 | elapsed:    7.9s finished\n"
     ]
    },
    {
     "name": "stdout",
     "output_type": "stream",
     "text": [
      "[CV] END max_depth=None, max_samples=10, min_samples_leaf=1, min_samples_split=1, n_estimators=400, oob_score=True; total time=   1.7s\n",
      "[CV] END max_depth=None, max_samples=10, min_samples_leaf=1, min_samples_split=2, n_estimators=400, oob_score=True; total time= 1.4min\n",
      "[CV] END max_depth=None, max_samples=10, min_samples_leaf=2, min_samples_split=1, n_estimators=400, oob_score=True; total time=   1.3s\n",
      "[CV] END max_depth=None, max_samples=10, min_samples_leaf=2, min_samples_split=1, n_estimators=400, oob_score=True; total time=   1.2s\n",
      "[CV] END max_depth=None, max_samples=10, min_samples_leaf=2, min_samples_split=2, n_estimators=400, oob_score=True; total time= 1.2min\n",
      "[CV] END max_depth=None, max_samples=10, min_samples_leaf=2, min_samples_split=2, n_estimators=400, oob_score=True; total time= 1.3min\n",
      "[CV] END max_depth=None, max_samples=10000, min_samples_leaf=1, min_samples_split=2, n_estimators=400, oob_score=True; total time= 1.8min\n",
      "[CV] END max_depth=None, max_samples=10000, min_samples_leaf=2, min_samples_split=2, n_estimators=400, oob_score=True; total time= 1.6min\n",
      "[CV] END max_depth=None, max_samples=500000, min_samples_leaf=1, min_samples_split=1, n_estimators=400, oob_score=True; total time=   0.1s\n",
      "[CV] END max_depth=None, max_samples=500000, min_samples_leaf=1, min_samples_split=2, n_estimators=400, oob_score=True; total time=   0.1s\n",
      "[CV] END max_depth=None, max_samples=500000, min_samples_leaf=1, min_samples_split=2, n_estimators=400, oob_score=True; total time=   0.1s\n",
      "[CV] END max_depth=None, max_samples=500000, min_samples_leaf=1, min_samples_split=2, n_estimators=400, oob_score=True; total time=   0.2s\n",
      "[CV] END max_depth=None, max_samples=500000, min_samples_leaf=2, min_samples_split=1, n_estimators=400, oob_score=True; total time=   0.2s\n",
      "[CV] END max_depth=None, max_samples=500000, min_samples_leaf=2, min_samples_split=1, n_estimators=400, oob_score=True; total time=   0.2s\n",
      "[CV] END max_depth=None, max_samples=500000, min_samples_leaf=2, min_samples_split=2, n_estimators=400, oob_score=True; total time=   0.2s\n",
      "[CV] END max_depth=None, max_samples=500000, min_samples_leaf=2, min_samples_split=2, n_estimators=400, oob_score=True; total time=   0.2s\n",
      "[CV] END max_depth=None, max_samples=500000, min_samples_leaf=2, min_samples_split=2, n_estimators=400, oob_score=True; total time=   0.1s\n",
      "[CV] END max_depth=50, max_samples=10, min_samples_leaf=1, min_samples_split=1, n_estimators=400, oob_score=True; total time=   0.8s\n",
      "[CV] END max_depth=50, max_samples=10, min_samples_leaf=1, min_samples_split=1, n_estimators=400, oob_score=True; total time=   0.9s\n",
      "[CV] END max_depth=50, max_samples=10, min_samples_leaf=1, min_samples_split=2, n_estimators=400, oob_score=True; total time= 1.4min\n",
      "[CV] END max_depth=50, max_samples=10, min_samples_leaf=1, min_samples_split=2, n_estimators=400, oob_score=True; total time= 1.4min\n",
      "[CV] END max_depth=50, max_samples=10, min_samples_leaf=2, min_samples_split=2, n_estimators=400, oob_score=True; total time= 1.4min\n",
      "[CV] END max_depth=50, max_samples=10000, min_samples_leaf=1, min_samples_split=2, n_estimators=400, oob_score=True; total time= 1.6min\n",
      "[CV] END max_depth=50, max_samples=10000, min_samples_leaf=2, min_samples_split=2, n_estimators=400, oob_score=True; total time= 1.6min\n",
      "[CV] END max_depth=50, max_samples=500000, min_samples_leaf=1, min_samples_split=1, n_estimators=400, oob_score=True; total time=   0.2s\n",
      "[CV] END max_depth=50, max_samples=500000, min_samples_leaf=1, min_samples_split=1, n_estimators=400, oob_score=True; total time=   0.3s\n",
      "[CV] END max_depth=50, max_samples=500000, min_samples_leaf=1, min_samples_split=1, n_estimators=400, oob_score=True; total time=   0.3s\n",
      "[CV] END max_depth=50, max_samples=500000, min_samples_leaf=1, min_samples_split=1, n_estimators=400, oob_score=True; total time=   0.3s\n",
      "[CV] END max_depth=50, max_samples=500000, min_samples_leaf=1, min_samples_split=1, n_estimators=400, oob_score=True; total time=   0.3s\n",
      "[CV] END max_depth=50, max_samples=500000, min_samples_leaf=1, min_samples_split=2, n_estimators=400, oob_score=True; total time=   0.3s\n",
      "[CV] END max_depth=50, max_samples=500000, min_samples_leaf=1, min_samples_split=2, n_estimators=400, oob_score=True; total time=   0.3s\n",
      "[CV] END max_depth=50, max_samples=500000, min_samples_leaf=1, min_samples_split=2, n_estimators=400, oob_score=True; total time=   0.3s\n",
      "[CV] END max_depth=50, max_samples=500000, min_samples_leaf=1, min_samples_split=2, n_estimators=400, oob_score=True; total time=   0.3s\n",
      "[CV] END max_depth=50, max_samples=500000, min_samples_leaf=1, min_samples_split=2, n_estimators=400, oob_score=True; total time=   0.3s\n",
      "[CV] END max_depth=50, max_samples=500000, min_samples_leaf=2, min_samples_split=1, n_estimators=400, oob_score=True; total time=   0.3s\n",
      "[CV] END max_depth=50, max_samples=500000, min_samples_leaf=2, min_samples_split=1, n_estimators=400, oob_score=True; total time=   0.3s\n",
      "[CV] END max_depth=50, max_samples=500000, min_samples_leaf=2, min_samples_split=1, n_estimators=400, oob_score=True; total time=   0.3s\n",
      "[CV] END max_depth=50, max_samples=500000, min_samples_leaf=2, min_samples_split=1, n_estimators=400, oob_score=True; total time=   0.3s\n",
      "[CV] END max_depth=50, max_samples=500000, min_samples_leaf=2, min_samples_split=1, n_estimators=400, oob_score=True; total time=   0.1s\n",
      "[CV] END max_depth=50, max_samples=500000, min_samples_leaf=2, min_samples_split=2, n_estimators=400, oob_score=True; total time=   0.2s\n",
      "[CV] END max_depth=50, max_samples=500000, min_samples_leaf=2, min_samples_split=2, n_estimators=400, oob_score=True; total time=   0.2s\n",
      "[CV] END max_depth=None, max_samples=10, min_samples_leaf=1, min_samples_split=1, n_estimators=400, oob_score=True; total time=   2.3s\n",
      "[CV] END max_depth=None, max_samples=10, min_samples_leaf=1, min_samples_split=2, n_estimators=400, oob_score=True; total time= 1.4min\n",
      "[CV] END max_depth=None, max_samples=10, min_samples_leaf=1, min_samples_split=2, n_estimators=400, oob_score=True; total time= 1.3min\n",
      "[CV] END max_depth=None, max_samples=10, min_samples_leaf=2, min_samples_split=2, n_estimators=400, oob_score=True; total time= 1.3min\n",
      "[CV] END max_depth=None, max_samples=10000, min_samples_leaf=1, min_samples_split=2, n_estimators=400, oob_score=True; total time= 1.8min\n",
      "[CV] END max_depth=None, max_samples=10000, min_samples_leaf=2, min_samples_split=2, n_estimators=400, oob_score=True; total time= 1.6min\n",
      "[CV] END max_depth=None, max_samples=500000, min_samples_leaf=1, min_samples_split=1, n_estimators=400, oob_score=True; total time=   0.2s\n",
      "[CV] END max_depth=None, max_samples=500000, min_samples_leaf=1, min_samples_split=1, n_estimators=400, oob_score=True; total time=   0.3s\n",
      "[CV] END max_depth=None, max_samples=500000, min_samples_leaf=1, min_samples_split=1, n_estimators=400, oob_score=True; total time=   0.2s\n",
      "[CV] END max_depth=None, max_samples=500000, min_samples_leaf=1, min_samples_split=1, n_estimators=400, oob_score=True; total time=   0.2s\n",
      "[CV] END max_depth=None, max_samples=500000, min_samples_leaf=1, min_samples_split=2, n_estimators=400, oob_score=True; total time=   0.2s\n",
      "[CV] END max_depth=None, max_samples=500000, min_samples_leaf=1, min_samples_split=2, n_estimators=400, oob_score=True; total time=   0.2s\n",
      "[CV] END max_depth=None, max_samples=500000, min_samples_leaf=2, min_samples_split=1, n_estimators=400, oob_score=True; total time=   0.2s\n",
      "[CV] END max_depth=None, max_samples=500000, min_samples_leaf=2, min_samples_split=1, n_estimators=400, oob_score=True; total time=   0.2s\n",
      "[CV] END max_depth=None, max_samples=500000, min_samples_leaf=2, min_samples_split=1, n_estimators=400, oob_score=True; total time=   0.2s\n",
      "[CV] END max_depth=None, max_samples=500000, min_samples_leaf=2, min_samples_split=2, n_estimators=400, oob_score=True; total time=   0.2s\n",
      "[CV] END max_depth=None, max_samples=500000, min_samples_leaf=2, min_samples_split=2, n_estimators=400, oob_score=True; total time=   0.2s\n",
      "[CV] END max_depth=50, max_samples=10, min_samples_leaf=1, min_samples_split=1, n_estimators=400, oob_score=True; total time=   0.6s\n",
      "[CV] END max_depth=50, max_samples=10, min_samples_leaf=1, min_samples_split=1, n_estimators=400, oob_score=True; total time=   1.0s\n",
      "[CV] END max_depth=50, max_samples=10, min_samples_leaf=1, min_samples_split=1, n_estimators=400, oob_score=True; total time=   0.7s\n",
      "[CV] END max_depth=50, max_samples=10, min_samples_leaf=1, min_samples_split=2, n_estimators=400, oob_score=True; total time= 1.4min\n",
      "[CV] END max_depth=50, max_samples=10, min_samples_leaf=2, min_samples_split=1, n_estimators=400, oob_score=True; total time=   0.9s\n",
      "[CV] END max_depth=50, max_samples=10, min_samples_leaf=2, min_samples_split=1, n_estimators=400, oob_score=True; total time=   0.9s\n",
      "[CV] END max_depth=50, max_samples=10, min_samples_leaf=2, min_samples_split=1, n_estimators=400, oob_score=True; total time=   0.9s\n",
      "[CV] END max_depth=50, max_samples=10, min_samples_leaf=2, min_samples_split=1, n_estimators=400, oob_score=True; total time=   0.9s\n",
      "[CV] END max_depth=50, max_samples=10, min_samples_leaf=2, min_samples_split=1, n_estimators=400, oob_score=True; total time=   0.9s\n",
      "[CV] END max_depth=50, max_samples=10, min_samples_leaf=2, min_samples_split=2, n_estimators=400, oob_score=True; total time= 1.4min\n",
      "[CV] END max_depth=50, max_samples=10, min_samples_leaf=2, min_samples_split=2, n_estimators=400, oob_score=True; total time= 1.4min\n",
      "[CV] END max_depth=50, max_samples=10000, min_samples_leaf=1, min_samples_split=2, n_estimators=400, oob_score=True; total time= 1.6min\n",
      "[CV] END max_depth=50, max_samples=10000, min_samples_leaf=2, min_samples_split=2, n_estimators=400, oob_score=True; total time= 1.6min\n",
      "[CV] END max_depth=50, max_samples=500000, min_samples_leaf=2, min_samples_split=2, n_estimators=400, oob_score=True; total time=   0.2s\n",
      "[CV] END max_depth=50, max_samples=500000, min_samples_leaf=2, min_samples_split=2, n_estimators=400, oob_score=True; total time=   0.1s\n",
      "[CV] END max_depth=50, max_samples=500000, min_samples_leaf=2, min_samples_split=2, n_estimators=400, oob_score=True; total time=   0.1s\n"
     ]
    },
    {
     "name": "stdout",
     "output_type": "stream",
     "text": [
      "[CV] END max_depth=None, max_samples=10, min_samples_leaf=1, min_samples_split=1, n_estimators=400, oob_score=True; total time=   1.3s\n",
      "[CV] END max_depth=None, max_samples=10, min_samples_leaf=1, min_samples_split=1, n_estimators=400, oob_score=True; total time=   1.6s\n",
      "[CV] END max_depth=None, max_samples=10, min_samples_leaf=1, min_samples_split=2, n_estimators=400, oob_score=True; total time= 1.4min\n",
      "[CV] END max_depth=None, max_samples=10, min_samples_leaf=2, min_samples_split=1, n_estimators=400, oob_score=True; total time=   1.3s\n",
      "[CV] END max_depth=None, max_samples=10, min_samples_leaf=2, min_samples_split=2, n_estimators=400, oob_score=True; total time= 1.3min\n",
      "[CV] END max_depth=None, max_samples=10000, min_samples_leaf=1, min_samples_split=1, n_estimators=400, oob_score=True; total time=   1.4s\n",
      "[CV] END max_depth=None, max_samples=10000, min_samples_leaf=1, min_samples_split=1, n_estimators=400, oob_score=True; total time=   1.4s\n",
      "[CV] END max_depth=None, max_samples=10000, min_samples_leaf=1, min_samples_split=2, n_estimators=400, oob_score=True; total time= 1.6min\n",
      "[CV] END max_depth=None, max_samples=10000, min_samples_leaf=1, min_samples_split=2, n_estimators=400, oob_score=True; total time= 1.7min\n",
      "[CV] END max_depth=None, max_samples=10000, min_samples_leaf=2, min_samples_split=2, n_estimators=400, oob_score=True; total time= 1.5min\n",
      "[CV] END max_depth=50, max_samples=10, min_samples_leaf=1, min_samples_split=2, n_estimators=400, oob_score=True; total time= 1.3min\n",
      "[CV] END max_depth=50, max_samples=10, min_samples_leaf=2, min_samples_split=2, n_estimators=400, oob_score=True; total time= 1.3min\n",
      "[CV] END max_depth=50, max_samples=10000, min_samples_leaf=1, min_samples_split=1, n_estimators=400, oob_score=True; total time=   1.7s\n",
      "[CV] END max_depth=50, max_samples=10000, min_samples_leaf=1, min_samples_split=1, n_estimators=400, oob_score=True; total time=   1.7s\n",
      "[CV] END max_depth=50, max_samples=10000, min_samples_leaf=1, min_samples_split=1, n_estimators=400, oob_score=True; total time=   1.7s\n",
      "[CV] END max_depth=50, max_samples=10000, min_samples_leaf=1, min_samples_split=1, n_estimators=400, oob_score=True; total time=   1.3s\n",
      "[CV] END max_depth=50, max_samples=10000, min_samples_leaf=1, min_samples_split=1, n_estimators=400, oob_score=True; total time=   1.3s\n",
      "[CV] END max_depth=50, max_samples=10000, min_samples_leaf=1, min_samples_split=2, n_estimators=400, oob_score=True; total time= 1.6min\n",
      "[CV] END max_depth=50, max_samples=10000, min_samples_leaf=1, min_samples_split=2, n_estimators=400, oob_score=True; total time= 1.6min\n",
      "[CV] END max_depth=50, max_samples=10000, min_samples_leaf=2, min_samples_split=2, n_estimators=400, oob_score=True; total time= 1.2min\n"
     ]
    },
    {
     "name": "stderr",
     "output_type": "stream",
     "text": [
      "[Parallel(n_jobs=-1)]: Using backend ThreadingBackend with 4 concurrent workers.\n",
      "[Parallel(n_jobs=-1)]: Using backend ThreadingBackend with 4 concurrent workers.\n",
      "[Parallel(n_jobs=-1)]: Using backend ThreadingBackend with 4 concurrent workers.\n",
      "[Parallel(n_jobs=-1)]: Done  42 tasks      | elapsed:    5.3s\n",
      "[Parallel(n_jobs=-1)]: Done 192 tasks      | elapsed:   21.7s\n",
      "[Parallel(n_jobs=-1)]: Done 400 out of 400 | elapsed:   46.8s finished\n",
      "[Parallel(n_jobs=4)]: Using backend ThreadingBackend with 4 concurrent workers.\n",
      "[Parallel(n_jobs=4)]: Done  42 tasks      | elapsed:    0.1s\n",
      "[Parallel(n_jobs=4)]: Done 192 tasks      | elapsed:    0.9s\n",
      "[Parallel(n_jobs=4)]: Done 400 out of 400 | elapsed:    2.1s finished\n",
      "[Parallel(n_jobs=4)]: Using backend ThreadingBackend with 4 concurrent workers.\n",
      "[Parallel(n_jobs=4)]: Done  42 tasks      | elapsed:    0.9s\n",
      "[Parallel(n_jobs=4)]: Done 192 tasks      | elapsed:    4.6s\n",
      "[Parallel(n_jobs=4)]: Done 400 out of 400 | elapsed:    8.6s finished\n",
      "[Parallel(n_jobs=-1)]: Using backend ThreadingBackend with 4 concurrent workers.\n",
      "[Parallel(n_jobs=-1)]: Using backend ThreadingBackend with 4 concurrent workers.\n",
      "[Parallel(n_jobs=-1)]: Done  42 tasks      | elapsed:    4.6s\n",
      "[Parallel(n_jobs=-1)]: Done 192 tasks      | elapsed:   21.0s\n",
      "[Parallel(n_jobs=-1)]: Done 400 out of 400 | elapsed:   40.3s finished\n",
      "[Parallel(n_jobs=4)]: Using backend ThreadingBackend with 4 concurrent workers.\n",
      "[Parallel(n_jobs=4)]: Done  42 tasks      | elapsed:    0.1s\n",
      "[Parallel(n_jobs=4)]: Done 192 tasks      | elapsed:    0.9s\n",
      "[Parallel(n_jobs=4)]: Done 400 out of 400 | elapsed:    2.0s finished\n",
      "[Parallel(n_jobs=4)]: Using backend ThreadingBackend with 4 concurrent workers.\n",
      "[Parallel(n_jobs=4)]: Done  42 tasks      | elapsed:    0.9s\n",
      "[Parallel(n_jobs=4)]: Done 192 tasks      | elapsed:    4.8s\n",
      "[Parallel(n_jobs=4)]: Done 400 out of 400 | elapsed:    8.9s finished\n",
      "[Parallel(n_jobs=-1)]: Using backend ThreadingBackend with 4 concurrent workers.\n",
      "[Parallel(n_jobs=-1)]: Using backend ThreadingBackend with 4 concurrent workers.\n",
      "[Parallel(n_jobs=-1)]: Using backend ThreadingBackend with 4 concurrent workers.\n",
      "[Parallel(n_jobs=-1)]: Done  42 tasks      | elapsed:    5.0s\n",
      "[Parallel(n_jobs=-1)]: Done 192 tasks      | elapsed:   22.5s\n",
      "[Parallel(n_jobs=-1)]: Done 400 out of 400 | elapsed:   41.0s finished\n",
      "[Parallel(n_jobs=4)]: Using backend ThreadingBackend with 4 concurrent workers.\n",
      "[Parallel(n_jobs=4)]: Done  42 tasks      | elapsed:    0.2s\n",
      "[Parallel(n_jobs=4)]: Done 192 tasks      | elapsed:    1.2s\n",
      "[Parallel(n_jobs=4)]: Done 400 out of 400 | elapsed:    3.5s finished\n",
      "[Parallel(n_jobs=4)]: Using backend ThreadingBackend with 4 concurrent workers.\n",
      "[Parallel(n_jobs=4)]: Done  42 tasks      | elapsed:    1.7s\n",
      "[Parallel(n_jobs=4)]: Done 192 tasks      | elapsed:    7.8s\n",
      "[Parallel(n_jobs=4)]: Done 400 out of 400 | elapsed:   15.9s finished\n",
      "[Parallel(n_jobs=-1)]: Using backend ThreadingBackend with 4 concurrent workers.\n",
      "[Parallel(n_jobs=-1)]: Done  42 tasks      | elapsed:    5.0s\n",
      "[Parallel(n_jobs=-1)]: Done 192 tasks      | elapsed:   17.8s\n",
      "[Parallel(n_jobs=-1)]: Done 400 out of 400 | elapsed:   39.0s finished\n",
      "[Parallel(n_jobs=4)]: Using backend ThreadingBackend with 4 concurrent workers.\n",
      "[Parallel(n_jobs=4)]: Done  42 tasks      | elapsed:    0.2s\n",
      "[Parallel(n_jobs=4)]: Done 192 tasks      | elapsed:    1.3s\n",
      "[Parallel(n_jobs=4)]: Done 400 out of 400 | elapsed:    2.8s finished\n",
      "[Parallel(n_jobs=4)]: Using backend ThreadingBackend with 4 concurrent workers.\n",
      "[Parallel(n_jobs=4)]: Done  42 tasks      | elapsed:    1.3s\n",
      "[Parallel(n_jobs=4)]: Done 192 tasks      | elapsed:    6.3s\n",
      "[Parallel(n_jobs=4)]: Done 400 out of 400 | elapsed:   14.3s finished\n",
      "[Parallel(n_jobs=-1)]: Using backend ThreadingBackend with 4 concurrent workers.\n",
      "[Parallel(n_jobs=-1)]: Done  42 tasks      | elapsed:    4.1s\n",
      "[Parallel(n_jobs=-1)]: Done 192 tasks      | elapsed:   15.0s\n",
      "[Parallel(n_jobs=-1)]: Done 400 out of 400 | elapsed:   30.7s finished\n",
      "[Parallel(n_jobs=4)]: Using backend ThreadingBackend with 4 concurrent workers.\n",
      "[Parallel(n_jobs=4)]: Done  42 tasks      | elapsed:    0.1s\n",
      "[Parallel(n_jobs=4)]: Done 192 tasks      | elapsed:    1.2s\n",
      "[Parallel(n_jobs=4)]: Done 400 out of 400 | elapsed:    2.7s finished\n",
      "[Parallel(n_jobs=4)]: Using backend ThreadingBackend with 4 concurrent workers.\n",
      "[Parallel(n_jobs=4)]: Done  42 tasks      | elapsed:    1.2s\n",
      "[Parallel(n_jobs=4)]: Done 192 tasks      | elapsed:    6.0s\n",
      "[Parallel(n_jobs=4)]: Done 400 out of 400 | elapsed:   14.1s finished\n",
      "[Parallel(n_jobs=-1)]: Using backend ThreadingBackend with 4 concurrent workers.\n",
      "[Parallel(n_jobs=-1)]: Done  42 tasks      | elapsed:    4.4s\n",
      "[Parallel(n_jobs=-1)]: Done 192 tasks      | elapsed:   15.0s\n",
      "[Parallel(n_jobs=-1)]: Done 400 out of 400 | elapsed:   29.6s finished\n",
      "[Parallel(n_jobs=4)]: Using backend ThreadingBackend with 4 concurrent workers.\n",
      "[Parallel(n_jobs=4)]: Done  42 tasks      | elapsed:    0.1s\n",
      "[Parallel(n_jobs=4)]: Done 192 tasks      | elapsed:    0.7s\n",
      "[Parallel(n_jobs=4)]: Done 400 out of 400 | elapsed:    1.6s finished\n",
      "[Parallel(n_jobs=4)]: Using backend ThreadingBackend with 4 concurrent workers.\n",
      "[Parallel(n_jobs=4)]: Done  42 tasks      | elapsed:    0.7s\n",
      "[Parallel(n_jobs=4)]: Done 192 tasks      | elapsed:    3.6s\n",
      "[Parallel(n_jobs=4)]: Done 400 out of 400 | elapsed:    8.0s finished\n",
      "[Parallel(n_jobs=-1)]: Using backend ThreadingBackend with 4 concurrent workers.\n",
      "[Parallel(n_jobs=-1)]: Done  42 tasks      | elapsed:    4.5s\n",
      "[Parallel(n_jobs=-1)]: Done 192 tasks      | elapsed:   16.8s\n",
      "[Parallel(n_jobs=-1)]: Done 400 out of 400 | elapsed:   30.7s finished\n",
      "[Parallel(n_jobs=4)]: Using backend ThreadingBackend with 4 concurrent workers.\n",
      "[Parallel(n_jobs=4)]: Done  42 tasks      | elapsed:    0.1s\n",
      "[Parallel(n_jobs=4)]: Done 192 tasks      | elapsed:    0.7s\n",
      "[Parallel(n_jobs=4)]: Done 400 out of 400 | elapsed:    1.6s finished\n",
      "[Parallel(n_jobs=4)]: Using backend ThreadingBackend with 4 concurrent workers.\n",
      "[Parallel(n_jobs=4)]: Done  42 tasks      | elapsed:    0.7s\n",
      "[Parallel(n_jobs=4)]: Done 192 tasks      | elapsed:    3.6s\n",
      "[Parallel(n_jobs=4)]: Done 400 out of 400 | elapsed:    7.9s finished\n",
      "[Parallel(n_jobs=-1)]: Using backend ThreadingBackend with 4 concurrent workers.\n",
      "[Parallel(n_jobs=-1)]: Using backend ThreadingBackend with 4 concurrent workers.\n",
      "[Parallel(n_jobs=-1)]: Using backend ThreadingBackend with 4 concurrent workers.\n",
      "[Parallel(n_jobs=-1)]: Using backend ThreadingBackend with 4 concurrent workers.\n",
      "[Parallel(n_jobs=-1)]: Using backend ThreadingBackend with 4 concurrent workers.\n",
      "[Parallel(n_jobs=-1)]: Using backend ThreadingBackend with 4 concurrent workers.\n",
      "[Parallel(n_jobs=-1)]: Done  42 tasks      | elapsed:    4.2s\n",
      "[Parallel(n_jobs=-1)]: Done 192 tasks      | elapsed:   16.0s\n",
      "[Parallel(n_jobs=-1)]: Done 400 out of 400 | elapsed:   31.5s finished\n",
      "[Parallel(n_jobs=4)]: Using backend ThreadingBackend with 4 concurrent workers.\n",
      "[Parallel(n_jobs=4)]: Done  42 tasks      | elapsed:    0.1s\n",
      "[Parallel(n_jobs=4)]: Done 192 tasks      | elapsed:    0.8s\n",
      "[Parallel(n_jobs=4)]: Done 400 out of 400 | elapsed:    1.9s finished\n",
      "[Parallel(n_jobs=4)]: Using backend ThreadingBackend with 4 concurrent workers.\n",
      "[Parallel(n_jobs=4)]: Done  42 tasks      | elapsed:    1.0s\n",
      "[Parallel(n_jobs=4)]: Done 192 tasks      | elapsed:    4.7s\n",
      "[Parallel(n_jobs=4)]: Done 400 out of 400 | elapsed:    9.8s finished\n",
      "[Parallel(n_jobs=-1)]: Using backend ThreadingBackend with 4 concurrent workers.\n",
      "[Parallel(n_jobs=-1)]: Done  42 tasks      | elapsed:    3.1s\n",
      "[Parallel(n_jobs=-1)]: Done 192 tasks      | elapsed:   14.1s\n",
      "[Parallel(n_jobs=-1)]: Done 400 out of 400 | elapsed:   29.8s finished\n",
      "[Parallel(n_jobs=4)]: Using backend ThreadingBackend with 4 concurrent workers.\n",
      "[Parallel(n_jobs=4)]: Done  42 tasks      | elapsed:    0.1s\n",
      "[Parallel(n_jobs=4)]: Done 192 tasks      | elapsed:    0.8s\n",
      "[Parallel(n_jobs=4)]: Done 400 out of 400 | elapsed:    1.7s finished\n",
      "[Parallel(n_jobs=4)]: Using backend ThreadingBackend with 4 concurrent workers.\n",
      "[Parallel(n_jobs=4)]: Done  42 tasks      | elapsed:    0.7s\n",
      "[Parallel(n_jobs=4)]: Done 192 tasks      | elapsed:    3.4s\n",
      "[Parallel(n_jobs=4)]: Done 400 out of 400 | elapsed:    8.4s finished\n",
      "[Parallel(n_jobs=-1)]: Using backend ThreadingBackend with 4 concurrent workers.\n",
      "[Parallel(n_jobs=-1)]: Done  42 tasks      | elapsed:    3.3s\n",
      "[Parallel(n_jobs=-1)]: Done 192 tasks      | elapsed:   14.2s\n",
      "[Parallel(n_jobs=-1)]: Done 400 out of 400 | elapsed:   30.0s finished\n",
      "[Parallel(n_jobs=4)]: Using backend ThreadingBackend with 4 concurrent workers.\n",
      "[Parallel(n_jobs=4)]: Done  42 tasks      | elapsed:    0.1s\n",
      "[Parallel(n_jobs=4)]: Done 192 tasks      | elapsed:    0.6s\n",
      "[Parallel(n_jobs=4)]: Done 400 out of 400 | elapsed:    1.2s finished\n",
      "[Parallel(n_jobs=4)]: Using backend ThreadingBackend with 4 concurrent workers.\n",
      "[Parallel(n_jobs=4)]: Done  42 tasks      | elapsed:    0.5s\n",
      "[Parallel(n_jobs=4)]: Done 192 tasks      | elapsed:    2.3s\n",
      "[Parallel(n_jobs=4)]: Done 400 out of 400 | elapsed:    6.1s finished\n"
     ]
    },
    {
     "name": "stdout",
     "output_type": "stream",
     "text": [
      "[CV] END max_depth=None, max_samples=10, min_samples_leaf=1, min_samples_split=1, n_estimators=400, oob_score=True; total time=   2.1s\n",
      "[CV] END max_depth=None, max_samples=10, min_samples_leaf=1, min_samples_split=2, n_estimators=400, oob_score=True; total time= 1.4min\n",
      "[CV] END max_depth=None, max_samples=10, min_samples_leaf=2, min_samples_split=1, n_estimators=400, oob_score=True; total time=   1.2s\n",
      "[CV] END max_depth=None, max_samples=10, min_samples_leaf=2, min_samples_split=1, n_estimators=400, oob_score=True; total time=   1.1s\n",
      "[CV] END max_depth=None, max_samples=10, min_samples_leaf=2, min_samples_split=2, n_estimators=400, oob_score=True; total time= 1.3min\n",
      "[CV] END max_depth=None, max_samples=10000, min_samples_leaf=1, min_samples_split=1, n_estimators=400, oob_score=True; total time=   1.4s\n",
      "[CV] END max_depth=None, max_samples=10000, min_samples_leaf=1, min_samples_split=1, n_estimators=400, oob_score=True; total time=   1.5s\n",
      "[CV] END max_depth=None, max_samples=10000, min_samples_leaf=1, min_samples_split=1, n_estimators=400, oob_score=True; total time=   1.4s\n",
      "[CV] END max_depth=None, max_samples=10000, min_samples_leaf=1, min_samples_split=2, n_estimators=400, oob_score=True; total time= 1.7min\n",
      "[CV] END max_depth=None, max_samples=10000, min_samples_leaf=2, min_samples_split=1, n_estimators=400, oob_score=True; total time=   1.7s\n",
      "[CV] END max_depth=None, max_samples=10000, min_samples_leaf=2, min_samples_split=1, n_estimators=400, oob_score=True; total time=   2.0s\n",
      "[CV] END max_depth=None, max_samples=10000, min_samples_leaf=2, min_samples_split=1, n_estimators=400, oob_score=True; total time=   1.4s\n",
      "[CV] END max_depth=None, max_samples=10000, min_samples_leaf=2, min_samples_split=1, n_estimators=400, oob_score=True; total time=   0.8s\n",
      "[CV] END max_depth=None, max_samples=10000, min_samples_leaf=2, min_samples_split=1, n_estimators=400, oob_score=True; total time=   0.9s\n",
      "[CV] END max_depth=None, max_samples=10000, min_samples_leaf=2, min_samples_split=2, n_estimators=400, oob_score=True; total time= 1.7min\n",
      "[CV] END max_depth=None, max_samples=10000, min_samples_leaf=2, min_samples_split=2, n_estimators=400, oob_score=True; total time= 1.5min\n",
      "[CV] END max_depth=50, max_samples=10, min_samples_leaf=1, min_samples_split=2, n_estimators=400, oob_score=True; total time= 1.3min\n",
      "[CV] END max_depth=50, max_samples=10, min_samples_leaf=2, min_samples_split=2, n_estimators=400, oob_score=True; total time= 1.3min\n",
      "[CV] END max_depth=50, max_samples=10000, min_samples_leaf=1, min_samples_split=2, n_estimators=400, oob_score=True; total time= 1.6min\n",
      "[CV] END max_depth=50, max_samples=10000, min_samples_leaf=2, min_samples_split=1, n_estimators=400, oob_score=True; total time=   0.8s\n",
      "[CV] END max_depth=50, max_samples=10000, min_samples_leaf=2, min_samples_split=1, n_estimators=400, oob_score=True; total time=   0.9s\n",
      "[CV] END max_depth=50, max_samples=10000, min_samples_leaf=2, min_samples_split=1, n_estimators=400, oob_score=True; total time=   0.9s\n",
      "[CV] END max_depth=50, max_samples=10000, min_samples_leaf=2, min_samples_split=1, n_estimators=400, oob_score=True; total time=   0.9s\n",
      "[CV] END max_depth=50, max_samples=10000, min_samples_leaf=2, min_samples_split=1, n_estimators=400, oob_score=True; total time=   0.9s\n",
      "[CV] END max_depth=50, max_samples=10000, min_samples_leaf=2, min_samples_split=2, n_estimators=400, oob_score=True; total time= 1.6min\n",
      "[CV] END max_depth=50, max_samples=10000, min_samples_leaf=2, min_samples_split=2, n_estimators=400, oob_score=True; total time= 1.2min\n"
     ]
    },
    {
     "name": "stderr",
     "output_type": "stream",
     "text": [
      "[Parallel(n_jobs=-1)]: Using backend ThreadingBackend with 4 concurrent workers.\n",
      "[Parallel(n_jobs=-1)]: Using backend ThreadingBackend with 4 concurrent workers.\n",
      "[Parallel(n_jobs=-1)]: Done  42 tasks      | elapsed:    5.2s\n",
      "[Parallel(n_jobs=-1)]: Done 192 tasks      | elapsed:   22.1s\n",
      "[Parallel(n_jobs=-1)]: Done 400 out of 400 | elapsed:   47.6s finished\n",
      "[Parallel(n_jobs=4)]: Using backend ThreadingBackend with 4 concurrent workers.\n",
      "[Parallel(n_jobs=4)]: Done  42 tasks      | elapsed:    0.1s\n",
      "[Parallel(n_jobs=4)]: Done 192 tasks      | elapsed:    0.8s\n",
      "[Parallel(n_jobs=4)]: Done 400 out of 400 | elapsed:    1.8s finished\n",
      "[Parallel(n_jobs=4)]: Using backend ThreadingBackend with 4 concurrent workers.\n",
      "[Parallel(n_jobs=4)]: Done  42 tasks      | elapsed:    0.8s\n",
      "[Parallel(n_jobs=4)]: Done 192 tasks      | elapsed:    4.7s\n",
      "[Parallel(n_jobs=4)]: Done 400 out of 400 | elapsed:    9.8s finished\n",
      "[Parallel(n_jobs=-1)]: Using backend ThreadingBackend with 4 concurrent workers.\n",
      "[Parallel(n_jobs=-1)]: Using backend ThreadingBackend with 4 concurrent workers.\n",
      "[Parallel(n_jobs=-1)]: Using backend ThreadingBackend with 4 concurrent workers.\n",
      "[Parallel(n_jobs=-1)]: Done  42 tasks      | elapsed:    4.4s\n",
      "[Parallel(n_jobs=-1)]: Done 192 tasks      | elapsed:   20.3s\n",
      "[Parallel(n_jobs=-1)]: Done 400 out of 400 | elapsed:   40.6s finished\n",
      "[Parallel(n_jobs=4)]: Using backend ThreadingBackend with 4 concurrent workers.\n",
      "[Parallel(n_jobs=4)]: Done  42 tasks      | elapsed:    0.1s\n",
      "[Parallel(n_jobs=4)]: Done 192 tasks      | elapsed:    0.8s\n",
      "[Parallel(n_jobs=4)]: Done 400 out of 400 | elapsed:    1.9s finished\n",
      "[Parallel(n_jobs=4)]: Using backend ThreadingBackend with 4 concurrent workers.\n",
      "[Parallel(n_jobs=4)]: Done  42 tasks      | elapsed:    0.9s\n",
      "[Parallel(n_jobs=4)]: Done 192 tasks      | elapsed:    4.8s\n",
      "[Parallel(n_jobs=4)]: Done 400 out of 400 | elapsed:    9.2s finished\n",
      "[Parallel(n_jobs=-1)]: Using backend ThreadingBackend with 4 concurrent workers.\n",
      "[Parallel(n_jobs=-1)]: Using backend ThreadingBackend with 4 concurrent workers.\n",
      "[Parallel(n_jobs=-1)]: Using backend ThreadingBackend with 4 concurrent workers.\n",
      "[Parallel(n_jobs=-1)]: Using backend ThreadingBackend with 4 concurrent workers.\n",
      "[Parallel(n_jobs=-1)]: Done  42 tasks      | elapsed:    5.1s\n",
      "[Parallel(n_jobs=-1)]: Done 192 tasks      | elapsed:   22.8s\n",
      "[Parallel(n_jobs=-1)]: Done 400 out of 400 | elapsed:   41.0s finished\n",
      "[Parallel(n_jobs=4)]: Using backend ThreadingBackend with 4 concurrent workers.\n",
      "[Parallel(n_jobs=4)]: Done  42 tasks      | elapsed:    0.2s\n",
      "[Parallel(n_jobs=4)]: Done 192 tasks      | elapsed:    1.6s\n",
      "[Parallel(n_jobs=4)]: Done 400 out of 400 | elapsed:    3.8s finished\n",
      "[Parallel(n_jobs=4)]: Using backend ThreadingBackend with 4 concurrent workers.\n",
      "[Parallel(n_jobs=4)]: Done  42 tasks      | elapsed:    1.7s\n",
      "[Parallel(n_jobs=4)]: Done 192 tasks      | elapsed:    7.5s\n",
      "[Parallel(n_jobs=4)]: Done 400 out of 400 | elapsed:   15.2s finished\n",
      "[Parallel(n_jobs=-1)]: Using backend ThreadingBackend with 4 concurrent workers.\n",
      "[Parallel(n_jobs=-1)]: Using backend ThreadingBackend with 4 concurrent workers.\n",
      "[Parallel(n_jobs=-1)]: Using backend ThreadingBackend with 4 concurrent workers.\n",
      "[Parallel(n_jobs=-1)]: Using backend ThreadingBackend with 4 concurrent workers.\n",
      "[Parallel(n_jobs=-1)]: Using backend ThreadingBackend with 4 concurrent workers.\n",
      "[Parallel(n_jobs=-1)]: Using backend ThreadingBackend with 4 concurrent workers.\n",
      "[Parallel(n_jobs=-1)]: Done  42 tasks      | elapsed:    3.4s\n",
      "[Parallel(n_jobs=-1)]: Done 192 tasks      | elapsed:   19.8s\n",
      "[Parallel(n_jobs=-1)]: Done 400 out of 400 | elapsed:   35.7s finished\n",
      "[Parallel(n_jobs=4)]: Using backend ThreadingBackend with 4 concurrent workers.\n",
      "[Parallel(n_jobs=4)]: Done  42 tasks      | elapsed:    0.2s\n",
      "[Parallel(n_jobs=4)]: Done 192 tasks      | elapsed:    1.5s\n",
      "[Parallel(n_jobs=4)]: Done 400 out of 400 | elapsed:    3.5s finished\n",
      "[Parallel(n_jobs=4)]: Using backend ThreadingBackend with 4 concurrent workers.\n",
      "[Parallel(n_jobs=4)]: Done  42 tasks      | elapsed:    1.6s\n",
      "[Parallel(n_jobs=4)]: Done 192 tasks      | elapsed:    7.0s\n",
      "[Parallel(n_jobs=4)]: Done 400 out of 400 | elapsed:   13.0s finished\n",
      "[Parallel(n_jobs=-1)]: Using backend ThreadingBackend with 4 concurrent workers.\n",
      "[Parallel(n_jobs=-1)]: Done  42 tasks      | elapsed:    3.3s\n",
      "[Parallel(n_jobs=-1)]: Done 192 tasks      | elapsed:   14.4s\n",
      "[Parallel(n_jobs=-1)]: Done 400 out of 400 | elapsed:   28.5s finished\n",
      "[Parallel(n_jobs=4)]: Using backend ThreadingBackend with 4 concurrent workers.\n",
      "[Parallel(n_jobs=4)]: Done  42 tasks      | elapsed:    0.2s\n",
      "[Parallel(n_jobs=4)]: Done 192 tasks      | elapsed:    1.6s\n",
      "[Parallel(n_jobs=4)]: Done 400 out of 400 | elapsed:    3.5s finished\n",
      "[Parallel(n_jobs=4)]: Using backend ThreadingBackend with 4 concurrent workers.\n",
      "[Parallel(n_jobs=4)]: Done  42 tasks      | elapsed:    1.5s\n",
      "[Parallel(n_jobs=4)]: Done 192 tasks      | elapsed:    7.0s\n",
      "[Parallel(n_jobs=4)]: Done 400 out of 400 | elapsed:   14.4s finished\n",
      "[Parallel(n_jobs=-1)]: Using backend ThreadingBackend with 4 concurrent workers.\n",
      "[Parallel(n_jobs=-1)]: Done  42 tasks      | elapsed:    2.9s\n",
      "[Parallel(n_jobs=-1)]: Done 192 tasks      | elapsed:   13.2s\n",
      "[Parallel(n_jobs=-1)]: Done 400 out of 400 | elapsed:   25.3s finished\n",
      "[Parallel(n_jobs=4)]: Using backend ThreadingBackend with 4 concurrent workers.\n",
      "[Parallel(n_jobs=4)]: Done  42 tasks      | elapsed:    0.1s\n",
      "[Parallel(n_jobs=4)]: Done 192 tasks      | elapsed:    0.8s\n",
      "[Parallel(n_jobs=4)]: Done 400 out of 400 | elapsed:    1.7s finished\n",
      "[Parallel(n_jobs=4)]: Using backend ThreadingBackend with 4 concurrent workers.\n",
      "[Parallel(n_jobs=4)]: Done  42 tasks      | elapsed:    0.8s\n",
      "[Parallel(n_jobs=4)]: Done 192 tasks      | elapsed:    4.4s\n",
      "[Parallel(n_jobs=4)]: Done 400 out of 400 | elapsed:    8.9s finished\n",
      "[Parallel(n_jobs=-1)]: Using backend ThreadingBackend with 4 concurrent workers.\n",
      "[Parallel(n_jobs=-1)]: Done  42 tasks      | elapsed:    3.7s\n",
      "[Parallel(n_jobs=-1)]: Done 192 tasks      | elapsed:   14.0s\n",
      "[Parallel(n_jobs=-1)]: Done 400 out of 400 | elapsed:   26.2s finished\n",
      "[Parallel(n_jobs=4)]: Using backend ThreadingBackend with 4 concurrent workers.\n",
      "[Parallel(n_jobs=4)]: Done  42 tasks      | elapsed:    0.1s\n",
      "[Parallel(n_jobs=4)]: Done 192 tasks      | elapsed:    0.9s\n",
      "[Parallel(n_jobs=4)]: Done 400 out of 400 | elapsed:    1.8s finished\n",
      "[Parallel(n_jobs=4)]: Using backend ThreadingBackend with 4 concurrent workers.\n",
      "[Parallel(n_jobs=4)]: Done  42 tasks      | elapsed:    0.8s\n",
      "[Parallel(n_jobs=4)]: Done 192 tasks      | elapsed:    3.9s\n",
      "[Parallel(n_jobs=4)]: Done 400 out of 400 | elapsed:    7.8s finished\n",
      "[Parallel(n_jobs=-1)]: Using backend ThreadingBackend with 4 concurrent workers.\n",
      "[Parallel(n_jobs=-1)]: Done  42 tasks      | elapsed:    4.4s\n",
      "[Parallel(n_jobs=-1)]: Done 192 tasks      | elapsed:   16.2s\n",
      "[Parallel(n_jobs=-1)]: Done 400 out of 400 | elapsed:   31.8s finished\n",
      "[Parallel(n_jobs=4)]: Using backend ThreadingBackend with 4 concurrent workers.\n",
      "[Parallel(n_jobs=4)]: Done  42 tasks      | elapsed:    0.1s\n",
      "[Parallel(n_jobs=4)]: Done 192 tasks      | elapsed:    1.1s\n",
      "[Parallel(n_jobs=4)]: Done 400 out of 400 | elapsed:    2.3s finished\n",
      "[Parallel(n_jobs=4)]: Using backend ThreadingBackend with 4 concurrent workers.\n",
      "[Parallel(n_jobs=4)]: Done  42 tasks      | elapsed:    1.0s\n",
      "[Parallel(n_jobs=4)]: Done 192 tasks      | elapsed:    4.7s\n",
      "[Parallel(n_jobs=4)]: Done 400 out of 400 | elapsed:    9.5s finished\n",
      "[Parallel(n_jobs=-1)]: Using backend ThreadingBackend with 4 concurrent workers.\n",
      "[Parallel(n_jobs=-1)]: Using backend ThreadingBackend with 4 concurrent workers.\n",
      "[Parallel(n_jobs=-1)]: Using backend ThreadingBackend with 4 concurrent workers.\n",
      "[Parallel(n_jobs=-1)]: Using backend ThreadingBackend with 4 concurrent workers.\n",
      "[Parallel(n_jobs=-1)]: Using backend ThreadingBackend with 4 concurrent workers.\n",
      "[Parallel(n_jobs=-1)]: Using backend ThreadingBackend with 4 concurrent workers.\n",
      "[Parallel(n_jobs=-1)]: Done  42 tasks      | elapsed:    3.2s\n",
      "[Parallel(n_jobs=-1)]: Done 192 tasks      | elapsed:   14.7s\n",
      "[Parallel(n_jobs=-1)]: Done 400 out of 400 | elapsed:   28.7s finished\n",
      "[Parallel(n_jobs=4)]: Using backend ThreadingBackend with 4 concurrent workers.\n",
      "[Parallel(n_jobs=4)]: Done  42 tasks      | elapsed:    0.1s\n",
      "[Parallel(n_jobs=4)]: Done 192 tasks      | elapsed:    1.0s\n",
      "[Parallel(n_jobs=4)]: Done 400 out of 400 | elapsed:    2.3s finished\n",
      "[Parallel(n_jobs=4)]: Using backend ThreadingBackend with 4 concurrent workers.\n",
      "[Parallel(n_jobs=4)]: Done  42 tasks      | elapsed:    0.9s\n",
      "[Parallel(n_jobs=4)]: Done 192 tasks      | elapsed:    4.3s\n",
      "[Parallel(n_jobs=4)]: Done 400 out of 400 | elapsed:    9.3s finished\n",
      "[Parallel(n_jobs=-1)]: Using backend ThreadingBackend with 4 concurrent workers.\n",
      "[Parallel(n_jobs=-1)]: Done  42 tasks      | elapsed:    3.3s\n",
      "[Parallel(n_jobs=-1)]: Done 192 tasks      | elapsed:   14.9s\n",
      "[Parallel(n_jobs=-1)]: Done 400 out of 400 | elapsed:   28.2s finished\n",
      "[Parallel(n_jobs=4)]: Using backend ThreadingBackend with 4 concurrent workers.\n",
      "[Parallel(n_jobs=4)]: Done  42 tasks      | elapsed:    0.1s\n",
      "[Parallel(n_jobs=4)]: Done 192 tasks      | elapsed:    0.8s\n",
      "[Parallel(n_jobs=4)]: Done 400 out of 400 | elapsed:    1.8s finished\n",
      "[Parallel(n_jobs=4)]: Using backend ThreadingBackend with 4 concurrent workers.\n",
      "[Parallel(n_jobs=4)]: Done  42 tasks      | elapsed:    0.9s\n",
      "[Parallel(n_jobs=4)]: Done 192 tasks      | elapsed:    2.6s\n",
      "[Parallel(n_jobs=4)]: Done 400 out of 400 | elapsed:    4.7s finished\n"
     ]
    }
   ],
   "source": [
    "classifiers = train_model(clf, train_features, Y_train)\n"
   ]
  },
  {
   "cell_type": "code",
   "execution_count": 88,
   "id": "c0fdb24b",
   "metadata": {},
   "outputs": [
    {
     "data": {
      "text/plain": [
       "{'max_depth': None,\n",
       " 'max_samples': 10,\n",
       " 'min_samples_leaf': 1,\n",
       " 'min_samples_split': 2,\n",
       " 'n_estimators': 400,\n",
       " 'oob_score': True}"
      ]
     },
     "execution_count": 88,
     "metadata": {},
     "output_type": "execute_result"
    }
   ],
   "source": [
    "classifiers.best_params_"
   ]
  },
  {
   "cell_type": "code",
   "execution_count": 89,
   "id": "4373db65",
   "metadata": {
    "scrolled": true
   },
   "outputs": [
    {
     "name": "stderr",
     "output_type": "stream",
     "text": [
      "[Parallel(n_jobs=4)]: Using backend ThreadingBackend with 4 concurrent workers.\n",
      "[Parallel(n_jobs=4)]: Done  42 tasks      | elapsed:    0.3s\n",
      "[Parallel(n_jobs=4)]: Done 192 tasks      | elapsed:    1.4s\n",
      "[Parallel(n_jobs=4)]: Done 400 out of 400 | elapsed:    3.0s finished\n",
      "[Parallel(n_jobs=4)]: Using backend ThreadingBackend with 4 concurrent workers.\n",
      "[Parallel(n_jobs=4)]: Done  42 tasks      | elapsed:    0.1s\n",
      "[Parallel(n_jobs=4)]: Done 192 tasks      | elapsed:    0.4s\n"
     ]
    },
    {
     "name": "stdout",
     "output_type": "stream",
     "text": [
      "F1 score - Train: 0.997554625989764 / val: 0.9975496550893405\n",
      "ROC AUC score - Train: 0.5 / val: 0.5\n",
      "PR AUC score - val: 0.5008170043175025\n"
     ]
    },
    {
     "name": "stderr",
     "output_type": "stream",
     "text": [
      "[Parallel(n_jobs=4)]: Done 400 out of 400 | elapsed:    0.8s finished\n"
     ]
    }
   ],
   "source": [
    "X = (train_features, val_features)\n",
    "Y = (Y_train, Y_val)\n",
    "history = compare_models(X, Y, classifiers)"
   ]
  },
  {
   "cell_type": "code",
   "execution_count": 36,
   "id": "a5e08a46",
   "metadata": {
    "scrolled": true
   },
   "outputs": [
    {
     "name": "stdout",
     "output_type": "stream",
     "text": [
      "RFC_tuned\n"
     ]
    },
    {
     "data": {
      "image/png": "[encoded data removed]",
      "text/plain": [
       "<Figure size 360x360 with 2 Axes>"
      ]
     },
     "metadata": {
      "needs_background": "light"
     },
     "output_type": "display_data"
    }
   ],
   "source": [
    "plot_cm(Y_val, history[\"clf_0\"][\"y_hat_val\"], \"RFC_tuned\")"
   ]
  },
  {
   "cell_type": "markdown",
   "id": "76890877",
   "metadata": {},
   "source": [
    "# K-fold"
   ]
  },
  {
   "cell_type": "code",
   "execution_count": 19,
   "id": "b25a8eee",
   "metadata": {},
   "outputs": [
    {
     "name": "stdout",
     "output_type": "stream",
     "text": [
      "X shape: (940935, 10)\n",
      "Y shape: (940935,)\n"
     ]
    },
    {
     "data": {
      "text/plain": [
       "array([[0.00000000e+00, 1.67235309e-04, 1.54282568e+09, 0.00000000e+00,\n",
       "        5.00000000e+00, 8.78346339e+05, 1.00000000e+00, 0.00000000e+00,\n",
       "        0.00000000e+00, 0.00000000e+00]])"
      ]
     },
     "execution_count": 19,
     "metadata": {},
     "output_type": "execute_result"
    }
   ],
   "source": [
    "Y = data.is_fraud.to_numpy()\n",
    "X = data.copy().drop(\"is_fraud\", axis = 1).to_numpy()\n",
    "\n",
    "print(\"X shape:\", X.shape)\n",
    "print(\"Y shape:\", Y.shape)\n",
    "\n",
    "X[0:1]"
   ]
  },
  {
   "cell_type": "code",
   "execution_count": 20,
   "id": "0a90a95e",
   "metadata": {},
   "outputs": [
    {
     "data": {
      "text/plain": [
       "1535"
      ]
     },
     "execution_count": 20,
     "metadata": {},
     "output_type": "execute_result"
    }
   ],
   "source": [
    "len(Y[Y==1])"
   ]
  },
  {
   "cell_type": "code",
   "execution_count": 21,
   "id": "d13d9def",
   "metadata": {},
   "outputs": [],
   "source": [
    "indices_split, Test = split_data(X, Y, kfold=5)"
   ]
  },
  {
   "cell_type": "code",
   "execution_count": null,
   "id": "2591294e",
   "metadata": {},
   "outputs": [
    {
     "name": "stdout",
     "output_type": "stream",
     "text": [
      "Training clf 0\n"
     ]
    },
    {
     "name": "stderr",
     "output_type": "stream",
     "text": [
      "[Parallel(n_jobs=3)]: Using backend ThreadingBackend with 3 concurrent workers.\n",
      "[Parallel(n_jobs=3)]: Done  44 tasks      | elapsed:   33.2s\n",
      "[Parallel(n_jobs=3)]: Done 194 tasks      | elapsed:  1.9min\n",
      "[Parallel(n_jobs=3)]: Done 400 out of 400 | elapsed:  3.9min finished\n"
     ]
    },
    {
     "name": "stdout",
     "output_type": "stream",
     "text": [
      "Training clf 1\n"
     ]
    },
    {
     "name": "stderr",
     "output_type": "stream",
     "text": [
      "[Parallel(n_jobs=3)]: Using backend ThreadingBackend with 3 concurrent workers.\n",
      "[Parallel(n_jobs=3)]: Done  44 tasks      | elapsed:   26.1s\n",
      "[Parallel(n_jobs=3)]: Done 194 tasks      | elapsed:  1.9min\n",
      "[Parallel(n_jobs=3)]: Done 400 out of 400 | elapsed:  3.9min finished\n"
     ]
    },
    {
     "name": "stdout",
     "output_type": "stream",
     "text": [
      "Training clf 2\n"
     ]
    },
    {
     "name": "stderr",
     "output_type": "stream",
     "text": [
      "[Parallel(n_jobs=3)]: Using backend ThreadingBackend with 3 concurrent workers.\n",
      "[Parallel(n_jobs=3)]: Done  44 tasks      | elapsed:   26.2s\n"
     ]
    }
   ],
   "source": [
    "classifier = RandomForestClassifier(max_depth= 50, max_features= 'log2', min_samples_split= 2, \n",
    "                                    n_estimators= 400, random_state=RANDOM_STATE, n_jobs= 3,\n",
    "                                    class_weight= \"balanced_subsample\", min_samples_leaf= 2, \n",
    "                                    verbose=1, oob_score=True)\n",
    "\n",
    "classifiers = train_model(classifier, X, Y, indices_split, scaling=True)"
   ]
  },
  {
   "cell_type": "code",
   "execution_count": null,
   "id": "9fe26eae",
   "metadata": {
    "scrolled": true
   },
   "outputs": [],
   "source": [
    "history = compare_models(X, Y, classifiers, indices_split, scaling=True)"
   ]
  },
  {
   "cell_type": "code",
   "execution_count": 27,
   "id": "8c2844ab",
   "metadata": {},
   "outputs": [
    {
     "data": {
      "image/png": "[encoded data removed]",
      "text/plain": [
       "<Figure size 864x720 with 1 Axes>"
      ]
     },
     "metadata": {
      "needs_background": "light"
     },
     "output_type": "display_data"
    }
   ],
   "source": [
    "plot_roc_auc_curve(history)"
   ]
  },
  {
   "cell_type": "code",
   "execution_count": 28,
   "id": "bcd5afd5",
   "metadata": {},
   "outputs": [
    {
     "data": {
      "image/png": "[encoded data removed]",
      "text/plain": [
       "<Figure size 864x720 with 1 Axes>"
      ]
     },
     "metadata": {
      "needs_background": "light"
     },
     "output_type": "display_data"
    }
   ],
   "source": [
    "plot_pr_curve(history)"
   ]
  },
  {
   "cell_type": "code",
   "execution_count": 29,
   "id": "d87457cb",
   "metadata": {
    "scrolled": false
   },
   "outputs": [
    {
     "name": "stdout",
     "output_type": "stream",
     "text": [
      "clf_0\n"
     ]
    },
    {
     "data": {
      "image/png": "[encoded data removed]",
      "text/plain": [
       "<Figure size 360x360 with 2 Axes>"
      ]
     },
     "metadata": {
      "needs_background": "light"
     },
     "output_type": "display_data"
    },
    {
     "name": "stdout",
     "output_type": "stream",
     "text": [
      "clf_1\n"
     ]
    },
    {
     "data": {
      "image/png": "[encoded data removed]",
      "text/plain": [
       "<Figure size 360x360 with 2 Axes>"
      ]
     },
     "metadata": {
      "needs_background": "light"
     },
     "output_type": "display_data"
    },
    {
     "name": "stdout",
     "output_type": "stream",
     "text": [
      "clf_2\n"
     ]
    },
    {
     "data": {
      "image/png": "[encoded data removed]",
      "text/plain": [
       "<Figure size 360x360 with 2 Axes>"
      ]
     },
     "metadata": {
      "needs_background": "light"
     },
     "output_type": "display_data"
    },
    {
     "name": "stdout",
     "output_type": "stream",
     "text": [
      "clf_3\n"
     ]
    },
    {
     "data": {
      "image/png": "[encoded data removed]",
      "text/plain": [
       "<Figure size 360x360 with 2 Axes>"
      ]
     },
     "metadata": {
      "needs_background": "light"
     },
     "output_type": "display_data"
    },
    {
     "name": "stdout",
     "output_type": "stream",
     "text": [
      "clf_4\n"
     ]
    },
    {
     "data": {
      "image/png": "[encoded data removed]",
      "text/plain": [
       "<Figure size 360x360 with 2 Axes>"
      ]
     },
     "metadata": {
      "needs_background": "light"
     },
     "output_type": "display_data"
    }
   ],
   "source": [
    "for model_name, model_eval, (train, val) in zip(history.keys(), history.values(),\n",
    "                                                  indices_split.values()):\n",
    "    \n",
    "    plot_cm(Y[val], model_eval[\"y_hat_val\"], model_name)"
   ]
  },
  {
   "cell_type": "code",
   "execution_count": 23,
   "id": "ae270d81",
   "metadata": {},
   "outputs": [
    {
     "name": "stdout",
     "output_type": "stream",
     "text": [
      "X shape: (940935, 10)\n",
      "Y shape: (940935,)\n"
     ]
    }
   ],
   "source": [
    "print(\"X shape:\", X.shape)\n",
    "print(\"Y shape:\", Y.shape)"
   ]
  },
  {
   "cell_type": "code",
   "execution_count": 75,
   "id": "f54bae02",
   "metadata": {},
   "outputs": [],
   "source": [
    "X_pack, Y_pack = split_data(X, Y, kfold=None)\n",
    "\n",
    "X_train, X_val, X_test = X_pack\n",
    "Y_train, Y_val, Y_test = Y_pack"
   ]
  },
  {
   "cell_type": "markdown",
   "id": "755f0d58",
   "metadata": {},
   "source": [
    "# Training model on all dataset"
   ]
  },
  {
   "cell_type": "code",
   "execution_count": null,
   "id": "1602b59d",
   "metadata": {},
   "outputs": [],
   "source": [
    "{'class_weight': 'balanced_subsample',\n",
    " 'max_depth': 50,\n",
    " 'min_samples_leaf': 2,\n",
    " 'min_samples_split': 24,\n",
    " 'n_estimators': 1000}\n",
    "\n",
    "\n",
    "{'max_depth': 50,\n",
    " 'min_samples_leaf': 2,\n",
    " 'min_samples_split': 2,\n",
    " 'n_estimators': 400}\n",
    "\n",
    "{'max_depth': None,\n",
    " 'max_samples': 10,\n",
    " 'min_samples_leaf': 1,\n",
    " 'min_samples_split': 2,\n",
    " 'n_estimators': 400,\n",
    " 'oob_score': True}"
   ]
  },
  {
   "cell_type": "code",
   "execution_count": 101,
   "id": "b38a4e05",
   "metadata": {
    "scrolled": true
   },
   "outputs": [
    {
     "name": "stderr",
     "output_type": "stream",
     "text": [
      "[Parallel(n_jobs=3)]: Using backend ThreadingBackend with 3 concurrent workers.\n",
      "[Parallel(n_jobs=3)]: Done  44 tasks      | elapsed:   25.0s\n",
      "[Parallel(n_jobs=3)]: Done 194 tasks      | elapsed:  2.2min\n",
      "[Parallel(n_jobs=3)]: Done 400 out of 400 | elapsed:  4.4min finished\n"
     ]
    }
   ],
   "source": [
    "classifier = RandomForestClassifier(max_depth= 50, max_features= 'log2', min_samples_split= 2, \n",
    "                                    n_estimators= 400, random_state=RANDOM_STATE, n_jobs= 3,\n",
    "                                    class_weight= \"balanced_subsample\", min_samples_leaf= 2, \n",
    "                                    verbose=1, oob_score=True)\n",
    "\n",
    "classifiers = train_model(classifier, train_features, Y_train)"
   ]
  },
  {
   "cell_type": "code",
   "execution_count": 102,
   "id": "e7f8f959",
   "metadata": {},
   "outputs": [
    {
     "name": "stderr",
     "output_type": "stream",
     "text": [
      "[Parallel(n_jobs=3)]: Using backend ThreadingBackend with 3 concurrent workers.\n",
      "[Parallel(n_jobs=3)]: Done  44 tasks      | elapsed:    1.3s\n",
      "[Parallel(n_jobs=3)]: Done 194 tasks      | elapsed:    5.2s\n",
      "[Parallel(n_jobs=3)]: Done 400 out of 400 | elapsed:   10.5s finished\n",
      "[Parallel(n_jobs=3)]: Using backend ThreadingBackend with 3 concurrent workers.\n",
      "[Parallel(n_jobs=3)]: Done  44 tasks      | elapsed:    0.3s\n",
      "[Parallel(n_jobs=3)]: Done 194 tasks      | elapsed:    2.0s\n"
     ]
    },
    {
     "name": "stdout",
     "output_type": "stream",
     "text": [
      "F1 score - Train: 0.9999685998186423 / val: 0.9987938077358864\n",
      "ROC AUC score - Train: 0.9999841986906537 / val: 0.7052612667054391\n",
      "PR AUC score - val: 0.6733587130236408\n"
     ]
    },
    {
     "name": "stderr",
     "output_type": "stream",
     "text": [
      "[Parallel(n_jobs=3)]: Done 400 out of 400 | elapsed:    3.6s finished\n"
     ]
    }
   ],
   "source": [
    "X_train_val = (train_features, val_features)\n",
    "Y_train_val = (Y_train, Y_val)\n",
    "history = compare_models(X_train_val, Y_train_val, classifiers)"
   ]
  },
  {
   "cell_type": "code",
   "execution_count": 106,
   "id": "00d6af07",
   "metadata": {},
   "outputs": [
    {
     "name": "stdout",
     "output_type": "stream",
     "text": [
      "RFC\n"
     ]
    },
    {
     "data": {
      "image/png": "[encoded data removed]",
      "text/plain": [
       "<Figure size 360x360 with 2 Axes>"
      ]
     },
     "metadata": {
      "needs_background": "light"
     },
     "output_type": "display_data"
    }
   ],
   "source": [
    "plot_cm(Y_val, history[\"clf_0\"][\"y_hat_val\"], \"RFC\")"
   ]
  },
  {
   "cell_type": "code",
   "execution_count": 107,
   "id": "778e6ac1",
   "metadata": {},
   "outputs": [
    {
     "data": {
      "image/png": "[encoded data removed]",
      "text/plain": [
       "<Figure size 864x720 with 1 Axes>"
      ]
     },
     "metadata": {
      "needs_background": "light"
     },
     "output_type": "display_data"
    }
   ],
   "source": [
    "plot_roc_auc_curve(history)"
   ]
  },
  {
   "cell_type": "code",
   "execution_count": 108,
   "id": "fa9f6e7b",
   "metadata": {},
   "outputs": [
    {
     "data": {
      "image/png": "[encoded data removed]",
      "text/plain": [
       "<Figure size 864x720 with 1 Axes>"
      ]
     },
     "metadata": {
      "needs_background": "light"
     },
     "output_type": "display_data"
    }
   ],
   "source": [
    "plot_pr_curve(history)"
   ]
  },
  {
   "cell_type": "markdown",
   "id": "20a4c410",
   "metadata": {},
   "source": [
    "# Testing"
   ]
  },
  {
   "cell_type": "code",
   "execution_count": null,
   "id": "7ae83cf7",
   "metadata": {},
   "outputs": [],
   "source": []
  }
 ],
 "metadata": {
  "kernelspec": {
   "display_name": "Python 3 (ipykernel)",
   "language": "python",
   "name": "python3"
  },
  "language_info": {
   "codemirror_mode": {
    "name": "ipython",
    "version": 3
   },
   "file_extension": ".py",
   "mimetype": "text/x-python",
   "name": "python",
   "nbconvert_exporter": "python",
   "pygments_lexer": "ipython3",
   "version": "3.7.11"
  }
 },
 "nbformat": 4,
 "nbformat_minor": 5
}
