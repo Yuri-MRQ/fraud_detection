{
 "cells": [
  {
   "cell_type": "code",
   "execution_count": null,
   "id": "8177e347",
   "metadata": {},
   "outputs": [],
   "source": [
    "# https://arxiv.org/pdf/2010.06479.pdf\n",
    "# Credit card fraud detection using machine learning: A survey\n",
    "\n",
    "# https://arxiv.org/pdf/2001.08922.pdf"
   ]
  },
  {
   "cell_type": "code",
   "execution_count": 155,
   "id": "0f074b18",
   "metadata": {},
   "outputs": [],
   "source": [
    "import time\n",
    "import pandas as pd\n",
    "import numpy as np\n",
    "\n",
    "import matplotlib as mpl\n",
    "import matplotlib.pyplot as plt\n",
    "\n",
    "from sklearn.model_selection import train_test_split, GridSearchCV\n",
    "from sklearn.ensemble import RandomForestClassifier\n",
    "from sklearn.svm import LinearSVC\n",
    "from sklearn.preprocessing import MinMaxScaler, StandardScaler\n",
    "from sklearn.metrics import roc_auc_score, f1_score, roc_curve, auc, confusion_matrix, precision_recall_curve"
   ]
  },
  {
   "cell_type": "code",
   "execution_count": 84,
   "id": "185ef1d6",
   "metadata": {},
   "outputs": [],
   "source": [
    "RANDOM_STATE = 35\n",
    "\n",
    "mpl.rcParams['figure.figsize'] = (12, 10)\n",
    "colors = plt.rcParams['axes.prop_cycle'].by_key()['color']"
   ]
  },
  {
   "cell_type": "code",
   "execution_count": 163,
   "id": "4c181bde",
   "metadata": {},
   "outputs": [],
   "source": [
    "data_raw = pd.read_csv(\"processed_features.csv\")\n"
   ]
  },
  {
   "cell_type": "code",
   "execution_count": 164,
   "id": "92d455ac",
   "metadata": {},
   "outputs": [
    {
     "data": {
      "text/html": [
       "<div>\n",
       "<style scoped>\n",
       "    .dataframe tbody tr th:only-of-type {\n",
       "        vertical-align: middle;\n",
       "    }\n",
       "\n",
       "    .dataframe tbody tr th {\n",
       "        vertical-align: top;\n",
       "    }\n",
       "\n",
       "    .dataframe thead th {\n",
       "        text-align: right;\n",
       "    }\n",
       "</style>\n",
       "<table border=\"1\" class=\"dataframe\">\n",
       "  <thead>\n",
       "    <tr style=\"text-align: right;\">\n",
       "      <th></th>\n",
       "      <th>account_id</th>\n",
       "      <th>device_id</th>\n",
       "      <th>balance</th>\n",
       "      <th>processed_at</th>\n",
       "      <th>is_fraud</th>\n",
       "      <th>age_range</th>\n",
       "      <th>number_of_selfies_sent</th>\n",
       "      <th>time_client</th>\n",
       "      <th>cash_out_type_1</th>\n",
       "      <th>cash_out_type_2</th>\n",
       "      <th>cash_out_type_3</th>\n",
       "      <th>cash_out_type_6</th>\n",
       "    </tr>\n",
       "  </thead>\n",
       "  <tbody>\n",
       "    <tr>\n",
       "      <th>0</th>\n",
       "      <td>0</td>\n",
       "      <td>0</td>\n",
       "      <td>0.000167</td>\n",
       "      <td>1.542826e+09</td>\n",
       "      <td>0</td>\n",
       "      <td>0.0</td>\n",
       "      <td>5.0</td>\n",
       "      <td>8.783463e+05</td>\n",
       "      <td>1</td>\n",
       "      <td>0</td>\n",
       "      <td>0</td>\n",
       "      <td>0</td>\n",
       "    </tr>\n",
       "    <tr>\n",
       "      <th>1</th>\n",
       "      <td>1</td>\n",
       "      <td>0</td>\n",
       "      <td>0.000533</td>\n",
       "      <td>1.540263e+09</td>\n",
       "      <td>0</td>\n",
       "      <td>1.0</td>\n",
       "      <td>5.0</td>\n",
       "      <td>9.689721e+06</td>\n",
       "      <td>0</td>\n",
       "      <td>0</td>\n",
       "      <td>1</td>\n",
       "      <td>0</td>\n",
       "    </tr>\n",
       "    <tr>\n",
       "      <th>2</th>\n",
       "      <td>1</td>\n",
       "      <td>0</td>\n",
       "      <td>0.000347</td>\n",
       "      <td>1.542655e+09</td>\n",
       "      <td>0</td>\n",
       "      <td>1.0</td>\n",
       "      <td>5.0</td>\n",
       "      <td>1.208182e+07</td>\n",
       "      <td>0</td>\n",
       "      <td>0</td>\n",
       "      <td>1</td>\n",
       "      <td>0</td>\n",
       "    </tr>\n",
       "    <tr>\n",
       "      <th>3</th>\n",
       "      <td>1</td>\n",
       "      <td>0</td>\n",
       "      <td>0.000572</td>\n",
       "      <td>1.540837e+09</td>\n",
       "      <td>0</td>\n",
       "      <td>1.0</td>\n",
       "      <td>5.0</td>\n",
       "      <td>1.026435e+07</td>\n",
       "      <td>0</td>\n",
       "      <td>0</td>\n",
       "      <td>1</td>\n",
       "      <td>0</td>\n",
       "    </tr>\n",
       "    <tr>\n",
       "      <th>4</th>\n",
       "      <td>1</td>\n",
       "      <td>0</td>\n",
       "      <td>0.000346</td>\n",
       "      <td>1.540998e+09</td>\n",
       "      <td>0</td>\n",
       "      <td>1.0</td>\n",
       "      <td>5.0</td>\n",
       "      <td>1.042547e+07</td>\n",
       "      <td>0</td>\n",
       "      <td>0</td>\n",
       "      <td>1</td>\n",
       "      <td>0</td>\n",
       "    </tr>\n",
       "  </tbody>\n",
       "</table>\n",
       "</div>"
      ],
      "text/plain": [
       "   account_id  device_id   balance  processed_at  is_fraud  age_range  \\\n",
       "0           0          0  0.000167  1.542826e+09         0        0.0   \n",
       "1           1          0  0.000533  1.540263e+09         0        1.0   \n",
       "2           1          0  0.000347  1.542655e+09         0        1.0   \n",
       "3           1          0  0.000572  1.540837e+09         0        1.0   \n",
       "4           1          0  0.000346  1.540998e+09         0        1.0   \n",
       "\n",
       "   number_of_selfies_sent   time_client  cash_out_type_1  cash_out_type_2  \\\n",
       "0                     5.0  8.783463e+05                1                0   \n",
       "1                     5.0  9.689721e+06                0                0   \n",
       "2                     5.0  1.208182e+07                0                0   \n",
       "3                     5.0  1.026435e+07                0                0   \n",
       "4                     5.0  1.042547e+07                0                0   \n",
       "\n",
       "   cash_out_type_3  cash_out_type_6  \n",
       "0                0                0  \n",
       "1                1                0  \n",
       "2                1                0  \n",
       "3                1                0  \n",
       "4                1                0  "
      ]
     },
     "execution_count": 164,
     "metadata": {},
     "output_type": "execute_result"
    }
   ],
   "source": [
    "data_raw.head()"
   ]
  },
  {
   "cell_type": "code",
   "execution_count": 165,
   "id": "fd846716",
   "metadata": {
    "scrolled": true
   },
   "outputs": [
    {
     "data": {
      "text/html": [
       "<div>\n",
       "<style scoped>\n",
       "    .dataframe tbody tr th:only-of-type {\n",
       "        vertical-align: middle;\n",
       "    }\n",
       "\n",
       "    .dataframe tbody tr th {\n",
       "        vertical-align: top;\n",
       "    }\n",
       "\n",
       "    .dataframe thead th {\n",
       "        text-align: right;\n",
       "    }\n",
       "</style>\n",
       "<table border=\"1\" class=\"dataframe\">\n",
       "  <thead>\n",
       "    <tr style=\"text-align: right;\">\n",
       "      <th></th>\n",
       "      <th>account_id</th>\n",
       "      <th>device_id</th>\n",
       "      <th>balance</th>\n",
       "      <th>processed_at</th>\n",
       "      <th>is_fraud</th>\n",
       "      <th>age_range</th>\n",
       "      <th>number_of_selfies_sent</th>\n",
       "      <th>time_client</th>\n",
       "      <th>cash_out_type_1</th>\n",
       "      <th>cash_out_type_2</th>\n",
       "      <th>cash_out_type_3</th>\n",
       "      <th>cash_out_type_6</th>\n",
       "    </tr>\n",
       "  </thead>\n",
       "  <tbody>\n",
       "    <tr>\n",
       "      <th>account_id</th>\n",
       "      <td>1.000000</td>\n",
       "      <td>0.936605</td>\n",
       "      <td>-0.115446</td>\n",
       "      <td>0.030805</td>\n",
       "      <td>-0.031733</td>\n",
       "      <td>0.014728</td>\n",
       "      <td>-0.011119</td>\n",
       "      <td>-0.124930</td>\n",
       "      <td>-0.024468</td>\n",
       "      <td>0.314274</td>\n",
       "      <td>-0.312839</td>\n",
       "      <td>0.001893</td>\n",
       "    </tr>\n",
       "    <tr>\n",
       "      <th>device_id</th>\n",
       "      <td>0.936605</td>\n",
       "      <td>1.000000</td>\n",
       "      <td>-0.120909</td>\n",
       "      <td>0.030237</td>\n",
       "      <td>-0.032270</td>\n",
       "      <td>0.010916</td>\n",
       "      <td>-0.010421</td>\n",
       "      <td>-0.128533</td>\n",
       "      <td>-0.021081</td>\n",
       "      <td>0.339309</td>\n",
       "      <td>-0.339272</td>\n",
       "      <td>0.001675</td>\n",
       "    </tr>\n",
       "    <tr>\n",
       "      <th>balance</th>\n",
       "      <td>-0.115446</td>\n",
       "      <td>-0.120909</td>\n",
       "      <td>1.000000</td>\n",
       "      <td>0.013672</td>\n",
       "      <td>-0.002463</td>\n",
       "      <td>0.041070</td>\n",
       "      <td>-0.015854</td>\n",
       "      <td>0.278847</td>\n",
       "      <td>0.019471</td>\n",
       "      <td>0.036898</td>\n",
       "      <td>-0.043073</td>\n",
       "      <td>-0.000271</td>\n",
       "    </tr>\n",
       "    <tr>\n",
       "      <th>processed_at</th>\n",
       "      <td>0.030805</td>\n",
       "      <td>0.030237</td>\n",
       "      <td>0.013672</td>\n",
       "      <td>1.000000</td>\n",
       "      <td>-0.006212</td>\n",
       "      <td>0.005170</td>\n",
       "      <td>-0.010542</td>\n",
       "      <td>0.034895</td>\n",
       "      <td>-0.000934</td>\n",
       "      <td>0.011392</td>\n",
       "      <td>-0.011319</td>\n",
       "      <td>-0.001043</td>\n",
       "    </tr>\n",
       "    <tr>\n",
       "      <th>is_fraud</th>\n",
       "      <td>-0.031733</td>\n",
       "      <td>-0.032270</td>\n",
       "      <td>-0.002463</td>\n",
       "      <td>-0.006212</td>\n",
       "      <td>1.000000</td>\n",
       "      <td>0.001232</td>\n",
       "      <td>0.000773</td>\n",
       "      <td>-0.001799</td>\n",
       "      <td>0.005346</td>\n",
       "      <td>0.017931</td>\n",
       "      <td>-0.019762</td>\n",
       "      <td>-0.000132</td>\n",
       "    </tr>\n",
       "    <tr>\n",
       "      <th>age_range</th>\n",
       "      <td>0.014728</td>\n",
       "      <td>0.010916</td>\n",
       "      <td>0.041070</td>\n",
       "      <td>0.005170</td>\n",
       "      <td>0.001232</td>\n",
       "      <td>1.000000</td>\n",
       "      <td>-0.008867</td>\n",
       "      <td>-0.025235</td>\n",
       "      <td>0.002038</td>\n",
       "      <td>0.043571</td>\n",
       "      <td>-0.044924</td>\n",
       "      <td>0.001572</td>\n",
       "    </tr>\n",
       "    <tr>\n",
       "      <th>number_of_selfies_sent</th>\n",
       "      <td>-0.011119</td>\n",
       "      <td>-0.010421</td>\n",
       "      <td>-0.015854</td>\n",
       "      <td>-0.010542</td>\n",
       "      <td>0.000773</td>\n",
       "      <td>-0.008867</td>\n",
       "      <td>1.000000</td>\n",
       "      <td>0.134589</td>\n",
       "      <td>0.006826</td>\n",
       "      <td>-0.008444</td>\n",
       "      <td>0.006654</td>\n",
       "      <td>-0.000253</td>\n",
       "    </tr>\n",
       "    <tr>\n",
       "      <th>time_client</th>\n",
       "      <td>-0.124930</td>\n",
       "      <td>-0.128533</td>\n",
       "      <td>0.278847</td>\n",
       "      <td>0.034895</td>\n",
       "      <td>-0.001799</td>\n",
       "      <td>-0.025235</td>\n",
       "      <td>0.134589</td>\n",
       "      <td>1.000000</td>\n",
       "      <td>0.014227</td>\n",
       "      <td>-0.022264</td>\n",
       "      <td>0.018509</td>\n",
       "      <td>0.014154</td>\n",
       "    </tr>\n",
       "    <tr>\n",
       "      <th>cash_out_type_1</th>\n",
       "      <td>-0.024468</td>\n",
       "      <td>-0.021081</td>\n",
       "      <td>0.019471</td>\n",
       "      <td>-0.000934</td>\n",
       "      <td>0.005346</td>\n",
       "      <td>0.002038</td>\n",
       "      <td>0.006826</td>\n",
       "      <td>0.014227</td>\n",
       "      <td>1.000000</td>\n",
       "      <td>-0.200642</td>\n",
       "      <td>-0.079909</td>\n",
       "      <td>-0.000421</td>\n",
       "    </tr>\n",
       "    <tr>\n",
       "      <th>cash_out_type_2</th>\n",
       "      <td>0.314274</td>\n",
       "      <td>0.339309</td>\n",
       "      <td>0.036898</td>\n",
       "      <td>0.011392</td>\n",
       "      <td>0.017931</td>\n",
       "      <td>0.043571</td>\n",
       "      <td>-0.008444</td>\n",
       "      <td>-0.022264</td>\n",
       "      <td>-0.200642</td>\n",
       "      <td>1.000000</td>\n",
       "      <td>-0.960473</td>\n",
       "      <td>-0.005063</td>\n",
       "    </tr>\n",
       "    <tr>\n",
       "      <th>cash_out_type_3</th>\n",
       "      <td>-0.312839</td>\n",
       "      <td>-0.339272</td>\n",
       "      <td>-0.043073</td>\n",
       "      <td>-0.011319</td>\n",
       "      <td>-0.019762</td>\n",
       "      <td>-0.044924</td>\n",
       "      <td>0.006654</td>\n",
       "      <td>0.018509</td>\n",
       "      <td>-0.079909</td>\n",
       "      <td>-0.960473</td>\n",
       "      <td>1.000000</td>\n",
       "      <td>-0.002016</td>\n",
       "    </tr>\n",
       "    <tr>\n",
       "      <th>cash_out_type_6</th>\n",
       "      <td>0.001893</td>\n",
       "      <td>0.001675</td>\n",
       "      <td>-0.000271</td>\n",
       "      <td>-0.001043</td>\n",
       "      <td>-0.000132</td>\n",
       "      <td>0.001572</td>\n",
       "      <td>-0.000253</td>\n",
       "      <td>0.014154</td>\n",
       "      <td>-0.000421</td>\n",
       "      <td>-0.005063</td>\n",
       "      <td>-0.002016</td>\n",
       "      <td>1.000000</td>\n",
       "    </tr>\n",
       "  </tbody>\n",
       "</table>\n",
       "</div>"
      ],
      "text/plain": [
       "                        account_id  device_id   balance  processed_at  \\\n",
       "account_id                1.000000   0.936605 -0.115446      0.030805   \n",
       "device_id                 0.936605   1.000000 -0.120909      0.030237   \n",
       "balance                  -0.115446  -0.120909  1.000000      0.013672   \n",
       "processed_at              0.030805   0.030237  0.013672      1.000000   \n",
       "is_fraud                 -0.031733  -0.032270 -0.002463     -0.006212   \n",
       "age_range                 0.014728   0.010916  0.041070      0.005170   \n",
       "number_of_selfies_sent   -0.011119  -0.010421 -0.015854     -0.010542   \n",
       "time_client              -0.124930  -0.128533  0.278847      0.034895   \n",
       "cash_out_type_1          -0.024468  -0.021081  0.019471     -0.000934   \n",
       "cash_out_type_2           0.314274   0.339309  0.036898      0.011392   \n",
       "cash_out_type_3          -0.312839  -0.339272 -0.043073     -0.011319   \n",
       "cash_out_type_6           0.001893   0.001675 -0.000271     -0.001043   \n",
       "\n",
       "                        is_fraud  age_range  number_of_selfies_sent  \\\n",
       "account_id             -0.031733   0.014728               -0.011119   \n",
       "device_id              -0.032270   0.010916               -0.010421   \n",
       "balance                -0.002463   0.041070               -0.015854   \n",
       "processed_at           -0.006212   0.005170               -0.010542   \n",
       "is_fraud                1.000000   0.001232                0.000773   \n",
       "age_range               0.001232   1.000000               -0.008867   \n",
       "number_of_selfies_sent  0.000773  -0.008867                1.000000   \n",
       "time_client            -0.001799  -0.025235                0.134589   \n",
       "cash_out_type_1         0.005346   0.002038                0.006826   \n",
       "cash_out_type_2         0.017931   0.043571               -0.008444   \n",
       "cash_out_type_3        -0.019762  -0.044924                0.006654   \n",
       "cash_out_type_6        -0.000132   0.001572               -0.000253   \n",
       "\n",
       "                        time_client  cash_out_type_1  cash_out_type_2  \\\n",
       "account_id                -0.124930        -0.024468         0.314274   \n",
       "device_id                 -0.128533        -0.021081         0.339309   \n",
       "balance                    0.278847         0.019471         0.036898   \n",
       "processed_at               0.034895        -0.000934         0.011392   \n",
       "is_fraud                  -0.001799         0.005346         0.017931   \n",
       "age_range                 -0.025235         0.002038         0.043571   \n",
       "number_of_selfies_sent     0.134589         0.006826        -0.008444   \n",
       "time_client                1.000000         0.014227        -0.022264   \n",
       "cash_out_type_1            0.014227         1.000000        -0.200642   \n",
       "cash_out_type_2           -0.022264        -0.200642         1.000000   \n",
       "cash_out_type_3            0.018509        -0.079909        -0.960473   \n",
       "cash_out_type_6            0.014154        -0.000421        -0.005063   \n",
       "\n",
       "                        cash_out_type_3  cash_out_type_6  \n",
       "account_id                    -0.312839         0.001893  \n",
       "device_id                     -0.339272         0.001675  \n",
       "balance                       -0.043073        -0.000271  \n",
       "processed_at                  -0.011319        -0.001043  \n",
       "is_fraud                      -0.019762        -0.000132  \n",
       "age_range                     -0.044924         0.001572  \n",
       "number_of_selfies_sent         0.006654        -0.000253  \n",
       "time_client                    0.018509         0.014154  \n",
       "cash_out_type_1               -0.079909        -0.000421  \n",
       "cash_out_type_2               -0.960473        -0.005063  \n",
       "cash_out_type_3                1.000000        -0.002016  \n",
       "cash_out_type_6               -0.002016         1.000000  "
      ]
     },
     "execution_count": 165,
     "metadata": {},
     "output_type": "execute_result"
    }
   ],
   "source": [
    "data_raw.corr()"
   ]
  },
  {
   "cell_type": "code",
   "execution_count": 166,
   "id": "597d2dee",
   "metadata": {},
   "outputs": [],
   "source": [
    "data = data_raw.copy()\n",
    "\n",
    "data.drop(\"account_id\", axis=1, inplace=True)"
   ]
  },
  {
   "cell_type": "code",
   "execution_count": 167,
   "id": "644c20f5",
   "metadata": {
    "scrolled": true
   },
   "outputs": [
    {
     "data": {
      "text/plain": [
       "device_id                 0\n",
       "balance                   0\n",
       "processed_at              0\n",
       "is_fraud                  0\n",
       "age_range                 0\n",
       "number_of_selfies_sent    0\n",
       "time_client               0\n",
       "cash_out_type_1           0\n",
       "cash_out_type_2           0\n",
       "cash_out_type_3           0\n",
       "cash_out_type_6           0\n",
       "dtype: int64"
      ]
     },
     "execution_count": 167,
     "metadata": {},
     "output_type": "execute_result"
    }
   ],
   "source": [
    "data.isna().sum()"
   ]
  },
  {
   "cell_type": "code",
   "execution_count": 168,
   "id": "2dba548e",
   "metadata": {},
   "outputs": [
    {
     "name": "stdout",
     "output_type": "stream",
     "text": [
      "X shape: (940935, 10)\n",
      "Y shape: (940935,)\n"
     ]
    }
   ],
   "source": [
    "Y = data.is_fraud.to_numpy()\n",
    "X = data.copy().drop(\"is_fraud\", axis = 1).to_numpy()\n",
    "\n",
    "print(\"X shape:\", X.shape)\n",
    "print(\"Y shape:\", Y.shape)\n",
    "\n"
   ]
  },
  {
   "cell_type": "code",
   "execution_count": 169,
   "id": "8eb15b34",
   "metadata": {},
   "outputs": [],
   "source": [
    "#split\n",
    "\n",
    "X_train, X_test, y_train, y_test = train_test_split(X, Y, test_size=0.20, random_state=RANDOM_STATE, \n",
    "                                                   stratify=Y)"
   ]
  },
  {
   "cell_type": "code",
   "execution_count": 170,
   "id": "8853b637",
   "metadata": {},
   "outputs": [
    {
     "name": "stdout",
     "output_type": "stream",
     "text": [
      "Train proportion 0.0016313560447852402\n",
      "Test proportion 0.0016313560447852402\n"
     ]
    }
   ],
   "source": [
    "train_proportion = len(y_train[y_train==1])/len(y_train)\n",
    "test_proportion = len(y_test[y_test==1])/len(y_test)\n",
    "\n",
    "print(\"Train proportion\", train_proportion)\n",
    "print(\"Test proportion\", test_proportion)"
   ]
  },
  {
   "cell_type": "code",
   "execution_count": 171,
   "id": "e3e1d8ac",
   "metadata": {},
   "outputs": [],
   "source": [
    "scaler = MinMaxScaler()\n",
    "\n",
    "X_train = scaler.fit_transform(X_train)\n",
    "test_features = scaler.transform(X_test)\n"
   ]
  },
  {
   "cell_type": "code",
   "execution_count": 31,
   "id": "a080c9e8",
   "metadata": {
    "scrolled": true
   },
   "outputs": [],
   "source": [
    "# model, this cell take some time. on CPU with no parallelism\n",
    "# start_time = time.time()\n",
    "\n",
    "# params = {\"n_estimators\": [100,200,500],\"max_depth\":[10,100,500],\n",
    "#           \"min_samples_split\":[2,4,10], \"max_features\":[\"log2\"],}\n",
    "\n",
    "\n",
    "# rf_classifier = RandomForestClassifier(max_depth=500, random_state=RANDOM_STATE, class_weight= \"balanced_subsample\", verbose=1)\n",
    "\n",
    "# clf = GridSearchCV(rf_classifier, params, scoring=\"f1_weighted\", refit=True, return_train_score=True, verbose=1)\n",
    "\n",
    "# clf.fit(X_train, y_train)\n",
    "\n",
    "# end_time = time.time()\n",
    "\n",
    "# print(\"Time:\", end_time - start_time)"
   ]
  },
  {
   "cell_type": "code",
   "execution_count": 111,
   "id": "936e59f3",
   "metadata": {
    "scrolled": false
   },
   "outputs": [
    {
     "data": {
      "text/plain": [
       "{'max_depth': 100,\n",
       " 'max_features': 'log2',\n",
       " 'min_samples_split': 2,\n",
       " 'n_estimators': 100}"
      ]
     },
     "execution_count": 111,
     "metadata": {},
     "output_type": "execute_result"
    }
   ],
   "source": [
    "clf.best_params_"
   ]
  },
  {
   "cell_type": "code",
   "execution_count": null,
   "id": "e190d3fb",
   "metadata": {},
   "outputs": [],
   "source": [
    "# {'max_depth': 100,\n",
    "#  'max_features': 'log2',\n",
    "#  'min_samples_split': 2,\n",
    "#  'n_estimators': 100}"
   ]
  },
  {
   "cell_type": "code",
   "execution_count": 172,
   "id": "23b4d7b8",
   "metadata": {},
   "outputs": [
    {
     "name": "stderr",
     "output_type": "stream",
     "text": [
      "[Parallel(n_jobs=-1)]: Using backend ThreadingBackend with 4 concurrent workers.\n",
      "[Parallel(n_jobs=-1)]: Done  42 tasks      | elapsed:  1.3min\n",
      "[Parallel(n_jobs=-1)]: Done 100 out of 100 | elapsed:  2.9min finished\n"
     ]
    },
    {
     "data": {
      "text/plain": [
       "RandomForestClassifier(class_weight='balanced_subsample', max_depth=100,\n",
       "                       max_features='log2', n_jobs=-1, random_state=35,\n",
       "                       verbose=1)"
      ]
     },
     "execution_count": 172,
     "metadata": {},
     "output_type": "execute_result"
    }
   ],
   "source": [
    "rf_classifier_tuned = RandomForestClassifier(max_depth= 100, max_features= 'log2', min_samples_split= 2, \n",
    "                                       n_estimators= 100, random_state=RANDOM_STATE, n_jobs= -1,\n",
    "                                       class_weight= \"balanced_subsample\", verbose=1)\n",
    "\n",
    "rf_classifier_tuned.fit(X_train, y_train)"
   ]
  },
  {
   "cell_type": "code",
   "execution_count": 173,
   "id": "1d1d0609",
   "metadata": {},
   "outputs": [
    {
     "name": "stderr",
     "output_type": "stream",
     "text": [
      "[Parallel(n_jobs=4)]: Using backend ThreadingBackend with 4 concurrent workers.\n",
      "[Parallel(n_jobs=4)]: Done  42 tasks      | elapsed:    2.7s\n",
      "[Parallel(n_jobs=4)]: Done 100 out of 100 | elapsed:    6.4s finished\n"
     ]
    },
    {
     "name": "stdout",
     "output_type": "stream",
     "text": [
      "Train F1 score 0.9999986712640441\n",
      "Train ROC AUC score 0.9995928338762214\n"
     ]
    },
    {
     "name": "stderr",
     "output_type": "stream",
     "text": [
      "[Parallel(n_jobs=4)]: Using backend ThreadingBackend with 4 concurrent workers.\n",
      "[Parallel(n_jobs=4)]: Done  42 tasks      | elapsed:    0.3s\n"
     ]
    },
    {
     "name": "stdout",
     "output_type": "stream",
     "text": [
      "Test F1 score 0.9975536318065971\n",
      "Test ROC AUC score 0.5\n",
      "Test PR curve score 0.5008156780223926\n"
     ]
    },
    {
     "name": "stderr",
     "output_type": "stream",
     "text": [
      "[Parallel(n_jobs=4)]: Done 100 out of 100 | elapsed:    0.7s finished\n"
     ]
    }
   ],
   "source": [
    "y_hat_train = rf_classifier_tuned.predict(X_train)\n",
    "\n",
    "rf_train_roc_auc_score = roc_auc_score(y_train, y_hat_train)\n",
    "rf_train_f1_score = f1_score(y_train, y_hat_train, average=\"weighted\")\n",
    "\n",
    "print(\"Train F1 score\", rf_train_f1_score)\n",
    "print(\"Train ROC AUC score\", rf_train_roc_auc_score)\n",
    "\n",
    "#testing\n",
    "\n",
    "y_hat_test = rf_classifier_tuned.predict(X_test)\n",
    "\n",
    "rf_test_roc_auc_score = roc_auc_score(y_test, y_hat_test)\n",
    "rf_test_f1_score = f1_score(y_test, y_hat_test, average=\"weighted\")\n",
    "precision, recall, thresholds_pr = precision_recall_curve(y_test, y_hat_test)\n",
    "AUC_PRcurve= auc(recall, precision)\n",
    "\n",
    "\n",
    "print(\"Test F1 score\", rf_test_f1_score)\n",
    "print(\"Test ROC AUC score\", rf_test_roc_auc_score)\n",
    "print(\"Test PR curve score\", AUC_PRcurve)"
   ]
  },
  {
   "cell_type": "code",
   "execution_count": 174,
   "id": "cce31704",
   "metadata": {},
   "outputs": [
    {
     "name": "stderr",
     "output_type": "stream",
     "text": [
      "[Parallel(n_jobs=-1)]: Using backend ThreadingBackend with 4 concurrent workers.\n",
      "[Parallel(n_jobs=-1)]: Done  42 tasks      | elapsed:  1.3min\n",
      "[Parallel(n_jobs=-1)]: Done 100 out of 100 | elapsed:  2.9min finished\n"
     ]
    },
    {
     "data": {
      "text/plain": [
       "RandomForestClassifier(class_weight='balanced_subsample', n_jobs=-1,\n",
       "                       random_state=35, verbose=1)"
      ]
     },
     "execution_count": 174,
     "metadata": {},
     "output_type": "execute_result"
    }
   ],
   "source": [
    "# rf_classifier = RandomForestClassifier(max_depth= 100, max_features= 'log2', min_samples_split= 2, \n",
    "#                                        n_estimators= 100, random_state=RANDOM_STATE, n_jobs= -1,\n",
    "#                                        class_weight= \"balanced_subsample\", verbose=1)\n",
    "\n",
    "rf_classifier = RandomForestClassifier(random_state=RANDOM_STATE, n_jobs= -1,\n",
    "                                       class_weight= \"balanced_subsample\", verbose=1)\n",
    "\n",
    "rf_classifier.fit(X_train, y_train)\n"
   ]
  },
  {
   "cell_type": "code",
   "execution_count": 175,
   "id": "b0a078a1",
   "metadata": {
    "scrolled": true
   },
   "outputs": [
    {
     "name": "stderr",
     "output_type": "stream",
     "text": [
      "[Parallel(n_jobs=4)]: Using backend ThreadingBackend with 4 concurrent workers.\n",
      "[Parallel(n_jobs=4)]: Done  42 tasks      | elapsed:    2.6s\n",
      "[Parallel(n_jobs=4)]: Done 100 out of 100 | elapsed:    6.6s finished\n"
     ]
    },
    {
     "name": "stdout",
     "output_type": "stream",
     "text": [
      "Train F1 score 0.9999986712640441\n",
      "Train ROC AUC score 0.9995928338762214\n"
     ]
    },
    {
     "name": "stderr",
     "output_type": "stream",
     "text": [
      "[Parallel(n_jobs=4)]: Using backend ThreadingBackend with 4 concurrent workers.\n",
      "[Parallel(n_jobs=4)]: Done  42 tasks      | elapsed:    0.2s\n",
      "[Parallel(n_jobs=4)]: Done 100 out of 100 | elapsed:    0.7s finished\n"
     ]
    },
    {
     "name": "stdout",
     "output_type": "stream",
     "text": [
      "Test F1 score 0.9975536318065971\n",
      "Test ROC AUC score 0.5\n",
      "Test PR curve score 0.5008156780223926\n"
     ]
    }
   ],
   "source": [
    "y_hat_train = rf_classifier.predict(X_train)\n",
    "\n",
    "rf_train_roc_auc_score = roc_auc_score(y_train, y_hat_train)\n",
    "rf_train_f1_score = f1_score(y_train, y_hat_train, average=\"weighted\")\n",
    "\n",
    "print(\"Train F1 score\", rf_train_f1_score)\n",
    "print(\"Train ROC AUC score\", rf_train_roc_auc_score)\n",
    "\n",
    "#testing\n",
    "\n",
    "y_hat_test = rf_classifier.predict(X_test)\n",
    "\n",
    "rf_test_roc_auc_score = roc_auc_score(y_test, y_hat_test)\n",
    "rf_test_f1_score = f1_score(y_test, y_hat_test, average=\"weighted\")\n",
    "precision, recall, thresholds_pr = precision_recall_curve(y_test, y_hat_test)\n",
    "AUC_PRcurve= auc(recall, precision)\n",
    "\n",
    "print(\"Test F1 score\", rf_test_f1_score)\n",
    "print(\"Test ROC AUC score\", rf_test_roc_auc_score)\n",
    "print(\"Test PR curve score\", AUC_PRcurve)"
   ]
  },
  {
   "cell_type": "code",
   "execution_count": 176,
   "id": "4d238459",
   "metadata": {},
   "outputs": [
    {
     "data": {
      "image/png": "[encoded data removed]",
      "text/plain": [
       "<Figure size 864x720 with 1 Axes>"
      ]
     },
     "metadata": {
      "needs_background": "light"
     },
     "output_type": "display_data"
    }
   ],
   "source": [
    "plt.figure(1)\n",
    "# plot no skill\n",
    "plt.plot([0, 1], [0.5, 0.5], linestyle='--')\n",
    "#plot PR curve\n",
    "plt.plot(precision, recall, label = \"AUC = {:0.2f}\".format(AUC_PRcurve), lw = 3, alpha = 0.7)\n",
    "plt.xlabel('Precision', fontsize = 14)\n",
    "plt.ylabel('Recall', fontsize = 14)\n",
    "plt.title('Precision-Recall Curve', fontsize = 18)\n",
    "plt.legend(loc='best')\n",
    "plt.show()"
   ]
  },
  {
   "cell_type": "code",
   "execution_count": 177,
   "id": "6c203d12",
   "metadata": {},
   "outputs": [],
   "source": [
    "#roc curve\n",
    "\n",
    "fpr, tpr, thresholds = roc_curve(y_test, y_hat_test)\n",
    "\n",
    "roc_auc = auc(fpr, tpr)"
   ]
  },
  {
   "cell_type": "code",
   "execution_count": 178,
   "id": "7b657a2c",
   "metadata": {
    "scrolled": false
   },
   "outputs": [
    {
     "data": {
      "image/png": "[encoded data removed]",
      "text/plain": [
       "<Figure size 864x720 with 1 Axes>"
      ]
     },
     "metadata": {
      "needs_background": "light"
     },
     "output_type": "display_data"
    }
   ],
   "source": [
    "plt.figure()\n",
    "lw = 2\n",
    "plt.plot(\n",
    "    fpr,\n",
    "    tpr,\n",
    "    color=\"darkorange\",\n",
    "    label=\"ROC curve (area = %0.2f)\" % roc_auc,\n",
    ")\n",
    "plt.plot([0, 1], [0, 1], color=\"navy\", linestyle=\"--\")\n",
    "plt.xlim([0.0, 1.0])\n",
    "plt.ylim([0.0, 1.05])\n",
    "plt.xlabel(\"False Positive Rate\")\n",
    "plt.ylabel(\"True Positive Rate\")\n",
    "plt.title(\"Receiver operating characteristic example\")\n",
    "plt.legend(loc=\"lower right\")\n",
    "plt.show()"
   ]
  },
  {
   "cell_type": "code",
   "execution_count": 75,
   "id": "cdcfef8d",
   "metadata": {},
   "outputs": [
    {
     "name": "stdout",
     "output_type": "stream",
     "text": [
      "Collecting tensorflow\n",
      "  Downloading tensorflow-2.7.0-cp37-cp37m-macosx_10_11_x86_64.whl (207.0 MB)\n",
      "     |████████████████████████████████| 207.0 MB 33 kB/s                                    | 61.6 MB 64.0 MB/s eta 0:00:03███████▍| 203.4 MB 40.7 MB/s eta 0:00:01\n",
      "\u001b[?25hCollecting grpcio<2.0,>=1.24.3\n",
      "  Downloading grpcio-1.42.0-cp37-cp37m-macosx_10_10_x86_64.whl (4.0 MB)\n",
      "     |████████████████████████████████| 4.0 MB 32.2 MB/s            \n",
      "\u001b[?25hRequirement already satisfied: numpy>=1.14.5 in /Users/ymquint/Documents/Economapas/economapas/lib/python3.7/site-packages (from tensorflow) (1.21.4)\n",
      "Collecting keras<2.8,>=2.7.0rc0\n",
      "  Downloading keras-2.7.0-py2.py3-none-any.whl (1.3 MB)\n",
      "     |████████████████████████████████| 1.3 MB 70.9 MB/s            \n",
      "\u001b[?25hRequirement already satisfied: six>=1.12.0 in /Users/ymquint/Documents/Economapas/economapas/lib/python3.7/site-packages (from tensorflow) (1.16.0)\n",
      "Collecting absl-py>=0.4.0\n",
      "  Downloading absl_py-1.0.0-py3-none-any.whl (126 kB)\n",
      "     |████████████████████████████████| 126 kB 41.4 MB/s            \n",
      "\u001b[?25hCollecting gast<0.5.0,>=0.2.1\n",
      "  Using cached gast-0.4.0-py3-none-any.whl (9.8 kB)\n",
      "Collecting tensorboard~=2.6\n",
      "  Downloading tensorboard-2.7.0-py3-none-any.whl (5.8 MB)\n",
      "     |████████████████████████████████| 5.8 MB 29.1 MB/s            \n",
      "\u001b[?25hCollecting termcolor>=1.1.0\n",
      "  Using cached termcolor-1.1.0.tar.gz (3.9 kB)\n",
      "  Preparing metadata (setup.py) ... \u001b[?25ldone\n",
      "\u001b[?25hCollecting opt-einsum>=2.3.2\n",
      "  Using cached opt_einsum-3.3.0-py3-none-any.whl (65 kB)\n",
      "Collecting google-pasta>=0.1.1\n",
      "  Using cached google_pasta-0.2.0-py3-none-any.whl (57 kB)\n",
      "Collecting protobuf>=3.9.2\n",
      "  Downloading protobuf-3.19.1-cp37-cp37m-macosx_10_9_x86_64.whl (1.0 MB)\n",
      "     |████████████████████████████████| 1.0 MB 46.3 MB/s            \n",
      "\u001b[?25hCollecting libclang>=9.0.1\n",
      "  Downloading libclang-12.0.0-py2.py3-none-macosx_10_9_x86_64.whl (12.2 MB)\n",
      "     |████████████████████████████████| 12.2 MB 44.1 MB/s            \n",
      "\u001b[?25hCollecting keras-preprocessing>=1.1.1\n",
      "  Using cached Keras_Preprocessing-1.1.2-py2.py3-none-any.whl (42 kB)\n",
      "Collecting h5py>=2.9.0\n",
      "  Downloading h5py-3.6.0-cp37-cp37m-macosx_10_9_x86_64.whl (3.1 MB)\n",
      "     |████████████████████████████████| 3.1 MB 31.7 MB/s            \n",
      "\u001b[?25hCollecting flatbuffers<3.0,>=1.12\n",
      "  Downloading flatbuffers-2.0-py2.py3-none-any.whl (26 kB)\n",
      "Requirement already satisfied: typing-extensions>=3.6.6 in /Users/ymquint/Documents/Economapas/economapas/lib/python3.7/site-packages (from tensorflow) (4.0.0)\n",
      "Collecting tensorflow-io-gcs-filesystem>=0.21.0\n",
      "  Downloading tensorflow_io_gcs_filesystem-0.22.0-cp37-cp37m-macosx_10_14_x86_64.whl (1.6 MB)\n",
      "     |████████████████████████████████| 1.6 MB 65.1 MB/s            \n",
      "\u001b[?25hCollecting wheel<1.0,>=0.32.0\n",
      "  Using cached wheel-0.37.0-py2.py3-none-any.whl (35 kB)\n",
      "Collecting astunparse>=1.6.0\n",
      "  Using cached astunparse-1.6.3-py2.py3-none-any.whl (12 kB)\n",
      "Collecting tensorflow-estimator<2.8,~=2.7.0rc0\n",
      "  Downloading tensorflow_estimator-2.7.0-py2.py3-none-any.whl (463 kB)\n",
      "     |████████████████████████████████| 463 kB 34.9 MB/s            \n",
      "\u001b[?25hCollecting wrapt>=1.11.0\n",
      "  Downloading wrapt-1.13.3-cp37-cp37m-macosx_10_9_x86_64.whl (33 kB)\n",
      "Collecting cached-property\n",
      "  Downloading cached_property-1.5.2-py2.py3-none-any.whl (7.6 kB)\n",
      "Requirement already satisfied: setuptools>=41.0.0 in /Users/ymquint/Documents/Economapas/economapas/lib/python3.7/site-packages (from tensorboard~=2.6->tensorflow) (47.1.0)\n",
      "Collecting werkzeug>=0.11.15\n",
      "  Downloading Werkzeug-2.0.2-py3-none-any.whl (288 kB)\n",
      "     |████████████████████████████████| 288 kB 40.3 MB/s            \n",
      "\u001b[?25hCollecting markdown>=2.6.8\n",
      "  Downloading Markdown-3.3.6-py3-none-any.whl (97 kB)\n",
      "     |████████████████████████████████| 97 kB 9.8 MB/s             \n",
      "\u001b[?25hCollecting tensorboard-plugin-wit>=1.6.0\n",
      "  Using cached tensorboard_plugin_wit-1.8.0-py3-none-any.whl (781 kB)\n",
      "Collecting google-auth-oauthlib<0.5,>=0.4.1\n",
      "  Using cached google_auth_oauthlib-0.4.6-py2.py3-none-any.whl (18 kB)\n",
      "Collecting tensorboard-data-server<0.7.0,>=0.6.0\n",
      "  Using cached tensorboard_data_server-0.6.1-py3-none-macosx_10_9_x86_64.whl (3.5 MB)\n",
      "Collecting google-auth<3,>=1.6.3\n",
      "  Downloading google_auth-2.3.3-py2.py3-none-any.whl (155 kB)\n",
      "     |████████████████████████████████| 155 kB 40.0 MB/s            \n",
      "\u001b[?25hRequirement already satisfied: requests<3,>=2.21.0 in /Users/ymquint/Documents/Economapas/economapas/lib/python3.7/site-packages (from tensorboard~=2.6->tensorflow) (2.26.0)\n",
      "Collecting rsa<5,>=3.1.4\n",
      "  Downloading rsa-4.8-py3-none-any.whl (39 kB)\n",
      "Collecting cachetools<5.0,>=2.0.0\n",
      "  Downloading cachetools-4.2.4-py3-none-any.whl (10 kB)\n",
      "Collecting pyasn1-modules>=0.2.1\n",
      "  Using cached pyasn1_modules-0.2.8-py2.py3-none-any.whl (155 kB)\n",
      "Collecting requests-oauthlib>=0.7.0\n",
      "  Using cached requests_oauthlib-1.3.0-py2.py3-none-any.whl (23 kB)\n",
      "Requirement already satisfied: importlib-metadata>=4.4 in /Users/ymquint/Documents/Economapas/economapas/lib/python3.7/site-packages (from markdown>=2.6.8->tensorboard~=2.6->tensorflow) (4.8.2)\n",
      "Requirement already satisfied: urllib3<1.27,>=1.21.1 in /Users/ymquint/Documents/Economapas/economapas/lib/python3.7/site-packages (from requests<3,>=2.21.0->tensorboard~=2.6->tensorflow) (1.26.7)\n",
      "Requirement already satisfied: charset-normalizer~=2.0.0 in /Users/ymquint/Documents/Economapas/economapas/lib/python3.7/site-packages (from requests<3,>=2.21.0->tensorboard~=2.6->tensorflow) (2.0.8)\n",
      "Requirement already satisfied: certifi>=2017.4.17 in /Users/ymquint/Documents/Economapas/economapas/lib/python3.7/site-packages (from requests<3,>=2.21.0->tensorboard~=2.6->tensorflow) (2021.10.8)\n",
      "Requirement already satisfied: idna<4,>=2.5 in /Users/ymquint/Documents/Economapas/economapas/lib/python3.7/site-packages (from requests<3,>=2.21.0->tensorboard~=2.6->tensorflow) (3.3)\n",
      "Requirement already satisfied: zipp>=0.5 in /Users/ymquint/Documents/Economapas/economapas/lib/python3.7/site-packages (from importlib-metadata>=4.4->markdown>=2.6.8->tensorboard~=2.6->tensorflow) (3.6.0)\n",
      "Collecting pyasn1<0.5.0,>=0.4.6\n",
      "  Using cached pyasn1-0.4.8-py2.py3-none-any.whl (77 kB)\n",
      "Collecting oauthlib>=3.0.0\n",
      "  Using cached oauthlib-3.1.1-py2.py3-none-any.whl (146 kB)\n",
      "Using legacy 'setup.py install' for termcolor, since package 'wheel' is not installed.\n",
      "Installing collected packages: pyasn1, rsa, pyasn1-modules, oauthlib, cachetools, requests-oauthlib, google-auth, wheel, werkzeug, tensorboard-plugin-wit, tensorboard-data-server, protobuf, markdown, grpcio, google-auth-oauthlib, cached-property, absl-py, wrapt, termcolor, tensorflow-io-gcs-filesystem, tensorflow-estimator, tensorboard, opt-einsum, libclang, keras-preprocessing, keras, h5py, google-pasta, gast, flatbuffers, astunparse, tensorflow\n",
      "    Running setup.py install for termcolor ... \u001b[?25ldone\n",
      "\u001b[?25hSuccessfully installed absl-py-1.0.0 astunparse-1.6.3 cached-property-1.5.2 cachetools-4.2.4 flatbuffers-2.0 gast-0.4.0 google-auth-2.3.3 google-auth-oauthlib-0.4.6 google-pasta-0.2.0 grpcio-1.42.0 h5py-3.6.0 keras-2.7.0 keras-preprocessing-1.1.2 libclang-12.0.0 markdown-3.3.6 oauthlib-3.1.1 opt-einsum-3.3.0 protobuf-3.19.1 pyasn1-0.4.8 pyasn1-modules-0.2.8 requests-oauthlib-1.3.0 rsa-4.8 tensorboard-2.7.0 tensorboard-data-server-0.6.1 tensorboard-plugin-wit-1.8.0 tensorflow-2.7.0 tensorflow-estimator-2.7.0 tensorflow-io-gcs-filesystem-0.22.0 termcolor-1.1.0 werkzeug-2.0.2 wheel-0.37.0 wrapt-1.13.3\n"
     ]
    }
   ],
   "source": [
    "!pip install tensorflow"
   ]
  },
  {
   "cell_type": "code",
   "execution_count": 78,
   "id": "2e9fb600",
   "metadata": {},
   "outputs": [],
   "source": [
    "#LSTM\n",
    "import tensorflow as tf\n",
    "\n",
    "from tensorflow.keras.layers import LSTM, BatchNormalization, Dense\n",
    "from tensorflow.keras import Model, Input, Sequential"
   ]
  },
  {
   "cell_type": "code",
   "execution_count": 143,
   "id": "84397725",
   "metadata": {},
   "outputs": [],
   "source": [
    "#load data\n",
    "\n",
    "data_ts = data_raw.copy()"
   ]
  },
  {
   "cell_type": "code",
   "execution_count": 183,
   "id": "3c0fb181",
   "metadata": {
    "scrolled": false
   },
   "outputs": [
    {
     "data": {
      "text/html": [
       "<div>\n",
       "<style scoped>\n",
       "    .dataframe tbody tr th:only-of-type {\n",
       "        vertical-align: middle;\n",
       "    }\n",
       "\n",
       "    .dataframe tbody tr th {\n",
       "        vertical-align: top;\n",
       "    }\n",
       "\n",
       "    .dataframe thead th {\n",
       "        text-align: right;\n",
       "    }\n",
       "</style>\n",
       "<table border=\"1\" class=\"dataframe\">\n",
       "  <thead>\n",
       "    <tr style=\"text-align: right;\">\n",
       "      <th></th>\n",
       "      <th>account_id</th>\n",
       "      <th>device_id</th>\n",
       "      <th>balance</th>\n",
       "      <th>processed_at</th>\n",
       "      <th>is_fraud</th>\n",
       "      <th>age_range</th>\n",
       "      <th>number_of_selfies_sent</th>\n",
       "      <th>time_client</th>\n",
       "      <th>cash_out_type_1</th>\n",
       "      <th>cash_out_type_2</th>\n",
       "      <th>cash_out_type_3</th>\n",
       "      <th>cash_out_type_6</th>\n",
       "    </tr>\n",
       "  </thead>\n",
       "  <tbody>\n",
       "    <tr>\n",
       "      <th>0</th>\n",
       "      <td>0</td>\n",
       "      <td>0</td>\n",
       "      <td>0.000167</td>\n",
       "      <td>1.542826e+09</td>\n",
       "      <td>0</td>\n",
       "      <td>0.0</td>\n",
       "      <td>5.0</td>\n",
       "      <td>8.783463e+05</td>\n",
       "      <td>1</td>\n",
       "      <td>0</td>\n",
       "      <td>0</td>\n",
       "      <td>0</td>\n",
       "    </tr>\n",
       "    <tr>\n",
       "      <th>1</th>\n",
       "      <td>1</td>\n",
       "      <td>0</td>\n",
       "      <td>0.000533</td>\n",
       "      <td>1.540263e+09</td>\n",
       "      <td>0</td>\n",
       "      <td>1.0</td>\n",
       "      <td>5.0</td>\n",
       "      <td>9.689721e+06</td>\n",
       "      <td>0</td>\n",
       "      <td>0</td>\n",
       "      <td>1</td>\n",
       "      <td>0</td>\n",
       "    </tr>\n",
       "    <tr>\n",
       "      <th>2</th>\n",
       "      <td>1</td>\n",
       "      <td>0</td>\n",
       "      <td>0.000347</td>\n",
       "      <td>1.542655e+09</td>\n",
       "      <td>0</td>\n",
       "      <td>1.0</td>\n",
       "      <td>5.0</td>\n",
       "      <td>1.208182e+07</td>\n",
       "      <td>0</td>\n",
       "      <td>0</td>\n",
       "      <td>1</td>\n",
       "      <td>0</td>\n",
       "    </tr>\n",
       "    <tr>\n",
       "      <th>3</th>\n",
       "      <td>1</td>\n",
       "      <td>0</td>\n",
       "      <td>0.000572</td>\n",
       "      <td>1.540837e+09</td>\n",
       "      <td>0</td>\n",
       "      <td>1.0</td>\n",
       "      <td>5.0</td>\n",
       "      <td>1.026435e+07</td>\n",
       "      <td>0</td>\n",
       "      <td>0</td>\n",
       "      <td>1</td>\n",
       "      <td>0</td>\n",
       "    </tr>\n",
       "    <tr>\n",
       "      <th>4</th>\n",
       "      <td>1</td>\n",
       "      <td>0</td>\n",
       "      <td>0.000346</td>\n",
       "      <td>1.540998e+09</td>\n",
       "      <td>0</td>\n",
       "      <td>1.0</td>\n",
       "      <td>5.0</td>\n",
       "      <td>1.042547e+07</td>\n",
       "      <td>0</td>\n",
       "      <td>0</td>\n",
       "      <td>1</td>\n",
       "      <td>0</td>\n",
       "    </tr>\n",
       "  </tbody>\n",
       "</table>\n",
       "</div>"
      ],
      "text/plain": [
       "   account_id  device_id   balance  processed_at  is_fraud  age_range  \\\n",
       "0           0          0  0.000167  1.542826e+09         0        0.0   \n",
       "1           1          0  0.000533  1.540263e+09         0        1.0   \n",
       "2           1          0  0.000347  1.542655e+09         0        1.0   \n",
       "3           1          0  0.000572  1.540837e+09         0        1.0   \n",
       "4           1          0  0.000346  1.540998e+09         0        1.0   \n",
       "\n",
       "   number_of_selfies_sent   time_client  cash_out_type_1  cash_out_type_2  \\\n",
       "0                     5.0  8.783463e+05                1                0   \n",
       "1                     5.0  9.689721e+06                0                0   \n",
       "2                     5.0  1.208182e+07                0                0   \n",
       "3                     5.0  1.026435e+07                0                0   \n",
       "4                     5.0  1.042547e+07                0                0   \n",
       "\n",
       "   cash_out_type_3  cash_out_type_6  \n",
       "0                0                0  \n",
       "1                1                0  \n",
       "2                1                0  \n",
       "3                1                0  \n",
       "4                1                0  "
      ]
     },
     "execution_count": 183,
     "metadata": {},
     "output_type": "execute_result"
    }
   ],
   "source": [
    "data_ts.head()"
   ]
  },
  {
   "cell_type": "code",
   "execution_count": 214,
   "id": "048431ae",
   "metadata": {},
   "outputs": [
    {
     "name": "stdout",
     "output_type": "stream",
     "text": [
      "Collecting tqdm\n",
      "  Cloning https://github.com/tqdm/tqdm.git (to revision devel) to /private/var/folders/jn/ck8kvq0d4h7bjzszjkxcp7tw0000gn/T/pip-install-3zel4fb9/tqdm_66e6677ce8a542f48cf9c1c972b6444c\n",
      "  Running command git clone --filter=blob:none -q https://github.com/tqdm/tqdm.git /private/var/folders/jn/ck8kvq0d4h7bjzszjkxcp7tw0000gn/T/pip-install-3zel4fb9/tqdm_66e6677ce8a542f48cf9c1c972b6444c\n",
      "  Running command git checkout -b devel --track origin/devel\n",
      "  Switched to a new branch 'devel'\n",
      "  Branch 'devel' set up to track remote branch 'devel' from 'origin'.\n",
      "  Resolved https://github.com/tqdm/tqdm.git to commit 6c930f5d84a30a3c4dc74ff0e1081af7939ae44a\n",
      "  Installing build dependencies ... \u001b[?25ldone\n",
      "\u001b[?25h  Getting requirements to build wheel ... \u001b[?25ldone\n",
      "\u001b[?25h  Preparing metadata (pyproject.toml) ... \u001b[?25ldone\n",
      "\u001b[?25hBuilding wheels for collected packages: tqdm\n",
      "  Building wheel for tqdm (pyproject.toml) ... \u001b[?25ldone\n",
      "\u001b[?25h  Created wheel for tqdm: filename=tqdm-4.62.4.dev6+g6c930f5-py2.py3-none-any.whl size=76587 sha256=2282293f98a26e1a84b69741393663c7196c9c9d0f7a4b4d479d2531e72d3e4b\n",
      "  Stored in directory: /private/var/folders/jn/ck8kvq0d4h7bjzszjkxcp7tw0000gn/T/pip-ephem-wheel-cache-0ktpwn1z/wheels/79/b3/1f/08fe2f42aa25206609a7a683d155aba489b0369e8f398d2f29\n",
      "Successfully built tqdm\n",
      "Installing collected packages: tqdm\n",
      "Successfully installed tqdm-4.62.4.dev6+g6c930f5\n",
      "Note: you may need to restart the kernel to use updated packages.\n"
     ]
    }
   ],
   "source": [
    "pip install \"git+https://github.com/tqdm/tqdm.git@devel#egg=tqdm\""
   ]
  },
  {
   "cell_type": "code",
   "execution_count": 215,
   "id": "863a6e05",
   "metadata": {},
   "outputs": [],
   "source": [
    "from tqdm import tqdm"
   ]
  },
  {
   "cell_type": "code",
   "execution_count": 331,
   "id": "1f6c63df",
   "metadata": {},
   "outputs": [],
   "source": [
    "def group_by_time_sort(df, group_column, sort_column, debug=False):\n",
    "    \n",
    "    \n",
    "    grouped_sorted = []\n",
    "    \n",
    "    unique_accounts = df[group_column].unique()\n",
    "    \n",
    "    max_sample_size = max(df.groupby(group_column)[group_column].count())\n",
    "    \n",
    "    for unique in tqdm(unique_accounts):\n",
    "        \n",
    "        unique_df = df[df[group_column] == unique].copy()\n",
    "        \n",
    "        unique_df_sorted = unique_df.sort_values(sort_column, axis=0)\n",
    "        \n",
    "        unique_df_sorted.drop([\"account_id\", \"processed_at\"],axis=1, inplace=True)\n",
    "        \n",
    "        #working with numpy\n",
    "        unique_sorted = np.array(unique_df_sorted)\n",
    "        \n",
    "        unique_sorted = np.expand_dims(unique_sorted, axis=0)\n",
    "        \n",
    "        sample_size = unique_sorted.shape[1]\n",
    "        \n",
    "        if sample_size < max_sample_size:\n",
    "            \n",
    "            value_to_pad = max_sample_size - sample_size\n",
    "            \n",
    "            unique_sorted = np.pad(unique_sorted, ((0,0),(0,value_to_pad),(0,0)))   #padding after\n",
    "            \n",
    "            assert unique_sorted.shape[1] == max_sample_size\n",
    "            assert len(unique_sorted.shape) == 3\n",
    "        \n",
    "        if unique == 0:\n",
    "            grouped_sorted = unique_sorted\n",
    "        \n",
    "        else:\n",
    "            grouped_sorted = np.concatenate((grouped_sorted, unique_sorted), axis=0)\n",
    "            \n",
    "    assert grouped_sorted.shape == (len(unique_accounts), max_sample_size, 10)\n",
    "            \n",
    "        \n",
    "    return grouped_sorted"
   ]
  },
  {
   "cell_type": "code",
   "execution_count": null,
   "id": "b75c7761",
   "metadata": {
    "scrolled": false
   },
   "outputs": [
    {
     "name": "stderr",
     "output_type": "stream",
     "text": [
      "  3%|█████▍                                                                                                                                                       | 2223/63723 [24:14<15:52:35,  1.08it/s]"
     ]
    }
   ],
   "source": [
    "data_grouoped_sorted = group_by_time_sort(data_ts, \"account_id\", \"processed_at\")"
   ]
  },
  {
   "cell_type": "code",
   "execution_count": 111,
   "id": "8e168b65",
   "metadata": {},
   "outputs": [],
   "source": [
    "\n",
    "\n",
    "train_df, test_df = train_test_split(data_ts, test_size=0.2, stratify=data_ts.is_fraud)\n",
    "train_df, val_df = train_test_split(data_ts, test_size=0.2, stratify=data_ts.is_fraud)\n",
    "\n",
    "train_labels = np.array(train_df.pop('is_fraud'))\n",
    "bool_train_labels = train_labels != 0\n",
    "val_labels = np.array(val_df.pop('is_fraud'))\n",
    "test_labels = np.array(test_df.pop('is_fraud'))\n",
    "\n",
    "train_features = np.array(train_df)\n",
    "val_features = np.array(val_df)\n",
    "test_features = np.array(test_df)"
   ]
  },
  {
   "cell_type": "code",
   "execution_count": 112,
   "id": "3e52a486",
   "metadata": {},
   "outputs": [
    {
     "name": "stdout",
     "output_type": "stream",
     "text": [
      "Train proportion 0.0016313560447852402\n",
      "Test proportion 0.0016313560447852402\n",
      "Val proportion 0.0016313560447852402\n"
     ]
    }
   ],
   "source": [
    "train_proportion = len(train_labels[train_labels==1])/len(train_labels)\n",
    "test_proportion = len(test_labels[test_labels==1])/len(test_labels)\n",
    "val_proportion = len(val_labels[val_labels==1])/len(val_labels)\n",
    "\n",
    "print(\"Train proportion\", train_proportion)\n",
    "print(\"Test proportion\", test_proportion)\n",
    "print(\"Val proportion\", val_proportion)"
   ]
  },
  {
   "cell_type": "code",
   "execution_count": 119,
   "id": "10c9457d",
   "metadata": {
    "scrolled": false
   },
   "outputs": [
    {
     "name": "stdout",
     "output_type": "stream",
     "text": [
      "Training labels shape: (752748,)\n",
      "Validation labels shape: (188187,)\n",
      "Test labels shape: (188187,)\n",
      "Training features shape: (752748, 10)\n",
      "Validation features shape: (188187, 10)\n",
      "Test features shape: (188187, 10)\n"
     ]
    }
   ],
   "source": [
    "scaler = MinMaxScaler()\n",
    "\n",
    "train_features = scaler.fit_transform(train_features)\n",
    "\n",
    "val_features = scaler.transform(val_features)\n",
    "test_features = scaler.transform(test_features)\n",
    "\n",
    "\n",
    "print('Training labels shape:', train_labels.shape)\n",
    "print('Validation labels shape:', val_labels.shape)\n",
    "print('Test labels shape:', test_labels.shape)\n",
    "\n",
    "print('Training features shape:', train_features.shape)\n",
    "print('Validation features shape:', val_features.shape)\n",
    "print('Test features shape:', test_features.shape)"
   ]
  },
  {
   "cell_type": "code",
   "execution_count": 126,
   "id": "1753a8d9",
   "metadata": {},
   "outputs": [],
   "source": [
    "metrics = [tf.keras.metrics.BinaryAccuracy(name=\"ba\"),\n",
    "           tf.keras.metrics.FalsePositives(name=\"fp\"),\n",
    "           tf.keras.metrics.AUC(name=\"auc\"),\n",
    "           tf.keras.metrics.AUC(name=\"prc\", curve='PR')]"
   ]
  },
  {
   "cell_type": "code",
   "execution_count": 131,
   "id": "a413b643",
   "metadata": {},
   "outputs": [
    {
     "ename": "ValueError",
     "evalue": "Input 0 of layer \"lstm_5\" is incompatible with the layer: expected ndim=3, found ndim=2. Full shape received: (None, 10)",
     "output_type": "error",
     "traceback": [
      "\u001b[0;31m---------------------------------------------------------------------------\u001b[0m",
      "\u001b[0;31mValueError\u001b[0m                                Traceback (most recent call last)",
      "\u001b[0;32m/var/folders/jn/ck8kvq0d4h7bjzszjkxcp7tw0000gn/T/ipykernel_5840/542470307.py\u001b[0m in \u001b[0;36m<module>\u001b[0;34m\u001b[0m\n\u001b[1;32m     12\u001b[0m     \u001b[0mInput\u001b[0m\u001b[0;34m(\u001b[0m\u001b[0mtrain_features\u001b[0m\u001b[0;34m.\u001b[0m\u001b[0mshape\u001b[0m\u001b[0;34m[\u001b[0m\u001b[0;34m-\u001b[0m\u001b[0;36m1\u001b[0m\u001b[0;34m]\u001b[0m\u001b[0;34m,\u001b[0m\u001b[0;34m)\u001b[0m\u001b[0;34m,\u001b[0m\u001b[0;34m\u001b[0m\u001b[0;34m\u001b[0m\u001b[0m\n\u001b[1;32m     13\u001b[0m     \u001b[0mLSTM\u001b[0m\u001b[0;34m(\u001b[0m\u001b[0;36m20\u001b[0m\u001b[0;34m,\u001b[0m \u001b[0mactivation\u001b[0m\u001b[0;34m=\u001b[0m\u001b[0;34m\"relu\"\u001b[0m\u001b[0;34m)\u001b[0m\u001b[0;34m,\u001b[0m\u001b[0;34m\u001b[0m\u001b[0;34m\u001b[0m\u001b[0m\n\u001b[0;32m---> 14\u001b[0;31m     \u001b[0mDense\u001b[0m\u001b[0;34m(\u001b[0m\u001b[0;36m1\u001b[0m\u001b[0;34m,\u001b[0m \u001b[0mactivation\u001b[0m\u001b[0;34m=\u001b[0m\u001b[0;34m\"sigmoid\"\u001b[0m\u001b[0;34m)\u001b[0m\u001b[0;34m\u001b[0m\u001b[0;34m\u001b[0m\u001b[0m\n\u001b[0m\u001b[1;32m     15\u001b[0m ])\n\u001b[1;32m     16\u001b[0m \u001b[0;34m\u001b[0m\u001b[0m\n",
      "\u001b[0;32m~/Documents/Economapas/economapas/lib/python3.7/site-packages/tensorflow/python/training/tracking/base.py\u001b[0m in \u001b[0;36m_method_wrapper\u001b[0;34m(self, *args, **kwargs)\u001b[0m\n\u001b[1;32m    528\u001b[0m     \u001b[0mself\u001b[0m\u001b[0;34m.\u001b[0m\u001b[0m_self_setattr_tracking\u001b[0m \u001b[0;34m=\u001b[0m \u001b[0;32mFalse\u001b[0m  \u001b[0;31m# pylint: disable=protected-access\u001b[0m\u001b[0;34m\u001b[0m\u001b[0;34m\u001b[0m\u001b[0m\n\u001b[1;32m    529\u001b[0m     \u001b[0;32mtry\u001b[0m\u001b[0;34m:\u001b[0m\u001b[0;34m\u001b[0m\u001b[0;34m\u001b[0m\u001b[0m\n\u001b[0;32m--> 530\u001b[0;31m       \u001b[0mresult\u001b[0m \u001b[0;34m=\u001b[0m \u001b[0mmethod\u001b[0m\u001b[0;34m(\u001b[0m\u001b[0mself\u001b[0m\u001b[0;34m,\u001b[0m \u001b[0;34m*\u001b[0m\u001b[0margs\u001b[0m\u001b[0;34m,\u001b[0m \u001b[0;34m**\u001b[0m\u001b[0mkwargs\u001b[0m\u001b[0;34m)\u001b[0m\u001b[0;34m\u001b[0m\u001b[0;34m\u001b[0m\u001b[0m\n\u001b[0m\u001b[1;32m    531\u001b[0m     \u001b[0;32mfinally\u001b[0m\u001b[0;34m:\u001b[0m\u001b[0;34m\u001b[0m\u001b[0;34m\u001b[0m\u001b[0m\n\u001b[1;32m    532\u001b[0m       \u001b[0mself\u001b[0m\u001b[0;34m.\u001b[0m\u001b[0m_self_setattr_tracking\u001b[0m \u001b[0;34m=\u001b[0m \u001b[0mprevious_value\u001b[0m  \u001b[0;31m# pylint: disable=protected-access\u001b[0m\u001b[0;34m\u001b[0m\u001b[0;34m\u001b[0m\u001b[0m\n",
      "\u001b[0;32m~/Documents/Economapas/economapas/lib/python3.7/site-packages/keras/utils/traceback_utils.py\u001b[0m in \u001b[0;36merror_handler\u001b[0;34m(*args, **kwargs)\u001b[0m\n\u001b[1;32m     65\u001b[0m     \u001b[0;32mexcept\u001b[0m \u001b[0mException\u001b[0m \u001b[0;32mas\u001b[0m \u001b[0me\u001b[0m\u001b[0;34m:\u001b[0m  \u001b[0;31m# pylint: disable=broad-except\u001b[0m\u001b[0;34m\u001b[0m\u001b[0;34m\u001b[0m\u001b[0m\n\u001b[1;32m     66\u001b[0m       \u001b[0mfiltered_tb\u001b[0m \u001b[0;34m=\u001b[0m \u001b[0m_process_traceback_frames\u001b[0m\u001b[0;34m(\u001b[0m\u001b[0me\u001b[0m\u001b[0;34m.\u001b[0m\u001b[0m__traceback__\u001b[0m\u001b[0;34m)\u001b[0m\u001b[0;34m\u001b[0m\u001b[0;34m\u001b[0m\u001b[0m\n\u001b[0;32m---> 67\u001b[0;31m       \u001b[0;32mraise\u001b[0m \u001b[0me\u001b[0m\u001b[0;34m.\u001b[0m\u001b[0mwith_traceback\u001b[0m\u001b[0;34m(\u001b[0m\u001b[0mfiltered_tb\u001b[0m\u001b[0;34m)\u001b[0m \u001b[0;32mfrom\u001b[0m \u001b[0;32mNone\u001b[0m\u001b[0;34m\u001b[0m\u001b[0;34m\u001b[0m\u001b[0m\n\u001b[0m\u001b[1;32m     68\u001b[0m     \u001b[0;32mfinally\u001b[0m\u001b[0;34m:\u001b[0m\u001b[0;34m\u001b[0m\u001b[0;34m\u001b[0m\u001b[0m\n\u001b[1;32m     69\u001b[0m       \u001b[0;32mdel\u001b[0m \u001b[0mfiltered_tb\u001b[0m\u001b[0;34m\u001b[0m\u001b[0;34m\u001b[0m\u001b[0m\n",
      "\u001b[0;32m~/Documents/Economapas/economapas/lib/python3.7/site-packages/keras/engine/input_spec.py\u001b[0m in \u001b[0;36massert_input_compatibility\u001b[0;34m(input_spec, inputs, layer_name)\u001b[0m\n\u001b[1;32m    211\u001b[0m       \u001b[0mndim\u001b[0m \u001b[0;34m=\u001b[0m \u001b[0mshape\u001b[0m\u001b[0;34m.\u001b[0m\u001b[0mrank\u001b[0m\u001b[0;34m\u001b[0m\u001b[0;34m\u001b[0m\u001b[0m\n\u001b[1;32m    212\u001b[0m       \u001b[0;32mif\u001b[0m \u001b[0mndim\u001b[0m \u001b[0;34m!=\u001b[0m \u001b[0mspec\u001b[0m\u001b[0;34m.\u001b[0m\u001b[0mndim\u001b[0m\u001b[0;34m:\u001b[0m\u001b[0;34m\u001b[0m\u001b[0;34m\u001b[0m\u001b[0m\n\u001b[0;32m--> 213\u001b[0;31m         raise ValueError(f'Input {input_index} of layer \"{layer_name}\" '\n\u001b[0m\u001b[1;32m    214\u001b[0m                          \u001b[0;34m'is incompatible with the layer: '\u001b[0m\u001b[0;34m\u001b[0m\u001b[0;34m\u001b[0m\u001b[0m\n\u001b[1;32m    215\u001b[0m                          \u001b[0;34mf'expected ndim={spec.ndim}, found ndim={ndim}. '\u001b[0m\u001b[0;34m\u001b[0m\u001b[0;34m\u001b[0m\u001b[0m\n",
      "\u001b[0;31mValueError\u001b[0m: Input 0 of layer \"lstm_5\" is incompatible with the layer: expected ndim=3, found ndim=2. Full shape received: (None, 10)"
     ]
    }
   ],
   "source": [
    "EPOCHS = 100\n",
    "BATCH_SIZE = 2048\n",
    "\n",
    "early_stopping = tf.keras.callbacks.EarlyStopping(\n",
    "    monitor='val_prc', \n",
    "    verbose=1,\n",
    "    patience=10,\n",
    "    mode='max',\n",
    "    restore_best_weights=True)\n",
    "\n",
    "model = Sequential([\n",
    "    Input(train_features.shape[-1],),\n",
    "    LSTM(8, activation=\"relu\"),\n",
    "    Dense(1, activation=\"sigmoid\") \n",
    "])\n",
    "\n",
    "model.compile(optimizer=tf.keras.optimizers.Adam(learning_rate=1e-3),\n",
    "              loss=tf.keras.losses.BinaryCrossentropy(),\n",
    "              metrics=metrics,\n",
    "              callbacks=[early_stopping]\n",
    ")\n",
    "\n",
    "model.summary()"
   ]
  },
  {
   "cell_type": "code",
   "execution_count": null,
   "id": "883863fd",
   "metadata": {},
   "outputs": [],
   "source": [
    "history = model.fit()"
   ]
  }
 ],
 "metadata": {
  "kernelspec": {
   "display_name": "Python 3 (ipykernel)",
   "language": "python",
   "name": "python3"
  },
  "language_info": {
   "codemirror_mode": {
    "name": "ipython",
    "version": 3
   },
   "file_extension": ".py",
   "mimetype": "text/x-python",
   "name": "python",
   "nbconvert_exporter": "python",
   "pygments_lexer": "ipython3",
   "version": "3.7.11"
  }
 },
 "nbformat": 4,
 "nbformat_minor": 5
}
