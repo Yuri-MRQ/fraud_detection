{
 "cells": [
  {
   "cell_type": "code",
   "execution_count": 1,
   "metadata": {
    "colab": {
     "base_uri": "https://localhost:8080/"
    },
    "id": "bUkOU9T4AW6l",
    "outputId": "281d8e19-898b-4cc5-824e-201766ca2e32"
   },
   "outputs": [
    {
     "name": "stdout",
     "output_type": "stream",
     "text": [
      "Drive already mounted at /content/drive; to attempt to forcibly remount, call drive.mount(\"/content/drive\", force_remount=True).\n"
     ]
    }
   ],
   "source": [
    "from google.colab import drive\n",
    "drive.mount('/content/drive')"
   ]
  },
  {
   "cell_type": "code",
   "execution_count": 2,
   "metadata": {
    "id": "hQrixamf_vgk"
   },
   "outputs": [],
   "source": [
    "import time\n",
    "import pandas as pd\n",
    "import numpy as np\n",
    "\n",
    "from tqdm import tqdm\n",
    "from multiprocessing import Pool\n",
    "\n",
    "import matplotlib as mpl\n",
    "import matplotlib.pyplot as plt\n",
    "\n",
    "from sklearn.model_selection import train_test_split, GridSearchCV\n",
    "\n",
    "from sklearn.preprocessing import MinMaxScaler, StandardScaler\n",
    "from sklearn.metrics import roc_auc_score, f1_score, roc_curve, auc, confusion_matrix, precision_recall_curve\n",
    "\n",
    "import tensorflow as tf\n",
    "import tensorflow.keras.backend as K\n",
    "from tensorflow.keras.layers import LSTM, BatchNormalization, Dense, Dropout, Flatten, Activation, Conv2D, MaxPool2D\n",
    "from tensorflow.keras import Model, Input, Sequential"
   ]
  },
  {
   "cell_type": "code",
   "execution_count": 3,
   "metadata": {
    "id": "GDXf03IB_3LV"
   },
   "outputs": [],
   "source": [
    "RANDOM_STATE = 35\n",
    "\n",
    "mpl.rcParams['figure.figsize'] = (12, 10)\n",
    "colors = plt.rcParams['axes.prop_cycle'].by_key()['color']"
   ]
  },
  {
   "cell_type": "code",
   "execution_count": 4,
   "metadata": {
    "id": "dl84kzrjEN_x"
   },
   "outputs": [],
   "source": [
    "def plot_metric(history, metric,  label, n):\n",
    "  # Use a log scale on y-axis to show the wide range of values.\n",
    "  plt.semilogy(history.epoch, history.history[metric],\n",
    "               color=colors[n], label='Train ' + label)\n",
    "  if metric != \"lr\":\n",
    "    plt.semilogy(history.epoch, history.history[f'val_{metric}'],\n",
    "                color=colors[n], label='Val ' + label,\n",
    "                linestyle=\"--\")\n",
    "  plt.xlabel('Epoch')\n",
    "  plt.ylabel(metric)\n",
    "  plt.legend()"
   ]
  },
  {
   "cell_type": "code",
   "execution_count": 5,
   "metadata": {
    "id": "vrP1WJQ5Q3Ok"
   },
   "outputs": [],
   "source": [
    "def compare_models(X, Y, classifiers=None, indices_split=None, scaling=None):\n",
    "    \"\"\"\n",
    "    Args:\n",
    "    \n",
    "    X, Y - if calssifiers == None and indices_split == None, X and Y are tuples\n",
    "    that contains (X_train, X_val) e (Y_train, Y_test), otherwise X, Y\n",
    "    are np.array of all dataset to be separeted using the indices_split\n",
    "    into n fold.\n",
    "    classifiers - dictionary of classifiers or a single classifier.\n",
    "    \n",
    "    \n",
    "    \"\"\"\n",
    "    history = {}\n",
    "    \n",
    "    if indices_split and classifiers:\n",
    "\n",
    "        for clf_name, clf, (train, val) in zip(classifiers.keys(), classifiers.values(), indices_split.values()):\n",
    "\n",
    "            print(f\"\\n Evaluating the model {clf_name}\")\n",
    "            \n",
    "            if scaling:\n",
    "                scaler = MinMaxScaler()\n",
    "                X_train = scaler.fit_transform(X[train])\n",
    "                X_val = scaler.transform(X[val])\n",
    "\n",
    "            #Training \n",
    "\n",
    "            y_hat_train = clf.predict(X_train)\n",
    "\n",
    "            rf_train_roc_auc_score = roc_auc_score(Y[train], y_hat_train)\n",
    "            rf_train_f1_score = f1_score(Y[train], y_hat_train, average=\"weighted\")\n",
    "\n",
    "            #val\n",
    "\n",
    "            y_hat_val = clf.predict(X_val)\n",
    "\n",
    "            rf_val_roc_auc_score = roc_auc_score(Y[val], y_hat_val)\n",
    "            rf_val_f1_score = f1_score(Y[val], y_hat_val, average=\"weighted\")\n",
    "            precision, recall, thresholds_pr = precision_recall_curve(Y[val], y_hat_val)\n",
    "            AUC_PRcurve= auc(recall, precision)\n",
    "            fpr, tpr, thresholds = roc_curve(Y[val], y_hat_val)\n",
    "\n",
    "            print(f\"F1 score - Train: {rf_train_f1_score} / val: {rf_val_f1_score}\")\n",
    "            print(f\"ROC AUC score - Train: {rf_train_roc_auc_score} / val: {rf_val_roc_auc_score}\")\n",
    "            print(f\"PR AUC score - val: {AUC_PRcurve}\")\n",
    "\n",
    "            history[clf_name] = {\"y_hat_train\": y_hat_train, \"y_hat_val\": y_hat_val,\n",
    "                                 \"pr\": (precision, recall, AUC_PRcurve), \"roc\": (fpr, tpr, thresholds)}\n",
    "    else:\n",
    "        clf = classifiers\n",
    "        #Train\n",
    "        X_train, X_val = X\n",
    "        y_train, y_val = Y\n",
    "        \n",
    "        if scaling:\n",
    "            scaler = MinMaxScaler()\n",
    "            X_train = scaler.fit_transform(X_train)\n",
    "            X_val = scaler.fit(X_val)\n",
    "        \n",
    "        if X_train is not None:\n",
    "\n",
    "            y_hat_train = clf.predict(X_train)\n",
    "\n",
    "            rf_train_roc_auc_score = roc_auc_score(y_train, y_hat_train)\n",
    "            rf_train_f1_score = f1_score(y_train, y_hat_train, average=\"weighted\")\n",
    "\n",
    "        #val\n",
    "\n",
    "        y_hat_val = clf.predict(X_val)\n",
    "\n",
    "        rf_val_roc_auc_score = roc_auc_score(y_val, y_hat_val)\n",
    "        rf_val_f1_score = f1_score(y_val, y_hat_val, average=\"weighted\")\n",
    "        precision, recall, thresholds_pr = precision_recall_curve(y_val, y_hat_val)\n",
    "        AUC_PRcurve= auc(recall, precision)\n",
    "        fpr, tpr, thresholds = roc_curve(y_val, y_hat_val)\n",
    "        \n",
    "        if X_train is not None:\n",
    "            print(f\"F1 score - Train: {rf_train_f1_score} / val: {rf_val_f1_score}\")\n",
    "            print(f\"ROC AUC score - Train: {rf_train_roc_auc_score} / val: {rf_val_roc_auc_score}\")\n",
    "            print(f\"PR AUC score - val: {AUC_PRcurve}\")\n",
    "        else:\n",
    "            y_hat_val = clf.predict(X_val)\n",
    "\n",
    "            rf_val_roc_auc_score = roc_auc_score(y_val, y_hat_val)\n",
    "            rf_val_f1_score = f1_score(y_val, y_hat_val, average=\"weighted\")\n",
    "            precision, recall, thresholds_pr = precision_recall_curve(y_val, y_hat_val)\n",
    "            AUC_PRcurve= auc(recall, precision)\n",
    "            fpr, tpr, thresholds = roc_curve(y_val, y_hat_val)\n",
    "            \n",
    "            print(f\"ROC AUC score val: {rf_val_roc_auc_score}\")\n",
    "            print(f\"PR AUC score val: {AUC_PRcurve}\")\n",
    "            \n",
    "            history[\"clf_0\"] = {\"y_hat_test\": y_hat_val,\n",
    "                                       \"pr\": (precision, recall, AUC_PRcurve), \n",
    "                                       \"roc\": (fpr, tpr, thresholds)}\n",
    "            \n",
    "            return history\n",
    "            \n",
    "\n",
    "        history[\"clf_0\"] = {\"y_hat_train\": y_hat_train, \"y_hat_val\": y_hat_val,\n",
    "                            \"pr\": (precision, recall, AUC_PRcurve), \"roc\": (fpr, tpr, thresholds)}\n",
    "        \n",
    "    return history"
   ]
  },
  {
   "cell_type": "code",
   "execution_count": 6,
   "metadata": {
    "id": "r1LHk8x9Q4t1"
   },
   "outputs": [],
   "source": [
    "def plot_pr_curve(history):\n",
    "    \n",
    "    i = 0\n",
    "    for model_name, model_eval in zip(history.keys(), history.values()):\n",
    "    \n",
    "        precision, recall, AUC_PRcurve = model_eval[\"pr\"]\n",
    "    \n",
    "        # plot no skill\n",
    "        plt.plot([0, 1], [0.5, 0.5], linestyle='--')\n",
    "        #plot PR curve\n",
    "        plt.plot(precision, recall, label = \"{} AUC = {:0.2f}\".format(model_name, AUC_PRcurve), lw = 3, alpha = 0.7, color=colors[i])\n",
    "\n",
    "        i += 1\n",
    "    plt.xlabel('Precision', fontsize = 14)\n",
    "    plt.ylabel('Recall', fontsize = 14)\n",
    "    plt.title('Precision-Recall Curve', fontsize = 18)\n",
    "    plt.legend(loc='best')"
   ]
  },
  {
   "cell_type": "markdown",
   "metadata": {
    "id": "FTdkMOmYA91c"
   },
   "source": [
    "# Preprocessing"
   ]
  },
  {
   "cell_type": "code",
   "execution_count": 7,
   "metadata": {
    "colab": {
     "base_uri": "https://localhost:8080/",
     "height": 206
    },
    "id": "QaTOEBGqHNHJ",
    "outputId": "165ee52b-c5d5-4262-8ae7-e4ee479ac1b4"
   },
   "outputs": [
    {
     "data": {
      "text/html": [
       "<div>\n",
       "<style scoped>\n",
       "    .dataframe tbody tr th:only-of-type {\n",
       "        vertical-align: middle;\n",
       "    }\n",
       "\n",
       "    .dataframe tbody tr th {\n",
       "        vertical-align: top;\n",
       "    }\n",
       "\n",
       "    .dataframe thead th {\n",
       "        text-align: right;\n",
       "    }\n",
       "</style>\n",
       "<table border=\"1\" class=\"dataframe\">\n",
       "  <thead>\n",
       "    <tr style=\"text-align: right;\">\n",
       "      <th></th>\n",
       "      <th>account_id</th>\n",
       "      <th>device_id</th>\n",
       "      <th>balance</th>\n",
       "      <th>processed_at</th>\n",
       "      <th>is_fraud</th>\n",
       "      <th>age_range</th>\n",
       "      <th>number_of_selfies_sent</th>\n",
       "      <th>time_client</th>\n",
       "      <th>cash_out_type_1</th>\n",
       "      <th>cash_out_type_2</th>\n",
       "      <th>cash_out_type_3</th>\n",
       "      <th>cash_out_type_6</th>\n",
       "    </tr>\n",
       "  </thead>\n",
       "  <tbody>\n",
       "    <tr>\n",
       "      <th>0</th>\n",
       "      <td>0</td>\n",
       "      <td>0</td>\n",
       "      <td>0.000167</td>\n",
       "      <td>1.542826e+09</td>\n",
       "      <td>0</td>\n",
       "      <td>0.0</td>\n",
       "      <td>5.0</td>\n",
       "      <td>8.783463e+05</td>\n",
       "      <td>1</td>\n",
       "      <td>0</td>\n",
       "      <td>0</td>\n",
       "      <td>0</td>\n",
       "    </tr>\n",
       "    <tr>\n",
       "      <th>1</th>\n",
       "      <td>1</td>\n",
       "      <td>0</td>\n",
       "      <td>0.000533</td>\n",
       "      <td>1.540263e+09</td>\n",
       "      <td>0</td>\n",
       "      <td>1.0</td>\n",
       "      <td>5.0</td>\n",
       "      <td>9.689721e+06</td>\n",
       "      <td>0</td>\n",
       "      <td>0</td>\n",
       "      <td>1</td>\n",
       "      <td>0</td>\n",
       "    </tr>\n",
       "    <tr>\n",
       "      <th>2</th>\n",
       "      <td>1</td>\n",
       "      <td>0</td>\n",
       "      <td>0.000347</td>\n",
       "      <td>1.542655e+09</td>\n",
       "      <td>0</td>\n",
       "      <td>1.0</td>\n",
       "      <td>5.0</td>\n",
       "      <td>1.208182e+07</td>\n",
       "      <td>0</td>\n",
       "      <td>0</td>\n",
       "      <td>1</td>\n",
       "      <td>0</td>\n",
       "    </tr>\n",
       "    <tr>\n",
       "      <th>3</th>\n",
       "      <td>1</td>\n",
       "      <td>0</td>\n",
       "      <td>0.000572</td>\n",
       "      <td>1.540837e+09</td>\n",
       "      <td>0</td>\n",
       "      <td>1.0</td>\n",
       "      <td>5.0</td>\n",
       "      <td>1.026435e+07</td>\n",
       "      <td>0</td>\n",
       "      <td>0</td>\n",
       "      <td>1</td>\n",
       "      <td>0</td>\n",
       "    </tr>\n",
       "    <tr>\n",
       "      <th>4</th>\n",
       "      <td>1</td>\n",
       "      <td>0</td>\n",
       "      <td>0.000346</td>\n",
       "      <td>1.540998e+09</td>\n",
       "      <td>0</td>\n",
       "      <td>1.0</td>\n",
       "      <td>5.0</td>\n",
       "      <td>1.042547e+07</td>\n",
       "      <td>0</td>\n",
       "      <td>0</td>\n",
       "      <td>1</td>\n",
       "      <td>0</td>\n",
       "    </tr>\n",
       "  </tbody>\n",
       "</table>\n",
       "</div>"
      ],
      "text/plain": [
       "   account_id  device_id  ...  cash_out_type_3  cash_out_type_6\n",
       "0           0          0  ...                0                0\n",
       "1           1          0  ...                1                0\n",
       "2           1          0  ...                1                0\n",
       "3           1          0  ...                1                0\n",
       "4           1          0  ...                1                0\n",
       "\n",
       "[5 rows x 12 columns]"
      ]
     },
     "execution_count": 7,
     "metadata": {},
     "output_type": "execute_result"
    }
   ],
   "source": [
    "data_ts = pd.read_csv(\"/content/drive/MyDrive/Documents/programacao/stone/desafio/processed_features.csv\")\n",
    "\n",
    "data_ts.head()\n"
   ]
  },
  {
   "cell_type": "code",
   "execution_count": 8,
   "metadata": {
    "colab": {
     "base_uri": "https://localhost:8080/",
     "height": 206
    },
    "id": "XX9nOIOCIove",
    "outputId": "5cafc46b-c023-4762-bccd-9452ff169356"
   },
   "outputs": [
    {
     "data": {
      "text/html": [
       "<div>\n",
       "<style scoped>\n",
       "    .dataframe tbody tr th:only-of-type {\n",
       "        vertical-align: middle;\n",
       "    }\n",
       "\n",
       "    .dataframe tbody tr th {\n",
       "        vertical-align: top;\n",
       "    }\n",
       "\n",
       "    .dataframe thead th {\n",
       "        text-align: right;\n",
       "    }\n",
       "</style>\n",
       "<table border=\"1\" class=\"dataframe\">\n",
       "  <thead>\n",
       "    <tr style=\"text-align: right;\">\n",
       "      <th></th>\n",
       "      <th>account_id</th>\n",
       "      <th>is_fraud</th>\n",
       "      <th>device_id</th>\n",
       "      <th>balance</th>\n",
       "      <th>processed_at</th>\n",
       "      <th>age_range</th>\n",
       "      <th>number_of_selfies_sent</th>\n",
       "      <th>time_client</th>\n",
       "      <th>cash_out_type_1</th>\n",
       "      <th>cash_out_type_2</th>\n",
       "      <th>cash_out_type_3</th>\n",
       "      <th>cash_out_type_6</th>\n",
       "    </tr>\n",
       "  </thead>\n",
       "  <tbody>\n",
       "    <tr>\n",
       "      <th>0</th>\n",
       "      <td>0</td>\n",
       "      <td>0</td>\n",
       "      <td>0</td>\n",
       "      <td>0.000167</td>\n",
       "      <td>1.542826e+09</td>\n",
       "      <td>0.0</td>\n",
       "      <td>5.0</td>\n",
       "      <td>8.783463e+05</td>\n",
       "      <td>1</td>\n",
       "      <td>0</td>\n",
       "      <td>0</td>\n",
       "      <td>0</td>\n",
       "    </tr>\n",
       "    <tr>\n",
       "      <th>1</th>\n",
       "      <td>1</td>\n",
       "      <td>0</td>\n",
       "      <td>0</td>\n",
       "      <td>0.000533</td>\n",
       "      <td>1.540263e+09</td>\n",
       "      <td>1.0</td>\n",
       "      <td>5.0</td>\n",
       "      <td>9.689721e+06</td>\n",
       "      <td>0</td>\n",
       "      <td>0</td>\n",
       "      <td>1</td>\n",
       "      <td>0</td>\n",
       "    </tr>\n",
       "    <tr>\n",
       "      <th>2</th>\n",
       "      <td>1</td>\n",
       "      <td>0</td>\n",
       "      <td>0</td>\n",
       "      <td>0.000347</td>\n",
       "      <td>1.542655e+09</td>\n",
       "      <td>1.0</td>\n",
       "      <td>5.0</td>\n",
       "      <td>1.208182e+07</td>\n",
       "      <td>0</td>\n",
       "      <td>0</td>\n",
       "      <td>1</td>\n",
       "      <td>0</td>\n",
       "    </tr>\n",
       "    <tr>\n",
       "      <th>3</th>\n",
       "      <td>1</td>\n",
       "      <td>0</td>\n",
       "      <td>0</td>\n",
       "      <td>0.000572</td>\n",
       "      <td>1.540837e+09</td>\n",
       "      <td>1.0</td>\n",
       "      <td>5.0</td>\n",
       "      <td>1.026435e+07</td>\n",
       "      <td>0</td>\n",
       "      <td>0</td>\n",
       "      <td>1</td>\n",
       "      <td>0</td>\n",
       "    </tr>\n",
       "    <tr>\n",
       "      <th>4</th>\n",
       "      <td>1</td>\n",
       "      <td>0</td>\n",
       "      <td>0</td>\n",
       "      <td>0.000346</td>\n",
       "      <td>1.540998e+09</td>\n",
       "      <td>1.0</td>\n",
       "      <td>5.0</td>\n",
       "      <td>1.042547e+07</td>\n",
       "      <td>0</td>\n",
       "      <td>0</td>\n",
       "      <td>1</td>\n",
       "      <td>0</td>\n",
       "    </tr>\n",
       "  </tbody>\n",
       "</table>\n",
       "</div>"
      ],
      "text/plain": [
       "   account_id  is_fraud  ...  cash_out_type_3  cash_out_type_6\n",
       "0           0         0  ...                0                0\n",
       "1           1         0  ...                1                0\n",
       "2           1         0  ...                1                0\n",
       "3           1         0  ...                1                0\n",
       "4           1         0  ...                1                0\n",
       "\n",
       "[5 rows x 12 columns]"
      ]
     },
     "execution_count": 8,
     "metadata": {},
     "output_type": "execute_result"
    }
   ],
   "source": [
    "columns=['account_id', 'is_fraud', 'device_id', 'balance', 'processed_at',\n",
    "       'age_range', 'number_of_selfies_sent', 'time_client', 'cash_out_type_1',\n",
    "       'cash_out_type_2', 'cash_out_type_3', 'cash_out_type_6']\n",
    "\n",
    "data_ts = data_ts[columns]\n",
    "\n",
    "data_ts.head()"
   ]
  },
  {
   "cell_type": "code",
   "execution_count": 9,
   "metadata": {
    "colab": {
     "base_uri": "https://localhost:8080/"
    },
    "id": "19htAPK6IroH",
    "outputId": "d6ebafbf-8227-4272-ae3a-d97dc3ff1626"
   },
   "outputs": [
    {
     "data": {
      "text/plain": [
       "account_id                  int64\n",
       "is_fraud                    int64\n",
       "device_id                   int64\n",
       "balance                   float64\n",
       "processed_at              float64\n",
       "age_range                 float64\n",
       "number_of_selfies_sent    float64\n",
       "time_client               float64\n",
       "cash_out_type_1             int64\n",
       "cash_out_type_2             int64\n",
       "cash_out_type_3             int64\n",
       "cash_out_type_6             int64\n",
       "dtype: object"
      ]
     },
     "execution_count": 9,
     "metadata": {},
     "output_type": "execute_result"
    }
   ],
   "source": [
    "data_ts.dtypes"
   ]
  },
  {
   "cell_type": "code",
   "execution_count": 10,
   "metadata": {
    "colab": {
     "base_uri": "https://localhost:8080/",
     "height": 206
    },
    "id": "Dq4t4GHFIvsH",
    "outputId": "f7b76d0c-e20e-4fb1-f912-283565b0e5f3"
   },
   "outputs": [
    {
     "data": {
      "text/html": [
       "<div>\n",
       "<style scoped>\n",
       "    .dataframe tbody tr th:only-of-type {\n",
       "        vertical-align: middle;\n",
       "    }\n",
       "\n",
       "    .dataframe tbody tr th {\n",
       "        vertical-align: top;\n",
       "    }\n",
       "\n",
       "    .dataframe thead th {\n",
       "        text-align: right;\n",
       "    }\n",
       "</style>\n",
       "<table border=\"1\" class=\"dataframe\">\n",
       "  <thead>\n",
       "    <tr style=\"text-align: right;\">\n",
       "      <th></th>\n",
       "      <th>account_id</th>\n",
       "      <th>is_fraud</th>\n",
       "      <th>device_id</th>\n",
       "      <th>balance</th>\n",
       "      <th>processed_at</th>\n",
       "      <th>age_range</th>\n",
       "      <th>number_of_selfies_sent</th>\n",
       "      <th>time_client</th>\n",
       "      <th>cash_out_type_1</th>\n",
       "      <th>cash_out_type_2</th>\n",
       "      <th>cash_out_type_3</th>\n",
       "      <th>cash_out_type_6</th>\n",
       "    </tr>\n",
       "  </thead>\n",
       "  <tbody>\n",
       "    <tr>\n",
       "      <th>0</th>\n",
       "      <td>0.000000</td>\n",
       "      <td>0</td>\n",
       "      <td>0.0</td>\n",
       "      <td>0.000167</td>\n",
       "      <td>0.999813</td>\n",
       "      <td>0.0</td>\n",
       "      <td>5.0</td>\n",
       "      <td>1.785904e-07</td>\n",
       "      <td>1</td>\n",
       "      <td>0</td>\n",
       "      <td>0</td>\n",
       "      <td>0</td>\n",
       "    </tr>\n",
       "    <tr>\n",
       "      <th>1</th>\n",
       "      <td>0.000016</td>\n",
       "      <td>0</td>\n",
       "      <td>0.0</td>\n",
       "      <td>0.000533</td>\n",
       "      <td>0.998152</td>\n",
       "      <td>1.0</td>\n",
       "      <td>5.0</td>\n",
       "      <td>1.970170e-06</td>\n",
       "      <td>0</td>\n",
       "      <td>0</td>\n",
       "      <td>1</td>\n",
       "      <td>0</td>\n",
       "    </tr>\n",
       "    <tr>\n",
       "      <th>2</th>\n",
       "      <td>0.000016</td>\n",
       "      <td>0</td>\n",
       "      <td>0.0</td>\n",
       "      <td>0.000347</td>\n",
       "      <td>0.999702</td>\n",
       "      <td>1.0</td>\n",
       "      <td>5.0</td>\n",
       "      <td>2.456546e-06</td>\n",
       "      <td>0</td>\n",
       "      <td>0</td>\n",
       "      <td>1</td>\n",
       "      <td>0</td>\n",
       "    </tr>\n",
       "    <tr>\n",
       "      <th>3</th>\n",
       "      <td>0.000016</td>\n",
       "      <td>0</td>\n",
       "      <td>0.0</td>\n",
       "      <td>0.000572</td>\n",
       "      <td>0.998524</td>\n",
       "      <td>1.0</td>\n",
       "      <td>5.0</td>\n",
       "      <td>2.087007e-06</td>\n",
       "      <td>0</td>\n",
       "      <td>0</td>\n",
       "      <td>1</td>\n",
       "      <td>0</td>\n",
       "    </tr>\n",
       "    <tr>\n",
       "      <th>4</th>\n",
       "      <td>0.000016</td>\n",
       "      <td>0</td>\n",
       "      <td>0.0</td>\n",
       "      <td>0.000346</td>\n",
       "      <td>0.998629</td>\n",
       "      <td>1.0</td>\n",
       "      <td>5.0</td>\n",
       "      <td>2.119767e-06</td>\n",
       "      <td>0</td>\n",
       "      <td>0</td>\n",
       "      <td>1</td>\n",
       "      <td>0</td>\n",
       "    </tr>\n",
       "  </tbody>\n",
       "</table>\n",
       "</div>"
      ],
      "text/plain": [
       "   account_id  is_fraud  ...  cash_out_type_3  cash_out_type_6\n",
       "0    0.000000         0  ...                0                0\n",
       "1    0.000016         0  ...                1                0\n",
       "2    0.000016         0  ...                1                0\n",
       "3    0.000016         0  ...                1                0\n",
       "4    0.000016         0  ...                1                0\n",
       "\n",
       "[5 rows x 12 columns]"
      ]
     },
     "execution_count": 10,
     "metadata": {},
     "output_type": "execute_result"
    }
   ],
   "source": [
    "# the columns that pass the float16 limite, we gonna take them and turn and something\n",
    "# that we can work using min max scaler\n",
    "\n",
    "max_account = data_ts[\"account_id\"].max()\n",
    "max_device_id = data_ts[\"device_id\"].max()\n",
    "max_processed_at = data_ts[\"processed_at\"].max()\n",
    "max_time_client = data_ts[\"time_client\"].max()\n",
    "\n",
    "data_ts[\"account_id\"] = data_ts[\"account_id\"] / max_account\n",
    "data_ts[\"device_id\"] = data_ts[\"device_id\"] / max_device_id\n",
    "data_ts[\"processed_at\"] = data_ts[\"processed_at\"] / max_processed_at\n",
    "data_ts[\"time_client\"] = data_ts[\"time_client\"] / max_time_client\n",
    "\n",
    "# seconds to days\n",
    "\n",
    "data_ts.time_client = data_ts.time_client / (60*60*24)\n",
    "\n",
    "data_ts.head()\n"
   ]
  },
  {
   "cell_type": "code",
   "execution_count": 11,
   "metadata": {
    "colab": {
     "base_uri": "https://localhost:8080/",
     "height": 426
    },
    "id": "xuUwJpfg1xIc",
    "outputId": "92045895-81f2-4e06-a0ab-2e3eae1fb2ef"
   },
   "outputs": [
    {
     "data": {
      "text/html": [
       "<div>\n",
       "<style scoped>\n",
       "    .dataframe tbody tr th:only-of-type {\n",
       "        vertical-align: middle;\n",
       "    }\n",
       "\n",
       "    .dataframe tbody tr th {\n",
       "        vertical-align: top;\n",
       "    }\n",
       "\n",
       "    .dataframe thead th {\n",
       "        text-align: right;\n",
       "    }\n",
       "</style>\n",
       "<table border=\"1\" class=\"dataframe\">\n",
       "  <thead>\n",
       "    <tr style=\"text-align: right;\">\n",
       "      <th></th>\n",
       "      <th>account_id</th>\n",
       "      <th>is_fraud</th>\n",
       "      <th>device_id</th>\n",
       "      <th>balance</th>\n",
       "      <th>processed_at</th>\n",
       "      <th>age_range</th>\n",
       "      <th>number_of_selfies_sent</th>\n",
       "      <th>time_client</th>\n",
       "      <th>cash_out_type_1</th>\n",
       "      <th>cash_out_type_2</th>\n",
       "      <th>cash_out_type_3</th>\n",
       "      <th>cash_out_type_6</th>\n",
       "    </tr>\n",
       "  </thead>\n",
       "  <tbody>\n",
       "    <tr>\n",
       "      <th>account_id</th>\n",
       "      <td>1.000000</td>\n",
       "      <td>-0.031733</td>\n",
       "      <td>0.936605</td>\n",
       "      <td>-0.115446</td>\n",
       "      <td>0.030805</td>\n",
       "      <td>0.014728</td>\n",
       "      <td>-0.011119</td>\n",
       "      <td>-0.124930</td>\n",
       "      <td>-0.024468</td>\n",
       "      <td>0.314274</td>\n",
       "      <td>-0.312839</td>\n",
       "      <td>0.001893</td>\n",
       "    </tr>\n",
       "    <tr>\n",
       "      <th>is_fraud</th>\n",
       "      <td>-0.031733</td>\n",
       "      <td>1.000000</td>\n",
       "      <td>-0.032270</td>\n",
       "      <td>-0.002463</td>\n",
       "      <td>-0.006212</td>\n",
       "      <td>0.001232</td>\n",
       "      <td>0.000773</td>\n",
       "      <td>-0.001799</td>\n",
       "      <td>0.005346</td>\n",
       "      <td>0.017931</td>\n",
       "      <td>-0.019762</td>\n",
       "      <td>-0.000132</td>\n",
       "    </tr>\n",
       "    <tr>\n",
       "      <th>device_id</th>\n",
       "      <td>0.936605</td>\n",
       "      <td>-0.032270</td>\n",
       "      <td>1.000000</td>\n",
       "      <td>-0.120909</td>\n",
       "      <td>0.030237</td>\n",
       "      <td>0.010916</td>\n",
       "      <td>-0.010421</td>\n",
       "      <td>-0.128533</td>\n",
       "      <td>-0.021081</td>\n",
       "      <td>0.339309</td>\n",
       "      <td>-0.339272</td>\n",
       "      <td>0.001675</td>\n",
       "    </tr>\n",
       "    <tr>\n",
       "      <th>balance</th>\n",
       "      <td>-0.115446</td>\n",
       "      <td>-0.002463</td>\n",
       "      <td>-0.120909</td>\n",
       "      <td>1.000000</td>\n",
       "      <td>0.013672</td>\n",
       "      <td>0.041070</td>\n",
       "      <td>-0.015854</td>\n",
       "      <td>0.278847</td>\n",
       "      <td>0.019471</td>\n",
       "      <td>0.036898</td>\n",
       "      <td>-0.043073</td>\n",
       "      <td>-0.000271</td>\n",
       "    </tr>\n",
       "    <tr>\n",
       "      <th>processed_at</th>\n",
       "      <td>0.030805</td>\n",
       "      <td>-0.006212</td>\n",
       "      <td>0.030237</td>\n",
       "      <td>0.013672</td>\n",
       "      <td>1.000000</td>\n",
       "      <td>0.005170</td>\n",
       "      <td>-0.010542</td>\n",
       "      <td>0.034895</td>\n",
       "      <td>-0.000934</td>\n",
       "      <td>0.011392</td>\n",
       "      <td>-0.011319</td>\n",
       "      <td>-0.001043</td>\n",
       "    </tr>\n",
       "    <tr>\n",
       "      <th>age_range</th>\n",
       "      <td>0.014728</td>\n",
       "      <td>0.001232</td>\n",
       "      <td>0.010916</td>\n",
       "      <td>0.041070</td>\n",
       "      <td>0.005170</td>\n",
       "      <td>1.000000</td>\n",
       "      <td>-0.008867</td>\n",
       "      <td>-0.025235</td>\n",
       "      <td>0.002038</td>\n",
       "      <td>0.043571</td>\n",
       "      <td>-0.044924</td>\n",
       "      <td>0.001572</td>\n",
       "    </tr>\n",
       "    <tr>\n",
       "      <th>number_of_selfies_sent</th>\n",
       "      <td>-0.011119</td>\n",
       "      <td>0.000773</td>\n",
       "      <td>-0.010421</td>\n",
       "      <td>-0.015854</td>\n",
       "      <td>-0.010542</td>\n",
       "      <td>-0.008867</td>\n",
       "      <td>1.000000</td>\n",
       "      <td>0.134589</td>\n",
       "      <td>0.006826</td>\n",
       "      <td>-0.008444</td>\n",
       "      <td>0.006654</td>\n",
       "      <td>-0.000253</td>\n",
       "    </tr>\n",
       "    <tr>\n",
       "      <th>time_client</th>\n",
       "      <td>-0.124930</td>\n",
       "      <td>-0.001799</td>\n",
       "      <td>-0.128533</td>\n",
       "      <td>0.278847</td>\n",
       "      <td>0.034895</td>\n",
       "      <td>-0.025235</td>\n",
       "      <td>0.134589</td>\n",
       "      <td>1.000000</td>\n",
       "      <td>0.014227</td>\n",
       "      <td>-0.022264</td>\n",
       "      <td>0.018509</td>\n",
       "      <td>0.014154</td>\n",
       "    </tr>\n",
       "    <tr>\n",
       "      <th>cash_out_type_1</th>\n",
       "      <td>-0.024468</td>\n",
       "      <td>0.005346</td>\n",
       "      <td>-0.021081</td>\n",
       "      <td>0.019471</td>\n",
       "      <td>-0.000934</td>\n",
       "      <td>0.002038</td>\n",
       "      <td>0.006826</td>\n",
       "      <td>0.014227</td>\n",
       "      <td>1.000000</td>\n",
       "      <td>-0.200642</td>\n",
       "      <td>-0.079909</td>\n",
       "      <td>-0.000421</td>\n",
       "    </tr>\n",
       "    <tr>\n",
       "      <th>cash_out_type_2</th>\n",
       "      <td>0.314274</td>\n",
       "      <td>0.017931</td>\n",
       "      <td>0.339309</td>\n",
       "      <td>0.036898</td>\n",
       "      <td>0.011392</td>\n",
       "      <td>0.043571</td>\n",
       "      <td>-0.008444</td>\n",
       "      <td>-0.022264</td>\n",
       "      <td>-0.200642</td>\n",
       "      <td>1.000000</td>\n",
       "      <td>-0.960473</td>\n",
       "      <td>-0.005063</td>\n",
       "    </tr>\n",
       "    <tr>\n",
       "      <th>cash_out_type_3</th>\n",
       "      <td>-0.312839</td>\n",
       "      <td>-0.019762</td>\n",
       "      <td>-0.339272</td>\n",
       "      <td>-0.043073</td>\n",
       "      <td>-0.011319</td>\n",
       "      <td>-0.044924</td>\n",
       "      <td>0.006654</td>\n",
       "      <td>0.018509</td>\n",
       "      <td>-0.079909</td>\n",
       "      <td>-0.960473</td>\n",
       "      <td>1.000000</td>\n",
       "      <td>-0.002016</td>\n",
       "    </tr>\n",
       "    <tr>\n",
       "      <th>cash_out_type_6</th>\n",
       "      <td>0.001893</td>\n",
       "      <td>-0.000132</td>\n",
       "      <td>0.001675</td>\n",
       "      <td>-0.000271</td>\n",
       "      <td>-0.001043</td>\n",
       "      <td>0.001572</td>\n",
       "      <td>-0.000253</td>\n",
       "      <td>0.014154</td>\n",
       "      <td>-0.000421</td>\n",
       "      <td>-0.005063</td>\n",
       "      <td>-0.002016</td>\n",
       "      <td>1.000000</td>\n",
       "    </tr>\n",
       "  </tbody>\n",
       "</table>\n",
       "</div>"
      ],
      "text/plain": [
       "                        account_id  is_fraud  ...  cash_out_type_3  cash_out_type_6\n",
       "account_id                1.000000 -0.031733  ...        -0.312839         0.001893\n",
       "is_fraud                 -0.031733  1.000000  ...        -0.019762        -0.000132\n",
       "device_id                 0.936605 -0.032270  ...        -0.339272         0.001675\n",
       "balance                  -0.115446 -0.002463  ...        -0.043073        -0.000271\n",
       "processed_at              0.030805 -0.006212  ...        -0.011319        -0.001043\n",
       "age_range                 0.014728  0.001232  ...        -0.044924         0.001572\n",
       "number_of_selfies_sent   -0.011119  0.000773  ...         0.006654        -0.000253\n",
       "time_client              -0.124930 -0.001799  ...         0.018509         0.014154\n",
       "cash_out_type_1          -0.024468  0.005346  ...        -0.079909        -0.000421\n",
       "cash_out_type_2           0.314274  0.017931  ...        -0.960473        -0.005063\n",
       "cash_out_type_3          -0.312839 -0.019762  ...         1.000000        -0.002016\n",
       "cash_out_type_6           0.001893 -0.000132  ...        -0.002016         1.000000\n",
       "\n",
       "[12 rows x 12 columns]"
      ]
     },
     "execution_count": 11,
     "metadata": {},
     "output_type": "execute_result"
    }
   ],
   "source": [
    "data_ts.corr()"
   ]
  },
  {
   "cell_type": "code",
   "execution_count": 12,
   "metadata": {
    "colab": {
     "base_uri": "https://localhost:8080/"
    },
    "id": "MTgG0tGcI9Xg",
    "outputId": "4b59aad5-acba-4552-ab95-450490c0dd17"
   },
   "outputs": [
    {
     "data": {
      "text/plain": [
       "0.0016313560447852402"
      ]
     },
     "execution_count": 12,
     "metadata": {},
     "output_type": "execute_result"
    }
   ],
   "source": [
    "size_pos = len(data_ts[data_ts.is_fraud==1])\n",
    "size_neg = len(data_ts[data_ts.is_fraud==0])\n",
    "\n",
    "post_proportion =  size_pos/ (size_neg + size_pos)\n",
    "\n",
    "post_proportion"
   ]
  },
  {
   "cell_type": "markdown",
   "metadata": {
    "id": "W0A7v7RSBBTR"
   },
   "source": [
    "# Encoder decoder model"
   ]
  },
  {
   "cell_type": "code",
   "execution_count": 13,
   "metadata": {
    "colab": {
     "base_uri": "https://localhost:8080/",
     "height": 224
    },
    "id": "BdtuafY-CdqV",
    "outputId": "48e1ec83-9c7f-49a1-ee49-526fed8e1a17"
   },
   "outputs": [
    {
     "data": {
      "text/html": [
       "<div>\n",
       "<style scoped>\n",
       "    .dataframe tbody tr th:only-of-type {\n",
       "        vertical-align: middle;\n",
       "    }\n",
       "\n",
       "    .dataframe tbody tr th {\n",
       "        vertical-align: top;\n",
       "    }\n",
       "\n",
       "    .dataframe thead th {\n",
       "        text-align: right;\n",
       "    }\n",
       "</style>\n",
       "<table border=\"1\" class=\"dataframe\">\n",
       "  <thead>\n",
       "    <tr style=\"text-align: right;\">\n",
       "      <th></th>\n",
       "      <th>device_id</th>\n",
       "      <th>balance</th>\n",
       "      <th>age_range</th>\n",
       "      <th>time_client</th>\n",
       "      <th>cash_out_type_1</th>\n",
       "      <th>cash_out_type_2</th>\n",
       "      <th>cash_out_type_3</th>\n",
       "    </tr>\n",
       "  </thead>\n",
       "  <tbody>\n",
       "    <tr>\n",
       "      <th>0</th>\n",
       "      <td>0.0</td>\n",
       "      <td>0.000167</td>\n",
       "      <td>0.0</td>\n",
       "      <td>1.785904e-07</td>\n",
       "      <td>1</td>\n",
       "      <td>0</td>\n",
       "      <td>0</td>\n",
       "    </tr>\n",
       "    <tr>\n",
       "      <th>1</th>\n",
       "      <td>0.0</td>\n",
       "      <td>0.000533</td>\n",
       "      <td>1.0</td>\n",
       "      <td>1.970170e-06</td>\n",
       "      <td>0</td>\n",
       "      <td>0</td>\n",
       "      <td>1</td>\n",
       "    </tr>\n",
       "    <tr>\n",
       "      <th>2</th>\n",
       "      <td>0.0</td>\n",
       "      <td>0.000347</td>\n",
       "      <td>1.0</td>\n",
       "      <td>2.456546e-06</td>\n",
       "      <td>0</td>\n",
       "      <td>0</td>\n",
       "      <td>1</td>\n",
       "    </tr>\n",
       "    <tr>\n",
       "      <th>3</th>\n",
       "      <td>0.0</td>\n",
       "      <td>0.000572</td>\n",
       "      <td>1.0</td>\n",
       "      <td>2.087007e-06</td>\n",
       "      <td>0</td>\n",
       "      <td>0</td>\n",
       "      <td>1</td>\n",
       "    </tr>\n",
       "    <tr>\n",
       "      <th>4</th>\n",
       "      <td>0.0</td>\n",
       "      <td>0.000346</td>\n",
       "      <td>1.0</td>\n",
       "      <td>2.119767e-06</td>\n",
       "      <td>0</td>\n",
       "      <td>0</td>\n",
       "      <td>1</td>\n",
       "    </tr>\n",
       "  </tbody>\n",
       "</table>\n",
       "</div>"
      ],
      "text/plain": [
       "   device_id   balance  ...  cash_out_type_2  cash_out_type_3\n",
       "0        0.0  0.000167  ...                0                0\n",
       "1        0.0  0.000533  ...                0                1\n",
       "2        0.0  0.000347  ...                0                1\n",
       "3        0.0  0.000572  ...                0                1\n",
       "4        0.0  0.000346  ...                0                1\n",
       "\n",
       "[5 rows x 7 columns]"
      ]
     },
     "metadata": {},
     "output_type": "display_data"
    },
    {
     "data": {
      "text/plain": [
       "(846841, 7)"
      ]
     },
     "execution_count": 13,
     "metadata": {},
     "output_type": "execute_result"
    }
   ],
   "source": [
    "Y = np.array(data_ts.copy().pop(\"is_fraud\"), dtype=np.float32)\n",
    "\n",
    "#droping the target and the features weakly correlated to the target\n",
    "data_enco_deco = data_ts.copy().drop([\"is_fraud\", \"account_id\", \"processed_at\", \"number_of_selfies_sent\", \"cash_out_type_6\"], axis=1)\n",
    "\n",
    "display(data_enco_deco.head())\n",
    "\n",
    "train, val = train_test_split(data_enco_deco, test_size=0.1)\n",
    "\n",
    "X_train = np.array(train, dtype=np.float32)\n",
    "Y_train = np.array(train, dtype=np.float32)\n",
    "\n",
    "X_val = np.array(val, dtype=np.float32)\n",
    "Y_val = np.array(val, dtype=np.float32)\n",
    "\n",
    "X_train.shape"
   ]
  },
  {
   "cell_type": "code",
   "execution_count": 14,
   "metadata": {
    "id": "9I3-Jn-aBDKo"
   },
   "outputs": [],
   "source": [
    "early_stopping = tf.keras.callbacks.EarlyStopping(\n",
    "    monitor='val_MSE', \n",
    "    verbose=1,\n",
    "    patience=40,\n",
    "    mode='max',\n",
    "    restore_best_weights=True)\n",
    "\n",
    "def scheduler(epoch, lr):\n",
    "  if epoch % 10 == 0:\n",
    "    return lr * tf.math.exp(-2.)\n",
    "  else:\n",
    "    return lr"
   ]
  },
  {
   "cell_type": "code",
   "execution_count": 15,
   "metadata": {
    "id": "G_iGcmQSQ7uP"
   },
   "outputs": [],
   "source": [
    "def model(X):\n",
    "\n",
    "  input = Input(X.shape[-1])\n",
    "  X = Dense(6, activation=\"relu\")(input)\n",
    "  X = BatchNormalization()(X)\n",
    "  encode = Dense(4, activation=\"relu\")(X)\n",
    "  X = BatchNormalization()(encode)\n",
    "  X = Dense(6, activation=\"relu\")(X)\n",
    "  X = BatchNormalization()(X)\n",
    "  output = Dense(7, activation=\"relu\")(X)\n",
    "\n",
    "  model = Model(inputs=input, outputs=output, name=\"full_model\")\n",
    "  bottleneck = Model(input, encode, name=\"bottleneck\")\n",
    "\n",
    "\n",
    "  model.summary()\n",
    "  bottleneck.summary()\n",
    "\n",
    "  return model, bottleneck\n"
   ]
  },
  {
   "cell_type": "code",
   "execution_count": 16,
   "metadata": {
    "id": "WNBUKZdOal0C"
   },
   "outputs": [],
   "source": [
    "tf.keras.backend.clear_session()"
   ]
  },
  {
   "cell_type": "code",
   "execution_count": 17,
   "metadata": {
    "id": "NdYa3JZteG2k"
   },
   "outputs": [],
   "source": [
    "batch_size = 1024\n",
    "epochs = 100\n",
    "validation_batch_size = None\n",
    "validation_steps = None\n",
    "workers = -1\n",
    "use_multiprocessing=True\n",
    "steps_per_epoch = None\n",
    "validation_steps = None\n",
    "initial_learning_rate = 1e-1\n",
    "\n",
    "lr_callback = tf.keras.callbacks.LearningRateScheduler(scheduler, verbose=1)\n",
    "\n",
    "metrics = [\n",
    "           tf.keras.metrics.MeanSquaredError(name=\"MSE\"),\n",
    "           tf.keras.metrics.MeanAbsoluteError(name=\"MAE\")\n",
    "           ]"
   ]
  },
  {
   "cell_type": "code",
   "execution_count": 18,
   "metadata": {
    "colab": {
     "base_uri": "https://localhost:8080/"
    },
    "id": "WKXjBVr6CvR6",
    "outputId": "d8dca048-1ad3-4027-a358-fbd51c57f98d"
   },
   "outputs": [
    {
     "name": "stdout",
     "output_type": "stream",
     "text": [
      "Model: \"full_model\"\n",
      "_________________________________________________________________\n",
      " Layer (type)                Output Shape              Param #   \n",
      "=================================================================\n",
      " input_1 (InputLayer)        [(None, 7)]               0         \n",
      "                                                                 \n",
      " dense (Dense)               (None, 6)                 48        \n",
      "                                                                 \n",
      " batch_normalization (BatchN  (None, 6)                24        \n",
      " ormalization)                                                   \n",
      "                                                                 \n",
      " dense_1 (Dense)             (None, 4)                 28        \n",
      "                                                                 \n",
      " batch_normalization_1 (Batc  (None, 4)                16        \n",
      " hNormalization)                                                 \n",
      "                                                                 \n",
      " dense_2 (Dense)             (None, 6)                 30        \n",
      "                                                                 \n",
      " batch_normalization_2 (Batc  (None, 6)                24        \n",
      " hNormalization)                                                 \n",
      "                                                                 \n",
      " dense_3 (Dense)             (None, 7)                 49        \n",
      "                                                                 \n",
      "=================================================================\n",
      "Total params: 219\n",
      "Trainable params: 187\n",
      "Non-trainable params: 32\n",
      "_________________________________________________________________\n",
      "Model: \"bottleneck\"\n",
      "_________________________________________________________________\n",
      " Layer (type)                Output Shape              Param #   \n",
      "=================================================================\n",
      " input_1 (InputLayer)        [(None, 7)]               0         \n",
      "                                                                 \n",
      " dense (Dense)               (None, 6)                 48        \n",
      "                                                                 \n",
      " batch_normalization (BatchN  (None, 6)                24        \n",
      " ormalization)                                                   \n",
      "                                                                 \n",
      " dense_1 (Dense)             (None, 4)                 28        \n",
      "                                                                 \n",
      "=================================================================\n",
      "Total params: 100\n",
      "Trainable params: 88\n",
      "Non-trainable params: 12\n",
      "_________________________________________________________________\n"
     ]
    }
   ],
   "source": [
    "full_model, bottleneck = model(X_train)\n",
    "\n",
    "full_model.compile(optimizer=tf.keras.optimizers.Adam(learning_rate=initial_learning_rate),\n",
    "                loss=tf.keras.losses.MeanSquaredError(),\n",
    "                metrics=metrics\n",
    "  )"
   ]
  },
  {
   "cell_type": "code",
   "execution_count": 19,
   "metadata": {
    "colab": {
     "base_uri": "https://localhost:8080/"
    },
    "id": "z2GmTFWsTUFU",
    "outputId": "39c6e36b-a68c-4642-d2ac-3a824651b3ab"
   },
   "outputs": [
    {
     "name": "stdout",
     "output_type": "stream",
     "text": [
      "\n",
      "Epoch 00001: LearningRateScheduler setting learning rate to tf.Tensor(0.013533528, shape=(), dtype=float32).\n",
      "Epoch 1/600\n",
      "827/827 [==============================] - 4s 4ms/step - loss: 0.0146 - MSE: 0.0146 - MAE: 0.0394 - val_loss: 0.0064 - val_MSE: 0.0064 - val_MAE: 0.0260 - lr: 0.0135\n",
      "\n",
      "Epoch 00002: LearningRateScheduler setting learning rate to 0.013533527962863445.\n",
      "Epoch 2/600\n",
      "827/827 [==============================] - 3s 3ms/step - loss: 0.0058 - MSE: 0.0058 - MAE: 0.0225 - val_loss: 0.0102 - val_MSE: 0.0102 - val_MAE: 0.0402 - lr: 0.0135\n",
      "\n",
      "Epoch 00003: LearningRateScheduler setting learning rate to 0.013533527962863445.\n",
      "Epoch 3/600\n",
      "827/827 [==============================] - 3s 3ms/step - loss: 0.0056 - MSE: 0.0056 - MAE: 0.0217 - val_loss: 0.0067 - val_MSE: 0.0067 - val_MAE: 0.0295 - lr: 0.0135\n",
      "\n",
      "Epoch 00004: LearningRateScheduler setting learning rate to 0.013533527962863445.\n",
      "Epoch 4/600\n",
      "827/827 [==============================] - 3s 3ms/step - loss: 0.0056 - MSE: 0.0056 - MAE: 0.0211 - val_loss: 0.0068 - val_MSE: 0.0068 - val_MAE: 0.0262 - lr: 0.0135\n",
      "\n",
      "Epoch 00005: LearningRateScheduler setting learning rate to 0.013533527962863445.\n",
      "Epoch 5/600\n",
      "827/827 [==============================] - 3s 3ms/step - loss: 0.0055 - MSE: 0.0055 - MAE: 0.0208 - val_loss: 0.0055 - val_MSE: 0.0055 - val_MAE: 0.0205 - lr: 0.0135\n",
      "\n",
      "Epoch 00006: LearningRateScheduler setting learning rate to 0.013533527962863445.\n",
      "Epoch 6/600\n",
      "827/827 [==============================] - 3s 4ms/step - loss: 0.0055 - MSE: 0.0055 - MAE: 0.0204 - val_loss: 0.0058 - val_MSE: 0.0058 - val_MAE: 0.0221 - lr: 0.0135\n",
      "\n",
      "Epoch 00007: LearningRateScheduler setting learning rate to 0.013533527962863445.\n",
      "Epoch 7/600\n",
      "827/827 [==============================] - 3s 3ms/step - loss: 0.0054 - MSE: 0.0054 - MAE: 0.0198 - val_loss: 0.0056 - val_MSE: 0.0056 - val_MAE: 0.0212 - lr: 0.0135\n",
      "\n",
      "Epoch 00008: LearningRateScheduler setting learning rate to 0.013533527962863445.\n",
      "Epoch 8/600\n",
      "827/827 [==============================] - 3s 3ms/step - loss: 0.0054 - MSE: 0.0054 - MAE: 0.0200 - val_loss: 0.0069 - val_MSE: 0.0069 - val_MAE: 0.0306 - lr: 0.0135\n",
      "\n",
      "Epoch 00009: LearningRateScheduler setting learning rate to 0.013533527962863445.\n",
      "Epoch 9/600\n",
      "827/827 [==============================] - 3s 3ms/step - loss: 0.0055 - MSE: 0.0055 - MAE: 0.0201 - val_loss: 0.0059 - val_MSE: 0.0059 - val_MAE: 0.0241 - lr: 0.0135\n",
      "\n",
      "Epoch 00010: LearningRateScheduler setting learning rate to 0.013533527962863445.\n",
      "Epoch 10/600\n",
      "827/827 [==============================] - 3s 3ms/step - loss: 0.0054 - MSE: 0.0054 - MAE: 0.0198 - val_loss: 0.0118 - val_MSE: 0.0118 - val_MAE: 0.0454 - lr: 0.0135\n",
      "\n",
      "Epoch 00011: LearningRateScheduler setting learning rate to tf.Tensor(0.0018315638, shape=(), dtype=float32).\n",
      "Epoch 11/600\n",
      "827/827 [==============================] - 3s 3ms/step - loss: 0.0052 - MSE: 0.0052 - MAE: 0.0174 - val_loss: 0.0051 - val_MSE: 0.0051 - val_MAE: 0.0146 - lr: 0.0018\n",
      "\n",
      "Epoch 00012: LearningRateScheduler setting learning rate to 0.0018315637717023492.\n",
      "Epoch 12/600\n",
      "827/827 [==============================] - 3s 3ms/step - loss: 0.0052 - MSE: 0.0052 - MAE: 0.0174 - val_loss: 0.0052 - val_MSE: 0.0052 - val_MAE: 0.0169 - lr: 0.0018\n",
      "\n",
      "Epoch 00013: LearningRateScheduler setting learning rate to 0.0018315637717023492.\n",
      "Epoch 13/600\n",
      "827/827 [==============================] - 3s 4ms/step - loss: 0.0052 - MSE: 0.0052 - MAE: 0.0173 - val_loss: 0.0050 - val_MSE: 0.0050 - val_MAE: 0.0132 - lr: 0.0018\n",
      "\n",
      "Epoch 00014: LearningRateScheduler setting learning rate to 0.0018315637717023492.\n",
      "Epoch 14/600\n",
      "827/827 [==============================] - 3s 4ms/step - loss: 0.0040 - MSE: 0.0040 - MAE: 0.0154 - val_loss: 0.0041 - val_MSE: 0.0041 - val_MAE: 0.0245 - lr: 0.0018\n",
      "\n",
      "Epoch 00015: LearningRateScheduler setting learning rate to 0.0018315637717023492.\n",
      "Epoch 15/600\n",
      "827/827 [==============================] - 3s 3ms/step - loss: 0.0029 - MSE: 0.0029 - MAE: 0.0118 - val_loss: 0.0025 - val_MSE: 0.0025 - val_MAE: 0.0074 - lr: 0.0018\n",
      "\n",
      "Epoch 00016: LearningRateScheduler setting learning rate to 0.0018315637717023492.\n",
      "Epoch 16/600\n",
      "827/827 [==============================] - 3s 4ms/step - loss: 0.0026 - MSE: 0.0026 - MAE: 0.0103 - val_loss: 0.0024 - val_MSE: 0.0024 - val_MAE: 0.0052 - lr: 0.0018\n",
      "\n",
      "Epoch 00017: LearningRateScheduler setting learning rate to 0.0018315637717023492.\n",
      "Epoch 17/600\n",
      "827/827 [==============================] - 3s 3ms/step - loss: 0.0026 - MSE: 0.0026 - MAE: 0.0101 - val_loss: 0.0024 - val_MSE: 0.0024 - val_MAE: 0.0060 - lr: 0.0018\n",
      "\n",
      "Epoch 00018: LearningRateScheduler setting learning rate to 0.0018315637717023492.\n",
      "Epoch 18/600\n",
      "827/827 [==============================] - 3s 3ms/step - loss: 0.0026 - MSE: 0.0026 - MAE: 0.0102 - val_loss: 0.0024 - val_MSE: 0.0024 - val_MAE: 0.0054 - lr: 0.0018\n",
      "\n",
      "Epoch 00019: LearningRateScheduler setting learning rate to 0.0018315637717023492.\n",
      "Epoch 19/600\n",
      "827/827 [==============================] - 3s 3ms/step - loss: 0.0026 - MSE: 0.0026 - MAE: 0.0099 - val_loss: 0.0024 - val_MSE: 0.0024 - val_MAE: 0.0050 - lr: 0.0018\n",
      "\n",
      "Epoch 00020: LearningRateScheduler setting learning rate to 0.0018315637717023492.\n",
      "Epoch 20/600\n",
      "827/827 [==============================] - 3s 3ms/step - loss: 0.0026 - MSE: 0.0026 - MAE: 0.0098 - val_loss: 0.0024 - val_MSE: 0.0024 - val_MAE: 0.0053 - lr: 0.0018\n",
      "\n",
      "Epoch 00021: LearningRateScheduler setting learning rate to tf.Tensor(0.0002478752, shape=(), dtype=float32).\n",
      "Epoch 21/600\n",
      "827/827 [==============================] - 3s 3ms/step - loss: 0.0026 - MSE: 0.0026 - MAE: 0.0092 - val_loss: 0.0023 - val_MSE: 0.0023 - val_MAE: 0.0036 - lr: 2.4788e-04\n",
      "\n",
      "Epoch 00022: LearningRateScheduler setting learning rate to 0.0002478751994203776.\n",
      "Epoch 22/600\n",
      "827/827 [==============================] - 3s 3ms/step - loss: 0.0026 - MSE: 0.0026 - MAE: 0.0093 - val_loss: 0.0023 - val_MSE: 0.0023 - val_MAE: 0.0038 - lr: 2.4788e-04\n",
      "\n",
      "Epoch 00023: LearningRateScheduler setting learning rate to 0.0002478751994203776.\n",
      "Epoch 23/600\n",
      "827/827 [==============================] - 3s 4ms/step - loss: 0.0026 - MSE: 0.0026 - MAE: 0.0092 - val_loss: 0.0023 - val_MSE: 0.0023 - val_MAE: 0.0035 - lr: 2.4788e-04\n",
      "\n",
      "Epoch 00024: LearningRateScheduler setting learning rate to 0.0002478751994203776.\n",
      "Epoch 24/600\n",
      "827/827 [==============================] - 3s 3ms/step - loss: 0.0026 - MSE: 0.0026 - MAE: 0.0092 - val_loss: 0.0023 - val_MSE: 0.0023 - val_MAE: 0.0033 - lr: 2.4788e-04\n",
      "\n",
      "Epoch 00025: LearningRateScheduler setting learning rate to 0.0002478751994203776.\n",
      "Epoch 25/600\n",
      "827/827 [==============================] - 3s 4ms/step - loss: 0.0026 - MSE: 0.0026 - MAE: 0.0091 - val_loss: 0.0024 - val_MSE: 0.0024 - val_MAE: 0.0042 - lr: 2.4788e-04\n",
      "\n",
      "Epoch 00026: LearningRateScheduler setting learning rate to 0.0002478751994203776.\n",
      "Epoch 26/600\n",
      "827/827 [==============================] - 4s 5ms/step - loss: 0.0026 - MSE: 0.0026 - MAE: 0.0091 - val_loss: 0.0023 - val_MSE: 0.0023 - val_MAE: 0.0041 - lr: 2.4788e-04\n",
      "\n",
      "Epoch 00027: LearningRateScheduler setting learning rate to 0.0002478751994203776.\n",
      "Epoch 27/600\n",
      "827/827 [==============================] - 4s 5ms/step - loss: 0.0026 - MSE: 0.0026 - MAE: 0.0092 - val_loss: 0.0023 - val_MSE: 0.0023 - val_MAE: 0.0039 - lr: 2.4788e-04\n",
      "\n",
      "Epoch 00028: LearningRateScheduler setting learning rate to 0.0002478751994203776.\n",
      "Epoch 28/600\n",
      "827/827 [==============================] - 3s 4ms/step - loss: 0.0026 - MSE: 0.0026 - MAE: 0.0094 - val_loss: 0.0023 - val_MSE: 0.0023 - val_MAE: 0.0040 - lr: 2.4788e-04\n",
      "\n",
      "Epoch 00029: LearningRateScheduler setting learning rate to 0.0002478751994203776.\n",
      "Epoch 29/600\n",
      "827/827 [==============================] - 3s 3ms/step - loss: 0.0026 - MSE: 0.0026 - MAE: 0.0092 - val_loss: 0.0023 - val_MSE: 0.0023 - val_MAE: 0.0035 - lr: 2.4788e-04\n",
      "\n",
      "Epoch 00030: LearningRateScheduler setting learning rate to 0.0002478751994203776.\n",
      "Epoch 30/600\n",
      "827/827 [==============================] - 3s 3ms/step - loss: 0.0026 - MSE: 0.0026 - MAE: 0.0094 - val_loss: 0.0023 - val_MSE: 0.0023 - val_MAE: 0.0037 - lr: 2.4788e-04\n",
      "\n",
      "Epoch 00031: LearningRateScheduler setting learning rate to tf.Tensor(3.354626e-05, shape=(), dtype=float32).\n",
      "Epoch 31/600\n",
      "827/827 [==============================] - 3s 3ms/step - loss: 0.0026 - MSE: 0.0026 - MAE: 0.0092 - val_loss: 0.0023 - val_MSE: 0.0023 - val_MAE: 0.0032 - lr: 3.3546e-05\n",
      "\n",
      "Epoch 00032: LearningRateScheduler setting learning rate to 3.354626096552238e-05.\n",
      "Epoch 32/600\n",
      "827/827 [==============================] - 3s 3ms/step - loss: 0.0026 - MSE: 0.0026 - MAE: 0.0091 - val_loss: 0.0023 - val_MSE: 0.0023 - val_MAE: 0.0031 - lr: 3.3546e-05\n",
      "\n",
      "Epoch 00033: LearningRateScheduler setting learning rate to 3.354626096552238e-05.\n",
      "Epoch 33/600\n",
      "827/827 [==============================] - 3s 3ms/step - loss: 0.0026 - MSE: 0.0026 - MAE: 0.0092 - val_loss: 0.0023 - val_MSE: 0.0023 - val_MAE: 0.0031 - lr: 3.3546e-05\n",
      "\n",
      "Epoch 00034: LearningRateScheduler setting learning rate to 3.354626096552238e-05.\n",
      "Epoch 34/600\n",
      "827/827 [==============================] - 3s 4ms/step - loss: 0.0026 - MSE: 0.0026 - MAE: 0.0092 - val_loss: 0.0023 - val_MSE: 0.0023 - val_MAE: 0.0031 - lr: 3.3546e-05\n",
      "\n",
      "Epoch 00035: LearningRateScheduler setting learning rate to 3.354626096552238e-05.\n",
      "Epoch 35/600\n",
      "827/827 [==============================] - 3s 4ms/step - loss: 0.0026 - MSE: 0.0026 - MAE: 0.0090 - val_loss: 0.0023 - val_MSE: 0.0023 - val_MAE: 0.0032 - lr: 3.3546e-05\n",
      "\n",
      "Epoch 00036: LearningRateScheduler setting learning rate to 3.354626096552238e-05.\n",
      "Epoch 36/600\n",
      "827/827 [==============================] - 3s 3ms/step - loss: 0.0026 - MSE: 0.0026 - MAE: 0.0090 - val_loss: 0.0023 - val_MSE: 0.0023 - val_MAE: 0.0032 - lr: 3.3546e-05\n",
      "\n",
      "Epoch 00037: LearningRateScheduler setting learning rate to 3.354626096552238e-05.\n",
      "Epoch 37/600\n",
      "827/827 [==============================] - 3s 3ms/step - loss: 0.0026 - MSE: 0.0026 - MAE: 0.0092 - val_loss: 0.0023 - val_MSE: 0.0023 - val_MAE: 0.0031 - lr: 3.3546e-05\n",
      "\n",
      "Epoch 00038: LearningRateScheduler setting learning rate to 3.354626096552238e-05.\n",
      "Epoch 38/600\n",
      "827/827 [==============================] - 3s 3ms/step - loss: 0.0026 - MSE: 0.0026 - MAE: 0.0092 - val_loss: 0.0023 - val_MSE: 0.0023 - val_MAE: 0.0031 - lr: 3.3546e-05\n",
      "\n",
      "Epoch 00039: LearningRateScheduler setting learning rate to 3.354626096552238e-05.\n",
      "Epoch 39/600\n",
      "827/827 [==============================] - 3s 3ms/step - loss: 0.0026 - MSE: 0.0026 - MAE: 0.0092 - val_loss: 0.0023 - val_MSE: 0.0023 - val_MAE: 0.0032 - lr: 3.3546e-05\n",
      "\n",
      "Epoch 00040: LearningRateScheduler setting learning rate to 3.354626096552238e-05.\n",
      "Epoch 40/600\n",
      "827/827 [==============================] - 3s 3ms/step - loss: 0.0026 - MSE: 0.0026 - MAE: 0.0091 - val_loss: 0.0023 - val_MSE: 0.0023 - val_MAE: 0.0031 - lr: 3.3546e-05\n",
      "\n",
      "Epoch 00041: LearningRateScheduler setting learning rate to tf.Tensor(4.5399925e-06, shape=(), dtype=float32).\n",
      "Epoch 41/600\n",
      "827/827 [==============================] - 3s 3ms/step - loss: 0.0026 - MSE: 0.0026 - MAE: 0.0093 - val_loss: 0.0023 - val_MSE: 0.0023 - val_MAE: 0.0031 - lr: 4.5400e-06\n",
      "\n",
      "Epoch 00042: LearningRateScheduler setting learning rate to 4.539992460195208e-06.\n",
      "Epoch 42/600\n",
      "827/827 [==============================] - 3s 3ms/step - loss: 0.0026 - MSE: 0.0026 - MAE: 0.0091 - val_loss: 0.0023 - val_MSE: 0.0023 - val_MAE: 0.0031 - lr: 4.5400e-06\n",
      "\n",
      "Epoch 00043: LearningRateScheduler setting learning rate to 4.539992460195208e-06.\n",
      "Epoch 43/600\n",
      "827/827 [==============================] - 3s 4ms/step - loss: 0.0026 - MSE: 0.0026 - MAE: 0.0091 - val_loss: 0.0023 - val_MSE: 0.0023 - val_MAE: 0.0033 - lr: 4.5400e-06\n",
      "\n",
      "Epoch 00044: LearningRateScheduler setting learning rate to 4.539992460195208e-06.\n",
      "Epoch 44/600\n",
      "827/827 [==============================] - 3s 4ms/step - loss: 0.0026 - MSE: 0.0026 - MAE: 0.0091 - val_loss: 0.0023 - val_MSE: 0.0023 - val_MAE: 0.0032 - lr: 4.5400e-06\n",
      "\n",
      "Epoch 00045: LearningRateScheduler setting learning rate to 4.539992460195208e-06.\n",
      "Epoch 45/600\n",
      "827/827 [==============================] - 3s 4ms/step - loss: 0.0025 - MSE: 0.0025 - MAE: 0.0089 - val_loss: 0.0023 - val_MSE: 0.0023 - val_MAE: 0.0032 - lr: 4.5400e-06\n",
      "\n",
      "Epoch 00046: LearningRateScheduler setting learning rate to 4.539992460195208e-06.\n",
      "Epoch 46/600\n",
      "827/827 [==============================] - 3s 3ms/step - loss: 0.0026 - MSE: 0.0026 - MAE: 0.0091 - val_loss: 0.0023 - val_MSE: 0.0023 - val_MAE: 0.0032 - lr: 4.5400e-06\n",
      "\n",
      "Epoch 00047: LearningRateScheduler setting learning rate to 4.539992460195208e-06.\n",
      "Epoch 47/600\n",
      "827/827 [==============================] - 3s 3ms/step - loss: 0.0026 - MSE: 0.0026 - MAE: 0.0091 - val_loss: 0.0023 - val_MSE: 0.0023 - val_MAE: 0.0031 - lr: 4.5400e-06\n",
      "\n",
      "Epoch 00048: LearningRateScheduler setting learning rate to 4.539992460195208e-06.\n",
      "Epoch 48/600\n",
      "827/827 [==============================] - 3s 3ms/step - loss: 0.0026 - MSE: 0.0026 - MAE: 0.0091 - val_loss: 0.0023 - val_MSE: 0.0023 - val_MAE: 0.0031 - lr: 4.5400e-06\n",
      "\n",
      "Epoch 00049: LearningRateScheduler setting learning rate to 4.539992460195208e-06.\n",
      "Epoch 49/600\n",
      "827/827 [==============================] - 3s 3ms/step - loss: 0.0025 - MSE: 0.0025 - MAE: 0.0089 - val_loss: 0.0023 - val_MSE: 0.0023 - val_MAE: 0.0031 - lr: 4.5400e-06\n",
      "\n",
      "Epoch 00050: LearningRateScheduler setting learning rate to 4.539992460195208e-06.\n",
      "Epoch 50/600\n",
      "827/827 [==============================] - ETA: 0s - loss: 0.0026 - MSE: 0.0026 - MAE: 0.0092Restoring model weights from the end of the best epoch: 10.\n",
      "827/827 [==============================] - 3s 3ms/step - loss: 0.0026 - MSE: 0.0026 - MAE: 0.0092 - val_loss: 0.0023 - val_MSE: 0.0023 - val_MAE: 0.0031 - lr: 4.5400e-06\n",
      "Epoch 00050: early stopping\n"
     ]
    }
   ],
   "source": [
    "\n",
    "history_encode = full_model.fit(\n",
    "    x=X_train, y=Y_train, batch_size=batch_size, epochs=600, verbose='auto', \n",
    "    validation_data=(X_val, Y_val), shuffle=True, \n",
    "    steps_per_epoch=steps_per_epoch, validation_steps=validation_steps,\n",
    "    validation_batch_size=validation_batch_size,\n",
    "    workers=workers, use_multiprocessing=use_multiprocessing, \n",
    "    callbacks=[lr_callback, early_stopping]\n",
    ")"
   ]
  },
  {
   "cell_type": "code",
   "execution_count": 20,
   "metadata": {
    "colab": {
     "base_uri": "https://localhost:8080/"
    },
    "id": "UbZOIdoB2TQm",
    "outputId": "01012089-57e1-429d-9e34-ba9a3116a781"
   },
   "outputs": [
    {
     "name": "stdout",
     "output_type": "stream",
     "text": [
      "INFO:tensorflow:Assets written to: saved_model/encoder_decoder/assets\n",
      "WARNING:tensorflow:Compiled the loaded model, but the compiled metrics have yet to be built. `model.compile_metrics` will be empty until you train or evaluate the model.\n",
      "INFO:tensorflow:Assets written to: saved_model/bottleneck/assets\n"
     ]
    }
   ],
   "source": [
    "full_model.save('saved_model/encoder_decoder')\n",
    "bottleneck.save('saved_model/bottleneck')"
   ]
  },
  {
   "cell_type": "code",
   "execution_count": 21,
   "metadata": {
    "colab": {
     "base_uri": "https://localhost:8080/",
     "height": 606
    },
    "id": "02HWYqGHGw7b",
    "outputId": "465ad81b-75a3-433c-810b-4846dcfb4423"
   },
   "outputs": [
    {
     "data": {
      "image/png": "[encoded data removed]",
      "text/plain": [
       "<Figure size 864x720 with 1 Axes>"
      ]
     },
     "metadata": {
      "needs_background": "light"
     },
     "output_type": "display_data"
    }
   ],
   "source": [
    "plot_metric(history_encode, \"loss\",  \"final\", 6)"
   ]
  },
  {
   "cell_type": "code",
   "execution_count": 22,
   "metadata": {
    "colab": {
     "base_uri": "https://localhost:8080/",
     "height": 606
    },
    "id": "k-51J98DdNBg",
    "outputId": "67f5019b-7792-429c-d45e-136eefd07da5"
   },
   "outputs": [
    {
     "data": {
      "image/png": "[encoded data removed]",
      "text/plain": [
       "<Figure size 864x720 with 1 Axes>"
      ]
     },
     "metadata": {
      "needs_background": "light"
     },
     "output_type": "display_data"
    }
   ],
   "source": [
    "plot_metric(history_encode, \"lr\",  \"final\", 6)"
   ]
  },
  {
   "cell_type": "code",
   "execution_count": 23,
   "metadata": {
    "colab": {
     "base_uri": "https://localhost:8080/",
     "height": 606
    },
    "id": "NSFsOpZETdHL",
    "outputId": "531c8ee6-fabf-414f-c1e5-a546a9cb8bcf"
   },
   "outputs": [
    {
     "data": {
      "image/png": "[encoded data removed]",
      "text/plain": [
       "<Figure size 864x720 with 1 Axes>"
      ]
     },
     "metadata": {
      "needs_background": "light"
     },
     "output_type": "display_data"
    }
   ],
   "source": [
    "plt.figure()\n",
    "plot_metric(history_encode, \"loss\",  \"bottleneck_4\", 3)\n",
    "plt.show\n",
    "plt.savefig(\"loss.png\")\n"
   ]
  },
  {
   "cell_type": "code",
   "execution_count": 24,
   "metadata": {
    "colab": {
     "base_uri": "https://localhost:8080/",
     "height": 606
    },
    "id": "PLJZ5RwtZ9Mi",
    "outputId": "f971758b-7024-43c0-e73f-14e94dbb386a"
   },
   "outputs": [
    {
     "data": {
      "image/png": "[encoded data removed]",
      "text/plain": [
       "<Figure size 864x720 with 1 Axes>"
      ]
     },
     "metadata": {
      "needs_background": "light"
     },
     "output_type": "display_data"
    }
   ],
   "source": [
    "plt.figure()\n",
    "plot_metric(history_encode, \"MSE\",  \"bottleneck_4\", 3)\n",
    "plt.show\n",
    "plt.savefig(\"mse.png\")\n"
   ]
  },
  {
   "cell_type": "code",
   "execution_count": 25,
   "metadata": {
    "colab": {
     "base_uri": "https://localhost:8080/"
    },
    "id": "SjTNbJ2wa0BH",
    "outputId": "a32c7d9d-0074-4186-97a7-663f88e007d7"
   },
   "outputs": [
    {
     "data": {
      "text/plain": [
       "(940935, 4)"
      ]
     },
     "execution_count": 25,
     "metadata": {},
     "output_type": "execute_result"
    }
   ],
   "source": [
    "to_encode = np.array(data_enco_deco, dtype=np.float32)\n",
    "\n",
    "encoded = bottleneck.predict(to_encode)\n",
    "\n",
    "encoded.shape"
   ]
  },
  {
   "cell_type": "code",
   "execution_count": 26,
   "metadata": {
    "colab": {
     "base_uri": "https://localhost:8080/",
     "height": 300
    },
    "id": "6i5sbEUZrvrX",
    "outputId": "7d613c83-407d-4d83-df53-a74eaf5d81eb"
   },
   "outputs": [
    {
     "data": {
      "text/html": [
       "<div>\n",
       "<style scoped>\n",
       "    .dataframe tbody tr th:only-of-type {\n",
       "        vertical-align: middle;\n",
       "    }\n",
       "\n",
       "    .dataframe tbody tr th {\n",
       "        vertical-align: top;\n",
       "    }\n",
       "\n",
       "    .dataframe thead th {\n",
       "        text-align: right;\n",
       "    }\n",
       "</style>\n",
       "<table border=\"1\" class=\"dataframe\">\n",
       "  <thead>\n",
       "    <tr style=\"text-align: right;\">\n",
       "      <th></th>\n",
       "      <th>is_fraud</th>\n",
       "      <th>0</th>\n",
       "      <th>1</th>\n",
       "      <th>2</th>\n",
       "      <th>3</th>\n",
       "      <th>4</th>\n",
       "      <th>5</th>\n",
       "      <th>6</th>\n",
       "    </tr>\n",
       "  </thead>\n",
       "  <tbody>\n",
       "    <tr>\n",
       "      <th>is_fraud</th>\n",
       "      <td>1.000000</td>\n",
       "      <td>-0.032270</td>\n",
       "      <td>-0.002463</td>\n",
       "      <td>0.001232</td>\n",
       "      <td>-0.001799</td>\n",
       "      <td>0.005346</td>\n",
       "      <td>0.017931</td>\n",
       "      <td>-0.019762</td>\n",
       "    </tr>\n",
       "    <tr>\n",
       "      <th>0</th>\n",
       "      <td>-0.032270</td>\n",
       "      <td>1.000000</td>\n",
       "      <td>-0.120909</td>\n",
       "      <td>0.010916</td>\n",
       "      <td>-0.128533</td>\n",
       "      <td>-0.021081</td>\n",
       "      <td>0.339309</td>\n",
       "      <td>-0.339272</td>\n",
       "    </tr>\n",
       "    <tr>\n",
       "      <th>1</th>\n",
       "      <td>-0.002463</td>\n",
       "      <td>-0.120909</td>\n",
       "      <td>1.000000</td>\n",
       "      <td>0.041070</td>\n",
       "      <td>0.278847</td>\n",
       "      <td>0.019471</td>\n",
       "      <td>0.036898</td>\n",
       "      <td>-0.043073</td>\n",
       "    </tr>\n",
       "    <tr>\n",
       "      <th>2</th>\n",
       "      <td>0.001232</td>\n",
       "      <td>0.010916</td>\n",
       "      <td>0.041070</td>\n",
       "      <td>1.000000</td>\n",
       "      <td>-0.025235</td>\n",
       "      <td>0.002038</td>\n",
       "      <td>0.043571</td>\n",
       "      <td>-0.044924</td>\n",
       "    </tr>\n",
       "    <tr>\n",
       "      <th>3</th>\n",
       "      <td>-0.001799</td>\n",
       "      <td>-0.128533</td>\n",
       "      <td>0.278847</td>\n",
       "      <td>-0.025235</td>\n",
       "      <td>1.000000</td>\n",
       "      <td>0.014227</td>\n",
       "      <td>-0.022264</td>\n",
       "      <td>0.018509</td>\n",
       "    </tr>\n",
       "    <tr>\n",
       "      <th>4</th>\n",
       "      <td>0.005346</td>\n",
       "      <td>-0.021081</td>\n",
       "      <td>0.019471</td>\n",
       "      <td>0.002038</td>\n",
       "      <td>0.014227</td>\n",
       "      <td>1.000000</td>\n",
       "      <td>-0.200642</td>\n",
       "      <td>-0.079909</td>\n",
       "    </tr>\n",
       "    <tr>\n",
       "      <th>5</th>\n",
       "      <td>0.017931</td>\n",
       "      <td>0.339309</td>\n",
       "      <td>0.036898</td>\n",
       "      <td>0.043571</td>\n",
       "      <td>-0.022264</td>\n",
       "      <td>-0.200642</td>\n",
       "      <td>1.000000</td>\n",
       "      <td>-0.960473</td>\n",
       "    </tr>\n",
       "    <tr>\n",
       "      <th>6</th>\n",
       "      <td>-0.019762</td>\n",
       "      <td>-0.339272</td>\n",
       "      <td>-0.043073</td>\n",
       "      <td>-0.044924</td>\n",
       "      <td>0.018509</td>\n",
       "      <td>-0.079909</td>\n",
       "      <td>-0.960473</td>\n",
       "      <td>1.000000</td>\n",
       "    </tr>\n",
       "  </tbody>\n",
       "</table>\n",
       "</div>"
      ],
      "text/plain": [
       "          is_fraud         0         1  ...         4         5         6\n",
       "is_fraud  1.000000 -0.032270 -0.002463  ...  0.005346  0.017931 -0.019762\n",
       "0        -0.032270  1.000000 -0.120909  ... -0.021081  0.339309 -0.339272\n",
       "1        -0.002463 -0.120909  1.000000  ...  0.019471  0.036898 -0.043073\n",
       "2         0.001232  0.010916  0.041070  ...  0.002038  0.043571 -0.044924\n",
       "3        -0.001799 -0.128533  0.278847  ...  0.014227 -0.022264  0.018509\n",
       "4         0.005346 -0.021081  0.019471  ...  1.000000 -0.200642 -0.079909\n",
       "5         0.017931  0.339309  0.036898  ... -0.200642  1.000000 -0.960473\n",
       "6        -0.019762 -0.339272 -0.043073  ... -0.079909 -0.960473  1.000000\n",
       "\n",
       "[8 rows x 8 columns]"
      ]
     },
     "execution_count": 26,
     "metadata": {},
     "output_type": "execute_result"
    }
   ],
   "source": [
    "df_encoded = pd.DataFrame(to_encode)\n",
    "df_encoded.insert(0, \"is_fraud\", Y)\n",
    "\n",
    "df_encoded.corr()"
   ]
  },
  {
   "cell_type": "code",
   "execution_count": 27,
   "metadata": {
    "colab": {
     "base_uri": "https://localhost:8080/"
    },
    "id": "PhE97HvmbrqU",
    "outputId": "7d6e8c74-ad6d-4a9a-9d7a-15358d431e1b"
   },
   "outputs": [
    {
     "data": {
      "text/plain": [
       "(940935,)"
      ]
     },
     "execution_count": 27,
     "metadata": {},
     "output_type": "execute_result"
    }
   ],
   "source": [
    "Y.shape"
   ]
  },
  {
   "cell_type": "code",
   "execution_count": 28,
   "metadata": {
    "colab": {
     "base_uri": "https://localhost:8080/"
    },
    "id": "y2LTOdWnbLpb",
    "outputId": "fec91026-a73f-4709-c8dc-17aef47384f0"
   },
   "outputs": [
    {
     "name": "stdout",
     "output_type": "stream",
     "text": [
      "(922209, 4)\n"
     ]
    },
    {
     "name": "stderr",
     "output_type": "stream",
     "text": [
      "[Parallel(n_jobs=3)]: Using backend ThreadingBackend with 3 concurrent workers.\n",
      "[Parallel(n_jobs=3)]: Done  44 tasks      | elapsed:  1.5min\n",
      "[Parallel(n_jobs=3)]: Done 100 out of 100 | elapsed:  3.3min finished\n"
     ]
    },
    {
     "data": {
      "text/plain": [
       "RandomForestClassifier(class_weight='balanced_subsample', min_samples_leaf=2,\n",
       "                       n_jobs=3, oob_score=True, random_state=35, verbose=1)"
      ]
     },
     "execution_count": 28,
     "metadata": {},
     "output_type": "execute_result"
    }
   ],
   "source": [
    "from sklearn.ensemble import RandomForestClassifier\n",
    "from sklearn.preprocessing import MinMaxScaler, StandardScaler\n",
    "from sklearn.metrics import (roc_auc_score, f1_score, roc_curve, auc, \n",
    "                             confusion_matrix, precision_recall_curve, make_scorer)\n",
    "\n",
    "\n",
    "features_train, features_val, labels_train, labels_val = train_test_split(encoded,  Y, test_size = 0.01,  stratify=Y)\n",
    "features_train, features_test, labels_train, labels_test = train_test_split(features_train,  labels_train, test_size = 0.01,  stratify=labels_train)\n",
    "\n",
    "print(features_train.shape)\n",
    "\n",
    "clf = RandomForestClassifier(random_state=RANDOM_STATE, n_jobs= 3,\n",
    "                            class_weight= \"balanced_subsample\", min_samples_leaf= 2, \n",
    "                            verbose=1, oob_score=True)\n",
    "\n",
    "clf.fit(features_train, labels_train)"
   ]
  },
  {
   "cell_type": "code",
   "execution_count": 29,
   "metadata": {
    "colab": {
     "base_uri": "https://localhost:8080/"
    },
    "id": "NTqP87aNb9Ri",
    "outputId": "11d03794-f27f-4922-95c4-e3ce20cc4ee1"
   },
   "outputs": [
    {
     "name": "stderr",
     "output_type": "stream",
     "text": [
      "[Parallel(n_jobs=3)]: Using backend ThreadingBackend with 3 concurrent workers.\n",
      "[Parallel(n_jobs=3)]: Done  44 tasks      | elapsed:    3.6s\n",
      "[Parallel(n_jobs=3)]: Done 100 out of 100 | elapsed:    8.1s finished\n",
      "[Parallel(n_jobs=3)]: Using backend ThreadingBackend with 3 concurrent workers.\n",
      "[Parallel(n_jobs=3)]: Done  44 tasks      | elapsed:    0.1s\n",
      "[Parallel(n_jobs=3)]: Done 100 out of 100 | elapsed:    0.1s finished\n"
     ]
    },
    {
     "name": "stdout",
     "output_type": "stream",
     "text": [
      "F1 score - Train: 0.9995456189781546 / val: 0.9993822721197899\n",
      "ROC AUC score - Train: 0.9997567079104684 / val: 0.9331204541422743\n",
      "PR AUC score - val: 0.815792544435415\n"
     ]
    }
   ],
   "source": [
    "X_pack = features_train, features_val\n",
    "Y_pack = labels_train, labels_val\n",
    "\n",
    "history_5 = compare_models(X_pack, Y_pack, clf)\n"
   ]
  },
  {
   "cell_type": "code",
   "execution_count": 30,
   "metadata": {
    "colab": {
     "base_uri": "https://localhost:8080/",
     "height": 646
    },
    "id": "IW3lr0gBTPno",
    "outputId": "599bb59f-31e7-4175-b4ff-cf607f911fdd"
   },
   "outputs": [
    {
     "data": {
      "text/plain": [
       "<function matplotlib.pyplot.show>"
      ]
     },
     "execution_count": 30,
     "metadata": {},
     "output_type": "execute_result"
    },
    {
     "data": {
      "image/png": "[encoded data removed]",
      "text/plain": [
       "<Figure size 864x720 with 1 Axes>"
      ]
     },
     "metadata": {
      "needs_background": "light"
     },
     "output_type": "display_data"
    }
   ],
   "source": [
    "#history_4, history_5\n",
    "plt.figure()\n",
    "plot_pr_curve(history_5)\n",
    "plt.show"
   ]
  },
  {
   "cell_type": "code",
   "execution_count": 31,
   "metadata": {
    "colab": {
     "base_uri": "https://localhost:8080/"
    },
    "id": "BKrPLLTF3zWc",
    "outputId": "39461cd6-abb8-44ce-be20-980a3c1e1837"
   },
   "outputs": [
    {
     "name": "stderr",
     "output_type": "stream",
     "text": [
      "[Parallel(n_jobs=3)]: Using backend ThreadingBackend with 3 concurrent workers.\n",
      "[Parallel(n_jobs=3)]: Done  44 tasks      | elapsed:    0.1s\n",
      "[Parallel(n_jobs=3)]: Done 100 out of 100 | elapsed:    0.1s finished\n",
      "[Parallel(n_jobs=3)]: Using backend ThreadingBackend with 3 concurrent workers.\n",
      "[Parallel(n_jobs=3)]: Done  44 tasks      | elapsed:    0.0s\n",
      "[Parallel(n_jobs=3)]: Done 100 out of 100 | elapsed:    0.1s finished\n"
     ]
    },
    {
     "name": "stdout",
     "output_type": "stream",
     "text": [
      "ROC AUC score val: 0.8663978783643337\n",
      "PR AUC score val: 0.7106313510805782\n"
     ]
    }
   ],
   "source": [
    "X_pack_test = None, features_test\n",
    "Y_pack_test = None, labels_test\n",
    "\n",
    "history_test = compare_models(X_pack_test, Y_pack_test, clf)"
   ]
  },
  {
   "cell_type": "code",
   "execution_count": 32,
   "metadata": {
    "colab": {
     "base_uri": "https://localhost:8080/"
    },
    "id": "1jrAGpM_5ysT",
    "outputId": "07086a4f-dadf-4e25-b7da-7a9a16257b50"
   },
   "outputs": [
    {
     "name": "stdout",
     "output_type": "stream",
     "text": [
      "updating: content/saved_model/ (stored 0%)\n",
      "updating: content/saved_model/bottleneck/ (stored 0%)\n",
      "updating: content/saved_model/bottleneck/variables/ (stored 0%)\n",
      "updating: content/saved_model/bottleneck/variables/variables.data-00000-of-00001 (deflated 59%)\n",
      "updating: content/saved_model/bottleneck/variables/variables.index (deflated 49%)\n",
      "updating: content/saved_model/bottleneck/saved_model.pb (deflated 88%)\n",
      "updating: content/saved_model/bottleneck/keras_metadata.pb (deflated 88%)\n",
      "updating: content/saved_model/bottleneck/assets/ (stored 0%)\n",
      "updating: content/saved_model/.ipynb_checkpoints/ (stored 0%)\n",
      "updating: content/saved_model/encoder_decoder/ (stored 0%)\n",
      "updating: content/saved_model/encoder_decoder/variables/ (stored 0%)\n",
      "updating: content/saved_model/encoder_decoder/variables/variables.data-00000-of-00001 (deflated 66%)\n",
      "updating: content/saved_model/encoder_decoder/variables/variables.index (deflated 71%)\n",
      "updating: content/saved_model/encoder_decoder/saved_model.pb (deflated 90%)\n",
      "updating: content/saved_model/encoder_decoder/keras_metadata.pb (deflated 91%)\n",
      "updating: content/saved_model/encoder_decoder/assets/ (stored 0%)\n"
     ]
    }
   ],
   "source": [
    "!zip -r /content/saved_model.zip /content/saved_model"
   ]
  },
  {
   "cell_type": "code",
   "execution_count": 33,
   "metadata": {
    "colab": {
     "base_uri": "https://localhost:8080/",
     "height": 17
    },
    "id": "HqlEQUDf54LT",
    "outputId": "cb983603-cb79-4916-cadf-1aea7a1c334b"
   },
   "outputs": [
    {
     "data": {
      "application/javascript": [
       "\n",
       "    async function download(id, filename, size) {\n",
       "      if (!google.colab.kernel.accessAllowed) {\n",
       "        return;\n",
       "      }\n",
       "      const div = document.createElement('div');\n",
       "      const label = document.createElement('label');\n",
       "      label.textContent = `Downloading \"${filename}\": `;\n",
       "      div.appendChild(label);\n",
       "      const progress = document.createElement('progress');\n",
       "      progress.max = size;\n",
       "      div.appendChild(progress);\n",
       "      document.body.appendChild(div);\n",
       "\n",
       "      const buffers = [];\n",
       "      let downloaded = 0;\n",
       "\n",
       "      const channel = await google.colab.kernel.comms.open(id);\n",
       "      // Send a message to notify the kernel that we're ready.\n",
       "      channel.send({})\n",
       "\n",
       "      for await (const message of channel.messages) {\n",
       "        // Send a message to notify the kernel that we're ready.\n",
       "        channel.send({})\n",
       "        if (message.buffers) {\n",
       "          for (const buffer of message.buffers) {\n",
       "            buffers.push(buffer);\n",
       "            downloaded += buffer.byteLength;\n",
       "            progress.value = downloaded;\n",
       "          }\n",
       "        }\n",
       "      }\n",
       "      const blob = new Blob(buffers, {type: 'application/binary'});\n",
       "      const a = document.createElement('a');\n",
       "      a.href = window.URL.createObjectURL(blob);\n",
       "      a.download = filename;\n",
       "      div.appendChild(a);\n",
       "      a.click();\n",
       "      div.remove();\n",
       "    }\n",
       "  "
      ],
      "text/plain": [
       "<IPython.core.display.Javascript object>"
      ]
     },
     "metadata": {},
     "output_type": "display_data"
    },
    {
     "data": {
      "application/javascript": [
       "download(\"download_51b7dc9d-c287-40fa-9d0a-d598cd29544e\", \"saved_model.zip\", 49138)"
      ],
      "text/plain": [
       "<IPython.core.display.Javascript object>"
      ]
     },
     "metadata": {},
     "output_type": "display_data"
    }
   ],
   "source": [
    "from google.colab import files\n",
    "files.download(\"/content/saved_model.zip\")"
   ]
  },
  {
   "cell_type": "code",
   "execution_count": 33,
   "metadata": {
    "id": "UWgtUJZ47iNc"
   },
   "outputs": [],
   "source": []
  }
 ],
 "metadata": {
  "colab": {
   "collapsed_sections": [],
   "name": "encoder_decoder.ipynb",
   "provenance": []
  },
  "kernelspec": {
   "display_name": "Python 3 (ipykernel)",
   "language": "python",
   "name": "python3"
  },
  "language_info": {
   "codemirror_mode": {
    "name": "ipython",
    "version": 3
   },
   "file_extension": ".py",
   "mimetype": "text/x-python",
   "name": "python",
   "nbconvert_exporter": "python",
   "pygments_lexer": "ipython3",
   "version": "3.7.11"
  }
 },
 "nbformat": 4,
 "nbformat_minor": 1
}
