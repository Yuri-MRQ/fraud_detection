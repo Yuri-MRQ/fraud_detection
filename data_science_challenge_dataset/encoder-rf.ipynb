{
 "cells": [
  {
   "cell_type": "code",
   "execution_count": 1,
   "id": "3fc96232",
   "metadata": {},
   "outputs": [],
   "source": [
    "\n",
    "import pandas as pd\n",
    "import numpy as np\n",
    "\n",
    "import matplotlib as mpl\n",
    "import matplotlib.pyplot as plt\n",
    "\n",
    "from sklearn.ensemble import RandomForestClassifier\n",
    "from sklearn.model_selection import train_test_split\n",
    "\n",
    "from tensorflow.keras.models import load_model\n",
    "\n",
    "from tqdm import tqdm"
   ]
  },
  {
   "cell_type": "code",
   "execution_count": 2,
   "id": "fe7baf42",
   "metadata": {},
   "outputs": [],
   "source": [
    "from utils import utils"
   ]
  },
  {
   "cell_type": "code",
   "execution_count": 3,
   "id": "d066bfd4",
   "metadata": {},
   "outputs": [],
   "source": [
    "RANDOM_STATE = 35\n",
    "\n",
    "mpl.rcParams['figure.figsize'] = (12, 10)\n",
    "colors = plt.rcParams['axes.prop_cycle'].by_key()['color']"
   ]
  },
  {
   "cell_type": "markdown",
   "id": "aa240f78",
   "metadata": {},
   "source": [
    "# Preprocessing"
   ]
  },
  {
   "cell_type": "code",
   "execution_count": 4,
   "id": "0b006720",
   "metadata": {},
   "outputs": [
    {
     "data": {
      "text/html": [
       "<div>\n",
       "<style scoped>\n",
       "    .dataframe tbody tr th:only-of-type {\n",
       "        vertical-align: middle;\n",
       "    }\n",
       "\n",
       "    .dataframe tbody tr th {\n",
       "        vertical-align: top;\n",
       "    }\n",
       "\n",
       "    .dataframe thead th {\n",
       "        text-align: right;\n",
       "    }\n",
       "</style>\n",
       "<table border=\"1\" class=\"dataframe\">\n",
       "  <thead>\n",
       "    <tr style=\"text-align: right;\">\n",
       "      <th></th>\n",
       "      <th>account_id</th>\n",
       "      <th>is_fraud</th>\n",
       "      <th>device_id</th>\n",
       "      <th>balance</th>\n",
       "      <th>processed_at</th>\n",
       "      <th>age_range</th>\n",
       "      <th>number_of_selfies_sent</th>\n",
       "      <th>time_client</th>\n",
       "      <th>cash_out_type_1</th>\n",
       "      <th>cash_out_type_2</th>\n",
       "      <th>cash_out_type_3</th>\n",
       "      <th>cash_out_type_6</th>\n",
       "    </tr>\n",
       "  </thead>\n",
       "  <tbody>\n",
       "    <tr>\n",
       "      <th>0</th>\n",
       "      <td>0.000000</td>\n",
       "      <td>0</td>\n",
       "      <td>0.0</td>\n",
       "      <td>0.000167</td>\n",
       "      <td>0.999813</td>\n",
       "      <td>0.0</td>\n",
       "      <td>5.0</td>\n",
       "      <td>1.785904e-07</td>\n",
       "      <td>1</td>\n",
       "      <td>0</td>\n",
       "      <td>0</td>\n",
       "      <td>0</td>\n",
       "    </tr>\n",
       "    <tr>\n",
       "      <th>1</th>\n",
       "      <td>0.000016</td>\n",
       "      <td>0</td>\n",
       "      <td>0.0</td>\n",
       "      <td>0.000533</td>\n",
       "      <td>0.998152</td>\n",
       "      <td>1.0</td>\n",
       "      <td>5.0</td>\n",
       "      <td>1.970170e-06</td>\n",
       "      <td>0</td>\n",
       "      <td>0</td>\n",
       "      <td>1</td>\n",
       "      <td>0</td>\n",
       "    </tr>\n",
       "    <tr>\n",
       "      <th>2</th>\n",
       "      <td>0.000016</td>\n",
       "      <td>0</td>\n",
       "      <td>0.0</td>\n",
       "      <td>0.000347</td>\n",
       "      <td>0.999702</td>\n",
       "      <td>1.0</td>\n",
       "      <td>5.0</td>\n",
       "      <td>2.456546e-06</td>\n",
       "      <td>0</td>\n",
       "      <td>0</td>\n",
       "      <td>1</td>\n",
       "      <td>0</td>\n",
       "    </tr>\n",
       "    <tr>\n",
       "      <th>3</th>\n",
       "      <td>0.000016</td>\n",
       "      <td>0</td>\n",
       "      <td>0.0</td>\n",
       "      <td>0.000572</td>\n",
       "      <td>0.998524</td>\n",
       "      <td>1.0</td>\n",
       "      <td>5.0</td>\n",
       "      <td>2.087007e-06</td>\n",
       "      <td>0</td>\n",
       "      <td>0</td>\n",
       "      <td>1</td>\n",
       "      <td>0</td>\n",
       "    </tr>\n",
       "    <tr>\n",
       "      <th>4</th>\n",
       "      <td>0.000016</td>\n",
       "      <td>0</td>\n",
       "      <td>0.0</td>\n",
       "      <td>0.000346</td>\n",
       "      <td>0.998629</td>\n",
       "      <td>1.0</td>\n",
       "      <td>5.0</td>\n",
       "      <td>2.119767e-06</td>\n",
       "      <td>0</td>\n",
       "      <td>0</td>\n",
       "      <td>1</td>\n",
       "      <td>0</td>\n",
       "    </tr>\n",
       "  </tbody>\n",
       "</table>\n",
       "</div>"
      ],
      "text/plain": [
       "   account_id  is_fraud  device_id   balance  processed_at  age_range  \\\n",
       "0    0.000000         0        0.0  0.000167      0.999813        0.0   \n",
       "1    0.000016         0        0.0  0.000533      0.998152        1.0   \n",
       "2    0.000016         0        0.0  0.000347      0.999702        1.0   \n",
       "3    0.000016         0        0.0  0.000572      0.998524        1.0   \n",
       "4    0.000016         0        0.0  0.000346      0.998629        1.0   \n",
       "\n",
       "   number_of_selfies_sent   time_client  cash_out_type_1  cash_out_type_2  \\\n",
       "0                     5.0  1.785904e-07                1                0   \n",
       "1                     5.0  1.970170e-06                0                0   \n",
       "2                     5.0  2.456546e-06                0                0   \n",
       "3                     5.0  2.087007e-06                0                0   \n",
       "4                     5.0  2.119767e-06                0                0   \n",
       "\n",
       "   cash_out_type_3  cash_out_type_6  \n",
       "0                0                0  \n",
       "1                1                0  \n",
       "2                1                0  \n",
       "3                1                0  \n",
       "4                1                0  "
      ]
     },
     "execution_count": 4,
     "metadata": {},
     "output_type": "execute_result"
    }
   ],
   "source": [
    "data_ts = pd.read_csv(\"dataset/processed_features.csv\")\n",
    "\n",
    "\n",
    "columns=['account_id', 'is_fraud', 'device_id', 'balance', 'processed_at',\n",
    "       'age_range', 'number_of_selfies_sent', 'time_client', 'cash_out_type_1',\n",
    "       'cash_out_type_2', 'cash_out_type_3', 'cash_out_type_6']\n",
    "\n",
    "data_ts = data_ts[columns]\n",
    "\n",
    "# the columns that pass the float16 limite, we gonna take them and turn and something\n",
    "# that we can work using min max scaler\n",
    "\n",
    "max_account = data_ts[\"account_id\"].max()\n",
    "max_device_id = data_ts[\"device_id\"].max()\n",
    "max_processed_at = data_ts[\"processed_at\"].max()\n",
    "max_time_client = data_ts[\"time_client\"].max()\n",
    "\n",
    "data_ts[\"account_id\"] = data_ts[\"account_id\"] / max_account\n",
    "data_ts[\"device_id\"] = data_ts[\"device_id\"] / max_device_id\n",
    "data_ts[\"processed_at\"] = data_ts[\"processed_at\"] / max_processed_at\n",
    "data_ts[\"time_client\"] = data_ts[\"time_client\"] / max_time_client\n",
    "\n",
    "# seconds to days\n",
    "\n",
    "data_ts.time_client = data_ts.time_client / (60*60*24)\n",
    "\n",
    "data_ts.head()"
   ]
  },
  {
   "cell_type": "code",
   "execution_count": 5,
   "id": "4eaeaaa2",
   "metadata": {},
   "outputs": [],
   "source": [
    "#droping the target and the features weakly correlated to the target\n",
    "data_to_encode = data_ts.copy().drop([\"account_id\", \"processed_at\", \"number_of_selfies_sent\", \"cash_out_type_6\"], axis=1)\n",
    "\n",
    "Y = np.array(data_to_encode.pop(\"is_fraud\"), dtype=np.float32)\n",
    "X = np.array(data_to_encode, dtype=np.float32)"
   ]
  },
  {
   "cell_type": "markdown",
   "id": "de8fb410",
   "metadata": {},
   "source": [
    "# Model"
   ]
  },
  {
   "cell_type": "code",
   "execution_count": 6,
   "id": "40b5bec4",
   "metadata": {},
   "outputs": [
    {
     "name": "stderr",
     "output_type": "stream",
     "text": [
      "2021-12-13 17:14:45.784988: I tensorflow/core/platform/cpu_feature_guard.cc:151] This TensorFlow binary is optimized with oneAPI Deep Neural Network Library (oneDNN) to use the following CPU instructions in performance-critical operations:  AVX2 FMA\n",
      "To enable them in other operations, rebuild TensorFlow with the appropriate compiler flags.\n"
     ]
    },
    {
     "name": "stdout",
     "output_type": "stream",
     "text": [
      "WARNING:tensorflow:No training configuration found in save file, so the model was *not* compiled. Compile it manually.\n"
     ]
    }
   ],
   "source": [
    "encoder = load_model(\"../api_fraud_detection/model/saved_models/bottleneck\")"
   ]
  },
  {
   "cell_type": "code",
   "execution_count": 7,
   "id": "2c4882c3",
   "metadata": {},
   "outputs": [
    {
     "data": {
      "text/plain": [
       "(940935, 4)"
      ]
     },
     "execution_count": 7,
     "metadata": {},
     "output_type": "execute_result"
    }
   ],
   "source": [
    "encoded_x = encoder.predict(X)\n",
    "\n",
    "encoded_x.shape"
   ]
  },
  {
   "cell_type": "code",
   "execution_count": 8,
   "id": "08475fea",
   "metadata": {},
   "outputs": [
    {
     "name": "stderr",
     "output_type": "stream",
     "text": [
      "[Parallel(n_jobs=3)]: Using backend ThreadingBackend with 3 concurrent workers.\n",
      "[Parallel(n_jobs=3)]: Done  44 tasks      | elapsed:  1.1min\n",
      "[Parallel(n_jobs=3)]: Done 194 tasks      | elapsed:  4.2min\n",
      "[Parallel(n_jobs=3)]: Done 400 out of 400 | elapsed:  8.6min finished\n"
     ]
    },
    {
     "data": {
      "text/plain": [
       "RandomForestClassifier(class_weight='balanced_subsample', max_depth=50,\n",
       "                       max_features='log2', min_samples_leaf=2,\n",
       "                       n_estimators=400, n_jobs=3, oob_score=True,\n",
       "                       random_state=35, verbose=1)"
      ]
     },
     "execution_count": 8,
     "metadata": {},
     "output_type": "execute_result"
    }
   ],
   "source": [
    "features_train, features_val, labels_train, labels_val = train_test_split(encoded_x,  Y, \n",
    "                                                                          test_size = 0.01,  stratify=Y)\n",
    "features_train, features_test, labels_train, labels_test = train_test_split(features_train, labels_train,\n",
    "                                                                            test_size = 0.01,  stratify=labels_train)\n",
    "\n",
    "clf = RandomForestClassifier(max_depth= 50, max_features= 'log2', min_samples_split= 2, \n",
    "                            n_estimators= 400, random_state=RANDOM_STATE, n_jobs= 3,\n",
    "                            class_weight= \"balanced_subsample\", min_samples_leaf= 2, \n",
    "                            verbose=1, oob_score=True)\n",
    "\n",
    "clf.fit(features_train, labels_train)"
   ]
  },
  {
   "cell_type": "code",
   "execution_count": 9,
   "id": "79c35fb0",
   "metadata": {},
   "outputs": [
    {
     "name": "stderr",
     "output_type": "stream",
     "text": [
      "[Parallel(n_jobs=3)]: Using backend ThreadingBackend with 3 concurrent workers.\n",
      "[Parallel(n_jobs=3)]: Done  44 tasks      | elapsed:    1.9s\n",
      "[Parallel(n_jobs=3)]: Done 194 tasks      | elapsed:    9.0s\n",
      "[Parallel(n_jobs=3)]: Done 400 out of 400 | elapsed:   19.1s finished\n",
      "[Parallel(n_jobs=3)]: Using backend ThreadingBackend with 3 concurrent workers.\n",
      "[Parallel(n_jobs=3)]: Done  44 tasks      | elapsed:    0.0s\n",
      "[Parallel(n_jobs=3)]: Done 194 tasks      | elapsed:    0.1s\n"
     ]
    },
    {
     "name": "stdout",
     "output_type": "stream",
     "text": [
      "F1 score - Train: 0.9995503881147263 / val: 0.9991763628263863\n",
      "ROC AUC score - Train: 0.9997594232239678 / val: 0.8997339010111761\n",
      "PR AUC score - val: 0.7531005813590049\n"
     ]
    },
    {
     "name": "stderr",
     "output_type": "stream",
     "text": [
      "[Parallel(n_jobs=3)]: Done 400 out of 400 | elapsed:    0.3s finished\n"
     ]
    }
   ],
   "source": [
    "X_pack = features_train, features_val\n",
    "Y_pack = labels_train, labels_val\n",
    "\n",
    "history = utils.compare_models(X_pack, Y_pack, clf)"
   ]
  },
  {
   "cell_type": "code",
   "execution_count": 10,
   "id": "b817669f",
   "metadata": {},
   "outputs": [
    {
     "data": {
      "image/png": "[encoded data removed]",
      "text/plain": [
       "<Figure size 864x720 with 1 Axes>"
      ]
     },
     "metadata": {
      "needs_background": "light"
     },
     "output_type": "display_data"
    },
    {
     "data": {
      "text/plain": [
       "<function matplotlib.pyplot.show(close=None, block=None)>"
      ]
     },
     "execution_count": 10,
     "metadata": {},
     "output_type": "execute_result"
    }
   ],
   "source": [
    "plt.figure()\n",
    "utils.plot_pr_curve(history)\n",
    "plt.show"
   ]
  },
  {
   "cell_type": "markdown",
   "id": "0054ccca",
   "metadata": {},
   "source": [
    "# Testing"
   ]
  },
  {
   "cell_type": "code",
   "execution_count": 11,
   "id": "01b4a6c1",
   "metadata": {},
   "outputs": [
    {
     "name": "stderr",
     "output_type": "stream",
     "text": [
      "[Parallel(n_jobs=3)]: Using backend ThreadingBackend with 3 concurrent workers.\n",
      "[Parallel(n_jobs=3)]: Done  44 tasks      | elapsed:    0.0s\n",
      "[Parallel(n_jobs=3)]: Done 194 tasks      | elapsed:    0.1s\n",
      "[Parallel(n_jobs=3)]: Done 400 out of 400 | elapsed:    0.2s finished\n",
      "[Parallel(n_jobs=3)]: Using backend ThreadingBackend with 3 concurrent workers.\n",
      "[Parallel(n_jobs=3)]: Done  44 tasks      | elapsed:    0.0s\n"
     ]
    },
    {
     "name": "stdout",
     "output_type": "stream",
     "text": [
      "ROC AUC score val: 0.8662366053829338\n",
      "PR AUC score val: 0.6563550352911045\n"
     ]
    },
    {
     "name": "stderr",
     "output_type": "stream",
     "text": [
      "[Parallel(n_jobs=3)]: Done 194 tasks      | elapsed:    0.1s\n",
      "[Parallel(n_jobs=3)]: Done 400 out of 400 | elapsed:    0.2s finished\n"
     ]
    }
   ],
   "source": [
    "X_pack_test = None, features_test\n",
    "Y_pack_test = None, labels_test\n",
    "\n",
    "history_test = utils.compare_models(X_pack_test, Y_pack_test, clf)"
   ]
  },
  {
   "cell_type": "markdown",
   "id": "9767b376",
   "metadata": {},
   "source": [
    "# K-fold cross-val"
   ]
  },
  {
   "cell_type": "code",
   "execution_count": 12,
   "id": "3d7793c9",
   "metadata": {
    "scrolled": true
   },
   "outputs": [
    {
     "name": "stdout",
     "output_type": "stream",
     "text": [
      "fold_0 size train: 838372, val: 93153\n",
      "fold_1 size train: 838372, val: 93153\n",
      "fold_2 size train: 838372, val: 93153\n",
      "fold_3 size train: 838372, val: 93153\n",
      "fold_4 size train: 838372, val: 93153\n",
      "fold_5 size train: 838373, val: 93152\n",
      "fold_6 size train: 838373, val: 93152\n",
      "fold_7 size train: 838373, val: 93152\n",
      "fold_8 size train: 838373, val: 93152\n",
      "fold_9 size train: 838373, val: 93152\n"
     ]
    }
   ],
   "source": [
    "indices_split, (X_test, Y_test) = X_pack, Y_pack = utils.split_data(encoded_x, Y,test_size=0.01,kfold=10,\n",
    "                                                                    random_state=RANDOM_STATE)\n",
    "\n",
    "for key, value in indices_split.items():\n",
    "    \n",
    "    print(f\"{key} size train: {len(value[0])}, val: {len(value[1])}\")"
   ]
  },
  {
   "cell_type": "code",
   "execution_count": null,
   "id": "2723f151",
   "metadata": {},
   "outputs": [
    {
     "name": "stdout",
     "output_type": "stream",
     "text": [
      "Training clf 0\n"
     ]
    },
    {
     "name": "stderr",
     "output_type": "stream",
     "text": [
      "[Parallel(n_jobs=3)]: Using backend ThreadingBackend with 3 concurrent workers.\n",
      "[Parallel(n_jobs=3)]: Done  44 tasks      | elapsed:   36.0s\n",
      "[Parallel(n_jobs=3)]: Done 194 tasks      | elapsed:  2.4min\n",
      "[Parallel(n_jobs=3)]: Done 400 out of 400 | elapsed:  4.9min finished\n"
     ]
    },
    {
     "name": "stdout",
     "output_type": "stream",
     "text": [
      "Training clf 1\n"
     ]
    },
    {
     "name": "stderr",
     "output_type": "stream",
     "text": [
      "[Parallel(n_jobs=3)]: Using backend ThreadingBackend with 3 concurrent workers.\n",
      "[Parallel(n_jobs=3)]: Done  44 tasks      | elapsed:   33.5s\n"
     ]
    }
   ],
   "source": [
    "clf_2 = RandomForestClassifier(max_depth= 50, max_features= 'log2', min_samples_split= 2, \n",
    "                                    n_estimators= 400, random_state=RANDOM_STATE, n_jobs= 3,\n",
    "                                    class_weight= \"balanced_subsample\", min_samples_leaf= 2, \n",
    "                                    verbose=1, oob_score=True)\n",
    "\n",
    "clfs = utils.train_model(clf_2, encoded_x, Y, indices_split)"
   ]
  },
  {
   "cell_type": "code",
   "execution_count": null,
   "id": "bc56c6f0",
   "metadata": {},
   "outputs": [],
   "source": [
    "history_cross = compare_models(X, Y, clfs, indices_split)"
   ]
  },
  {
   "cell_type": "code",
   "execution_count": null,
   "id": "d76bd853",
   "metadata": {},
   "outputs": [],
   "source": [
    "utils.plot_pr_curve(history_cross)"
   ]
  },
  {
   "cell_type": "code",
   "execution_count": null,
   "id": "38994eab",
   "metadata": {},
   "outputs": [],
   "source": [
    "from joblib import dump\n",
    "\n",
    "dump(clf, 'model_rfc.joblib') "
   ]
  },
  {
   "cell_type": "code",
   "execution_count": null,
   "id": "caf707d8",
   "metadata": {},
   "outputs": [],
   "source": []
  }
 ],
 "metadata": {
  "kernelspec": {
   "display_name": "Python 3 (ipykernel)",
   "language": "python",
   "name": "python3"
  },
  "language_info": {
   "codemirror_mode": {
    "name": "ipython",
    "version": 3
   },
   "file_extension": ".py",
   "mimetype": "text/x-python",
   "name": "python",
   "nbconvert_exporter": "python",
   "pygments_lexer": "ipython3",
   "version": "3.7.11"
  }
 },
 "nbformat": 4,
 "nbformat_minor": 5
}
